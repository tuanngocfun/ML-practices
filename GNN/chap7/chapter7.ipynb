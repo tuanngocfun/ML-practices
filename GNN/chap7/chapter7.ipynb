{
  "cells": [
    {
      "attachments": {},
      "cell_type": "markdown",
      "metadata": {
        "id": "UvkfB7BxSuaB"
      },
      "source": [
        "# Graph Attention Networks"
      ]
    },
    {
      "cell_type": "code",
      "execution_count": 1,
      "metadata": {},
      "outputs": [],
      "source": [
        "import torch\n",
        "!pip install -q torch-scatter~=2.1.0 torch-sparse~=0.6.16 torch-cluster~=1.6.0 torch-spline-conv~=1.2.1 torch-geometric==2.2.0 -f https://data.pyg.org/whl/torch-{torch.__version__}.html\n",
        "\n",
        "torch.manual_seed(1)\n",
        "torch.cuda.manual_seed(1)\n",
        "torch.cuda.manual_seed_all(1)\n",
        "torch.backends.cudnn.deterministic = True\n",
        "torch.backends.cudnn.benchmark = False"
      ]
    },
    {
      "cell_type": "code",
      "execution_count": 2,
      "metadata": {
        "colab": {
          "base_uri": "https://localhost:8080/"
        },
        "id": "uWA4OPhqiCOb",
        "outputId": "f5a1ee9d-4dfe-49e5-8f4d-10359d62e931"
      },
      "outputs": [
        {
          "data": {
            "text/plain": [
              "array([[1, 1, 1, 1],\n",
              "       [1, 1, 0, 0],\n",
              "       [1, 0, 1, 1],\n",
              "       [1, 0, 1, 1]])"
            ]
          },
          "execution_count": 2,
          "metadata": {},
          "output_type": "execute_result"
        }
      ],
      "source": [
        "import numpy as np\n",
        "np.random.seed(0)\n",
        "\n",
        "A = np.array([\n",
        "    [1, 1, 1, 1],\n",
        "    [1, 1, 0, 0],\n",
        "    [1, 0, 1, 1],\n",
        "    [1, 0, 1, 1]\n",
        "])\n",
        "A"
      ]
    },
    {
      "cell_type": "code",
      "execution_count": 3,
      "metadata": {
        "colab": {
          "base_uri": "https://localhost:8080/"
        },
        "id": "nJ4wYhV3ibwY",
        "outputId": "ce79d4ac-f07c-410e-9c27-181cfa00a267"
      },
      "outputs": [
        {
          "data": {
            "text/plain": [
              "array([[ 0.09762701,  0.43037873,  0.20552675,  0.08976637],\n",
              "       [-0.1526904 ,  0.29178823, -0.12482558,  0.783546  ],\n",
              "       [ 0.92732552, -0.23311696,  0.58345008,  0.05778984],\n",
              "       [ 0.13608912,  0.85119328, -0.85792788, -0.8257414 ]])"
            ]
          },
          "execution_count": 3,
          "metadata": {},
          "output_type": "execute_result"
        }
      ],
      "source": [
        "X = np.random.uniform(-1, 1, (4, 4))\n",
        "X"
      ]
    },
    {
      "cell_type": "code",
      "execution_count": 4,
      "metadata": {
        "colab": {
          "base_uri": "https://localhost:8080/"
        },
        "id": "8ikFGBdJiRph",
        "outputId": "992a6cd0-fdbe-41c6-9d1b-9589bfe2dc0e"
      },
      "outputs": [
        {
          "data": {
            "text/plain": [
              "array([[-0.95956321,  0.66523969,  0.5563135 ,  0.7400243 ],\n",
              "       [ 0.95723668,  0.59831713, -0.07704128,  0.56105835]])"
            ]
          },
          "execution_count": 4,
          "metadata": {},
          "output_type": "execute_result"
        }
      ],
      "source": [
        "W = np.random.uniform(-1, 1, (2, 4))\n",
        "W"
      ]
    },
    {
      "cell_type": "code",
      "execution_count": 5,
      "metadata": {
        "colab": {
          "base_uri": "https://localhost:8080/"
        },
        "id": "UPov5b8Cisxx",
        "outputId": "cc5766d0-063a-408d-a297-c27aa14cac72"
      },
      "outputs": [
        {
          "data": {
            "text/plain": [
              "array([[-0.76345115,  0.27984204, -0.71329343,  0.88933783]])"
            ]
          },
          "execution_count": 5,
          "metadata": {},
          "output_type": "execute_result"
        }
      ],
      "source": [
        "W_att = np.random.uniform(-1, 1, (1, 4))\n",
        "W_att"
      ]
    },
    {
      "cell_type": "code",
      "execution_count": 6,
      "metadata": {
        "colab": {
          "base_uri": "https://localhost:8080/"
        },
        "id": "PBglLK7OjPs6",
        "outputId": "0e38b24f-503b-4e80-9251-38bae4a3ef56"
      },
      "outputs": [
        {
          "data": {
            "text/plain": [
              "(array([0, 0, 0, 0, 1, 1, 2, 2, 2, 3, 3, 3]),\n",
              " array([0, 1, 2, 3, 0, 1, 0, 2, 3, 0, 2, 3]))"
            ]
          },
          "execution_count": 6,
          "metadata": {},
          "output_type": "execute_result"
        }
      ],
      "source": [
        "connections = np.where(A > 0)\n",
        "connections"
      ]
    },
    {
      "cell_type": "code",
      "execution_count": 7,
      "metadata": {
        "colab": {
          "base_uri": "https://localhost:8080/"
        },
        "id": "Dr_hpZKK_v0Z",
        "outputId": "540b7ec3-b6b5-4703-fb22-26d19f4282ba"
      },
      "outputs": [
        {
          "data": {
            "text/plain": [
              "array([[ 0.37339233,  0.38548525,  0.37339233,  0.38548525],\n",
              "       [ 0.37339233,  0.38548525,  0.85102612,  0.47765279],\n",
              "       [ 0.37339233,  0.38548525, -0.67755906,  0.73566587],\n",
              "       [ 0.37339233,  0.38548525, -0.65268413,  0.24235977],\n",
              "       [ 0.85102612,  0.47765279,  0.37339233,  0.38548525],\n",
              "       [ 0.85102612,  0.47765279,  0.85102612,  0.47765279],\n",
              "       [-0.67755906,  0.73566587,  0.37339233,  0.38548525],\n",
              "       [-0.67755906,  0.73566587, -0.67755906,  0.73566587],\n",
              "       [-0.67755906,  0.73566587, -0.65268413,  0.24235977],\n",
              "       [-0.65268413,  0.24235977,  0.37339233,  0.38548525],\n",
              "       [-0.65268413,  0.24235977, -0.67755906,  0.73566587],\n",
              "       [-0.65268413,  0.24235977, -0.65268413,  0.24235977]])"
            ]
          },
          "execution_count": 7,
          "metadata": {},
          "output_type": "execute_result"
        }
      ],
      "source": [
        "np.concatenate([(X @ W.T)[connections[0]], (X @ W.T)[connections[1]]], axis=1)"
      ]
    },
    {
      "cell_type": "code",
      "execution_count": 8,
      "metadata": {
        "colab": {
          "base_uri": "https://localhost:8080/"
        },
        "id": "1JqJVr1uibY5",
        "outputId": "85874ff9-ab68-4d3b-89cd-dc1e6ec28e8a"
      },
      "outputs": [
        {
          "data": {
            "text/plain": [
              "array([[-0.1007035 , -0.35942847,  0.96036209,  0.50390318, -0.43956122,\n",
              "        -0.69828618,  0.79964181,  1.8607074 ,  1.40424849,  0.64260322,\n",
              "         1.70366881,  1.2472099 ]])"
            ]
          },
          "execution_count": 8,
          "metadata": {},
          "output_type": "execute_result"
        }
      ],
      "source": [
        "a = W_att @ np.concatenate([(X @ W.T)[connections[0]], (X @ W.T)[connections[1]]], axis=1).T\n",
        "a"
      ]
    },
    {
      "cell_type": "code",
      "execution_count": 9,
      "metadata": {
        "colab": {
          "base_uri": "https://localhost:8080/"
        },
        "id": "sdfcccfElpW1",
        "outputId": "556496ea-c83b-4630-b59b-c4fff3525bf8"
      },
      "outputs": [
        {
          "data": {
            "text/plain": [
              "array([[-0.0201407 , -0.07188569,  0.96036209,  0.50390318, -0.08791224,\n",
              "        -0.13965724,  0.79964181,  1.8607074 ,  1.40424849,  0.64260322,\n",
              "         1.70366881,  1.2472099 ]])"
            ]
          },
          "execution_count": 9,
          "metadata": {},
          "output_type": "execute_result"
        }
      ],
      "source": [
        "def leaky_relu(x, alpha=0.2):\n",
        "    return np.maximum(alpha*x, x)\n",
        "\n",
        "e = leaky_relu(a)\n",
        "e"
      ]
    },
    {
      "cell_type": "code",
      "execution_count": 10,
      "metadata": {
        "colab": {
          "base_uri": "https://localhost:8080/"
        },
        "id": "HRhBAlqgl4Lg",
        "outputId": "b23c654f-388b-47ac-f8a4-89968d10ada8"
      },
      "outputs": [
        {
          "data": {
            "text/plain": [
              "array([[-0.0201407 , -0.07188569,  0.96036209,  0.50390318],\n",
              "       [-0.08791224, -0.13965724,  0.        ,  0.        ],\n",
              "       [ 0.79964181,  0.        ,  1.8607074 ,  1.40424849],\n",
              "       [ 0.64260322,  0.        ,  1.70366881,  1.2472099 ]])"
            ]
          },
          "execution_count": 10,
          "metadata": {},
          "output_type": "execute_result"
        }
      ],
      "source": [
        "E = np.zeros(A.shape)\n",
        "E[connections[0], connections[1]] = e[0]\n",
        "E"
      ]
    },
    {
      "cell_type": "code",
      "execution_count": 11,
      "metadata": {
        "colab": {
          "base_uri": "https://localhost:8080/"
        },
        "id": "A_4cc3Mal_bZ",
        "outputId": "077350d5-9773-44ee-c011-31f241f90197"
      },
      "outputs": [
        {
          "data": {
            "text/plain": [
              "array([[0.15862414, 0.15062488, 0.42285965, 0.26789133],\n",
              "       [0.24193418, 0.22973368, 0.26416607, 0.26416607],\n",
              "       [0.16208847, 0.07285714, 0.46834625, 0.29670814],\n",
              "       [0.16010498, 0.08420266, 0.46261506, 0.2930773 ]])"
            ]
          },
          "execution_count": 11,
          "metadata": {},
          "output_type": "execute_result"
        }
      ],
      "source": [
        "def softmax2D(x, axis):\n",
        "    e = np.exp(x - np.expand_dims(np.max(x, axis=axis), axis))\n",
        "    sum = np.expand_dims(np.sum(e, axis=axis), axis)\n",
        "    return e / sum\n",
        "\n",
        "W_alpha = softmax2D(E, 1)\n",
        "W_alpha"
      ]
    },
    {
      "cell_type": "code",
      "execution_count": 12,
      "metadata": {
        "colab": {
          "base_uri": "https://localhost:8080/"
        },
        "id": "QeADRiD7mVYc",
        "outputId": "6495dab3-c582-4658-e750-0c4700feddf8"
      },
      "outputs": [
        {
          "data": {
            "text/plain": [
              "array([[-1.10126376,  1.99749693],\n",
              "       [-0.33950544,  0.97045933],\n",
              "       [-1.03570438,  1.53614075],\n",
              "       [-1.03570438,  1.53614075]])"
            ]
          },
          "execution_count": 12,
          "metadata": {},
          "output_type": "execute_result"
        }
      ],
      "source": [
        "H = A.T @ W_alpha @ X @ W.T\n",
        "H"
      ]
    },
    {
      "cell_type": "code",
      "execution_count": 13,
      "metadata": {
        "id": "LHWS5blDTCVv"
      },
      "outputs": [],
      "source": [
        "from torch_geometric.datasets import Planetoid\n",
        "\n",
        "# Import dataset from PyTorch Geometric\n",
        "dataset = Planetoid(root=\".\", name=\"Cora\")\n",
        "data = dataset[0]"
      ]
    },
    {
      "cell_type": "code",
      "execution_count": 14,
      "metadata": {
        "colab": {
          "base_uri": "https://localhost:8080/"
        },
        "id": "45iaJfMLTJKX",
        "outputId": "37ee3c34-bd0a-4344-841b-884766b38712"
      },
      "outputs": [
        {
          "name": "stdout",
          "output_type": "stream",
          "text": [
            "GAT(\n",
            "  (gat1): GATv2Conv(1433, 32, heads=8)\n",
            "  (gat2): GATv2Conv(256, 7, heads=1)\n",
            ")\n",
            "Epoch   0 | Train Loss: 1.969 | Train Acc: 15.00% | Val Loss: 1.96 | Val Acc: 11.80%\n"
          ]
        },
        {
          "name": "stdout",
          "output_type": "stream",
          "text": [
            "Epoch  20 | Train Loss: 0.259 | Train Acc: 96.43% | Val Loss: 1.10 | Val Acc: 67.60%\n",
            "Epoch  40 | Train Loss: 0.163 | Train Acc: 98.57% | Val Loss: 0.90 | Val Acc: 70.80%\n",
            "Epoch  60 | Train Loss: 0.205 | Train Acc: 98.57% | Val Loss: 0.96 | Val Acc: 69.00%\n",
            "Epoch  80 | Train Loss: 0.130 | Train Acc: 100.00% | Val Loss: 0.91 | Val Acc: 70.80%\n",
            "Epoch 100 | Train Loss: 0.148 | Train Acc: 99.29% | Val Loss: 0.90 | Val Acc: 73.00%\n",
            "GAT test accuracy: 82.00%\n"
          ]
        }
      ],
      "source": [
        "import torch\n",
        "torch.manual_seed(1)\n",
        "import torch.nn.functional as F\n",
        "from torch_geometric.nn import GATv2Conv, GCNConv\n",
        "from torch.nn import Linear, Dropout\n",
        "\n",
        "\n",
        "def accuracy(y_pred, y_true):\n",
        "    \"\"\"Calculate accuracy.\"\"\"\n",
        "    return torch.sum(y_pred == y_true) / len(y_true)\n",
        "\n",
        "\n",
        "class GAT(torch.nn.Module):\n",
        "    def __init__(self, dim_in, dim_h, dim_out, heads=8):\n",
        "        super().__init__()\n",
        "        self.gat1 = GATv2Conv(dim_in, dim_h, heads=heads)\n",
        "        self.gat2 = GATv2Conv(dim_h*heads, dim_out, heads=1)\n",
        "\n",
        "    def forward(self, x, edge_index):\n",
        "        h = F.dropout(x, p=0.6, training=self.training)\n",
        "        h = self.gat1(h, edge_index)\n",
        "        h = F.elu(h)\n",
        "        h = F.dropout(h, p=0.6, training=self.training)\n",
        "        h = self.gat2(h, edge_index)\n",
        "        return F.log_softmax(h, dim=1)\n",
        "\n",
        "    def fit(self, data, epochs):\n",
        "        criterion = torch.nn.CrossEntropyLoss()\n",
        "        optimizer = torch.optim.Adam(self.parameters(), lr=0.01, weight_decay=0.01)\n",
        "\n",
        "        self.train()\n",
        "        for epoch in range(epochs+1):\n",
        "            optimizer.zero_grad()\n",
        "            out = self(data.x, data.edge_index)\n",
        "            loss = criterion(out[data.train_mask], data.y[data.train_mask])\n",
        "            acc = accuracy(out[data.train_mask].argmax(dim=1), data.y[data.train_mask])\n",
        "            loss.backward()\n",
        "            optimizer.step()\n",
        "\n",
        "            if(epoch % 20 == 0):\n",
        "                val_loss = criterion(out[data.val_mask], data.y[data.val_mask])\n",
        "                val_acc = accuracy(out[data.val_mask].argmax(dim=1), data.y[data.val_mask])\n",
        "                print(f'Epoch {epoch:>3} | Train Loss: {loss:.3f} | Train Acc: {acc*100:>5.2f}% | Val Loss: {val_loss:.2f} | Val Acc: {val_acc*100:.2f}%')\n",
        "\n",
        "    @torch.no_grad()\n",
        "    def test(self, data):\n",
        "        self.eval()\n",
        "        out = self(data.x, data.edge_index)\n",
        "        acc = accuracy(out.argmax(dim=1)[data.test_mask], data.y[data.test_mask])\n",
        "        return acc\n",
        "\n",
        "# Create the Vanilla GNN model\n",
        "gat = GAT(dataset.num_features, 32, dataset.num_classes)\n",
        "print(gat)\n",
        "\n",
        "# Train\n",
        "gat.fit(data, epochs=100)\n",
        "\n",
        "# Test\n",
        "acc = gat.test(data)\n",
        "print(f'GAT test accuracy: {acc*100:.2f}%')"
      ]
    },
    {
      "cell_type": "code",
      "execution_count": 15,
      "metadata": {
        "colab": {
          "base_uri": "https://localhost:8080/"
        },
        "id": "nDT78dtSLCb2",
        "outputId": "e31a7490-cd52-406b-a901-fe51e27cb5a0"
      },
      "outputs": [
        {
          "data": {
            "text/plain": [
              "Data(x=[3327, 3703], edge_index=[2, 9104], y=[3327], train_mask=[3327], val_mask=[3327], test_mask=[3327])"
            ]
          },
          "execution_count": 15,
          "metadata": {},
          "output_type": "execute_result"
        }
      ],
      "source": [
        "dataset = Planetoid(root=\".\", name=\"CiteSeer\")\n",
        "data = dataset[0]\n",
        "data"
      ]
    },
    {
      "cell_type": "code",
      "execution_count": 16,
      "metadata": {
        "colab": {
          "base_uri": "https://localhost:8080/",
          "height": 1000
        },
        "id": "4n1Ke07DQ1RZ",
        "outputId": "5aee6584-4ce4-42fe-e6f1-277a2e3bdb96"
      },
      "outputs": [
        {
          "data": {
            "text/plain": [
              "<BarContainer object of 32 artists>"
            ]
          },
          "execution_count": 16,
          "metadata": {},
          "output_type": "execute_result"
        },
        {
          "data": {
            "image/png": "[encoded data removed]",
            "text/plain": [
              "<Figure size 640x480 with 1 Axes>"
            ]
          },
          "metadata": {},
          "output_type": "display_data"
        }
      ],
      "source": [
        "import matplotlib.pyplot as plt\n",
        "from torch_geometric.utils import degree\n",
        "from collections import Counter\n",
        "\n",
        "# Get list of degrees for each node\n",
        "degrees = degree(dataset[0].edge_index[0]).numpy()\n",
        "\n",
        "# Count the number of nodes for each degree\n",
        "numbers = Counter(degrees)\n",
        "\n",
        "# Bar plot\n",
        "fig, ax = plt.subplots()\n",
        "ax.set_xlabel('Node degree')\n",
        "ax.set_ylabel('Number of nodes')\n",
        "plt.bar(numbers.keys(), numbers.values())"
      ]
    },
    {
      "cell_type": "code",
      "execution_count": 17,
      "metadata": {
        "colab": {
          "base_uri": "https://localhost:8080/"
        },
        "id": "rW0bm5aoL_uf",
        "outputId": "b362b613-38dd-4e29-f40d-85a9bc3d742a"
      },
      "outputs": [
        {
          "name": "stdout",
          "output_type": "stream",
          "text": [
            "GAT(\n",
            "  (gat1): GATv2Conv(3703, 16, heads=8)\n",
            "  (gat2): GATv2Conv(128, 6, heads=1)\n",
            ")\n",
            "Epoch   0 | Train Loss: 1.803 | Train Acc: 15.83% | Val Loss: 1.81 | Val Acc: 16.60%\n"
          ]
        },
        {
          "name": "stdout",
          "output_type": "stream",
          "text": [
            "Epoch  20 | Train Loss: 0.175 | Train Acc: 96.67% | Val Loss: 1.15 | Val Acc: 60.40%\n",
            "Epoch  40 | Train Loss: 0.134 | Train Acc: 97.50% | Val Loss: 1.22 | Val Acc: 62.00%\n",
            "Epoch  60 | Train Loss: 0.135 | Train Acc: 97.50% | Val Loss: 1.21 | Val Acc: 61.60%\n",
            "Epoch  80 | Train Loss: 0.111 | Train Acc: 100.00% | Val Loss: 1.15 | Val Acc: 63.60%\n",
            "Epoch 100 | Train Loss: 0.099 | Train Acc: 100.00% | Val Loss: 1.24 | Val Acc: 58.60%\n",
            "GAT test accuracy: 67.40%\n"
          ]
        }
      ],
      "source": [
        "# Create the Vanilla GNN model\n",
        "gat = GAT(dataset.num_features, 16, dataset.num_classes)\n",
        "print(gat)\n",
        "\n",
        "# Train\n",
        "gat.fit(data, epochs=100)\n",
        "\n",
        "# Test\n",
        "acc = gat.test(data)\n",
        "print(f'GAT test accuracy: {acc*100:.2f}%')"
      ]
    },
    {
      "cell_type": "code",
      "execution_count": 18,
      "metadata": {
        "colab": {
          "base_uri": "https://localhost:8080/",
          "height": 1000
        },
        "id": "ciQljfVbRF8Y",
        "outputId": "f3891d4d-c993-4597-8a06-32ebb9c32ecf"
      },
      "outputs": [
        {
          "data": {
            "image/png": "[encoded data removed]",
            "text/plain": [
              "<Figure size 640x480 with 1 Axes>"
            ]
          },
          "metadata": {},
          "output_type": "display_data"
        }
      ],
      "source": [
        "# Get model's classifications\n",
        "out = gat(data.x, data.edge_index)\n",
        "\n",
        "# Calculate the degree of each node\n",
        "degrees = degree(data.edge_index[0]).numpy()\n",
        "\n",
        "# Store accuracy scores and sample sizes\n",
        "accuracies = []\n",
        "sizes = []\n",
        "\n",
        "# Accuracy for degrees between 0 and 5\n",
        "for i in range(0, 6):\n",
        "    mask = np.where(degrees == i)[0]\n",
        "    accuracies.append(accuracy(out.argmax(dim=1)[mask], data.y[mask]))\n",
        "    sizes.append(len(mask))\n",
        "\n",
        "# Accuracy for degrees > 5\n",
        "mask = np.where(degrees > 5)[0]\n",
        "accuracies.append(accuracy(out.argmax(dim=1)[mask], data.y[mask]))\n",
        "sizes.append(len(mask))\n",
        "\n",
        "# Bar plot\n",
        "fig, ax = plt.subplots()\n",
        "ax.set_xlabel('Node degree')\n",
        "ax.set_ylabel('Accuracy score')\n",
        "plt.bar(['0','1','2','3','4','5','6+'], accuracies)\n",
        "for i in range(0, 7):\n",
        "    plt.text(i, accuracies[i], f'{accuracies[i]*100:.2f}%', ha='center', color='black')\n",
        "for i in range(0, 7):\n",
        "    plt.text(i, accuracies[i]//2, sizes[i], ha='center', color='white')"
      ]
    },
    {
      "cell_type": "markdown",
      "metadata": {},
      "source": [
        "# Cải tiến Hiệu suất Mô hình Graph Attention Networks (GAT)"
      ]
    },
    {
      "cell_type": "code",
      "execution_count": 26,
      "metadata": {},
      "outputs": [
        {
          "name": "stdout",
          "output_type": "stream",
          "text": [
            "Training GATv2...\n",
            "Epoch 1: Train Loss = 3.4726, Val Loss = 3.1754\n"
          ]
        },
        {
          "name": "stderr",
          "output_type": "stream",
          "text": [
            "/home/zeus/miniconda3/envs/cloudspace/lib/python3.10/site-packages/torch/optim/lr_scheduler.py:28: UserWarning: The verbose parameter is deprecated. Please use get_last_lr() to access the learning rate.\n",
            "  warnings.warn(\"The verbose parameter is deprecated. Please use get_last_lr() \"\n"
          ]
        },
        {
          "name": "stdout",
          "output_type": "stream",
          "text": [
            "Epoch 2: Train Loss = 2.1113, Val Loss = 2.8364\n",
            "Epoch 3: Train Loss = 2.2290, Val Loss = 3.0151\n",
            "Epoch 4: Train Loss = 1.8987, Val Loss = 2.6064\n",
            "Epoch 5: Train Loss = 1.7893, Val Loss = 2.4506\n",
            "Epoch 6: Train Loss = 1.4290, Val Loss = 2.3703\n",
            "Epoch 7: Train Loss = 1.6148, Val Loss = 2.2822\n",
            "Epoch 8: Train Loss = 1.1198, Val Loss = 2.3097\n",
            "Epoch 9: Train Loss = 0.9141, Val Loss = 2.0963\n",
            "Epoch 10: Train Loss = 1.1565, Val Loss = 2.2813\n",
            "Epoch 11: Train Loss = 1.1963, Val Loss = 1.9386\n",
            "Epoch 12: Train Loss = 0.6868, Val Loss = 1.9825\n",
            "Epoch 13: Train Loss = 0.7216, Val Loss = 1.6992\n",
            "Epoch 14: Train Loss = 0.6982, Val Loss = 1.9855\n",
            "Epoch 15: Train Loss = 0.7981, Val Loss = 1.8228\n",
            "Epoch 16: Train Loss = 0.7413, Val Loss = 1.8790\n",
            "Epoch 17: Train Loss = 0.5102, Val Loss = 1.8340\n",
            "Epoch 18: Train Loss = 0.4734, Val Loss = 1.6785\n",
            "Epoch 19: Train Loss = 0.5459, Val Loss = 1.6284\n",
            "Epoch 20: Train Loss = 0.5307, Val Loss = 2.0632\n",
            "Epoch 21: Train Loss = 0.3960, Val Loss = 1.6833\n",
            "Epoch 22: Train Loss = 0.3332, Val Loss = 1.8288\n",
            "Epoch 23: Train Loss = 0.3199, Val Loss = 1.8783\n",
            "Epoch 24: Train Loss = 0.3145, Val Loss = 1.7145\n",
            "Epoch 25: Train Loss = 0.3640, Val Loss = 1.9457\n",
            "Epoch 26: Train Loss = 0.2667, Val Loss = 1.8049\n",
            "Epoch 27: Train Loss = 0.3524, Val Loss = 1.7822\n",
            "Epoch 28: Train Loss = 0.2842, Val Loss = 1.7061\n",
            "Epoch 29: Train Loss = 0.2391, Val Loss = 1.8479\n",
            "Early stopping at epoch 29\n",
            "GATv2 Test Accuracy: 75.00%\n"
          ]
        },
        {
          "data": {
            "image/png": "[encoded data removed]",
            "text/plain": [
              "<Figure size 640x480 with 1 Axes>"
            ]
          },
          "metadata": {},
          "output_type": "display_data"
        }
      ],
      "source": [
        "import torch\n",
        "import torch.nn as nn\n",
        "import torch.optim as optim\n",
        "import torch.nn.functional as F\n",
        "from torch_geometric.datasets import Planetoid\n",
        "from torch_geometric.nn import GATv2Conv\n",
        "from torch_geometric.utils import degree, add_self_loops\n",
        "from collections import Counter\n",
        "import matplotlib.pyplot as plt\n",
        "import numpy as np\n",
        "from sklearn.preprocessing import StandardScaler\n",
        "\n",
        "# Load dataset (Cora)\n",
        "dataset = Planetoid(root=\".\", name=\"Cora\")\n",
        "data = dataset[0]\n",
        "\n",
        "# Chuẩn hóa đặc trưng đầu vào\n",
        "scaler = StandardScaler()\n",
        "data.x = torch.tensor(scaler.fit_transform(data.x.numpy()), dtype=torch.float)\n",
        "\n",
        "# Thêm self-loops vào đồ thị\n",
        "data.edge_index, _ = add_self_loops(data.edge_index)\n",
        "\n",
        "\n",
        "# ------------- MÔ HÌNH GATv2 ----------------\n",
        "class GATv2Model(nn.Module):\n",
        "    def __init__(self, dim_in, dim_h, dim_out, heads=8):\n",
        "        super().__init__()\n",
        "        self.gat1 = GATv2Conv(dim_in, dim_h, heads=heads)\n",
        "        self.gat2 = GATv2Conv(dim_h * heads, dim_h, heads=heads)\n",
        "        self.gat3 = GATv2Conv(dim_h * heads, dim_out, heads=1)\n",
        "\n",
        "    def forward(self, x, edge_index):\n",
        "        h = F.dropout(x, p=0.6, training=self.training)\n",
        "        h = self.gat1(h, edge_index)\n",
        "        h = F.elu(h)\n",
        "        h = F.dropout(h, p=0.6, training=self.training)\n",
        "        h = self.gat2(h, edge_index)\n",
        "        h = F.elu(h)\n",
        "        h = F.dropout(h, p=0.6, training=self.training)\n",
        "        h = self.gat3(h, edge_index)\n",
        "        return F.log_softmax(h, dim=1)\n",
        "\n",
        "    def fit(self, data, epochs=100, lr=0.005, weight_decay=0.0005):\n",
        "        criterion = nn.CrossEntropyLoss()\n",
        "        optimizer = optim.Adam(self.parameters(), lr=lr, weight_decay=weight_decay)\n",
        "        scheduler = torch.optim.lr_scheduler.ReduceLROnPlateau(optimizer, mode='min', patience=5, factor=0.5, verbose=True)\n",
        "\n",
        "        best_val_loss = float('inf')\n",
        "        early_stop_patience = 10\n",
        "        no_improve_count = 0\n",
        "\n",
        "        self.train()\n",
        "        for epoch in range(epochs):\n",
        "            optimizer.zero_grad()\n",
        "            out = self(data.x, data.edge_index)\n",
        "            loss = criterion(out[data.train_mask], data.y[data.train_mask])\n",
        "            loss.backward()\n",
        "            optimizer.step()\n",
        "\n",
        "            val_loss = criterion(out[data.val_mask], data.y[data.val_mask])\n",
        "            scheduler.step(val_loss)\n",
        "\n",
        "            print(f\"Epoch {epoch+1}: Train Loss = {loss:.4f}, Val Loss = {val_loss:.4f}\")\n",
        "\n",
        "            # Early stopping\n",
        "            if val_loss < best_val_loss:\n",
        "                best_val_loss = val_loss\n",
        "                no_improve_count = 0\n",
        "            else:\n",
        "                no_improve_count += 1\n",
        "                if no_improve_count >= early_stop_patience:\n",
        "                    print(f\"Early stopping at epoch {epoch+1}\")\n",
        "                    break\n",
        "\n",
        "    @torch.no_grad()\n",
        "    def test(self, data):\n",
        "        self.eval()\n",
        "        out = self(data.x, data.edge_index)\n",
        "        acc = (out.argmax(dim=1)[data.test_mask] == data.y[data.test_mask]).sum().item() / data.test_mask.sum().item()\n",
        "        return acc\n",
        "\n",
        "\n",
        "# ------------- HUẤN LUYỆN MÔ HÌNH ----------------\n",
        "dim_in = dataset.num_features\n",
        "dim_h = 32\n",
        "dim_out = dataset.num_classes\n",
        "\n",
        "gat = GATv2Model(dim_in, dim_h, dim_out)\n",
        "\n",
        "print(\"Training GATv2...\")\n",
        "gat.fit(data, epochs=100)\n",
        "\n",
        "# ------------- KIỂM TRA HIỆU SUẤT ----------------\n",
        "test_acc = gat.test(data)\n",
        "print(f\"GATv2 Test Accuracy: {test_acc * 100:.2f}%\")\n",
        "\n",
        "# ------------- VẼ BIỂU ĐỒ ĐỘ CHÍNH XÁC THEO NODE DEGREE ----------------\n",
        "out = gat(data.x, data.edge_index)\n",
        "degrees = degree(data.edge_index[0]).numpy()\n",
        "\n",
        "accuracies = []\n",
        "sizes = []\n",
        "\n",
        "for i in range(0, 6):\n",
        "    mask = np.where(degrees == i)[0]\n",
        "    if len(mask) > 0:\n",
        "        acc = (out.argmax(dim=1)[mask] == data.y[mask]).sum().item() / len(mask)\n",
        "        accuracies.append(acc)\n",
        "        sizes.append(len(mask))\n",
        "    else:\n",
        "        accuracies.append(0)\n",
        "        sizes.append(0)\n",
        "\n",
        "mask = np.where(degrees > 5)[0]\n",
        "if len(mask) > 0:\n",
        "    acc = (out.argmax(dim=1)[mask] == data.y[mask]).sum().item() / len(mask)\n",
        "    accuracies.append(acc)\n",
        "    sizes.append(len(mask))\n",
        "\n",
        "# Vẽ biểu đồ\n",
        "fig, ax = plt.subplots()\n",
        "ax.set_xlabel('Node degree')\n",
        "ax.set_ylabel('Accuracy score')\n",
        "plt.bar(['0', '1', '2', '3', '4', '5', '6+'], accuracies)\n",
        "\n",
        "for i in range(len(accuracies)):\n",
        "    plt.text(i, accuracies[i], f'{accuracies[i] * 100:.2f}%', ha='center', color='black')\n",
        "    plt.text(i, accuracies[i] / 2, sizes[i], ha='center', color='white')\n",
        "\n",
        "plt.show()"
      ]
    },
    {
      "cell_type": "markdown",
      "metadata": {},
      "source": [
        "Code cải tiến có thể làm mất các node có degree = 0 do thêm self-loops."
      ]
    },
    {
      "cell_type": "markdown",
      "metadata": {},
      "source": [
        "hmm có vẻ không tốt hơn gatv1"
      ]
    },
    {
      "cell_type": "markdown",
      "metadata": {},
      "source": [
        "1. Cài đặt và import thư viện cần thiết"
      ]
    },
    {
      "cell_type": "code",
      "execution_count": 28,
      "metadata": {},
      "outputs": [],
      "source": [
        "!pip install -q torch-scatter~=2.1.0 torch-sparse~=0.6.16 \\\n",
        "              torch-cluster~=1.6.0 torch-spline-conv~=1.2.1 \\\n",
        "              torch-geometric==2.2.0 -f https://data.pyg.org/whl/torch-{torch.__version__}.html\n",
        "\n",
        "import torch\n",
        "import torch.nn.functional as F\n",
        "from torch.nn import Linear, Dropout\n",
        "from torch_geometric.datasets import Planetoid\n",
        "from torch_geometric.nn import GATv2Conv\n",
        "import numpy as np\n",
        "\n",
        "# Đặt seed để tái hiện kết quả\n",
        "torch.manual_seed(1)\n",
        "torch.cuda.manual_seed(1)\n",
        "torch.cuda.manual_seed_all(1)\n",
        "np.random.seed(0)\n"
      ]
    },
    {
      "cell_type": "markdown",
      "metadata": {},
      "source": [
        "2. Định nghĩa một số hàm tiện ích"
      ]
    },
    {
      "cell_type": "code",
      "execution_count": 29,
      "metadata": {},
      "outputs": [],
      "source": [
        "def accuracy(y_pred, y_true):\n",
        "    return (y_pred == y_true).sum() / len(y_true)\n",
        "\n",
        "class EarlyStopping:\n",
        "    \"\"\"\n",
        "    Đơn giản hoá cơ chế Early Stopping:\n",
        "    - theo dõi metric (ví dụ: validation loss, validation accuracy).\n",
        "    - nếu không cải thiện sau 'patience' lần, dừng sớm.\n",
        "    \"\"\"\n",
        "    def __init__(self, patience=50, mode=\"max\"):\n",
        "        self.patience = patience\n",
        "        self.counter = 0\n",
        "        self.best_score = None\n",
        "        self.early_stop = False\n",
        "        self.mode = mode  # \"min\" hoặc \"max\"\n",
        "\n",
        "    def __call__(self, current_score):\n",
        "        if self.best_score is None:\n",
        "            self.best_score = current_score\n",
        "        else:\n",
        "            if (self.mode == \"max\" and current_score <= self.best_score) \\\n",
        "               or (self.mode == \"min\" and current_score >= self.best_score):\n",
        "                self.counter += 1\n",
        "                if self.counter >= self.patience:\n",
        "                    self.early_stop = True\n",
        "            else:\n",
        "                self.best_score = current_score\n",
        "                self.counter = 0"
      ]
    },
    {
      "cell_type": "markdown",
      "metadata": {},
      "source": [
        "3. Định nghĩa mô hình GATv2 cải tiến"
      ]
    },
    {
      "cell_type": "code",
      "execution_count": 30,
      "metadata": {},
      "outputs": [],
      "source": [
        "import torch\n",
        "from torch import nn\n",
        "\n",
        "class GATImproved(nn.Module):\n",
        "    def __init__(\n",
        "        self,\n",
        "        dim_in,       # số chiều feature đầu vào\n",
        "        dim_h,        # số chiều hidden\n",
        "        dim_out,      # số lớp đầu ra (classes)\n",
        "        heads=8,      # số multi-head ở lớp ẩn\n",
        "        dropout=0.6,  # tỉ lệ dropout\n",
        "        use_skip=True # có dùng skip connection không\n",
        "    ):\n",
        "        super().__init__()\n",
        "        self.use_skip = use_skip\n",
        "        self.dropout = dropout\n",
        "\n",
        "        # Lớp GATv2 đầu tiên\n",
        "        self.gat1 = GATv2Conv(\n",
        "            in_channels=dim_in,\n",
        "            out_channels=dim_h,\n",
        "            heads=heads,\n",
        "            dropout=0.0  # dropout trong GATv2Conv (có thể chỉnh)\n",
        "        )\n",
        "        self.norm1 = nn.LayerNorm(dim_h * heads)  # hoặc BatchNorm1d\n",
        "\n",
        "        # Lớp GATv2 thứ hai\n",
        "        self.gat2 = GATv2Conv(\n",
        "            in_channels=dim_h * heads,\n",
        "            out_channels=dim_out,\n",
        "            heads=1,\n",
        "            dropout=0.0\n",
        "        )\n",
        "        # Nếu muốn có normalization ở lớp 2, có thể thêm self.norm2\n",
        "\n",
        "    def forward(self, x, edge_index):\n",
        "        # Lớp 1\n",
        "        x_in1 = x  # cho skip connection\n",
        "        x = F.dropout(x, p=self.dropout, training=self.training)\n",
        "        x = self.gat1(x, edge_index)\n",
        "        x = self.norm1(x)  # Normalize\n",
        "        x = F.elu(x)\n",
        "        if self.use_skip:\n",
        "            # Skip-connection: cộng lại với đầu vào đã transform cho phù hợp\n",
        "            # Chú ý: x_in1 có shape [num_nodes, dim_in], x có shape [num_nodes, dim_h*heads]\n",
        "            # muốn skip, ta có thể linear đầu vào để match dimension (nếu dim_in != dim_h*heads)\n",
        "            pass  # Nếu dim_in == dim_h*heads có thể cộng trực tiếp\n",
        "                  # Ở đây, Cora: dim_in=1433, dim_h=32, heads=8 => dim_h*heads=256 => khác 1433\n",
        "                  # nên thường ta sẽ cần một lớp Linear(x_in1 -> 256) rồi mới cộng.\n",
        "                  # Để đơn giản, ta bỏ qua hoặc tuỳ bạn triển khai. \n",
        "                  # x += self.skip_proj(x_in1)\n",
        "        \n",
        "        # Lớp 2\n",
        "        x = F.dropout(x, p=self.dropout, training=self.training)\n",
        "        x = self.gat2(x, edge_index)\n",
        "        # x = self.norm2(x)  # nếu muốn\n",
        "        return F.log_softmax(x, dim=1)\n",
        "\n",
        "    def fit(self, data, epochs=200, lr=0.005, weight_decay=0.0005, patience=50):\n",
        "        criterion = nn.CrossEntropyLoss()\n",
        "        optimizer = torch.optim.Adam(self.parameters(), lr=lr, weight_decay=weight_decay)\n",
        "\n",
        "        # Early stopping theo dõi giá trị trên tập validation\n",
        "        early_stopping = EarlyStopping(patience=patience, mode=\"max\")\n",
        "        best_val_acc = 0.0\n",
        "\n",
        "        for epoch in range(1, epochs+1):\n",
        "            self.train()\n",
        "            optimizer.zero_grad()\n",
        "\n",
        "            out = self(data.x, data.edge_index)\n",
        "            loss = criterion(out[data.train_mask], data.y[data.train_mask])\n",
        "            loss.backward()\n",
        "            optimizer.step()\n",
        "\n",
        "            # Tính toán loss / acc trên train và val\n",
        "            self.eval()\n",
        "            with torch.no_grad():\n",
        "                logits = self(data.x, data.edge_index)\n",
        "                train_acc = accuracy(logits[data.train_mask].argmax(dim=1), data.y[data.train_mask])\n",
        "                val_acc = accuracy(logits[data.val_mask].argmax(dim=1), data.y[data.val_mask])\n",
        "                val_loss = criterion(logits[data.val_mask], data.y[data.val_mask])\n",
        "\n",
        "            # In ra log mỗi 20 epoch\n",
        "            if epoch % 20 == 0 or epoch == epochs:\n",
        "                print(f\"Epoch: {epoch:03d}, \"\n",
        "                      f\"Train Loss: {loss:.4f}, Train Acc: {train_acc*100:.2f}%, \"\n",
        "                      f\"Val Loss: {val_loss:.4f}, Val Acc: {val_acc*100:.2f}%\")\n",
        "\n",
        "            # Kiểm tra early stopping dựa trên val_acc\n",
        "            early_stopping(val_acc.item())\n",
        "            if early_stopping.early_stop:\n",
        "                print(f\"Early stopping tại epoch {epoch}\")\n",
        "                break\n",
        "\n",
        "        print(\"Kết thúc huấn luyện.\")\n",
        "\n",
        "    @torch.no_grad()\n",
        "    def test(self, data):\n",
        "        self.eval()\n",
        "        logits = self(data.x, data.edge_index)\n",
        "        test_acc = accuracy(logits[data.test_mask].argmax(dim=1), data.y[data.test_mask])\n",
        "        return test_acc"
      ]
    },
    {
      "cell_type": "markdown",
      "metadata": {},
      "source": [
        "4. Huấn luyện trên Cora (hoặc CiteSeer)"
      ]
    },
    {
      "cell_type": "code",
      "execution_count": 31,
      "metadata": {},
      "outputs": [
        {
          "name": "stdout",
          "output_type": "stream",
          "text": [
            "GATImproved(\n",
            "  (gat1): GATv2Conv(1433, 32, heads=8)\n",
            "  (norm1): LayerNorm((256,), eps=1e-05, elementwise_affine=True)\n",
            "  (gat2): GATv2Conv(256, 7, heads=1)\n",
            ")\n",
            "Epoch: 020, Train Loss: 0.0378, Train Acc: 100.00%, Val Loss: 1.0337, Val Acc: 74.20%\n",
            "Epoch: 040, Train Loss: 0.0197, Train Acc: 100.00%, Val Loss: 1.1471, Val Acc: 74.00%\n",
            "Epoch: 060, Train Loss: 0.0042, Train Acc: 100.00%, Val Loss: 1.1737, Val Acc: 74.00%\n",
            "Early stopping tại epoch 71\n",
            "Kết thúc huấn luyện.\n",
            "Cora Test Accuracy: 74.60%\n"
          ]
        }
      ],
      "source": [
        "# Tải dataset Cora\n",
        "dataset_cora = Planetoid(root=\".\", name=\"Cora\")\n",
        "data_cora = dataset_cora[0]\n",
        "\n",
        "# Tạo model\n",
        "dim_in = dataset_cora.num_features  # 1433\n",
        "dim_h = 32                          # bạn có thể thử 64, 128...\n",
        "dim_out = dataset_cora.num_classes  # 7\n",
        "heads = 8\n",
        "dropout = 0.6\n",
        "\n",
        "model = GATImproved(\n",
        "    dim_in=dim_in,\n",
        "    dim_h=dim_h,\n",
        "    dim_out=dim_out,\n",
        "    heads=heads,\n",
        "    dropout=dropout,\n",
        "    use_skip=False  # hoặc True (nếu bạn thêm linear để match dimension)\n",
        ")\n",
        "print(model)\n",
        "\n",
        "# Huấn luyện (có tích hợp EarlyStopping)\n",
        "model.fit(data_cora, epochs=300, lr=0.005, weight_decay=0.0005, patience=50)\n",
        "\n",
        "# Đánh giá trên test set\n",
        "acc_test = model.test(data_cora)\n",
        "print(f\"Cora Test Accuracy: {acc_test*100:.2f}%\")"
      ]
    },
    {
      "cell_type": "code",
      "execution_count": 32,
      "metadata": {},
      "outputs": [
        {
          "name": "stdout",
          "output_type": "stream",
          "text": [
            "Epoch: 020, Train Loss: 0.0459, Train Acc: 100.00%, Val Loss: 1.6272, Val Acc: 65.00%\n",
            "Epoch: 040, Train Loss: 0.0161, Train Acc: 100.00%, Val Loss: 1.6517, Val Acc: 63.40%\n",
            "Epoch: 060, Train Loss: 0.0033, Train Acc: 100.00%, Val Loss: 1.6709, Val Acc: 64.00%\n",
            "Early stopping tại epoch 70\n",
            "Kết thúc huấn luyện.\n",
            "CiteSeer Test Accuracy: 66.40%\n"
          ]
        }
      ],
      "source": [
        "dataset_citeseer = Planetoid(root=\".\", name=\"CiteSeer\")\n",
        "data_citeseer = dataset_citeseer[0]\n",
        "\n",
        "model_cs = GATImproved(\n",
        "    dim_in=dataset_citeseer.num_features,\n",
        "    dim_h=32,\n",
        "    dim_out=dataset_citeseer.num_classes,\n",
        "    heads=8,\n",
        "    dropout=0.6,\n",
        "    use_skip=False\n",
        ")\n",
        "\n",
        "model_cs.fit(data_citeseer, epochs=300, lr=0.005, weight_decay=0.0005, patience=50)\n",
        "acc_test_cs = model_cs.test(data_citeseer)\n",
        "print(f\"CiteSeer Test Accuracy: {acc_test_cs*100:.2f}%\")"
      ]
    },
    {
      "cell_type": "markdown",
      "metadata": {},
      "source": [
        "overfitting oops!!!"
      ]
    },
    {
      "cell_type": "code",
      "execution_count": 35,
      "metadata": {},
      "outputs": [
        {
          "name": "stdout",
          "output_type": "stream",
          "text": [
            "GATImprovedWithSkip(\n",
            "  (gat1): GATv2Conv(1433, 64, heads=8)\n",
            "  (skip_proj): Linear(in_features=1433, out_features=512, bias=True)\n",
            "  (bn1): BatchNorm1d(512, eps=1e-05, momentum=0.1, affine=True, track_running_stats=True)\n",
            "  (gat2): GATv2Conv(512, 7, heads=1)\n",
            ")\n",
            "Epoch: 020, Loss: 0.4218, Train Acc: 99.29%, Val Loss: 1.1044, Val Acc: 73.20%\n",
            "Epoch: 040, Loss: 0.3137, Train Acc: 100.00%, Val Loss: 1.2456, Val Acc: 74.80%\n",
            "Epoch: 060, Loss: 0.2897, Train Acc: 100.00%, Val Loss: 1.2481, Val Acc: 75.40%\n",
            "Epoch: 080, Loss: 0.2427, Train Acc: 100.00%, Val Loss: 1.0989, Val Acc: 76.60%\n",
            "Epoch: 100, Loss: 0.2121, Train Acc: 100.00%, Val Loss: 1.0086, Val Acc: 77.20%\n",
            "Epoch: 120, Loss: 0.2587, Train Acc: 100.00%, Val Loss: 1.0521, Val Acc: 76.20%\n",
            "Epoch: 140, Loss: 0.1853, Train Acc: 100.00%, Val Loss: 1.0115, Val Acc: 76.80%\n",
            "Epoch: 160, Loss: 0.1697, Train Acc: 100.00%, Val Loss: 1.0200, Val Acc: 77.00%\n",
            "Epoch: 180, Loss: 0.2379, Train Acc: 100.00%, Val Loss: 0.9928, Val Acc: 77.20%\n",
            "Early stopping tại epoch 196\n",
            "Kết thúc huấn luyện.\n",
            "Cora Test Accuracy: 80.90%\n",
            "GATImprovedWithSkip(\n",
            "  (gat1): GATv2Conv(3703, 32, heads=4)\n",
            "  (skip_proj): Linear(in_features=3703, out_features=128, bias=True)\n",
            "  (bn1): BatchNorm1d(128, eps=1e-05, momentum=0.1, affine=True, track_running_stats=True)\n",
            "  (gat2): GATv2Conv(128, 6, heads=1)\n",
            ")\n",
            "Epoch: 020, Loss: 0.5489, Train Acc: 100.00%, Val Loss: 1.0408, Val Acc: 69.80%\n",
            "Epoch: 040, Loss: 0.3246, Train Acc: 99.17%, Val Loss: 1.1000, Val Acc: 69.40%\n",
            "Epoch: 060, Loss: 0.4237, Train Acc: 100.00%, Val Loss: 1.0329, Val Acc: 70.20%\n",
            "Epoch: 080, Loss: 0.4271, Train Acc: 100.00%, Val Loss: 1.0395, Val Acc: 68.00%\n",
            "Epoch: 100, Loss: 0.4212, Train Acc: 100.00%, Val Loss: 1.0587, Val Acc: 67.80%\n",
            "Epoch: 120, Loss: 0.3824, Train Acc: 100.00%, Val Loss: 1.0187, Val Acc: 69.40%\n",
            "Epoch: 140, Loss: 0.3979, Train Acc: 100.00%, Val Loss: 1.0592, Val Acc: 67.80%\n",
            "Epoch: 160, Loss: 0.3630, Train Acc: 100.00%, Val Loss: 1.0503, Val Acc: 69.20%\n",
            "Early stopping tại epoch 160\n",
            "Kết thúc huấn luyện.\n",
            "CiteSeer Test Accuracy: 68.10%\n"
          ]
        }
      ],
      "source": [
        "# Cài đặt các gói cần thiết (nếu chưa cài đặt)\n",
        "!pip install -q torch-scatter~=2.1.0 torch-sparse~=0.6.16 \\\n",
        "              torch-cluster~=1.6.0 torch-spline-conv~=1.2.1 \\\n",
        "              torch-geometric==2.2.0 -f https://data.pyg.org/whl/torch-{torch.__version__}.html\n",
        "\n",
        "import torch\n",
        "import torch.nn.functional as F\n",
        "from torch import nn\n",
        "from torch_geometric.datasets import Planetoid\n",
        "from torch_geometric.nn import GATv2Conv\n",
        "import numpy as np\n",
        "\n",
        "# Đặt seed cho tính tái lập\n",
        "torch.manual_seed(1)\n",
        "torch.cuda.manual_seed(1)\n",
        "torch.cuda.manual_seed_all(1)\n",
        "np.random.seed(0)\n",
        "\n",
        "#####################################\n",
        "# Hàm tiện ích: tính accuracy và EarlyStopping\n",
        "#####################################\n",
        "\n",
        "def accuracy(y_pred, y_true):\n",
        "    return (y_pred == y_true).sum() / len(y_true)\n",
        "\n",
        "class EarlyStopping:\n",
        "    \"\"\"\n",
        "    Theo dõi metric (ở đây dùng accuracy) để dừng sớm khi không cải thiện.\n",
        "    \"\"\"\n",
        "    def __init__(self, patience=100, mode=\"max\"):\n",
        "        self.patience = patience\n",
        "        self.counter = 0\n",
        "        self.best_score = None\n",
        "        self.early_stop = False\n",
        "        self.mode = mode\n",
        "\n",
        "    def __call__(self, current_score):\n",
        "        if self.best_score is None:\n",
        "            self.best_score = current_score\n",
        "        else:\n",
        "            if (self.mode == \"max\" and current_score <= self.best_score) or \\\n",
        "               (self.mode == \"min\" and current_score >= self.best_score):\n",
        "                self.counter += 1\n",
        "                if self.counter >= self.patience:\n",
        "                    self.early_stop = True\n",
        "            else:\n",
        "                self.best_score = current_score\n",
        "                self.counter = 0\n",
        "\n",
        "#####################################\n",
        "# Mô hình GAT cải tiến với Skip Connection và BatchNorm\n",
        "#####################################\n",
        "\n",
        "class GATImprovedWithSkip(nn.Module):\n",
        "    def __init__(self, in_dim, hidden_dim, out_dim, heads=8, dropout=0.5):\n",
        "        super().__init__()\n",
        "        self.dropout = dropout\n",
        "        self.heads = heads\n",
        "\n",
        "        # Lớp GATv2Conv đầu tiên: output có kích thước hidden_dim * heads\n",
        "        self.gat1 = GATv2Conv(in_channels=in_dim,\n",
        "                              out_channels=hidden_dim,\n",
        "                              heads=heads,\n",
        "                              dropout=dropout)\n",
        "        # Dựng một lớp Linear để đưa input về cùng kích thước với đầu ra của gat1 cho skip connection\n",
        "        self.skip_proj = nn.Linear(in_dim, hidden_dim * heads)\n",
        "        # Sử dụng BatchNorm1d sau gat1\n",
        "        self.bn1 = nn.BatchNorm1d(hidden_dim * heads)\n",
        "\n",
        "        # Lớp thứ hai: với heads=1 (lớp output)\n",
        "        self.gat2 = GATv2Conv(in_channels=hidden_dim * heads,\n",
        "                              out_channels=out_dim,\n",
        "                              heads=1,\n",
        "                              dropout=dropout)\n",
        "        # (Tùy chọn) Nếu cần thêm normalization ở lớp output:\n",
        "        # self.bn2 = nn.BatchNorm1d(out_dim)\n",
        "\n",
        "    def forward(self, x, edge_index):\n",
        "        # Dự phòng skip connection: chuyển x về kích thước phù hợp\n",
        "        x_skip = self.skip_proj(x)\n",
        "        x = F.dropout(x, p=self.dropout, training=self.training)\n",
        "        x1 = self.gat1(x, edge_index)\n",
        "        # BatchNorm1d yêu cầu input dạng [batch_size, num_features]\n",
        "        x1 = self.bn1(x1)\n",
        "        x1 = F.elu(x1)\n",
        "        # Áp dụng skip connection\n",
        "        x1 = x1 + x_skip\n",
        "        x1 = F.dropout(x1, p=self.dropout, training=self.training)\n",
        "        x2 = self.gat2(x1, edge_index)\n",
        "        # Có thể thêm bn ở x2 nếu cần: x2 = self.bn2(x2)\n",
        "        return F.log_softmax(x2, dim=1)\n",
        "\n",
        "    def fit(self, data, epochs=300, lr=0.01, weight_decay=0.0005, patience=100):\n",
        "        criterion = nn.CrossEntropyLoss()\n",
        "        optimizer = torch.optim.Adam(self.parameters(), lr=lr, weight_decay=weight_decay)\n",
        "        early_stopping = EarlyStopping(patience=patience, mode=\"max\")\n",
        "\n",
        "        for epoch in range(1, epochs+1):\n",
        "            self.train()\n",
        "            optimizer.zero_grad()\n",
        "            out = self(data.x, data.edge_index)\n",
        "            loss = criterion(out[data.train_mask], data.y[data.train_mask])\n",
        "            loss.backward()\n",
        "            optimizer.step()\n",
        "\n",
        "            self.eval()\n",
        "            with torch.no_grad():\n",
        "                logits = self(data.x, data.edge_index)\n",
        "                train_acc = accuracy(logits[data.train_mask].argmax(dim=1), data.y[data.train_mask])\n",
        "                val_acc = accuracy(logits[data.val_mask].argmax(dim=1), data.y[data.val_mask])\n",
        "                val_loss = criterion(logits[data.val_mask], data.y[data.val_mask])\n",
        "\n",
        "            if epoch % 20 == 0 or epoch == epochs:\n",
        "                print(f\"Epoch: {epoch:03d}, Loss: {loss:.4f}, Train Acc: {train_acc*100:.2f}%, Val Loss: {val_loss:.4f}, Val Acc: {val_acc*100:.2f}%\")\n",
        "\n",
        "            early_stopping(val_acc.item())\n",
        "            if early_stopping.early_stop:\n",
        "                print(f\"Early stopping tại epoch {epoch}\")\n",
        "                break\n",
        "\n",
        "        print(\"Kết thúc huấn luyện.\")\n",
        "\n",
        "    @torch.no_grad()\n",
        "    def test(self, data):\n",
        "        self.eval()\n",
        "        logits = self(data.x, data.edge_index)\n",
        "        return accuracy(logits[data.test_mask].argmax(dim=1), data.y[data.test_mask])\n",
        "\n",
        "\n",
        "#####################################\n",
        "# Huấn luyện trên Cora\n",
        "#####################################\n",
        "\n",
        "# Tải dataset Cora\n",
        "dataset_cora = Planetoid(root=\".\", name=\"Cora\")\n",
        "data_cora = dataset_cora[0]\n",
        "\n",
        "# Khởi tạo mô hình: \n",
        "# - in_dim = 1433 (số features của Cora)\n",
        "# - hidden_dim = 64 (tăng lên so với 32)\n",
        "# - out_dim = 7 (số lớp)\n",
        "# - heads = 8, dropout = 0.5\n",
        "model_cora = GATImprovedWithSkip(dataset_cora.num_features, 64, dataset_cora.num_classes, heads=8, dropout=0.5)\n",
        "print(model_cora)\n",
        "\n",
        "model_cora.fit(data_cora, epochs=300, lr=0.005, weight_decay=0.0005, patience=100)\n",
        "print(f\"Cora Test Accuracy: {model_cora.test(data_cora)*100:.2f}%\")\n",
        "\n",
        "#####################################\n",
        "# Huấn luyện trên CiteSeer\n",
        "#####################################\n",
        "\n",
        "dataset_cs = Planetoid(root=\".\", name=\"CiteSeer\")\n",
        "data_cs = dataset_cs[0]\n",
        "\n",
        "model_cs = GATImprovedWithSkip(dataset_cs.num_features, 32, dataset_cs.num_classes, heads=4, dropout=0.55)\n",
        "print(model_cs)\n",
        "\n",
        "model_cs.fit(data_cs, epochs=300, lr=0.005, weight_decay=0.005, patience=100)\n",
        "print(f\"CiteSeer Test Accuracy: {model_cs.test(data_cs)*100:.2f}%\")"
      ]
    },
    {
      "cell_type": "markdown",
      "metadata": {},
      "source": [
        "Với CiteSeer, mặc dù loss cũng không “thấp” hơn nhiều, nhưng nếu accuracy không đạt yêu cầu, có thể cần thử các biện pháp khác (như tăng dropout, tăng weight decay, giảm độ phức tạp của mô hình, …) để tránh overfitting."
      ]
    }
  ],
  "metadata": {
    "colab": {
      "provenance": []
    },
    "kernelspec": {
      "display_name": "book",
      "language": "python",
      "name": "python3"
    },
    "language_info": {
      "codemirror_mode": {
        "name": "ipython",
        "version": 3
      },
      "file_extension": ".py",
      "mimetype": "text/x-python",
      "name": "python",
      "nbconvert_exporter": "python",
      "pygments_lexer": "ipython3",
      "version": "3.8.15 (default, Nov 24 2022, 14:38:14) [MSC v.1916 64 bit (AMD64)]"
    },
    "vscode": {
      "interpreter": {
        "hash": "3556630122da5213751af4465d61fcf5a52cd22515d400aee51118aaa1721248"
      }
    }
  },
  "nbformat": 4,
  "nbformat_minor": 0
}
