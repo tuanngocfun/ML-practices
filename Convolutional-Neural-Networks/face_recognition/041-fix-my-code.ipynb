{
 "cells": [
  {
   "cell_type": "markdown",
   "metadata": {
    "deletable": false,
    "editable": false
   },
   "source": [
    "<p>\n",
    "  <b>AI Lab: Deep Learning for Computer Vision</b><br>\n",
    "  <b><a href=\"https://www.wqu.edu/\">WorldQuant University</a></b>\n",
    "</p>"
   ]
  },
  {
   "cell_type": "markdown",
   "metadata": {
    "deletable": false,
    "editable": false
   },
   "source": [
    "<div class=\"alert alert-success\" role=\"alert\">\n",
    "  <p>\n",
    "    <center><b>Usage Guidelines</b></center>\n",
    "  </p>\n",
    "  <p>\n",
    "    This file is licensed under <a href=\"https://creativecommons.org/licenses/by-nc-nd/4.0/\">Creative Commons Attribution-NonCommercial-NoDerivatives 4.0 International</a>.\n",
    "  </p>\n",
    "  <p>\n",
    "    You <b>can</b>:\n",
    "    <ul>\n",
    "      <li><span style=\"color: green\">✓</span> Download this file</li>\n",
    "      <li><span style=\"color: green\">✓</span> Post this file in public repositories</li>\n",
    "    </ul>\n",
    "    You <b>must always</b>:\n",
    "    <ul>\n",
    "      <li><span style=\"color: green\">✓</span> Give credit to <a href=\"https://www.wqu.edu/\">WorldQuant University</a> for the creation of this file</li>\n",
    "      <li><span style=\"color: green\">✓</span> Provide a <a href=\"https://creativecommons.org/licenses/by-nc-nd/4.0/\">link to the license</a></li>\n",
    "    </ul>\n",
    "    You <b>cannot</b>:\n",
    "    <ul>\n",
    "      <li><span style=\"color: red\">✗</span> Create derivatives or adaptations of this file</li>\n",
    "      <li><span style=\"color: red\">✗</span> Use this file for commercial purposes</li>\n",
    "    </ul>\n",
    "  </p>\n",
    "  <p>\n",
    "    Failure to follow these guidelines is a violation of your terms of service and could lead to your expulsion from WorldQuant University and the revocation your certificate.\n",
    "  </p>\n",
    "</div>"
   ]
  },
  {
   "cell_type": "markdown",
   "metadata": {
    "editable": true,
    "slideshow": {
     "slide_type": ""
    },
    "tags": []
   },
   "source": [
    "# 4.1. Fix My Code! 🐞"
   ]
  },
  {
   "cell_type": "markdown",
   "metadata": {},
   "source": [
    "### Using`try-except-else` Blocks"
   ]
  },
  {
   "cell_type": "markdown",
   "metadata": {},
   "source": [
    "Let's say we have a function that tries to find a value at a specific index in a list."
   ]
  },
  {
   "cell_type": "code",
   "execution_count": 1,
   "metadata": {
    "editable": true,
    "slideshow": {
     "slide_type": ""
    },
    "tags": [
     "raises-exception"
    ]
   },
   "outputs": [
    {
     "name": "stdout",
     "output_type": "stream",
     "text": [
      "The value at index 2 is c.\n"
     ]
    },
    {
     "ename": "IndexError",
     "evalue": "list index out of range",
     "output_type": "error",
     "traceback": [
      "\u001b[0;31m---------------------------------------------------------------------------\u001b[0m",
      "\u001b[0;31mIndexError\u001b[0m                                Traceback (most recent call last)",
      "Cell \u001b[0;32mIn[1], line 7\u001b[0m\n\u001b[1;32m      3\u001b[0m     \u001b[38;5;28;01mreturn\u001b[39;00m \u001b[38;5;124mf\u001b[39m\u001b[38;5;124m\"\u001b[39m\u001b[38;5;124mThe value at index \u001b[39m\u001b[38;5;132;01m{\u001b[39;00mindex\u001b[38;5;132;01m}\u001b[39;00m\u001b[38;5;124m is \u001b[39m\u001b[38;5;132;01m{\u001b[39;00mvalue\u001b[38;5;132;01m}\u001b[39;00m\u001b[38;5;124m.\u001b[39m\u001b[38;5;124m\"\u001b[39m\n\u001b[1;32m      6\u001b[0m \u001b[38;5;28mprint\u001b[39m(lookup(my_list\u001b[38;5;241m=\u001b[39m[\u001b[38;5;124m\"\u001b[39m\u001b[38;5;124ma\u001b[39m\u001b[38;5;124m\"\u001b[39m, \u001b[38;5;124m\"\u001b[39m\u001b[38;5;124mb\u001b[39m\u001b[38;5;124m\"\u001b[39m, \u001b[38;5;124m\"\u001b[39m\u001b[38;5;124mc\u001b[39m\u001b[38;5;124m\"\u001b[39m], index\u001b[38;5;241m=\u001b[39m\u001b[38;5;241m2\u001b[39m))  \u001b[38;5;66;03m# Index in range\u001b[39;00m\n\u001b[0;32m----> 7\u001b[0m \u001b[38;5;28mprint\u001b[39m(\u001b[43mlookup\u001b[49m\u001b[43m(\u001b[49m\u001b[43mmy_list\u001b[49m\u001b[38;5;241;43m=\u001b[39;49m\u001b[43m[\u001b[49m\u001b[38;5;124;43m\"\u001b[39;49m\u001b[38;5;124;43ma\u001b[39;49m\u001b[38;5;124;43m\"\u001b[39;49m\u001b[43m,\u001b[49m\u001b[43m \u001b[49m\u001b[38;5;124;43m\"\u001b[39;49m\u001b[38;5;124;43mb\u001b[39;49m\u001b[38;5;124;43m\"\u001b[39;49m\u001b[43m,\u001b[49m\u001b[43m \u001b[49m\u001b[38;5;124;43m\"\u001b[39;49m\u001b[38;5;124;43mc\u001b[39;49m\u001b[38;5;124;43m\"\u001b[39;49m\u001b[43m]\u001b[49m\u001b[43m,\u001b[49m\u001b[43m \u001b[49m\u001b[43mindex\u001b[49m\u001b[38;5;241;43m=\u001b[39;49m\u001b[38;5;241;43m5\u001b[39;49m\u001b[43m)\u001b[49m)  \u001b[38;5;66;03m# Index out of range\u001b[39;00m\n",
      "Cell \u001b[0;32mIn[1], line 2\u001b[0m, in \u001b[0;36mlookup\u001b[0;34m(my_list, index)\u001b[0m\n\u001b[1;32m      1\u001b[0m \u001b[38;5;28;01mdef\u001b[39;00m \u001b[38;5;21mlookup\u001b[39m(my_list, index):\n\u001b[0;32m----> 2\u001b[0m     value \u001b[38;5;241m=\u001b[39m \u001b[43mmy_list\u001b[49m\u001b[43m[\u001b[49m\u001b[43mindex\u001b[49m\u001b[43m]\u001b[49m\n\u001b[1;32m      3\u001b[0m     \u001b[38;5;28;01mreturn\u001b[39;00m \u001b[38;5;124mf\u001b[39m\u001b[38;5;124m\"\u001b[39m\u001b[38;5;124mThe value at index \u001b[39m\u001b[38;5;132;01m{\u001b[39;00mindex\u001b[38;5;132;01m}\u001b[39;00m\u001b[38;5;124m is \u001b[39m\u001b[38;5;132;01m{\u001b[39;00mvalue\u001b[38;5;132;01m}\u001b[39;00m\u001b[38;5;124m.\u001b[39m\u001b[38;5;124m\"\u001b[39m\n",
      "\u001b[0;31mIndexError\u001b[0m: list index out of range"
     ]
    }
   ],
   "source": [
    "def lookup(my_list, index):\n",
    "    value = my_list[index]\n",
    "    return f\"The value at index {index} is {value}.\"\n",
    "\n",
    "\n",
    "print(lookup(my_list=[\"a\", \"b\", \"c\"], index=2))  # Index in range\n",
    "print(lookup(my_list=[\"a\", \"b\", \"c\"], index=5))  # Index out of range"
   ]
  },
  {
   "cell_type": "markdown",
   "metadata": {
    "editable": true,
    "slideshow": {
     "slide_type": ""
    },
    "tags": []
   },
   "source": [
    "This code raises an `IndexError` when an index is out of range. However, there may be situations where we want our program to handle this error gracefully and continue running, rather than stopping with an exception. \n",
    "\n",
    "One way to do this is by using `try-except-else` blocks. These blocks allow our program to attempt potentially error-prone operations and handle exceptions if they occur, thus enabling the code to continue executing. A `try` block attempts to execute potentially error-prone code. An `except` block specifies how to handle a particular type of exception if it occurs. An optional `else` block can be added to run code only if no exceptions were raised in the `try` block.\n",
    "\n",
    "Below is an example demonstrating this approach, using similar logic to the previous example but implemented with `try-except-else` blocks:"
   ]
  },
  {
   "cell_type": "code",
   "execution_count": 2,
   "metadata": {},
   "outputs": [
    {
     "name": "stdout",
     "output_type": "stream",
     "text": [
      "The value at index 2 is c.\n",
      "Error: Index out of range.\n"
     ]
    }
   ],
   "source": [
    "def lookup(my_list, index):\n",
    "    try:\n",
    "        value = my_list[index]\n",
    "    except IndexError:\n",
    "        return \"Error: Index out of range.\"\n",
    "    else:\n",
    "        return f\"The value at index {index} is {value}.\"\n",
    "\n",
    "\n",
    "print(lookup(my_list=[\"a\", \"b\", \"c\"], index=2))  # Index in range\n",
    "print(lookup(my_list=[\"a\", \"b\", \"c\"], index=5))  # Index out of range"
   ]
  },
  {
   "cell_type": "markdown",
   "metadata": {},
   "source": [
    "Now is your chance to improve code to be more fault-tolerant."
   ]
  },
  {
   "cell_type": "markdown",
   "metadata": {},
   "source": [
    "**Task 4.1.1:** Fix `divide_numbers` by adding `try-except-else` blocks."
   ]
  },
  {
   "cell_type": "code",
   "execution_count": 3,
   "metadata": {},
   "outputs": [
    {
     "name": "stdout",
     "output_type": "stream",
     "text": [
      "The result of 10 divided by 2 is 5.0.\n",
      "Error: Cannot divide by zero.\n"
     ]
    }
   ],
   "source": [
    "def divide_numbers(numerator, denominator):\n",
    "    try:\n",
    "        result = numerator / denominator\n",
    "    except ZeroDivisionError:\n",
    "        return \"Error: Cannot divide by zero.\"\n",
    "    else:\n",
    "        return f\"The result of {numerator} divided by {denominator} is {result}.\"\n",
    "\n",
    "\n",
    "\n",
    "print(divide_numbers(numerator=10, denominator=2))  # Valid division\n",
    "print(divide_numbers(numerator=10, denominator=0))  # Division by zero"
   ]
  },
  {
   "cell_type": "markdown",
   "metadata": {},
   "source": [
    "**Task 4.1.2:** Fix `find_user_name` by adding `try-except-else` blocks."
   ]
  },
  {
   "cell_type": "code",
   "execution_count": 5,
   "metadata": {},
   "outputs": [
    {
     "name": "stdout",
     "output_type": "stream",
     "text": [
      "User ID 654 corresponds to Fatou Diop.\n",
      "Error: User ID 999 not found.\n"
     ]
    }
   ],
   "source": [
    "users = {\n",
    "    342: \"Kwame Nkrumah\",\n",
    "    102: \"Nguyen Thi Linh\",\n",
    "    423: \"Muhammad bin Abdullah\",\n",
    "    654: \"Fatou Diop\",\n",
    "    976: \"Diana Martinez\",\n",
    "}\n",
    "\n",
    "\n",
    "def find_user_name(user_id, users):\n",
    "    try:\n",
    "        user_name = users[user_id]\n",
    "    except KeyError:\n",
    "        return f\"Error: User ID {user_id} not found.\"\n",
    "    else:\n",
    "        return f\"User ID {user_id} corresponds to {user_name}.\"\n",
    "\n",
    "print(find_user_name(user_id=654, users=users))\n",
    "print(find_user_name(user_id=999, users=users))"
   ]
  },
  {
   "cell_type": "markdown",
   "metadata": {},
   "source": [
    "### Tuple Unpacking To Handle Variable Outputs"
   ]
  },
  {
   "cell_type": "markdown",
   "metadata": {},
   "source": [
    "Below is a function that sometimes returns two values and other times returns three values. "
   ]
  },
  {
   "cell_type": "code",
   "execution_count": 7,
   "metadata": {
    "editable": true,
    "slideshow": {
     "slide_type": ""
    },
    "tags": [
     "skip-flake8"
    ]
   },
   "outputs": [],
   "source": [
    "import random"
   ]
  },
  {
   "cell_type": "code",
   "execution_count": 8,
   "metadata": {
    "editable": true,
    "slideshow": {
     "slide_type": ""
    },
    "tags": [
     "raises-exception",
     "skip-flake8"
    ]
   },
   "outputs": [
    {
     "name": "stdout",
     "output_type": "stream",
     "text": [
      "Calling the function for the 1th time\n"
     ]
    },
    {
     "ename": "ValueError",
     "evalue": "too many values to unpack (expected 2)",
     "output_type": "error",
     "traceback": [
      "\u001b[0;31m---------------------------------------------------------------------------\u001b[0m",
      "\u001b[0;31mValueError\u001b[0m                                Traceback (most recent call last)",
      "Cell \u001b[0;32mIn[8], line 10\u001b[0m\n\u001b[1;32m      8\u001b[0m \u001b[38;5;28;01mfor\u001b[39;00m n \u001b[38;5;129;01min\u001b[39;00m \u001b[38;5;28mrange\u001b[39m(\u001b[38;5;241m1\u001b[39m, \u001b[38;5;241m11\u001b[39m):\n\u001b[1;32m      9\u001b[0m     \u001b[38;5;28mprint\u001b[39m(\u001b[38;5;124mf\u001b[39m\u001b[38;5;124m\"\u001b[39m\u001b[38;5;124mCalling the function for the \u001b[39m\u001b[38;5;132;01m{\u001b[39;00mn\u001b[38;5;132;01m}\u001b[39;00m\u001b[38;5;124mth time\u001b[39m\u001b[38;5;124m\"\u001b[39m)\n\u001b[0;32m---> 10\u001b[0m     first, second \u001b[38;5;241m=\u001b[39m unpredictable_function()\n\u001b[1;32m     11\u001b[0m     \u001b[38;5;28mprint\u001b[39m(\u001b[38;5;124mf\u001b[39m\u001b[38;5;124m\"\u001b[39m\u001b[38;5;124m    First item: \u001b[39m\u001b[38;5;132;01m{\u001b[39;00mfirst\u001b[38;5;132;01m}\u001b[39;00m\u001b[38;5;124m\"\u001b[39m)\n\u001b[1;32m     12\u001b[0m     \u001b[38;5;28mprint\u001b[39m(\u001b[38;5;124mf\u001b[39m\u001b[38;5;124m\"\u001b[39m\u001b[38;5;124m    Second item: \u001b[39m\u001b[38;5;132;01m{\u001b[39;00msecond\u001b[38;5;132;01m}\u001b[39;00m\u001b[38;5;124m\"\u001b[39m)\n",
      "\u001b[0;31mValueError\u001b[0m: too many values to unpack (expected 2)"
     ]
    }
   ],
   "source": [
    "def unpredictable_function():\n",
    "    if random.choice([True, False]):\n",
    "        return (1, 2)\n",
    "    else:\n",
    "        return (1, 2, 3)\n",
    "\n",
    "\n",
    "for n in range(1, 11):\n",
    "    print(f\"Calling the function for the {n}th time\")\n",
    "    first, second = unpredictable_function()\n",
    "    print(f\"    First item: {first}\")\n",
    "    print(f\"    Second item: {second}\")"
   ]
  },
  {
   "cell_type": "markdown",
   "metadata": {},
   "source": [
    "This code raises a `ValueError`, which occurs when there are too many values to unpack.\n",
    "\n",
    "We sometimes work with code that we cannot modify, such as when using a third-party library or calling an API. As software developers, it's our responsibility to write fault-tolerant code that can handle a variable number of outputs from that type of code.\n",
    "\n",
    "Below is an example of using Python's tuple unpacking with `*` to manage a variable number of outputs. In tuple unpacking, you can prefix a variable name with an asterisk `*` to collect any remaining elements into a list. This is often called \"star unpacking\" or \"extended unpacking\". You can see that below with the variable `*rest`."
   ]
  },
  {
   "cell_type": "code",
   "execution_count": 9,
   "metadata": {
    "editable": true,
    "slideshow": {
     "slide_type": ""
    },
    "tags": [
     "skip-flake8"
    ]
   },
   "outputs": [
    {
     "name": "stdout",
     "output_type": "stream",
     "text": [
      "Calling the function for the 1th time\n",
      "    First item: 1\n",
      "    Second item: 2\n",
      "    No third item present\n",
      "Calling the function for the 2th time\n",
      "    First item: 1\n",
      "    Second item: 2\n",
      "    No third item present\n",
      "Calling the function for the 3th time\n",
      "    First item: 1\n",
      "    Second item: 2\n",
      "    No third item present\n",
      "Calling the function for the 4th time\n",
      "    First item: 1\n",
      "    Second item: 2\n",
      "    No third item present\n",
      "Calling the function for the 5th time\n",
      "    First item: 1\n",
      "    Second item: 2\n",
      "    Third item: 3\n",
      "Calling the function for the 6th time\n",
      "    First item: 1\n",
      "    Second item: 2\n",
      "    No third item present\n",
      "Calling the function for the 7th time\n",
      "    First item: 1\n",
      "    Second item: 2\n",
      "    Third item: 3\n",
      "Calling the function for the 8th time\n",
      "    First item: 1\n",
      "    Second item: 2\n",
      "    No third item present\n",
      "Calling the function for the 9th time\n",
      "    First item: 1\n",
      "    Second item: 2\n",
      "    Third item: 3\n",
      "Calling the function for the 10th time\n",
      "    First item: 1\n",
      "    Second item: 2\n",
      "    No third item present\n"
     ]
    }
   ],
   "source": [
    "for n in range(1, 11):\n",
    "    print(f\"Calling the function for the {n}th time\")\n",
    "    # Python tuple unpacking with * has been added on the left-hand side\n",
    "    first, second, *rest = unpredictable_function()\n",
    "\n",
    "    # Handle the common case (always present)\n",
    "    print(f\"    First item: {first}\")\n",
    "    print(f\"    Second item: {second}\")\n",
    "\n",
    "    # Check if there's a third item\n",
    "    if rest:\n",
    "        print(f\"    Third item: {rest[0]}\")\n",
    "    else:\n",
    "        print(\"    No third item present\")"
   ]
  },
  {
   "cell_type": "markdown",
   "metadata": {
    "editable": true,
    "slideshow": {
     "slide_type": ""
    },
    "tags": []
   },
   "source": [
    "Now it's your turn. Here is a `students` dictionary and a `get_student_info` function. The `get_student_info` function will return a list of just the values for a given entry. For `\"Aisha\"`, the function will return `[18, 'Pass']`. For `\"Carlos\"`, the function will return `[35]`. Use tuple unpacking to handle the output from a function that sometimes returns one item and other times returns two items. "
   ]
  },
  {
   "cell_type": "code",
   "execution_count": 10,
   "metadata": {},
   "outputs": [],
   "source": [
    "students = {\n",
    "    \"Aisha\": {\"age\": 18, \"grade\": \"Pass\"},\n",
    "    \"Carlos\": {\"age\": 35},\n",
    "    \"Li Wei\": {\"age\": 22, \"grade\": \"Fail\"},\n",
    "    \"Fatima\": {\"age\": 27},\n",
    "    \"Yuki\": {\"age\": 51, \"grade\": \"Pass\"},\n",
    "}\n",
    "\n",
    "\n",
    "def get_student_info(student_name, students):\n",
    "    student_info = students[student_name]\n",
    "    return list(student_info.values())"
   ]
  },
  {
   "cell_type": "markdown",
   "metadata": {},
   "source": [
    "**Task 4.1.3:** Fix `print_student_info` by adding tuple unpacking `*`. Assume you can't modify `students` or `get_student_info`."
   ]
  },
  {
   "cell_type": "code",
   "execution_count": 11,
   "metadata": {},
   "outputs": [
    {
     "name": "stdout",
     "output_type": "stream",
     "text": [
      "Aisha is 18 years old.\n",
      "Aisha earned a ['Pass'].\n",
      "Carlos is 35 years old.\n"
     ]
    }
   ],
   "source": [
    "def print_student_info(student_name, students):\n",
    "    age, *grade = get_student_info(student_name, students)\n",
    "    \n",
    "    print(f\"{student_name} is {age} years old.\")\n",
    "    if grade:\n",
    "        print(f\"{student_name} earned a {grade}.\")\n",
    "\n",
    "\n",
    "print_student_info(student_name=\"Aisha\", students=students)\n",
    "print_student_info(student_name=\"Carlos\", students=students)"
   ]
  },
  {
   "cell_type": "markdown",
   "metadata": {},
   "source": [
    "To recap, we've explored how to write fault-tolerant Python code using `try-except-else` blocks and tuple unpacking. `try-except-else` blocks allow us to gracefully handle errors ensuring our programs don't crash unexpectedly. Tuple unpacking with `*` helps manage functions with variable outputs, enabling our code to seamlessly adapt to different scenarios."
   ]
  },
  {
   "cell_type": "markdown",
   "metadata": {
    "deletable": false,
    "editable": false
   },
   "source": [
    "---\n",
    "This file &#169; 2024 by [WorldQuant University](https://www.wqu.edu/) is licensed under [CC BY-NC-ND 4.0](https://creativecommons.org/licenses/by-nc-nd/4.0/)."
   ]
  }
 ],
 "metadata": {
  "kernelspec": {
   "display_name": "Python 3 (ipykernel)",
   "language": "python",
   "name": "python3"
  },
  "language_info": {
   "codemirror_mode": {
    "name": "ipython",
    "version": 3
   },
   "file_extension": ".py",
   "mimetype": "text/x-python",
   "name": "python",
   "nbconvert_exporter": "python",
   "pygments_lexer": "ipython3",
   "version": "3.11.0"
  },
  "widgets": {
   "application/vnd.jupyter.widget-state+json": {
    "state": {},
    "version_major": 2,
    "version_minor": 0
   }
  }
 },
 "nbformat": 4,
 "nbformat_minor": 4
}
