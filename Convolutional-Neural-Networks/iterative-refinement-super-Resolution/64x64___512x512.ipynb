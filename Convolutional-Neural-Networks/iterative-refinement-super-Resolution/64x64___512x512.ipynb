{
  "nbformat": 4,
  "nbformat_minor": 0,
  "metadata": {
    "colab": {
      "private_outputs": true,
      "provenance": []
    },
    "kernelspec": {
      "name": "python3",
      "display_name": "Python 3"
    },
    "language_info": {
      "name": "python"
    },
    "accelerator": "GPU"
  },
  "cells": [
    {
      "cell_type": "markdown",
      "metadata": {
        "id": "EFO7DMo0bNhm"
      },
      "source": [
        "# **Image Super-Resolution**\n",
        "**64x64 -> 512x512**\n",
        "\n",
        "A colab notebook for upscaling 64x64 images to 512x512, using [this](https://github.com/Janspiry/Image-Super-Resolution-via-Iterative-Refinement).\n"
      ]
    },
    {
      "cell_type": "markdown",
      "metadata": {
        "id": "_YpW_YQQaa8U"
      },
      "source": [
        "## Setup\n",
        "---\n",
        "Instructions:\n",
        "\n",
        "*   Turn on hardware acceleration under `Runtime -> Change Runtime Type -> Hardware accelerator -> GPU`\n",
        "*   Use this command to ensure that the connected machine has a GPU:"
      ]
    },
    {
      "cell_type": "code",
      "metadata": {
        "id": "kWHYjb8WanA3"
      },
      "source": [
        "!nvidia-smi --query-gpu=gpu_name,driver_version,memory.total --format=csv"
      ],
      "execution_count": null,
      "outputs": []
    },
    {
      "cell_type": "markdown",
      "metadata": {
        "id": "EcKEMsB4b3IB"
      },
      "source": [
        "*    Now, execute each cell sequentially, waiting until each one is done before running the next cell.\n"
      ]
    },
    {
      "cell_type": "markdown",
      "metadata": {
        "id": "sxwQpOG8cXHx"
      },
      "source": [
        "### Clone repo, download a pre-trained model, install dependencies.\n"
      ]
    },
    {
      "cell_type": "code",
      "metadata": {
        "id": "1wZutZK1hPJp"
      },
      "source": [
        "%cd /content/\n",
        "!git clone https://github.com/Janspiry/Image-Super-Resolution-via-Iterative-Refinement.git\n",
        "!pip install tensorboardx"
      ],
      "execution_count": null,
      "outputs": []
    },
    {
      "cell_type": "markdown",
      "metadata": {
        "id": "QHqLHR4gw_tU"
      },
      "source": [
        "**NOTE: The `gdown` command does not always work.** If it gives you an error, as a temporary workaround, you must manually upload files for the pre-trained model. Download the files [here](https://drive.google.com/drive/folders/1mCiWhFqHyjt5zE4IdA41fjFwCYdqDzSF) (you may have to log into your google account to be able to do so). Then, click the `files` button on the left hand side of the screen, and find the folder labled `Image-Super-Resolution-via-Iterative-Refinement`. Click the three dots on the right of the folder, and click `upload`. Now, select the model files that you downloaded.\n",
        "\n",
        "**ALTERNATIVELY: if you plan to use this script frequently, you can make a copy of the model files in your own google drive.** Go [here](https://drive.google.com/drive/folders/1mCiWhFqHyjt5zE4IdA41fjFwCYdqDzSF), right click on each file, and hit `Make a copy`. Next, locate the files in your own google drive, and rename them from `Copy of I830000_E32_opt.pth` and `Copy of I830000_E32_gen.pth` to `I830000_E32_opt.pth` and `I830000_E32_gen.pth`. Next, right click on each file, and hit `Get link`. Click on `Restricted`, and change it to `Anyone with the link...`, as `Viewer`. Now, copy the links. They should look something like this: `https://drive.google.com/file/d/<file id>/view?usp=sharing` - copy the ids, and paste them into the `gdown` commands below.  \n",
        "\n",
        "For some reason, the model files are getting rate limited at times. This will hopefully be fixed in the future."
      ]
    },
    {
      "cell_type": "code",
      "metadata": {
        "id": "SproHDsaMRyf"
      },
      "source": [
        "%cd /content/Image-Super-Resolution-via-Iterative-Refinement/\n",
        "!gdown --id 1M015uQG8cq0mqwhEfc7klFJwDr2jsYSr\n",
        "!gdown --id 1Vwe1Raa-Dpop75o5v7O5qvGoOdFDlyc-\n",
        "%cd /content/Image-Super-Resolution-via-Iterative-Refinement/config/"
      ],
      "execution_count": null,
      "outputs": []
    },
    {
      "cell_type": "markdown",
      "metadata": {
        "id": "fx9_SzGrcvqt"
      },
      "source": [
        "### Patch config files\n",
        "\n",
        "Create patchfile\n",
        "\n"
      ]
    },
    {
      "cell_type": "code",
      "metadata": {
        "id": "W_Sv8UJu0d5i"
      },
      "source": [
        "%%writefile 64_512.patch\n",
        "--- sr_sr3_64_512_new.json\t2021-10-22 16:20:20.901133618 +0000\n",
        "+++ sr_sr3_64_512.json\t2021-10-22 16:20:52.036081672 +0000\n",
        "@@ -9,8 +9,8 @@\n",
        "         \"tb_logger\": \"tb_logger\",\n",
        "         \"results\": \"results\",\n",
        "         \"checkpoint\": \"checkpoint\",\n",
        "-        \"resume_state\": null\n",
        "-        // \"resume_state\": \"experiments/distributed_high_sr_ffhq_210901_121212/checkpoint/I830000_E32\" //pretrain model or training state\n",
        "+        // \"resume_state\": null\n",
        "+        \"resume_state\": \"I830000_E32\" //pretrain model or training state\n",
        "     },\n",
        "     \"datasets\": {\n",
        "         \"train\": {\n",
        "\n"
      ],
      "execution_count": null,
      "outputs": []
    },
    {
      "cell_type": "markdown",
      "metadata": {
        "id": "Ix9vWlDmc8zu"
      },
      "source": [
        "Apply patchfile"
      ]
    },
    {
      "cell_type": "code",
      "metadata": {
        "id": "tvA6tCTk5N8d"
      },
      "source": [
        "!apt-get install dos2unix\n",
        "!dos2unix sr_sr3_64_512.json\n",
        "!patch < 64_512.patch"
      ],
      "execution_count": null,
      "outputs": []
    },
    {
      "cell_type": "markdown",
      "metadata": {
        "id": "LYpuGLzAdSi6"
      },
      "source": [
        "### Prepair Data\n",
        "Upload 64x64 pixel image(s) to be upscaled\n",
        "\n",
        "*Click the **browse** button and select the images you would like to upscale.*\n",
        "\n"
      ]
    },
    {
      "cell_type": "code",
      "metadata": {
        "id": "waO5ob8n-EWE"
      },
      "source": [
        "%cd /content/Image-Super-Resolution-via-Iterative-Refinement/\n",
        "!mkdir -p input\n",
        "%cd /content/Image-Super-Resolution-via-Iterative-Refinement/input/\n",
        "from google.colab import files\n",
        "\n",
        "uploaded = files.upload()\n",
        "\n",
        "for fn in uploaded.keys():\n",
        "  savefile = open(fn, 'wb')\n",
        "  savefile.write(uploaded[fn])\n",
        "  print('Successfully uploaded \"{}\" ({} bytes).'.format(fn, len(uploaded[fn])))\n",
        "  savefile.close()"
      ],
      "execution_count": null,
      "outputs": []
    },
    {
      "cell_type": "markdown",
      "metadata": {
        "id": "aEOiBK5ldm1M"
      },
      "source": [
        "Generate neccesary files and directory structure to begin upscaling.  "
      ]
    },
    {
      "cell_type": "code",
      "source": [
        "!pip install lmdb"
      ],
      "metadata": {
        "id": "M-qTUXoUxqHO"
      },
      "execution_count": null,
      "outputs": []
    },
    {
      "cell_type": "code",
      "metadata": {
        "id": "3GNfEu9gsseU"
      },
      "source": [
        "%cd /content/Image-Super-Resolution-via-Iterative-Refinement/\n",
        "!python data/prepare_data.py --path /content/Image-Super-Resolution-via-Iterative-Refinement/input/ --size 64,512 --out ./dataset/celebahq"
      ],
      "execution_count": null,
      "outputs": []
    },
    {
      "cell_type": "markdown",
      "metadata": {
        "id": "CsF6C2sgeuyq"
      },
      "source": [
        "## Upscaling\n",
        "---\n",
        "Note that this may take ~30 minutes or more, depending on which GPU you get.\n",
        "\n",
        "Output images will be located under ./experiments/\\<some folder\\>/results"
      ]
    },
    {
      "cell_type": "code",
      "metadata": {
        "id": "nUS4C0ZYc578"
      },
      "source": [
        "!python infer.py -c /content/Image-Super-Resolution-via-Iterative-Refinement/config/sr_sr3_64_512.json"
      ],
      "execution_count": null,
      "outputs": []
    },
    {
      "cell_type": "code",
      "source": [],
      "metadata": {
        "id": "1TJ5WhyaEVyX"
      },
      "execution_count": null,
      "outputs": []
    }
  ]
}