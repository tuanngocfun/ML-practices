{
  "cells": [
    {
      "cell_type": "markdown",
      "metadata": {
        "id": "NXTSugt6ieXh"
      },
      "source": [
        "## Training CBoW Model\n",
        "\n",
        "This notebooks is a part of [AI for Beginners Curriculum](http://aka.ms/ai-beginners)\n",
        "\n",
        "In this example, we will look at training CBoW language model to get our own Word2Vec embedding space. We will use AG News dataset as the source of text."
      ]
    },
    {
      "cell_type": "code",
      "execution_count": 1,
      "metadata": {
        "id": "q-UiiJUKaxHj"
      },
      "outputs": [],
      "source": [
        "import torch\n",
        "import torchtext\n",
        "import os\n",
        "import collections\n",
        "import builtins\n",
        "import random\n",
        "import numpy as np"
      ]
    },
    {
      "cell_type": "code",
      "execution_count": 2,
      "metadata": {
        "id": "TFbR8CZaTZ1q"
      },
      "outputs": [],
      "source": [
        "device = torch.device(\"cuda\" if torch.cuda.is_available() else \"cpu\")"
      ]
    },
    {
      "cell_type": "markdown",
      "metadata": {
        "id": "HIwC7lI5T-ov"
      },
      "source": [
        "First let's load our dataset and define tokenizer and vocabulary. We will set `vocab_size` to 5000 to limit computations a bit."
      ]
    },
    {
      "cell_type": "code",
      "execution_count": 3,
      "metadata": {
        "id": "wdZuygtgiuLG"
      },
      "outputs": [],
      "source": [
        "def load_dataset(ngrams = 1, min_freq = 1, vocab_size = 5000 , lines_cnt = 500):\n",
        "    tokenizer = torchtext.data.utils.get_tokenizer('basic_english')\n",
        "    print(\"Loading dataset...\")\n",
        "    test_dataset, train_dataset  = torchtext.datasets.AG_NEWS(root='./data')\n",
        "    train_dataset = list(train_dataset)\n",
        "    test_dataset = list(test_dataset)\n",
        "    classes = ['World', 'Sports', 'Business', 'Sci/Tech']\n",
        "    print('Building vocab...')\n",
        "    counter = collections.Counter()\n",
        "    for i, (_, line) in enumerate(train_dataset):\n",
        "        counter.update(torchtext.data.utils.ngrams_iterator(tokenizer(line),ngrams=ngrams))\n",
        "        if i == lines_cnt:\n",
        "            break\n",
        "    vocab = torchtext.vocab.Vocab(collections.Counter(dict(counter.most_common(vocab_size))), min_freq=min_freq)\n",
        "    return train_dataset, test_dataset, classes, vocab, tokenizer"
      ]
    },
    {
      "cell_type": "code",
      "execution_count": 21,
      "metadata": {},
      "outputs": [
        {
          "name": "stdout",
          "output_type": "stream",
          "text": [
            "Loading dataset...\n",
            "Building vocab...\n"
          ]
        }
      ],
      "source": [
        "import torchtext\n",
        "from torchtext.data.utils import get_tokenizer\n",
        "from torchtext.vocab import build_vocab_from_iterator\n",
        "import collections\n",
        "\n",
        "def load_dataset(ngrams=1, min_freq=1, vocab_size=5000, lines_cnt=500):\n",
        "    tokenizer = get_tokenizer('basic_english')\n",
        "    print(\"Loading dataset...\")\n",
        "    train_dataset, test_dataset = torchtext.datasets.AG_NEWS(root='./data')\n",
        "    train_dataset = list(train_dataset)\n",
        "    test_dataset = list(test_dataset)\n",
        "    classes = ['World', 'Sports', 'Business', 'Sci/Tech']\n",
        "    print('Building vocab...')\n",
        "\n",
        "    # Build the counter\n",
        "    def yield_tokens(data_iter):\n",
        "        for _, text in data_iter:\n",
        "            yield torchtext.data.utils.ngrams_iterator(tokenizer(text), ngrams=ngrams)\n",
        "\n",
        "    vocab = build_vocab_from_iterator(yield_tokens(train_dataset[:lines_cnt]),\n",
        "                                      min_freq=min_freq,\n",
        "                                      specials=[\"<unk>\"])\n",
        "    vocab.set_default_index(vocab[\"<unk>\"])\n",
        "\n",
        "    return train_dataset, test_dataset, classes, vocab, tokenizer\n",
        "\n",
        "train_dataset, test_dataset, _, vocab, tokenizer = load_dataset()"
      ]
    },
    {
      "cell_type": "code",
      "execution_count": 6,
      "metadata": {
        "colab": {
          "base_uri": "https://localhost:8080/"
        },
        "id": "4d1nU1gsivGu",
        "outputId": "949fe272-ae0e-49f5-c373-6703458b3a74"
      },
      "outputs": [
        {
          "name": "stdout",
          "output_type": "stream",
          "text": [
            "Loading dataset...\n"
          ]
        },
        {
          "name": "stdout",
          "output_type": "stream",
          "text": [
            "Building vocab...\n"
          ]
        }
      ],
      "source": [
        "train_dataset, test_dataset, _, vocab, tokenizer = load_dataset()"
      ]
    },
    {
      "cell_type": "markdown",
      "metadata": {},
      "source": [
        "check vocab"
      ]
    },
    {
      "cell_type": "code",
      "execution_count": 19,
      "metadata": {},
      "outputs": [
        {
          "data": {
            "text/plain": [
              "Vocab()"
            ]
          },
          "execution_count": 19,
          "metadata": {},
          "output_type": "execute_result"
        }
      ],
      "source": [
        "toch"
      ]
    },
    {
      "cell_type": "code",
      "execution_count": 26,
      "metadata": {
        "id": "1XDYNhG8ToFV"
      },
      "outputs": [],
      "source": [
        "def encode(x, vocabulary, tokenizer = tokenizer):\n",
        "    return [vocabulary[s] for s in tokenizer(x)]"
      ]
    },
    {
      "cell_type": "markdown",
      "metadata": {
        "id": "LIlQk6_PaHVY"
      },
      "source": [
        "## CBoW Model\n",
        "\n",
        "CBoW learns to predict a word based on the $2N$ neighboring words. For example, when $N=1$, we will get the following pairs from the sentence *I like to train networks*: (like,I), (I, like), (to, like), (like,to), (train,to), (to, train), (networks, train), (train,networks). Here, first word is the neighboring word used as an input, and second word is the one we are predicting.\n",
        "\n",
        "To build a network to predict next word, we will need to supply neighboring word as input, and get word number as output. The architecture of CBoW network is the following:\n",
        "\n",
        "* Input word is passed through the embedding layer. This very embedding layer would be our Word2Vec embedding, thus we will define it separately as `embedder` variable. We will use embedding size = 30 in this example, even though you might want to experiment with higher dimensions (real word2vec has 300)\n",
        "* Embedding vector would then be passed to a linear layer that will predict output word. Thus it has the `vocab_size` neurons.\n",
        "\n",
        "For the output, if we use `CrossEntropyLoss` as loss function, we would also have to provide just word numbers as expected results, without one-hot encoding."
      ]
    },
    {
      "cell_type": "code",
      "execution_count": 27,
      "metadata": {
        "colab": {
          "base_uri": "https://localhost:8080/"
        },
        "id": "akKTcKQKkfl2",
        "outputId": "da687e3e-a8ec-4c1a-e456-ab8cd6ac7dad"
      },
      "outputs": [
        {
          "name": "stdout",
          "output_type": "stream",
          "text": [
            "Sequential(\n",
            "  (0): Embedding(5702, 30)\n",
            "  (1): Linear(in_features=30, out_features=5702, bias=True)\n",
            ")\n"
          ]
        }
      ],
      "source": [
        "vocab_size = len(vocab)\n",
        "\n",
        "embedder = torch.nn.Embedding(num_embeddings = vocab_size, embedding_dim = 30)\n",
        "model = torch.nn.Sequential(\n",
        "    embedder,\n",
        "    torch.nn.Linear(in_features = 30, out_features = vocab_size),\n",
        ")\n",
        "\n",
        "print(model)"
      ]
    },
    {
      "cell_type": "markdown",
      "metadata": {
        "id": "Nud6jgGPaHVa"
      },
      "source": [
        "## Preparing Training Data\n",
        "\n",
        "Now let's program the main function that will compute CBoW word pairs from text. This function will allow us to specify window size, and will return a set of pairs - input and output word. Note that this function can be used on words, as well as on vectors/tensors - which will allow us to encode the text, before passing it to `to_cbow` function."
      ]
    },
    {
      "cell_type": "code",
      "execution_count": 28,
      "metadata": {
        "colab": {
          "base_uri": "https://localhost:8080/"
        },
        "id": "x-dsXygOieXn",
        "outputId": "c2218280-e540-40ba-9546-efe48d0d714f"
      },
      "outputs": [
        {
          "name": "stdout",
          "output_type": "stream",
          "text": [
            "[['like', 'I'], ['to', 'I'], ['I', 'like'], ['to', 'like'], ['train', 'like'], ['I', 'to'], ['like', 'to'], ['train', 'to'], ['networks', 'to'], ['like', 'train'], ['to', 'train'], ['networks', 'train'], ['to', 'networks'], ['train', 'networks']]\n",
            "[[91, 60], [5, 60], [60, 91], [5, 91], [0, 91], [60, 5], [91, 5], [0, 5], [2063, 5], [91, 0], [5, 0], [2063, 0], [5, 2063], [0, 2063]]\n"
          ]
        }
      ],
      "source": [
        "def to_cbow(sent,window_size=2):\n",
        "    res = []\n",
        "    for i,x in enumerate(sent):\n",
        "        for j in range(max(0,i-window_size),min(i+window_size+1,len(sent))):\n",
        "            if i!=j:\n",
        "                res.append([sent[j],x])\n",
        "    return res\n",
        "\n",
        "print(to_cbow(['I','like','to','train','networks']))\n",
        "print(to_cbow(encode('I like to train networks', vocab)))"
      ]
    },
    {
      "cell_type": "markdown",
      "metadata": {
        "id": "XVaaDLjaaHVb"
      },
      "source": [
        "Let's prepare the training dataset. We will go through all news, call `to_cbow` to get the list of word pairs, and add those pairs to `X` and `Y`. For the sake of time, we will only consider first 10k news items - you can easily remove the limitation in case you have more time to wait, and want to get better embeddings :)"
      ]
    },
    {
      "cell_type": "code",
      "execution_count": 29,
      "metadata": {
        "id": "54b-Gd9TieXo"
      },
      "outputs": [],
      "source": [
        "X = []\n",
        "Y = []\n",
        "for i, x in zip(range(10000), train_dataset):\n",
        "    for w1, w2 in to_cbow(encode(x[1], vocab), window_size = 5):\n",
        "        X.append(w1)\n",
        "        Y.append(w2)\n",
        "\n",
        "X = torch.tensor(X)\n",
        "Y = torch.tensor(Y)"
      ]
    },
    {
      "cell_type": "markdown",
      "metadata": {
        "id": "cwWy0PzXWhN5"
      },
      "source": [
        "We will also convert that data to one dataset, and create dataloader:"
      ]
    },
    {
      "cell_type": "code",
      "execution_count": 30,
      "metadata": {
        "id": "mfoAcGPFZU8p"
      },
      "outputs": [],
      "source": [
        "class SimpleIterableDataset(torch.utils.data.IterableDataset):\n",
        "    def __init__(self, X, Y):\n",
        "        super(SimpleIterableDataset).__init__()\n",
        "        self.data = []\n",
        "        for i in range(len(X)):\n",
        "            self.data.append( (Y[i], X[i]) )\n",
        "        random.shuffle(self.data)\n",
        "\n",
        "    def __iter__(self):\n",
        "        return iter(self.data)"
      ]
    },
    {
      "cell_type": "markdown",
      "metadata": {
        "id": "e4NQ_-5waHVc"
      },
      "source": [
        "We will also convert that data to one dataset, and create dataloader:"
      ]
    },
    {
      "cell_type": "code",
      "execution_count": 31,
      "metadata": {
        "id": "AbLUcojlieXo"
      },
      "outputs": [],
      "source": [
        "ds = SimpleIterableDataset(X, Y)\n",
        "dl = torch.utils.data.DataLoader(ds, batch_size = 256)"
      ]
    },
    {
      "cell_type": "markdown",
      "metadata": {
        "id": "pKQr7sXeaHVc"
      },
      "source": [
        "Now let's do the actual training. We will use `SGD` optimizer with pretty high learning rate. You can also try playing around with other optimizers, such as `Adam`. We will train for 10 epochs to begin with - and you can re-run this cell if you want even lower loss."
      ]
    },
    {
      "cell_type": "code",
      "execution_count": 32,
      "metadata": {
        "id": "HeeCYKr_KF1w"
      },
      "outputs": [],
      "source": [
        "def train_epoch(net, dataloader, lr = 0.01, optimizer = None, loss_fn = torch.nn.CrossEntropyLoss(), epochs = None, report_freq = 1):\n",
        "    optimizer = optimizer or torch.optim.Adam(net.parameters(), lr = lr)\n",
        "    loss_fn = loss_fn.to(device)\n",
        "    net.train()\n",
        "\n",
        "    for i in range(epochs):\n",
        "        total_loss, j = 0, 0, \n",
        "        for labels, features in dataloader:\n",
        "            optimizer.zero_grad()\n",
        "            features, labels = features.to(device), labels.to(device)\n",
        "            out = net(features)\n",
        "            loss = loss_fn(out, labels)\n",
        "            loss.backward()\n",
        "            optimizer.step()\n",
        "            total_loss += loss\n",
        "            j += 1\n",
        "        if i % report_freq == 0:\n",
        "            print(f\"Epoch: {i+1}: loss={total_loss.item()/j}\")\n",
        "\n",
        "    return total_loss.item()/j"
      ]
    },
    {
      "cell_type": "code",
      "execution_count": 33,
      "metadata": {},
      "outputs": [],
      "source": [
        "import torch\n",
        "\n",
        "def train_epoch(net, dataloader, optimizer, loss_fn, epochs, device=device, report_freq=1):\n",
        "    # Move model to the specified device (GPU or CPU)\n",
        "    net = net.to(device)\n",
        "    loss_fn = loss_fn.to(device)  # Ensure the loss function is also on the same device\n",
        "    net.train()\n",
        "\n",
        "    for epoch in range(epochs):\n",
        "        total_loss = 0.0\n",
        "        batch_count = 0\n",
        "\n",
        "        for labels, features in dataloader:\n",
        "            # Move data to the specified device\n",
        "            features, labels = features.to(device), labels.to(device)\n",
        "\n",
        "            # Zero gradients\n",
        "            optimizer.zero_grad()\n",
        "\n",
        "            # Forward pass\n",
        "            outputs = net(features)\n",
        "\n",
        "            # Calculate loss\n",
        "            loss = loss_fn(outputs, labels)\n",
        "\n",
        "            # Backward pass and optimization\n",
        "            loss.backward()\n",
        "            optimizer.step()\n",
        "\n",
        "            # Accumulate loss\n",
        "            total_loss += loss.item()\n",
        "            batch_count += 1\n",
        "\n",
        "        # Report average loss for the epoch\n",
        "        if epoch % report_freq == 0:\n",
        "            print(f\"Epoch [{epoch + 1}/{epochs}], Loss: {total_loss / batch_count:.4f}\")\n",
        "\n",
        "    return total_loss / batch_count"
      ]
    },
    {
      "cell_type": "code",
      "execution_count": 18,
      "metadata": {
        "colab": {
          "base_uri": "https://localhost:8080/"
        },
        "id": "KVgwGtDHgDlT",
        "outputId": "2447833f-f0e3-4566-c33d-addbfe2f451d"
      },
      "outputs": [
        {
          "name": "stdout",
          "output_type": "stream",
          "text": [
            "Epoch [1/10], Loss: 5.9816\n",
            "Epoch [2/10], Loss: 5.6350\n",
            "Epoch [3/10], Loss: 5.5669\n",
            "Epoch [4/10], Loss: 5.5314\n",
            "Epoch [5/10], Loss: 5.5085\n",
            "Epoch [6/10], Loss: 5.4922\n",
            "Epoch [7/10], Loss: 5.4798\n",
            "Epoch [8/10], Loss: 5.4699\n",
            "Epoch [9/10], Loss: 5.4618\n",
            "Epoch [10/10], Loss: 5.4548\n"
          ]
        },
        {
          "data": {
            "text/plain": [
              "5.454845255846027"
            ]
          },
          "execution_count": 18,
          "metadata": {},
          "output_type": "execute_result"
        }
      ],
      "source": [
        "train_epoch(net = model, dataloader = dl, optimizer = torch.optim.SGD(model.parameters(), lr = 0.1), loss_fn = torch.nn.CrossEntropyLoss(), epochs = 10)"
      ]
    },
    {
      "cell_type": "markdown",
      "metadata": {
        "id": "W8u2qXZmaHVd"
      },
      "source": [
        "## Trying out Word2Vec\n",
        "\n",
        "To use Word2Vec, let's extract vectors corresponding to all words in our vocabulary:"
      ]
    },
    {
      "cell_type": "code",
      "execution_count": 34,
      "metadata": {
        "id": "r8TatcXjkU_t"
      },
      "outputs": [
        {
          "ename": "AttributeError",
          "evalue": "'Vocab' object has no attribute 'itos'",
          "output_type": "error",
          "traceback": [
            "\u001b[0;31m---------------------------------------------------------------------------\u001b[0m",
            "\u001b[0;31mAttributeError\u001b[0m                            Traceback (most recent call last)",
            "Cell \u001b[0;32mIn[34], line 1\u001b[0m\n\u001b[0;32m----> 1\u001b[0m vectors \u001b[38;5;241m=\u001b[39m torch\u001b[38;5;241m.\u001b[39mstack([embedder(torch\u001b[38;5;241m.\u001b[39mtensor(vocab[s])) \u001b[38;5;28;01mfor\u001b[39;00m s \u001b[38;5;129;01min\u001b[39;00m \u001b[43mvocab\u001b[49m\u001b[38;5;241;43m.\u001b[39;49m\u001b[43mitos\u001b[49m], \u001b[38;5;241m0\u001b[39m)\n",
            "File \u001b[0;32m/home/zeus/miniconda3/envs/cloudspace/lib/python3.10/site-packages/torch/nn/modules/module.py:1269\u001b[0m, in \u001b[0;36mModule.__getattr__\u001b[0;34m(self, name)\u001b[0m\n\u001b[1;32m   1267\u001b[0m     \u001b[38;5;28;01mif\u001b[39;00m name \u001b[38;5;129;01min\u001b[39;00m modules:\n\u001b[1;32m   1268\u001b[0m         \u001b[38;5;28;01mreturn\u001b[39;00m modules[name]\n\u001b[0;32m-> 1269\u001b[0m \u001b[38;5;28;01mraise\u001b[39;00m \u001b[38;5;167;01mAttributeError\u001b[39;00m(\u001b[38;5;124m\"\u001b[39m\u001b[38;5;124m'\u001b[39m\u001b[38;5;132;01m{}\u001b[39;00m\u001b[38;5;124m'\u001b[39m\u001b[38;5;124m object has no attribute \u001b[39m\u001b[38;5;124m'\u001b[39m\u001b[38;5;132;01m{}\u001b[39;00m\u001b[38;5;124m'\u001b[39m\u001b[38;5;124m\"\u001b[39m\u001b[38;5;241m.\u001b[39mformat(\n\u001b[1;32m   1270\u001b[0m     \u001b[38;5;28mtype\u001b[39m(\u001b[38;5;28mself\u001b[39m)\u001b[38;5;241m.\u001b[39m\u001b[38;5;18m__name__\u001b[39m, name))\n",
            "\u001b[0;31mAttributeError\u001b[0m: 'Vocab' object has no attribute 'itos'"
          ]
        }
      ],
      "source": [
        "vectors = torch.stack([embedder(torch.tensor(vocab[s])) for s in vocab.itos], 0)"
      ]
    },
    {
      "cell_type": "code",
      "execution_count": 35,
      "metadata": {},
      "outputs": [],
      "source": [
        "vectors = torch.stack([embedder(torch.tensor(vocab[s])) for s in vocab.get_itos()], 0)"
      ]
    },
    {
      "cell_type": "markdown",
      "metadata": {
        "id": "3OcX21UOaHVd"
      },
      "source": [
        "Let's see, for example, how the word **Paris** is encoded into a vector:"
      ]
    },
    {
      "cell_type": "code",
      "execution_count": 36,
      "metadata": {
        "colab": {
          "base_uri": "https://localhost:8080/"
        },
        "id": "bz6tAeLzieXp",
        "outputId": "5b20850e-4342-45e9-f840-cfac2b4d61d8"
      },
      "outputs": [
        {
          "name": "stdout",
          "output_type": "stream",
          "text": [
            "tensor([-0.9116, -1.0474, -1.0554, -0.5568, -2.3852, -3.1054,  0.5675,  0.0480,\n",
            "        -0.1078,  0.0874, -1.2703, -1.3895, -0.2785,  0.1189,  0.9470, -0.9221,\n",
            "         0.3426,  0.8443,  1.4859,  0.5325,  0.4277, -1.9230, -0.5424, -0.6481,\n",
            "        -1.4530,  1.4176, -1.1798, -0.1354,  1.7082, -0.9876],\n",
            "       grad_fn=<EmbeddingBackward0>)\n"
          ]
        }
      ],
      "source": [
        "paris_vec = embedder(torch.tensor(vocab['paris']))\n",
        "print(paris_vec)"
      ]
    },
    {
      "cell_type": "markdown",
      "metadata": {
        "id": "pHTJlaeYaHVd"
      },
      "source": [
        "It is interesting to use Word2Vec to look for synonyms. The following function will return `n` closest words to a given input. To find them, we compute the norm of $|w_i - v|$, where $v$ is the vector corresponding to our input word, and $w_i$ is the encoding of $i$-th word in the vocabulary. We then sort the array and return corresponding indices using `argsort`, and take first `n` elements of the list, which encode positions of closest words in the vocabulary.  "
      ]
    },
    {
      "cell_type": "code",
      "execution_count": 37,
      "metadata": {
        "colab": {
          "base_uri": "https://localhost:8080/"
        },
        "id": "NlZyi-_olFar",
        "outputId": "b5dbb163-88c4-4d5a-eaf2-6751f700e98c"
      },
      "outputs": [
        {
          "ename": "AttributeError",
          "evalue": "'Vocab' object has no attribute 'itos'",
          "output_type": "error",
          "traceback": [
            "\u001b[0;31m---------------------------------------------------------------------------\u001b[0m",
            "\u001b[0;31mAttributeError\u001b[0m                            Traceback (most recent call last)",
            "Cell \u001b[0;32mIn[37], line 6\u001b[0m\n\u001b[1;32m      3\u001b[0m   top5 \u001b[38;5;241m=\u001b[39m np\u001b[38;5;241m.\u001b[39mlinalg\u001b[38;5;241m.\u001b[39mnorm(vectors\u001b[38;5;241m.\u001b[39mdetach()\u001b[38;5;241m.\u001b[39mnumpy() \u001b[38;5;241m-\u001b[39m vec\u001b[38;5;241m.\u001b[39mdetach()\u001b[38;5;241m.\u001b[39mnumpy(), axis \u001b[38;5;241m=\u001b[39m \u001b[38;5;241m1\u001b[39m)\u001b[38;5;241m.\u001b[39margsort()[:n]\n\u001b[1;32m      4\u001b[0m   \u001b[38;5;28;01mreturn\u001b[39;00m [ vocab\u001b[38;5;241m.\u001b[39mitos[x] \u001b[38;5;28;01mfor\u001b[39;00m x \u001b[38;5;129;01min\u001b[39;00m top5 ]\n\u001b[0;32m----> 6\u001b[0m \u001b[43mclose_words\u001b[49m\u001b[43m(\u001b[49m\u001b[38;5;124;43m'\u001b[39;49m\u001b[38;5;124;43mmicrosoft\u001b[39;49m\u001b[38;5;124;43m'\u001b[39;49m\u001b[43m)\u001b[49m\n",
            "Cell \u001b[0;32mIn[37], line 4\u001b[0m, in \u001b[0;36mclose_words\u001b[0;34m(x, n)\u001b[0m\n\u001b[1;32m      2\u001b[0m vec \u001b[38;5;241m=\u001b[39m embedder(torch\u001b[38;5;241m.\u001b[39mtensor(vocab[x]))\n\u001b[1;32m      3\u001b[0m top5 \u001b[38;5;241m=\u001b[39m np\u001b[38;5;241m.\u001b[39mlinalg\u001b[38;5;241m.\u001b[39mnorm(vectors\u001b[38;5;241m.\u001b[39mdetach()\u001b[38;5;241m.\u001b[39mnumpy() \u001b[38;5;241m-\u001b[39m vec\u001b[38;5;241m.\u001b[39mdetach()\u001b[38;5;241m.\u001b[39mnumpy(), axis \u001b[38;5;241m=\u001b[39m \u001b[38;5;241m1\u001b[39m)\u001b[38;5;241m.\u001b[39margsort()[:n]\n\u001b[0;32m----> 4\u001b[0m \u001b[38;5;28;01mreturn\u001b[39;00m [ vocab\u001b[38;5;241m.\u001b[39mitos[x] \u001b[38;5;28;01mfor\u001b[39;00m x \u001b[38;5;129;01min\u001b[39;00m top5 ]\n",
            "Cell \u001b[0;32mIn[37], line 4\u001b[0m, in \u001b[0;36m<listcomp>\u001b[0;34m(.0)\u001b[0m\n\u001b[1;32m      2\u001b[0m vec \u001b[38;5;241m=\u001b[39m embedder(torch\u001b[38;5;241m.\u001b[39mtensor(vocab[x]))\n\u001b[1;32m      3\u001b[0m top5 \u001b[38;5;241m=\u001b[39m np\u001b[38;5;241m.\u001b[39mlinalg\u001b[38;5;241m.\u001b[39mnorm(vectors\u001b[38;5;241m.\u001b[39mdetach()\u001b[38;5;241m.\u001b[39mnumpy() \u001b[38;5;241m-\u001b[39m vec\u001b[38;5;241m.\u001b[39mdetach()\u001b[38;5;241m.\u001b[39mnumpy(), axis \u001b[38;5;241m=\u001b[39m \u001b[38;5;241m1\u001b[39m)\u001b[38;5;241m.\u001b[39margsort()[:n]\n\u001b[0;32m----> 4\u001b[0m \u001b[38;5;28;01mreturn\u001b[39;00m [ \u001b[43mvocab\u001b[49m\u001b[38;5;241;43m.\u001b[39;49m\u001b[43mitos\u001b[49m[x] \u001b[38;5;28;01mfor\u001b[39;00m x \u001b[38;5;129;01min\u001b[39;00m top5 ]\n",
            "File \u001b[0;32m/home/zeus/miniconda3/envs/cloudspace/lib/python3.10/site-packages/torch/nn/modules/module.py:1269\u001b[0m, in \u001b[0;36mModule.__getattr__\u001b[0;34m(self, name)\u001b[0m\n\u001b[1;32m   1267\u001b[0m     \u001b[38;5;28;01mif\u001b[39;00m name \u001b[38;5;129;01min\u001b[39;00m modules:\n\u001b[1;32m   1268\u001b[0m         \u001b[38;5;28;01mreturn\u001b[39;00m modules[name]\n\u001b[0;32m-> 1269\u001b[0m \u001b[38;5;28;01mraise\u001b[39;00m \u001b[38;5;167;01mAttributeError\u001b[39;00m(\u001b[38;5;124m\"\u001b[39m\u001b[38;5;124m'\u001b[39m\u001b[38;5;132;01m{}\u001b[39;00m\u001b[38;5;124m'\u001b[39m\u001b[38;5;124m object has no attribute \u001b[39m\u001b[38;5;124m'\u001b[39m\u001b[38;5;132;01m{}\u001b[39;00m\u001b[38;5;124m'\u001b[39m\u001b[38;5;124m\"\u001b[39m\u001b[38;5;241m.\u001b[39mformat(\n\u001b[1;32m   1270\u001b[0m     \u001b[38;5;28mtype\u001b[39m(\u001b[38;5;28mself\u001b[39m)\u001b[38;5;241m.\u001b[39m\u001b[38;5;18m__name__\u001b[39m, name))\n",
            "\u001b[0;31mAttributeError\u001b[0m: 'Vocab' object has no attribute 'itos'"
          ]
        }
      ],
      "source": [
        "def close_words(x, n = 5):\n",
        "  vec = embedder(torch.tensor(vocab[x]))\n",
        "  top5 = np.linalg.norm(vectors.detach().numpy() - vec.detach().numpy(), axis = 1).argsort()[:n]\n",
        "  return [ vocab.itos[x] for x in top5 ]\n",
        "\n",
        "close_words('microsoft')"
      ]
    },
    {
      "cell_type": "code",
      "execution_count": 38,
      "metadata": {},
      "outputs": [
        {
          "name": "stdout",
          "output_type": "stream",
          "text": [
            "['microsoft', 'stop', 'patrick', 'effectively', 'levels']\n"
          ]
        }
      ],
      "source": [
        "def close_words(x, n=5):\n",
        "    vec = embedder(torch.tensor(vocab[x]))\n",
        "    # Compute the distance from the given word's vector to all other vectors\n",
        "    distances = np.linalg.norm(vectors.detach().numpy() - vec.detach().numpy(), axis=1)\n",
        "    # Find the indices of the `n` closest vectors\n",
        "    top_n_indices = distances.argsort()[:n]\n",
        "    # Convert indices back to tokens using `get_itos()`\n",
        "    itos = vocab.get_itos()\n",
        "    return [itos[idx] for idx in top_n_indices]\n",
        "\n",
        "# Example usage\n",
        "print(close_words('microsoft'))"
      ]
    },
    {
      "cell_type": "code",
      "execution_count": 39,
      "metadata": {
        "colab": {
          "base_uri": "https://localhost:8080/"
        },
        "id": "-dQq7xeAln0U",
        "outputId": "66f768c3-c248-4bfd-ce4f-c8ffc6d0dd0d"
      },
      "outputs": [
        {
          "data": {
            "text/plain": [
              "['basketball', 'consultants', 'start', 'according', '\\\\come']"
            ]
          },
          "execution_count": 39,
          "metadata": {},
          "output_type": "execute_result"
        }
      ],
      "source": [
        "close_words('basketball')"
      ]
    },
    {
      "cell_type": "code",
      "execution_count": 40,
      "metadata": {
        "colab": {
          "base_uri": "https://localhost:8080/"
        },
        "id": "fJXqK26b29sa",
        "outputId": "78f0baba-ffd0-485a-dd87-0a12bedfd7fa"
      },
      "outputs": [
        {
          "data": {
            "text/plain": [
              "['funds', 'computerized', 'range', 'ducking', 'walters']"
            ]
          },
          "execution_count": 40,
          "metadata": {},
          "output_type": "execute_result"
        }
      ],
      "source": [
        "close_words('funds')"
      ]
    },
    {
      "cell_type": "markdown",
      "metadata": {
        "id": "My0VeTDd3Ji8"
      },
      "source": [
        "## Takeaway\n",
        "\n",
        "Using clever techniques such as CBoW, we can train Word2Vec model. You may also try to train skip-gram model that is trained to predict the neighboring word given the central one, and see how well it performs. "
      ]
    },
    {
      "cell_type": "markdown",
      "metadata": {},
      "source": []
    },
    {
      "cell_type": "markdown",
      "metadata": {},
      "source": []
    },
    {
      "cell_type": "markdown",
      "metadata": {},
      "source": []
    },
    {
      "cell_type": "markdown",
      "metadata": {},
      "source": []
    },
    {
      "cell_type": "markdown",
      "metadata": {},
      "source": []
    }
  ],
  "metadata": {
    "colab": {
      "collapsed_sections": [],
      "name": "CBoW-PyTorch.ipynb",
      "provenance": []
    },
    "gpuClass": "standard",
    "interpreter": {
      "hash": "16af2a8bbb083ea23e5e41c7f5787656b2ce26968575d8763f2c4b17f9cd711f"
    },
    "kernelspec": {
      "display_name": "Python 3.8.12 ('py38')",
      "language": "python",
      "name": "python3"
    },
    "language_info": {
      "codemirror_mode": {
        "name": "ipython",
        "version": 3
      },
      "file_extension": ".py",
      "mimetype": "text/x-python",
      "name": "python",
      "nbconvert_exporter": "python",
      "pygments_lexer": "ipython3",
      "version": "3.8.12"
    },
    "orig_nbformat": 4
  },
  "nbformat": 4,
  "nbformat_minor": 0
}
