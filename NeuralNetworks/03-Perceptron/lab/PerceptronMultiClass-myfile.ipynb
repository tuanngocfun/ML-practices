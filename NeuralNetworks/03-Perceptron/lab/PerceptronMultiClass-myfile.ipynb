{
 "cells": [
  {
   "cell_type": "markdown",
   "metadata": {
    "collapsed": true,
    "slideshow": {
     "slide_type": "slide"
    }
   },
   "source": [
    "# Multi-Class Classification with Perceptron\n",
    "\n",
    "Lab Assignment from [AI for Beginners Curriculum](https://github.com/microsoft/ai-for-beginners)."
   ]
  },
  {
   "cell_type": "code",
   "execution_count": 5,
   "metadata": {
    "slideshow": {
     "slide_type": "skip"
    }
   },
   "outputs": [],
   "source": [
    "import matplotlib.pyplot as plt\n",
    "import numpy as np\n",
    "import pickle\n",
    "import os"
   ]
  },
  {
   "cell_type": "markdown",
   "metadata": {},
   "source": [
    "You can use the following perceptron training code from the lecture:"
   ]
  },
  {
   "cell_type": "code",
   "execution_count": 6,
   "metadata": {
    "slideshow": {
     "slide_type": "skip"
    }
   },
   "outputs": [],
   "source": [
    "def train(positive_examples, negative_examples, num_iterations = 100):\n",
    "    num_dims = positive_examples.shape[1]\n",
    "    weights = np.zeros((num_dims + 1, 1))  # initialize weights, adding one for the bias term    \n",
    "    \n",
    "    pos_count = positive_examples.shape[0]\n",
    "    neg_count = negative_examples.shape[0]\n",
    "    \n",
    "    report_frequency = 10\n",
    "    \n",
    "    for i in range(num_iterations):\n",
    "        pos = random.choice(positive_examples)\n",
    "        neg = random.choice(negative_examples)\n",
    "\n",
    "        z = np.dot(pos, weights)   \n",
    "        if z < 0:\n",
    "            weights = weights + pos.reshape(weights.shape)\n",
    "\n",
    "        z  = np.dot(neg, weights)\n",
    "        if z >= 0:\n",
    "            weights = weights - neg.reshape(weights.shape)\n",
    "            \n",
    "        if i % report_frequency == 0:             \n",
    "            pos_out = np.dot(positive_examples, weights)\n",
    "            neg_out = np.dot(negative_examples, weights)        \n",
    "            pos_correct = (pos_out >= 0).sum() / float(pos_count)\n",
    "            neg_correct = (neg_out < 0).sum() / float(neg_count)\n",
    "            print(\"Iteration={}, pos correct={}, neg correct={}\".format(i,pos_correct,neg_correct))\n",
    "\n",
    "    return weights"
   ]
  },
  {
   "cell_type": "code",
   "execution_count": 7,
   "metadata": {
    "slideshow": {
     "slide_type": "fragment"
    }
   },
   "outputs": [],
   "source": [
    "def accuracy(weights, test_x, test_labels):\n",
    "    res = np.dot(np.c_[test_x,np.ones(len(test_x))],weights)\n",
    "    return (res.reshape(test_labels.shape)*test_labels>=0).sum()/float(len(test_labels))"
   ]
  },
  {
   "cell_type": "code",
   "execution_count": 8,
   "metadata": {},
   "outputs": [
    {
     "ename": "ValueError",
     "evalue": "shapes (2,) and (3,1) not aligned: 2 (dim 0) != 3 (dim 0)",
     "output_type": "error",
     "traceback": [
      "\u001b[0;31m---------------------------------------------------------------------------\u001b[0m",
      "\u001b[0;31mValueError\u001b[0m                                Traceback (most recent call last)",
      "Cell \u001b[0;32mIn[8], line 17\u001b[0m\n\u001b[1;32m     14\u001b[0m test_labels \u001b[38;5;241m=\u001b[39m np\u001b[38;5;241m.\u001b[39marray([\u001b[38;5;241m1\u001b[39m]\u001b[38;5;241m*\u001b[39m\u001b[38;5;28mlen\u001b[39m(positive_examples) \u001b[38;5;241m+\u001b[39m [\u001b[38;5;241m-\u001b[39m\u001b[38;5;241m1\u001b[39m]\u001b[38;5;241m*\u001b[39m\u001b[38;5;28mlen\u001b[39m(negative_examples))\n\u001b[1;32m     16\u001b[0m \u001b[38;5;66;03m# Run the training function\u001b[39;00m\n\u001b[0;32m---> 17\u001b[0m wts \u001b[38;5;241m=\u001b[39m \u001b[43mtrain\u001b[49m\u001b[43m(\u001b[49m\u001b[43mpositive_examples\u001b[49m\u001b[43m,\u001b[49m\u001b[43m \u001b[49m\u001b[43mnegative_examples\u001b[49m\u001b[43m)\u001b[49m  \u001b[38;5;66;03m# Train to get the weights\u001b[39;00m\n\u001b[1;32m     19\u001b[0m \u001b[38;5;66;03m# Calculate accuracy on test data\u001b[39;00m\n\u001b[1;32m     20\u001b[0m acc \u001b[38;5;241m=\u001b[39m accuracy(wts, test_x, test_labels)\n",
      "Cell \u001b[0;32mIn[6], line 14\u001b[0m, in \u001b[0;36mtrain\u001b[0;34m(positive_examples, negative_examples, num_iterations)\u001b[0m\n\u001b[1;32m     11\u001b[0m pos \u001b[38;5;241m=\u001b[39m random\u001b[38;5;241m.\u001b[39mchoice(positive_examples)\n\u001b[1;32m     12\u001b[0m neg \u001b[38;5;241m=\u001b[39m random\u001b[38;5;241m.\u001b[39mchoice(negative_examples)\n\u001b[0;32m---> 14\u001b[0m z \u001b[38;5;241m=\u001b[39m \u001b[43mnp\u001b[49m\u001b[38;5;241;43m.\u001b[39;49m\u001b[43mdot\u001b[49m\u001b[43m(\u001b[49m\u001b[43mpos\u001b[49m\u001b[43m,\u001b[49m\u001b[43m \u001b[49m\u001b[43mweights\u001b[49m\u001b[43m)\u001b[49m   \n\u001b[1;32m     15\u001b[0m \u001b[38;5;28;01mif\u001b[39;00m z \u001b[38;5;241m<\u001b[39m \u001b[38;5;241m0\u001b[39m:\n\u001b[1;32m     16\u001b[0m     weights \u001b[38;5;241m=\u001b[39m weights \u001b[38;5;241m+\u001b[39m pos\u001b[38;5;241m.\u001b[39mreshape(weights\u001b[38;5;241m.\u001b[39mshape)\n",
      "\u001b[0;31mValueError\u001b[0m: shapes (2,) and (3,1) not aligned: 2 (dim 0) != 3 (dim 0)"
     ]
    }
   ],
   "source": [
    "import numpy as np\n",
    "import random\n",
    "import matplotlib.pyplot as plt\n",
    "\n",
    "# Sample synthetic data for demonstration\n",
    "# Generate positive examples (e.g., points centered at (1, 1))\n",
    "positive_examples = np.random.randn(100, 2) + np.array([1, 1])\n",
    "\n",
    "# Generate negative examples (e.g., points centered at (-1, -1))\n",
    "negative_examples = np.random.randn(100, 2) + np.array([-1, -1])\n",
    "\n",
    "# Combine positive and negative examples into test set\n",
    "test_x = np.vstack([positive_examples, negative_examples])\n",
    "test_labels = np.array([1]*len(positive_examples) + [-1]*len(negative_examples))\n",
    "\n",
    "# Run the training function\n",
    "wts = train(positive_examples, negative_examples)  # Train to get the weights\n",
    "\n",
    "# Calculate accuracy on test data\n",
    "acc = accuracy(wts, test_x, test_labels)\n",
    "print(\"Accuracy:\", acc)"
   ]
  },
  {
   "cell_type": "code",
   "execution_count": null,
   "metadata": {},
   "outputs": [
    {
     "name": "stdout",
     "output_type": "stream",
     "text": [
      "Iteration=0, pos correct=0.87, neg correct=0.96\n",
      "Iteration=10, pos correct=0.87, neg correct=0.96\n",
      "Iteration=20, pos correct=0.98, neg correct=0.82\n",
      "Iteration=30, pos correct=0.97, neg correct=0.85\n",
      "Iteration=40, pos correct=0.95, neg correct=0.93\n",
      "Iteration=50, pos correct=0.95, neg correct=0.94\n",
      "Iteration=60, pos correct=0.96, neg correct=0.95\n",
      "Iteration=70, pos correct=0.96, neg correct=0.95\n",
      "Iteration=80, pos correct=0.89, neg correct=0.98\n",
      "Iteration=90, pos correct=0.89, neg correct=0.96\n",
      "Accuracy: 0.945\n"
     ]
    }
   ],
   "source": [
    "import numpy as np\n",
    "import random\n",
    "import matplotlib.pyplot as plt\n",
    "\n",
    "def train(positive_examples, negative_examples, num_iterations=100):\n",
    "    num_dims = positive_examples.shape[1]\n",
    "    weights = np.zeros((num_dims + 1, 1))  # initialize weights, adding one for the bias term\n",
    "\n",
    "    pos_count = positive_examples.shape[0]\n",
    "    neg_count = negative_examples.shape[0]\n",
    "    \n",
    "    report_frequency = 10\n",
    "    \n",
    "    for i in range(num_iterations):\n",
    "        pos = np.append(random.choice(positive_examples), 1)  # Append bias term to positive example\n",
    "        neg = np.append(random.choice(negative_examples), 1)  # Append bias term to negative example\n",
    "\n",
    "        z = np.dot(pos, weights)\n",
    "        if z < 0:\n",
    "            weights = weights + pos.reshape(weights.shape)\n",
    "\n",
    "        z = np.dot(neg, weights)\n",
    "        if z >= 0:\n",
    "            weights = weights - neg.reshape(weights.shape)\n",
    "            \n",
    "        if i % report_frequency == 0:\n",
    "            pos_out = np.dot(np.c_[positive_examples, np.ones(pos_count)], weights)\n",
    "            neg_out = np.dot(np.c_[negative_examples, np.ones(neg_count)], weights)\n",
    "            pos_correct = (pos_out >= 0).sum() / float(pos_count)\n",
    "            neg_correct = (neg_out < 0).sum() / float(neg_count)\n",
    "            print(\"Iteration={}, pos correct={}, neg correct={}\".format(i, pos_correct, neg_correct))\n",
    "\n",
    "    return weights\n",
    "\n",
    "def accuracy(weights, test_x, test_labels):\n",
    "    res = np.dot(np.c_[test_x, np.ones(len(test_x))], weights)  # Add bias term to test_x\n",
    "    return (res.reshape(test_labels.shape) * test_labels >= 0).sum() / float(len(test_labels))\n",
    "\n",
    "# Sample synthetic data for demonstration\n",
    "# Generate positive examples (e.g., points centered at (1, 1))\n",
    "positive_examples = np.random.randn(100, 2) + np.array([1, 1])\n",
    "\n",
    "# Generate negative examples (e.g., points centered at (-1, -1))\n",
    "negative_examples = np.random.randn(100, 2) + np.array([-1, -1])\n",
    "\n",
    "# Combine positive and negative examples into test set\n",
    "test_x = np.vstack([positive_examples, negative_examples])\n",
    "test_labels = np.array([1] * len(positive_examples) + [-1] * len(negative_examples))\n",
    "\n",
    "# Run the training function\n",
    "wts = train(positive_examples, negative_examples)  # Train to get the weights\n",
    "\n",
    "# Calculate accuracy on test data\n",
    "acc = accuracy(wts, test_x, test_labels)\n",
    "print(\"Accuracy:\", acc)\n"
   ]
  },
  {
   "cell_type": "markdown",
   "metadata": {
    "collapsed": true,
    "slideshow": {
     "slide_type": "slide"
    }
   },
   "source": [
    "### Reading the Dataset\n",
    "\n",
    "This code download the dataset from the repository on the internet. You can also manually copy the dataset from `/data` directory of AI Curriculum repo."
   ]
  },
  {
   "cell_type": "code",
   "execution_count": null,
   "metadata": {
    "slideshow": {
     "slide_type": "slide"
    }
   },
   "outputs": [
    {
     "name": "stdout",
     "output_type": "stream",
     "text": [
      "--2024-11-07 08:38:43--  https://github.com/mnielsen/neural-networks-and-deep-learning/raw/master/data/mnist.pkl.gz\n",
      "Resolving github.com (github.com)... 20.205.243.166\n",
      "Connecting to github.com (github.com)|20.205.243.166|:443... connected.\n",
      "HTTP request sent, awaiting response... 302 Found\n",
      "Location: https://raw.githubusercontent.com/mnielsen/neural-networks-and-deep-learning/master/data/mnist.pkl.gz [following]\n",
      "--2024-11-07 08:38:44--  https://raw.githubusercontent.com/mnielsen/neural-networks-and-deep-learning/master/data/mnist.pkl.gz\n",
      "Resolving raw.githubusercontent.com (raw.githubusercontent.com)... 185.199.108.133, 185.199.110.133, 185.199.109.133, ...\n",
      "Connecting to raw.githubusercontent.com (raw.githubusercontent.com)|185.199.108.133|:443... connected.\n",
      "HTTP request sent, awaiting response... 200 OK\n",
      "Length: 17051982 (16M) [application/octet-stream]\n",
      "Saving to: ‘mnist.pkl.gz’\n",
      "\n",
      "mnist.pkl.gz        100%[===================>]  16.26M  --.-KB/s    in 0.07s   \n",
      "\n",
      "2024-11-07 08:38:52 (245 MB/s) - ‘mnist.pkl.gz’ saved [17051982/17051982]\n",
      "\n"
     ]
    }
   ],
   "source": [
    "!rm -f *.pkl  # Ensure no .pkl files exist\n",
    "!wget https://github.com/mnielsen/neural-networks-and-deep-learning/raw/master/data/mnist.pkl.gz -O mnist.pkl.gz\n",
    "!gzip -d mnist.pkl.gz\n"
   ]
  },
  {
   "cell_type": "code",
   "execution_count": null,
   "metadata": {},
   "outputs": [],
   "source": [
    "with open('mnist.pkl', 'rb') as mnist_pickle:\n",
    "    MNIST = pickle.load(mnist_pickle, encoding='latin1')"
   ]
  },
  {
   "cell_type": "code",
   "execution_count": null,
   "metadata": {},
   "outputs": [
    {
     "name": "stdout",
     "output_type": "stream",
     "text": [
      "<class 'tuple'>\n",
      "((array([[0., 0., 0., ..., 0., 0., 0.],\n",
      "       [0., 0., 0., ..., 0., 0., 0.],\n",
      "       [0., 0., 0., ..., 0., 0., 0.],\n",
      "       ...,\n",
      "       [0., 0., 0., ..., 0., 0., 0.],\n",
      "       [0., 0., 0., ..., 0., 0., 0.],\n",
      "       [0., 0., 0., ..., 0., 0., 0.]], dtype=float32), array([5, 0, 4, ..., 8, 4, 8])), (array([[0., 0., 0., ..., 0., 0., 0.],\n",
      "       [0., 0., 0., ..., 0., 0., 0.],\n",
      "       [0., 0., 0., ..., 0., 0., 0.],\n",
      "       ...,\n",
      "       [0., 0., 0., ..., 0., 0., 0.],\n",
      "       [0., 0., 0., ..., 0., 0., 0.],\n",
      "       [0., 0., 0., ..., 0., 0., 0.]], dtype=float32), array([3, 8, 6, ..., 5, 6, 8])), (array([[0., 0., 0., ..., 0., 0., 0.],\n",
      "       [0., 0., 0., ..., 0., 0., 0.],\n",
      "       [0., 0., 0., ..., 0., 0., 0.],\n",
      "       ...,\n",
      "       [0., 0., 0., ..., 0., 0., 0.],\n",
      "       [0., 0., 0., ..., 0., 0., 0.],\n",
      "       [0., 0., 0., ..., 0., 0., 0.]], dtype=float32), array([7, 2, 1, ..., 4, 5, 6])))\n"
     ]
    }
   ],
   "source": [
    "print(type(MNIST))\n",
    "print(MNIST)"
   ]
  },
  {
   "cell_type": "code",
   "execution_count": null,
   "metadata": {},
   "outputs": [
    {
     "name": "stdout",
     "output_type": "stream",
     "text": [
      "3\n",
      "<class 'tuple'>\n",
      "<class 'tuple'>\n"
     ]
    }
   ],
   "source": [
    "print(len(MNIST))  # This will show the number of elements in the tuple\n",
    "print(type(MNIST[0]))  # This will show the type of the first element in the tuple\n",
    "print(type(MNIST[1]))  # This will show the type of the second element, and so on"
   ]
  },
  {
   "cell_type": "code",
   "execution_count": null,
   "metadata": {},
   "outputs": [
    {
     "name": "stdout",
     "output_type": "stream",
     "text": [
      "3\n",
      "<class 'tuple'> <class 'tuple'>\n",
      "(array([[0., 0., 0., ..., 0., 0., 0.],\n",
      "       [0., 0., 0., ..., 0., 0., 0.],\n",
      "       [0., 0., 0., ..., 0., 0., 0.],\n",
      "       ...,\n",
      "       [0., 0., 0., ..., 0., 0., 0.],\n",
      "       [0., 0., 0., ..., 0., 0., 0.],\n",
      "       [0., 0., 0., ..., 0., 0., 0.]], dtype=float32), array([5, 0, 4, ..., 8, 4, 8]))\n",
      "(array([[0., 0., 0., ..., 0., 0., 0.],\n",
      "       [0., 0., 0., ..., 0., 0., 0.],\n",
      "       [0., 0., 0., ..., 0., 0., 0.],\n",
      "       ...,\n",
      "       [0., 0., 0., ..., 0., 0., 0.],\n",
      "       [0., 0., 0., ..., 0., 0., 0.],\n",
      "       [0., 0., 0., ..., 0., 0., 0.]], dtype=float32), array([3, 8, 6, ..., 5, 6, 8]))\n"
     ]
    }
   ],
   "source": [
    "print(len(MNIST))  # Number of top-level elements\n",
    "print(type(MNIST[0]), type(MNIST[1]))  # Check types of each element at the top level\n",
    "print(MNIST[0])  # Print the first element's contents\n",
    "print(MNIST[1])  # Print the second element's contents"
   ]
  },
  {
   "cell_type": "code",
   "execution_count": null,
   "metadata": {},
   "outputs": [],
   "source": [
    "# Assuming the first element in MNIST contains both features and labels as separate arrays\n",
    "features, labels = MNIST[0]  # Adjust based on the structure\n",
    "features = features.astype(np.float32) / 256.0  # Normalize feature values"
   ]
  },
  {
   "cell_type": "code",
   "execution_count": null,
   "metadata": {},
   "outputs": [
    {
     "data": {
      "image/png": "[encoded data removed]",
      "text/plain": [
       "<Figure size 1000x500 with 10 Axes>"
      ]
     },
     "metadata": {},
     "output_type": "display_data"
    }
   ],
   "source": [
    "import matplotlib.pyplot as plt\n",
    "\n",
    "fig = plt.figure(figsize=(10,5))\n",
    "for i in range(10):\n",
    "    ax = fig.add_subplot(1, 10, i + 1)\n",
    "    ax.imshow(features[i].reshape(28, 28), cmap='gray')\n",
    "    ax.axis('off')\n",
    "plt.show()"
   ]
  },
  {
   "cell_type": "code",
   "execution_count": null,
   "metadata": {},
   "outputs": [
    {
     "data": {
      "image/png": "[encoded data removed]",
      "text/plain": [
       "<Figure size 1000x500 with 10 Axes>"
      ]
     },
     "metadata": {},
     "output_type": "display_data"
    }
   ],
   "source": [
    "import matplotlib.pyplot as plt\n",
    "import numpy as np\n",
    "\n",
    "# Assuming features and labels are already defined and normalized\n",
    "# features, labels = MNIST[0]\n",
    "\n",
    "fig = plt.figure(figsize=(10, 5))\n",
    "for i in range(10):\n",
    "    ax = fig.add_subplot(1, 10, i + 1)\n",
    "    ax.imshow(features[i].reshape(28, 28), cmap='viridis')  # Use a color map similar to the image\n",
    "    ax.axis('off')\n",
    "    ax.set_title(str(labels[i]), color=\"yellow\")  # Display label as title in yellow\n",
    "\n",
    "plt.show()"
   ]
  },
  {
   "cell_type": "code",
   "execution_count": null,
   "metadata": {
    "slideshow": {
     "slide_type": "slide"
    }
   },
   "outputs": [
    {
     "ename": "TypeError",
     "evalue": "tuple indices must be integers or slices, not str",
     "output_type": "error",
     "traceback": [
      "\u001b[0;31m---------------------------------------------------------------------------\u001b[0m",
      "\u001b[0;31mTypeError\u001b[0m                                 Traceback (most recent call last)",
      "Cell \u001b[0;32mIn[23], line 1\u001b[0m\n\u001b[0;32m----> 1\u001b[0m \u001b[38;5;28mprint\u001b[39m(\u001b[43mMNIST\u001b[49m\u001b[43m[\u001b[49m\u001b[38;5;124;43m'\u001b[39;49m\u001b[38;5;124;43mTrain\u001b[39;49m\u001b[38;5;124;43m'\u001b[39;49m\u001b[43m]\u001b[49m[\u001b[38;5;124m'\u001b[39m\u001b[38;5;124mFeatures\u001b[39m\u001b[38;5;124m'\u001b[39m][\u001b[38;5;241m0\u001b[39m][\u001b[38;5;241m130\u001b[39m:\u001b[38;5;241m180\u001b[39m])\n\u001b[1;32m      2\u001b[0m \u001b[38;5;28mprint\u001b[39m(MNIST[\u001b[38;5;124m'\u001b[39m\u001b[38;5;124mTrain\u001b[39m\u001b[38;5;124m'\u001b[39m][\u001b[38;5;124m'\u001b[39m\u001b[38;5;124mLabels\u001b[39m\u001b[38;5;124m'\u001b[39m][\u001b[38;5;241m0\u001b[39m])\n\u001b[1;32m      3\u001b[0m features \u001b[38;5;241m=\u001b[39m MNIST[\u001b[38;5;124m'\u001b[39m\u001b[38;5;124mTrain\u001b[39m\u001b[38;5;124m'\u001b[39m][\u001b[38;5;124m'\u001b[39m\u001b[38;5;124mFeatures\u001b[39m\u001b[38;5;124m'\u001b[39m]\u001b[38;5;241m.\u001b[39mastype(np\u001b[38;5;241m.\u001b[39mfloat32) \u001b[38;5;241m/\u001b[39m \u001b[38;5;241m256.0\u001b[39m\n",
      "\u001b[0;31mTypeError\u001b[0m: tuple indices must be integers or slices, not str"
     ]
    }
   ],
   "source": [
    "# print(MNIST['Train']['Features'][0][130:180])\n",
    "# print(MNIST['Train']['Labels'][0])\n",
    "# features = MNIST['Train']['Features'].astype(np.float32) / 256.0\n",
    "# labels = MNIST['Train']['Labels']\n",
    "# fig = plt.figure(figsize=(10,5))\n",
    "# for i in range(10):\n",
    "#     ax = fig.add_subplot(1,10,i+1)\n",
    "#     plt.imshow(features[i].reshape(28,28))\n",
    "# plt.show()"
   ]
  },
  {
   "cell_type": "markdown",
   "metadata": {},
   "source": [
    "Code to create *one-vs-other* dataset for two-digit classification. You need to modify this code to create *one-vs-all* dateset."
   ]
  },
  {
   "cell_type": "code",
   "execution_count": null,
   "metadata": {
    "slideshow": {
     "slide_type": "slide"
    }
   },
   "outputs": [],
   "source": [
    "# def set_mnist_pos_neg(positive_label, negative_label):\n",
    "#     positive_indices = [i for i, j in enumerate(MNIST['Train']['Labels']) \n",
    "#                           if j == positive_label]\n",
    "#     negative_indices = [i for i, j in enumerate(MNIST['Train']['Labels']) \n",
    "#                           if j == negative_label]\n",
    "\n",
    "#     positive_images = MNIST['Train']['Features'][positive_indices]\n",
    "#     negative_images = MNIST['Train']['Features'][negative_indices]\n",
    "\n",
    "#     return positive_images, negative_images"
   ]
  },
  {
   "cell_type": "code",
   "execution_count": null,
   "metadata": {},
   "outputs": [],
   "source": [
    "def set_mnist_pos_neg(positive_label, negative_label):\n",
    "    # Unpack features and labels from the MNIST tuple\n",
    "    features, labels = MNIST[0]  # Adjust based on the observed structure\n",
    "\n",
    "    # Find indices for positive and negative labels\n",
    "    positive_indices = [i for i, label in enumerate(labels) if label == positive_label]\n",
    "    negative_indices = [i for i, label in enumerate(labels) if label == negative_label]\n",
    "\n",
    "    # Select images corresponding to these indices\n",
    "    positive_images = features[positive_indices]\n",
    "    negative_images = features[negative_indices]\n",
    "\n",
    "    return positive_images, negative_images"
   ]
  },
  {
   "cell_type": "code",
   "execution_count": null,
   "metadata": {},
   "outputs": [
    {
     "data": {
      "image/png": "[encoded data removed]",
      "text/plain": [
       "<Figure size 640x480 with 1 Axes>"
      ]
     },
     "metadata": {},
     "output_type": "display_data"
    }
   ],
   "source": [
    "positive_images, negative_images = set_mnist_pos_neg(0, 1)\n",
    "\n",
    "# Display a sample positive image\n",
    "import matplotlib.pyplot as plt\n",
    "plt.imshow(positive_images[0].reshape(28, 28), cmap='gray')\n",
    "plt.show()\n"
   ]
  },
  {
   "cell_type": "markdown",
   "metadata": {},
   "source": [
    "Now you need to:\n",
    "1. Create 10 *one-vs-all* datasets for all digits\n",
    "1. Train 10 perceptrons\n",
    "1. Define `classify` function to perform digit classification\n",
    "1. Measure the accuracy of classification and print *confusion matrix*\n",
    "1. [Optional] Create improved `classify` function that performs the classification using one matrix multiplication."
   ]
  },
  {
   "cell_type": "code",
   "execution_count": null,
   "metadata": {},
   "outputs": [
    {
     "name": "stdout",
     "output_type": "stream",
     "text": [
      "Perceptron for digit 0 trained.\n",
      "Perceptron for digit 1 trained.\n",
      "Perceptron for digit 2 trained.\n",
      "Perceptron for digit 3 trained.\n",
      "Perceptron for digit 4 trained.\n",
      "Perceptron for digit 5 trained.\n",
      "Perceptron for digit 6 trained.\n",
      "Perceptron for digit 7 trained.\n",
      "Perceptron for digit 8 trained.\n",
      "Perceptron for digit 9 trained.\n",
      "Training Accuracy: 11.36%\n",
      "Confusion Matrix:\n",
      "[[   0 4932    0    0    0    0    0    0    0    0]\n",
      " [   0 5678    0    0    0    0    0    0    0    0]\n",
      " [   0 4968    0    0    0    0    0    0    0    0]\n",
      " [   0 5101    0    0    0    0    0    0    0    0]\n",
      " [   0 4859    0    0    0    0    0    0    0    0]\n",
      " [   0 4506    0    0    0    0    0    0    0    0]\n",
      " [   0 4951    0    0    0    0    0    0    0    0]\n",
      " [   0 5175    0    0    0    0    0    0    0    0]\n",
      " [   0 4842    0    0    0    0    0    0    0    0]\n",
      " [   0 4988    0    0    0    0    0    0    0    0]]\n",
      "Multi-perceptron model trained.\n",
      "Multi-perceptron Training Accuracy: 9.72%\n",
      "Multi-perceptron Confusion Matrix:\n",
      "[[   0    0    0    0 4932    0    0    0    0    0]\n",
      " [   0    0    0    0 5678    0    0    0    0    0]\n",
      " [   0    0    0    0 4968    0    0    0    0    0]\n",
      " [   0    0    0    0 5101    0    0    0    0    0]\n",
      " [   0    0    0    0 4859    0    0    0    0    0]\n",
      " [   0    0    0    0 4506    0    0    0    0    0]\n",
      " [   0    0    0    0 4951    0    0    0    0    0]\n",
      " [   0    0    0    0 5175    0    0    0    0    0]\n",
      " [   0    0    0    0 4842    0    0    0    0    0]\n",
      " [   0    0    0    0 4988    0    0    0    0    0]]\n"
     ]
    }
   ],
   "source": [
    "import torch\n",
    "import torch.nn as nn\n",
    "import torch.optim as optim\n",
    "import numpy as np\n",
    "from sklearn.metrics import confusion_matrix, accuracy_score\n",
    "\n",
    "# Step 1: Load the MNIST data\n",
    "with open('mnist.pkl', 'rb') as mnist_pickle:\n",
    "    MNIST = pickle.load(mnist_pickle, encoding='latin1')\n",
    "\n",
    "# Unpack the training data\n",
    "train_features, train_labels = MNIST[0]\n",
    "train_features = train_features.astype(np.float32) / 255.0  # Normalize\n",
    "train_labels = train_labels.astype(int)  # Ensure labels are integer\n",
    "\n",
    "# Convert features and labels to tensors\n",
    "train_features = torch.tensor(train_features, dtype=torch.float32)\n",
    "train_labels = torch.tensor(train_labels, dtype=torch.long)\n",
    "\n",
    "# Step 2: Train 10 perceptrons, one for each digit\n",
    "class Perceptron(nn.Module):\n",
    "    def __init__(self):\n",
    "        super(Perceptron, self).__init__()\n",
    "        self.fc = nn.Linear(28 * 28, 1)  # 28*28 input, single output for binary classification\n",
    "\n",
    "    def forward(self, x):\n",
    "        x = x.view(-1, 28 * 28)  # Flatten image\n",
    "        return torch.sigmoid(self.fc(x))  # Sigmoid output for binary classification\n",
    "\n",
    "# Dictionary to hold each perceptron model\n",
    "perceptrons = {}\n",
    "\n",
    "# Train one perceptron for each digit\n",
    "for digit in range(10):\n",
    "    # Prepare one-vs-all labels (1 for the target digit, 0 for others)\n",
    "    binary_labels = (train_labels == digit).float()\n",
    "    \n",
    "    # Initialize model, loss, and optimizer\n",
    "    model = Perceptron()\n",
    "    criterion = nn.BCELoss()\n",
    "    optimizer = optim.Adam(model.parameters(), lr=0.001)\n",
    "    \n",
    "    # Training loop\n",
    "    epochs = 5\n",
    "    for epoch in range(epochs):\n",
    "        optimizer.zero_grad()\n",
    "        outputs = model(train_features)\n",
    "        loss = criterion(outputs.squeeze(), binary_labels)\n",
    "        loss.backward()\n",
    "        optimizer.step()\n",
    "    \n",
    "    # Save the trained model for this digit\n",
    "    perceptrons[digit] = model\n",
    "    print(f\"Perceptron for digit {digit} trained.\")\n",
    "\n",
    "# Step 3: Define classify function for multi-class classification\n",
    "def classify(features):\n",
    "    # Get predictions from each perceptron\n",
    "    outputs = []\n",
    "    for digit in range(10):\n",
    "        model = perceptrons[digit]\n",
    "        output = model(features).detach().numpy().squeeze()\n",
    "        outputs.append(output)\n",
    "    \n",
    "    # Stack outputs and take argmax to get the predicted class\n",
    "    outputs = np.stack(outputs, axis=1)  # Shape: [num_samples, 10]\n",
    "    predictions = np.argmax(outputs, axis=1)\n",
    "    return predictions\n",
    "\n",
    "# Step 4: Measure accuracy and print confusion matrix\n",
    "train_predictions = classify(train_features)\n",
    "train_labels_np = train_labels.numpy()  # Convert labels to numpy for evaluation\n",
    "\n",
    "accuracy = accuracy_score(train_labels_np, train_predictions)\n",
    "conf_matrix = confusion_matrix(train_labels_np, train_predictions)\n",
    "\n",
    "print(f\"Training Accuracy: {accuracy * 100:.2f}%\")\n",
    "print(\"Confusion Matrix:\")\n",
    "print(conf_matrix)\n",
    "\n",
    "# Optional: Improved classify function using one matrix multiplication\n",
    "class MultiPerceptron(nn.Module):\n",
    "    def __init__(self):\n",
    "        super(MultiPerceptron, self).__init__()\n",
    "        self.fc = nn.Linear(28 * 28, 10)  # 10 outputs for each digit class\n",
    "\n",
    "    def forward(self, x):\n",
    "        x = x.view(-1, 28 * 28)\n",
    "        return self.fc(x)  # No activation here; we use argmax for classification\n",
    "\n",
    "# Train the multi-perceptron model (optional, alternative method)\n",
    "multi_model = MultiPerceptron()\n",
    "criterion = nn.CrossEntropyLoss()\n",
    "optimizer = optim.Adam(multi_model.parameters(), lr=0.001)\n",
    "\n",
    "epochs = 5\n",
    "for epoch in range(epochs):\n",
    "    optimizer.zero_grad()\n",
    "    outputs = multi_model(train_features)\n",
    "    loss = criterion(outputs, train_labels)\n",
    "    loss.backward()\n",
    "    optimizer.step()\n",
    "\n",
    "print(\"Multi-perceptron model trained.\")\n",
    "\n",
    "# Evaluate the multi-perceptron model\n",
    "with torch.no_grad():\n",
    "    multi_outputs = multi_model(train_features)\n",
    "    multi_predictions = torch.argmax(multi_outputs, dim=1).numpy()\n",
    "    multi_accuracy = accuracy_score(train_labels_np, multi_predictions)\n",
    "    multi_conf_matrix = confusion_matrix(train_labels_np, multi_predictions)\n",
    "\n",
    "print(f\"Multi-perceptron Training Accuracy: {multi_accuracy * 100:.2f}%\")\n",
    "print(\"Multi-perceptron Confusion Matrix:\")\n",
    "print(multi_conf_matrix)\n"
   ]
  },
  {
   "cell_type": "code",
   "execution_count": null,
   "metadata": {},
   "outputs": [
    {
     "name": "stdout",
     "output_type": "stream",
     "text": [
      "Epoch [1/20], Loss: 2.3041\n",
      "Epoch [2/20], Loss: 2.3035\n",
      "Epoch [3/20], Loss: 2.3030\n",
      "Epoch [4/20], Loss: 2.3025\n",
      "Epoch [5/20], Loss: 2.3020\n",
      "Epoch [6/20], Loss: 2.3016\n",
      "Epoch [7/20], Loss: 2.3012\n",
      "Epoch [8/20], Loss: 2.3008\n",
      "Epoch [9/20], Loss: 2.3004\n",
      "Epoch [10/20], Loss: 2.3000\n",
      "Epoch [11/20], Loss: 2.2997\n",
      "Epoch [12/20], Loss: 2.2993\n",
      "Epoch [13/20], Loss: 2.2990\n",
      "Epoch [14/20], Loss: 2.2986\n",
      "Epoch [15/20], Loss: 2.2982\n",
      "Epoch [16/20], Loss: 2.2978\n",
      "Epoch [17/20], Loss: 2.2974\n",
      "Epoch [18/20], Loss: 2.2970\n",
      "Epoch [19/20], Loss: 2.2965\n",
      "Epoch [20/20], Loss: 2.2959\n",
      "Training Accuracy: 11.36%\n",
      "Confusion Matrix:\n",
      "[[   0 4932    0    0    0    0    0    0    0    0]\n",
      " [   0 5678    0    0    0    0    0    0    0    0]\n",
      " [   0 4968    0    0    0    0    0    0    0    0]\n",
      " [   0 5101    0    0    0    0    0    0    0    0]\n",
      " [   0 4859    0    0    0    0    0    0    0    0]\n",
      " [   0 4506    0    0    0    0    0    0    0    0]\n",
      " [   0 4951    0    0    0    0    0    0    0    0]\n",
      " [   0 5175    0    0    0    0    0    0    0    0]\n",
      " [   0 4842    0    0    0    0    0    0    0    0]\n",
      " [   0 4988    0    0    0    0    0    0    0    0]]\n"
     ]
    }
   ],
   "source": [
    "import torch\n",
    "import torch.nn as nn\n",
    "import torch.optim as optim\n",
    "from sklearn.metrics import confusion_matrix, accuracy_score\n",
    "\n",
    "# Step 1: Load the MNIST data\n",
    "with open('mnist.pkl', 'rb') as mnist_pickle:\n",
    "    MNIST = pickle.load(mnist_pickle, encoding='latin1')\n",
    "\n",
    "# Unpack the training data\n",
    "train_features, train_labels = MNIST[0]\n",
    "train_features = train_features.astype(np.float32) / 255.0  # Normalize\n",
    "train_labels = train_labels.astype(int)  # Ensure labels are integer\n",
    "\n",
    "# Convert features and labels to tensors\n",
    "train_features = torch.tensor(train_features, dtype=torch.float32)\n",
    "train_labels = torch.tensor(train_labels, dtype=torch.long)\n",
    "\n",
    "# Step 2: Define a Multi-Layer Perceptron model\n",
    "class MLP(nn.Module):\n",
    "    def __init__(self):\n",
    "        super(MLP, self).__init__()\n",
    "        self.fc1 = nn.Linear(28 * 28, 256)  # First hidden layer with 256 units\n",
    "        self.fc2 = nn.Linear(256, 128)      # Second hidden layer with 128 units\n",
    "        self.fc3 = nn.Linear(128, 10)       # Output layer for 10 classes\n",
    "\n",
    "    def forward(self, x):\n",
    "        x = x.view(-1, 28 * 28)  # Flatten image\n",
    "        x = torch.relu(self.fc1(x))\n",
    "        x = torch.relu(self.fc2(x))\n",
    "        x = self.fc3(x)\n",
    "        return x  # Output without activation; we will use CrossEntropyLoss\n",
    "\n",
    "# Step 3: Train the MLP model\n",
    "model = MLP()\n",
    "criterion = nn.CrossEntropyLoss()\n",
    "optimizer = optim.Adam(model.parameters(), lr=0.001)\n",
    "\n",
    "epochs = 20  # Increase epochs to give the model more time to learn\n",
    "for epoch in range(epochs):\n",
    "    optimizer.zero_grad()\n",
    "    outputs = model(train_features)\n",
    "    loss = criterion(outputs, train_labels)\n",
    "    loss.backward()\n",
    "    optimizer.step()\n",
    "    print(f\"Epoch [{epoch+1}/{epochs}], Loss: {loss.item():.4f}\")\n",
    "\n",
    "# Step 4: Evaluate accuracy and print confusion matrix\n",
    "with torch.no_grad():\n",
    "    outputs = model(train_features)\n",
    "    _, predictions = torch.max(outputs, 1)\n",
    "    predictions = predictions.numpy()\n",
    "    train_labels_np = train_labels.numpy()  # Convert labels to numpy for evaluation\n",
    "\n",
    "    accuracy = accuracy_score(train_labels_np, predictions)\n",
    "    conf_matrix = confusion_matrix(train_labels_np, predictions)\n",
    "\n",
    "print(f\"Training Accuracy: {accuracy * 100:.2f}%\")\n",
    "print(\"Confusion Matrix:\")\n",
    "print(conf_matrix)\n"
   ]
  },
  {
   "cell_type": "code",
   "execution_count": null,
   "metadata": {},
   "outputs": [
    {
     "name": "stdout",
     "output_type": "stream",
     "text": [
      "Epoch [1/10], Loss: 0.6960\n",
      "Epoch [2/10], Loss: 0.6953\n",
      "Epoch [3/10], Loss: 0.6947\n",
      "Epoch [4/10], Loss: 0.6940\n",
      "Epoch [5/10], Loss: 0.6934\n",
      "Epoch [6/10], Loss: 0.6928\n",
      "Epoch [7/10], Loss: 0.6923\n",
      "Epoch [8/10], Loss: 0.6917\n",
      "Epoch [9/10], Loss: 0.6911\n",
      "Epoch [10/10], Loss: 0.6905\n",
      "Binary Classification Accuracy: 53.52%\n",
      "Binary Confusion Matrix:\n",
      "[[   0 4932]\n",
      " [   0 5678]]\n"
     ]
    }
   ],
   "source": [
    "# Filter the dataset to only include two classes (0 and 1) for easier debugging\n",
    "binary_indices = (train_labels == 0) | (train_labels == 1)\n",
    "binary_features = train_features[binary_indices]\n",
    "binary_labels = train_labels[binary_indices]\n",
    "\n",
    "# Define a simple model for binary classification\n",
    "class BinaryMLP(nn.Module):\n",
    "    def __init__(self):\n",
    "        super(BinaryMLP, self).__init__()\n",
    "        self.fc1 = nn.Linear(28 * 28, 128)\n",
    "        self.fc2 = nn.Linear(128, 64)\n",
    "        self.fc3 = nn.Linear(64, 2)  # Output layer for binary classification\n",
    "\n",
    "    def forward(self, x):\n",
    "        x = x.view(-1, 28 * 28)\n",
    "        x = torch.relu(self.fc1(x))\n",
    "        x = torch.relu(self.fc2(x))\n",
    "        return self.fc3(x)  # No activation, raw logits for CrossEntropyLoss\n",
    "\n",
    "# Initialize and train on the simplified binary dataset\n",
    "binary_model = BinaryMLP()\n",
    "criterion = nn.CrossEntropyLoss()\n",
    "optimizer = optim.Adam(binary_model.parameters(), lr=0.001)\n",
    "\n",
    "# Training loop for binary classification\n",
    "epochs = 10\n",
    "for epoch in range(epochs):\n",
    "    optimizer.zero_grad()\n",
    "    outputs = binary_model(binary_features)\n",
    "    loss = criterion(outputs, binary_labels)\n",
    "    loss.backward()\n",
    "    optimizer.step()\n",
    "    print(f\"Epoch [{epoch+1}/{epochs}], Loss: {loss.item():.4f}\")\n",
    "\n",
    "# Evaluate on binary dataset\n",
    "with torch.no_grad():\n",
    "    binary_outputs = binary_model(binary_features)\n",
    "    _, binary_predictions = torch.max(binary_outputs, 1)\n",
    "    binary_accuracy = accuracy_score(binary_labels, binary_predictions)\n",
    "    binary_conf_matrix = confusion_matrix(binary_labels, binary_predictions)\n",
    "\n",
    "print(f\"Binary Classification Accuracy: {binary_accuracy * 100:.2f}%\")\n",
    "print(\"Binary Confusion Matrix:\")\n",
    "print(binary_conf_matrix)\n"
   ]
  },
  {
   "cell_type": "markdown",
   "metadata": {},
   "source": []
  },
  {
   "cell_type": "code",
   "execution_count": null,
   "metadata": {},
   "outputs": [
    {
     "name": "stdout",
     "output_type": "stream",
     "text": [
      "Epoch [1/30], Loss: 0.6929\n",
      "Epoch [2/30], Loss: 0.6929\n",
      "Epoch [3/30], Loss: 0.6928\n",
      "Epoch [4/30], Loss: 0.6927\n",
      "Epoch [5/30], Loss: 0.6927\n",
      "Epoch [6/30], Loss: 0.6926\n",
      "Epoch [7/30], Loss: 0.6926\n",
      "Epoch [8/30], Loss: 0.6925\n",
      "Epoch [9/30], Loss: 0.6925\n",
      "Epoch [10/30], Loss: 0.6924\n",
      "Epoch [11/30], Loss: 0.6924\n",
      "Epoch [12/30], Loss: 0.6923\n",
      "Epoch [13/30], Loss: 0.6922\n",
      "Epoch [14/30], Loss: 0.6922\n",
      "Epoch [15/30], Loss: 0.6921\n",
      "Epoch [16/30], Loss: 0.6920\n",
      "Epoch [17/30], Loss: 0.6920\n",
      "Epoch [18/30], Loss: 0.6919\n",
      "Epoch [19/30], Loss: 0.6919\n",
      "Epoch [20/30], Loss: 0.6918\n",
      "Epoch [21/30], Loss: 0.6918\n",
      "Epoch [22/30], Loss: 0.6917\n",
      "Epoch [23/30], Loss: 0.6917\n",
      "Epoch [24/30], Loss: 0.6916\n",
      "Epoch [25/30], Loss: 0.6915\n",
      "Epoch [26/30], Loss: 0.6915\n",
      "Epoch [27/30], Loss: 0.6915\n",
      "Epoch [28/30], Loss: 0.6914\n",
      "Epoch [29/30], Loss: 0.6914\n",
      "Epoch [30/30], Loss: 0.6913\n",
      "Improved Binary Classification Accuracy: 53.52%\n",
      "Improved Binary Confusion Matrix:\n",
      "[[   0 4932]\n",
      " [   0 5678]]\n"
     ]
    }
   ],
   "source": [
    "import torch\n",
    "import torch.nn as nn\n",
    "import torch.optim as optim\n",
    "from sklearn.metrics import confusion_matrix, accuracy_score\n",
    "\n",
    "# Define an improved model with additional hidden layers and dropout\n",
    "class ImprovedMLP(nn.Module):\n",
    "    def __init__(self):\n",
    "        super(ImprovedMLP, self).__init__()\n",
    "        self.fc1 = nn.Linear(28 * 28, 256)\n",
    "        self.dropout1 = nn.Dropout(0.3)\n",
    "        self.fc2 = nn.Linear(256, 128)\n",
    "        self.dropout2 = nn.Dropout(0.3)\n",
    "        self.fc3 = nn.Linear(128, 64)\n",
    "        self.fc4 = nn.Linear(64, 2)  # Output layer for binary classification\n",
    "\n",
    "    def forward(self, x):\n",
    "        x = x.view(-1, 28 * 28)  # Flatten the input\n",
    "        x = torch.relu(self.fc1(x))\n",
    "        x = self.dropout1(x)\n",
    "        x = torch.relu(self.fc2(x))\n",
    "        x = self.dropout2(x)\n",
    "        x = torch.relu(self.fc3(x))\n",
    "        return self.fc4(x)  # Raw logits for CrossEntropyLoss\n",
    "\n",
    "# Initialize the model, criterion, and optimizer\n",
    "improved_model = ImprovedMLP()\n",
    "criterion = nn.CrossEntropyLoss()\n",
    "optimizer = optim.Adam(improved_model.parameters(), lr=0.0001)  # Lower learning rate\n",
    "\n",
    "# Training loop with more epochs\n",
    "epochs = 30  # Increased epochs to allow the model more time to learn\n",
    "for epoch in range(epochs):\n",
    "    optimizer.zero_grad()\n",
    "    outputs = improved_model(binary_features)\n",
    "    loss = criterion(outputs, binary_labels)\n",
    "    loss.backward()\n",
    "    optimizer.step()\n",
    "    print(f\"Epoch [{epoch+1}/{epochs}], Loss: {loss.item():.4f}\")\n",
    "\n",
    "# Evaluate accuracy and confusion matrix on the binary dataset\n",
    "with torch.no_grad():\n",
    "    improved_outputs = improved_model(binary_features)\n",
    "    _, improved_predictions = torch.max(improved_outputs, 1)\n",
    "    improved_accuracy = accuracy_score(binary_labels, improved_predictions)\n",
    "    improved_conf_matrix = confusion_matrix(binary_labels, improved_predictions)\n",
    "\n",
    "print(f\"Improved Binary Classification Accuracy: {improved_accuracy * 100:.2f}%\")\n",
    "print(\"Improved Binary Confusion Matrix:\")\n",
    "print(improved_conf_matrix)\n"
   ]
  },
  {
   "cell_type": "code",
   "execution_count": null,
   "metadata": {},
   "outputs": [
    {
     "name": "stdout",
     "output_type": "stream",
     "text": [
      "Requirement already satisfied: ipykernel in /home/codespace/.local/lib/python3.12/site-packages (6.29.5)\n",
      "Requirement already satisfied: comm>=0.1.1 in /home/codespace/.local/lib/python3.12/site-packages (from ipykernel) (0.2.2)\n",
      "Requirement already satisfied: debugpy>=1.6.5 in /home/codespace/.local/lib/python3.12/site-packages (from ipykernel) (1.8.6)\n",
      "Requirement already satisfied: ipython>=7.23.1 in /home/codespace/.local/lib/python3.12/site-packages (from ipykernel) (8.27.0)\n",
      "Requirement already satisfied: jupyter-client>=6.1.12 in /home/codespace/.local/lib/python3.12/site-packages (from ipykernel) (8.6.3)\n",
      "Requirement already satisfied: jupyter-core!=5.0.*,>=4.12 in /home/codespace/.local/lib/python3.12/site-packages (from ipykernel) (5.7.2)\n",
      "Requirement already satisfied: matplotlib-inline>=0.1 in /home/codespace/.local/lib/python3.12/site-packages (from ipykernel) (0.1.7)\n",
      "Requirement already satisfied: nest-asyncio in /home/codespace/.local/lib/python3.12/site-packages (from ipykernel) (1.6.0)\n",
      "Requirement already satisfied: packaging in /home/codespace/.local/lib/python3.12/site-packages (from ipykernel) (24.1)\n",
      "Requirement already satisfied: psutil in /home/codespace/.local/lib/python3.12/site-packages (from ipykernel) (6.0.0)\n",
      "Requirement already satisfied: pyzmq>=24 in /home/codespace/.local/lib/python3.12/site-packages (from ipykernel) (26.2.0)\n",
      "Requirement already satisfied: tornado>=6.1 in /home/codespace/.local/lib/python3.12/site-packages (from ipykernel) (6.4.1)\n",
      "Requirement already satisfied: traitlets>=5.4.0 in /home/codespace/.local/lib/python3.12/site-packages (from ipykernel) (5.14.3)\n",
      "Requirement already satisfied: decorator in /home/codespace/.local/lib/python3.12/site-packages (from ipython>=7.23.1->ipykernel) (5.1.1)\n",
      "Requirement already satisfied: jedi>=0.16 in /home/codespace/.local/lib/python3.12/site-packages (from ipython>=7.23.1->ipykernel) (0.19.1)\n",
      "Requirement already satisfied: prompt-toolkit<3.1.0,>=3.0.41 in /home/codespace/.local/lib/python3.12/site-packages (from ipython>=7.23.1->ipykernel) (3.0.48)\n",
      "Requirement already satisfied: pygments>=2.4.0 in /home/codespace/.local/lib/python3.12/site-packages (from ipython>=7.23.1->ipykernel) (2.18.0)\n",
      "Requirement already satisfied: stack-data in /home/codespace/.local/lib/python3.12/site-packages (from ipython>=7.23.1->ipykernel) (0.6.3)\n",
      "Requirement already satisfied: pexpect>4.3 in /home/codespace/.local/lib/python3.12/site-packages (from ipython>=7.23.1->ipykernel) (4.9.0)\n",
      "Requirement already satisfied: python-dateutil>=2.8.2 in /home/codespace/.local/lib/python3.12/site-packages (from jupyter-client>=6.1.12->ipykernel) (2.9.0.post0)\n",
      "Requirement already satisfied: platformdirs>=2.5 in /home/codespace/.local/lib/python3.12/site-packages (from jupyter-core!=5.0.*,>=4.12->ipykernel) (4.3.6)\n",
      "Requirement already satisfied: parso<0.9.0,>=0.8.3 in /home/codespace/.local/lib/python3.12/site-packages (from jedi>=0.16->ipython>=7.23.1->ipykernel) (0.8.4)\n",
      "Requirement already satisfied: ptyprocess>=0.5 in /home/codespace/.local/lib/python3.12/site-packages (from pexpect>4.3->ipython>=7.23.1->ipykernel) (0.7.0)\n",
      "Requirement already satisfied: wcwidth in /home/codespace/.local/lib/python3.12/site-packages (from prompt-toolkit<3.1.0,>=3.0.41->ipython>=7.23.1->ipykernel) (0.2.13)\n",
      "Requirement already satisfied: six>=1.5 in /home/codespace/.local/lib/python3.12/site-packages (from python-dateutil>=2.8.2->jupyter-client>=6.1.12->ipykernel) (1.16.0)\n",
      "Requirement already satisfied: executing>=1.2.0 in /home/codespace/.local/lib/python3.12/site-packages (from stack-data->ipython>=7.23.1->ipykernel) (2.1.0)\n",
      "Requirement already satisfied: asttokens>=2.1.0 in /home/codespace/.local/lib/python3.12/site-packages (from stack-data->ipython>=7.23.1->ipykernel) (2.4.1)\n",
      "Requirement already satisfied: pure-eval in /home/codespace/.local/lib/python3.12/site-packages (from stack-data->ipython>=7.23.1->ipykernel) (0.2.3)\n",
      "\n",
      "\u001b[1m[\u001b[0m\u001b[34;49mnotice\u001b[0m\u001b[1;39;49m]\u001b[0m\u001b[39;49m A new release of pip is available: \u001b[0m\u001b[31;49m24.2\u001b[0m\u001b[39;49m -> \u001b[0m\u001b[32;49m24.3.1\u001b[0m\n",
      "\u001b[1m[\u001b[0m\u001b[34;49mnotice\u001b[0m\u001b[1;39;49m]\u001b[0m\u001b[39;49m To update, run: \u001b[0m\u001b[32;49mpython3 -m pip install --upgrade pip\u001b[0m\n"
     ]
    }
   ],
   "source": [
    "!pip install --upgrade ipykernel\n"
   ]
  },
  {
   "cell_type": "code",
   "execution_count": 1,
   "metadata": {},
   "outputs": [],
   "source": [
    "import torch\n",
    "import torch.nn as nn\n",
    "import torch.optim as optim\n",
    "import pickle  # Make sure pickle is imported to load data\n",
    "import numpy as np\n",
    "from sklearn.metrics import confusion_matrix, accuracy_score\n",
    "\n",
    "# Step 1: Load the MNIST data\n",
    "with open('mnist.pkl', 'rb') as mnist_pickle:\n",
    "    MNIST = pickle.load(mnist_pickle, encoding='latin1')\n",
    "\n",
    "# Unpack the training data\n",
    "train_features, train_labels = MNIST[0]\n",
    "train_features = train_features.astype(np.float32) / 255.0  # Normalize\n",
    "train_labels = train_labels.astype(int)  # Ensure labels are integer\n",
    "\n",
    "# Convert features and labels to tensors\n",
    "train_features = torch.tensor(train_features, dtype=torch.float32)\n",
    "train_labels = torch.tensor(train_labels, dtype=torch.long)\n",
    "\n",
    "# Define the rest of your model and training code below\n"
   ]
  },
  {
   "cell_type": "code",
   "execution_count": 10,
   "metadata": {},
   "outputs": [
    {
     "ename": "",
     "evalue": "",
     "output_type": "error",
     "traceback": [
      "\u001b[1;31mThe Kernel crashed while executing code in the current cell or a previous cell. \n",
      "\u001b[1;31mPlease review the code in the cell(s) to identify a possible cause of the failure. \n",
      "\u001b[1;31mClick <a href='https://aka.ms/vscodeJupyterKernelCrash'>here</a> for more info. \n",
      "\u001b[1;31mView Jupyter <a href='command:jupyter.viewOutput'>log</a> for further details."
     ]
    }
   ],
   "source": [
    "# Filter the dataset to only include two classes (0 and 1) for easier debugging\n",
    "binary_indices = (train_labels == 0) | (train_labels == 1)\n",
    "binary_features = train_features[binary_indices]\n",
    "binary_labels = train_labels[binary_indices]\n",
    "\n",
    "# Define a CNN model for binary classification\n",
    "class SimpleCNN(nn.Module):\n",
    "    def __init__(self):\n",
    "        super(SimpleCNN, self).__init__()\n",
    "        self.conv1 = nn.Conv2d(1, 32, kernel_size=3, stride=1, padding=1)\n",
    "        self.conv2 = nn.Conv2d(32, 64, kernel_size=3, stride=1, padding=1)\n",
    "        self.fc1 = nn.Linear(64 * 28 * 28, 128)\n",
    "        self.fc2 = nn.Linear(128, 2)  # Output layer for binary classification\n",
    "\n",
    "    def forward(self, x):\n",
    "        x = x.view(-1, 1, 28, 28)  # Reshape for CNN: [batch_size, channels, height, width]\n",
    "        x = torch.relu(self.conv1(x))\n",
    "        x = torch.relu(self.conv2(x))\n",
    "        x = x.view(-1, 64 * 28 * 28)  # Flatten\n",
    "        x = torch.relu(self.fc1(x))\n",
    "        return self.fc2(x)  # Raw logits for CrossEntropyLoss\n",
    "\n",
    "# Initialize the CNN model, loss, and optimizer\n",
    "cnn_model = SimpleCNN()\n",
    "criterion = nn.CrossEntropyLoss()  # Use CrossEntropyLoss directly for logits\n",
    "optimizer = optim.Adam(cnn_model.parameters(), lr=0.0001)  # Lower learning rate\n",
    "\n",
    "# Training loop for the CNN\n",
    "epochs = 20  # Increased epochs\n",
    "for epoch in range(epochs):\n",
    "    optimizer.zero_grad()\n",
    "    outputs = cnn_model(binary_features)\n",
    "    loss = criterion(outputs, binary_labels)\n",
    "    loss.backward()\n",
    "    optimizer.step()\n",
    "    print(f\"Epoch [{epoch+1}/{epochs}], Loss: {loss.item():.4f}\")\n",
    "\n",
    "# Evaluate accuracy and confusion matrix on the binary dataset\n",
    "with torch.no_grad():\n",
    "    cnn_outputs = cnn_model(binary_features)\n",
    "    _, cnn_predictions = torch.max(cnn_outputs, 1)\n",
    "    cnn_accuracy = accuracy_score(binary_labels, cnn_predictions)\n",
    "    cnn_conf_matrix = confusion_matrix(binary_labels, cnn_predictions)\n",
    "\n",
    "print(f\"CNN Binary Classification Accuracy: {cnn_accuracy * 100:.2f}%\")\n",
    "print(\"CNN Binary Confusion Matrix:\")\n",
    "print(cnn_conf_matrix)"
   ]
  },
  {
   "cell_type": "code",
   "execution_count": null,
   "metadata": {},
   "outputs": [],
   "source": []
  }
 ],
 "metadata": {
  "celltoolbar": "Slideshow",
  "kernelspec": {
   "display_name": "Python 3",
   "language": "python",
   "name": "python3"
  },
  "language_info": {
   "codemirror_mode": {
    "name": "ipython",
    "version": 3
   },
   "file_extension": ".py",
   "mimetype": "text/x-python",
   "name": "python",
   "nbconvert_exporter": "python",
   "pygments_lexer": "ipython3",
   "version": "3.12.1"
  },
  "livereveal": {
   "start_slideshow_at": "selected"
  }
 },
 "nbformat": 4,
 "nbformat_minor": 2
}
