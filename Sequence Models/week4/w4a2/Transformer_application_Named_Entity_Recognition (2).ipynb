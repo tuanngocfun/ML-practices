{
  "cells": [
    {
      "cell_type": "markdown",
      "metadata": {
        "id": "jHmqTbBs2Wca"
      },
      "source": [
        "# Transformer Network Application: Named-Entity Recognition\n",
        "\n",
        "Welcome to Week 4's first ungraded lab. In this notebook you'll explore one application of the transformer architecture that you built in the previous assignment.\n",
        "\n",
        "**After this assignment you'll be able to**:\n",
        "\n",
        "* Use tokenizers and pre-trained models from the HuggingFace Library.\n",
        "* Fine-tune a pre-trained transformer model for Named-Entity Recognition"
      ]
    },
    {
      "cell_type": "code",
      "source": [
        "from google.colab import drive\n",
        "drive.mount('/content/drive')"
      ],
      "metadata": {
        "colab": {
          "base_uri": "https://localhost:8080/"
        },
        "id": "ogxpSFh_2Xod",
        "outputId": "267c9d93-37fe-4ec2-82d6-c655c68dbc91"
      },
      "execution_count": 1,
      "outputs": [
        {
          "output_type": "stream",
          "name": "stdout",
          "text": [
            "Mounted at /content/drive\n"
          ]
        }
      ]
    },
    {
      "cell_type": "markdown",
      "metadata": {
        "id": "z3oAMq1h2Wcd"
      },
      "source": [
        "## Table of Contents\n",
        "\n",
        "- [Packages](#0)\n",
        "- [1 - Named-Entity Recogniton to Process Resumes](#1)\n",
        "    - [1.1 - Data Cleaning](#1-1)\n",
        "    - [1.2 - Padding and Generating Tags](#1-2)\n",
        "    - [1.3 - Tokenize and Align Labels with 🤗 Library](#1-3)\n",
        "        - [Exercise 1 - tokenize_and_align_labels](#ex-1)\n",
        "    - [1.4 - Optimization](#1-4)"
      ]
    },
    {
      "cell_type": "markdown",
      "metadata": {
        "id": "OcPUK-nw2Wce"
      },
      "source": [
        "<a name='0'></a>\n",
        "## Packages\n",
        "\n",
        "Run the following cell to load the packages you'll need."
      ]
    },
    {
      "cell_type": "code",
      "execution_count": 2,
      "metadata": {
        "id": "V9a7-sYQ2Wce"
      },
      "outputs": [],
      "source": [
        "import pandas as pd\n",
        "import tensorflow as tf\n",
        "import json\n",
        "import random\n",
        "import logging\n",
        "import re"
      ]
    },
    {
      "cell_type": "markdown",
      "metadata": {
        "id": "suJ-onGo2Wcf"
      },
      "source": [
        "<a name='1'></a>\n",
        "## 1 - Named-Entity Recogniton to Process Resumes\n",
        "\n",
        "When faced with a large amount of unstructured text data, named-entity recognition (NER) can help you detect and classify important information in your dataset. For instance, in the running example \"Jane vists Africa in September\", NER would help you detect \"Jane\", \"Africa\", and \"September\" as named-entities and classify them as person, location, and time.\n",
        "\n",
        "* You will use a variation of the Transformer model you built in the last assignment to process a large dataset of resumes.\n",
        "* You will find and classify relavent information such as the companies the applicant worked at, skills, type of degree, etc."
      ]
    },
    {
      "cell_type": "markdown",
      "metadata": {
        "id": "A_4n_cBs2Wcf"
      },
      "source": [
        "<a name='1-1'></a>\n",
        "### 1.1 - Dataset Cleaning\n",
        "\n",
        "In this assignment you will optimize a Transformer model on a dataset of resumes. Take a look at how the data you will be working with are structured."
      ]
    },
    {
      "cell_type": "code",
      "execution_count": 3,
      "metadata": {
        "id": "SDYzRtsE2Wcf"
      },
      "outputs": [],
      "source": [
        "df_data = pd.read_json(\"/content/drive/MyDrive/w4a2/ner.json\", lines=True)\n",
        "df_data = df_data.drop(['extras'], axis=1)\n",
        "df_data['content'] = df_data['content'].str.replace(\"\\n\", \" \")"
      ]
    },
    {
      "cell_type": "code",
      "execution_count": 4,
      "metadata": {
        "colab": {
          "base_uri": "https://localhost:8080/",
          "height": 206
        },
        "id": "60xZiem72Wcg",
        "outputId": "a6c675a6-21f3-40b1-f20c-4712d499371d"
      },
      "outputs": [
        {
          "output_type": "execute_result",
          "data": {
            "text/plain": [
              "                                             content  \\\n",
              "0  Abhishek Jha Application Development Associate...   \n",
              "1  Afreen Jamadar Active member of IIIT Committee...   \n",
              "2  Akhil Yadav Polemaina Hyderabad, Telangana - E...   \n",
              "3  Alok Khandai Operational Analyst (SQL DBA) Eng...   \n",
              "4  Ananya Chavan lecturer - oracle tutorials  Mum...   \n",
              "\n",
              "                                          annotation  \n",
              "0  [{'label': ['Skills'], 'points': [{'start': 12...  \n",
              "1  [{'label': ['Email Address'], 'points': [{'sta...  \n",
              "2  [{'label': ['Skills'], 'points': [{'start': 37...  \n",
              "3  [{'label': ['Skills'], 'points': [{'start': 80...  \n",
              "4  [{'label': ['Degree'], 'points': [{'start': 20...  "
            ],
            "text/html": [
              "\n",
              "  <div id=\"df-9191a293-c4b7-4458-b1b4-959f7df272da\" class=\"colab-df-container\">\n",
              "    <div>\n",
              "<style scoped>\n",
              "    .dataframe tbody tr th:only-of-type {\n",
              "        vertical-align: middle;\n",
              "    }\n",
              "\n",
              "    .dataframe tbody tr th {\n",
              "        vertical-align: top;\n",
              "    }\n",
              "\n",
              "    .dataframe thead th {\n",
              "        text-align: right;\n",
              "    }\n",
              "</style>\n",
              "<table border=\"1\" class=\"dataframe\">\n",
              "  <thead>\n",
              "    <tr style=\"text-align: right;\">\n",
              "      <th></th>\n",
              "      <th>content</th>\n",
              "      <th>annotation</th>\n",
              "    </tr>\n",
              "  </thead>\n",
              "  <tbody>\n",
              "    <tr>\n",
              "      <th>0</th>\n",
              "      <td>Abhishek Jha Application Development Associate...</td>\n",
              "      <td>[{'label': ['Skills'], 'points': [{'start': 12...</td>\n",
              "    </tr>\n",
              "    <tr>\n",
              "      <th>1</th>\n",
              "      <td>Afreen Jamadar Active member of IIIT Committee...</td>\n",
              "      <td>[{'label': ['Email Address'], 'points': [{'sta...</td>\n",
              "    </tr>\n",
              "    <tr>\n",
              "      <th>2</th>\n",
              "      <td>Akhil Yadav Polemaina Hyderabad, Telangana - E...</td>\n",
              "      <td>[{'label': ['Skills'], 'points': [{'start': 37...</td>\n",
              "    </tr>\n",
              "    <tr>\n",
              "      <th>3</th>\n",
              "      <td>Alok Khandai Operational Analyst (SQL DBA) Eng...</td>\n",
              "      <td>[{'label': ['Skills'], 'points': [{'start': 80...</td>\n",
              "    </tr>\n",
              "    <tr>\n",
              "      <th>4</th>\n",
              "      <td>Ananya Chavan lecturer - oracle tutorials  Mum...</td>\n",
              "      <td>[{'label': ['Degree'], 'points': [{'start': 20...</td>\n",
              "    </tr>\n",
              "  </tbody>\n",
              "</table>\n",
              "</div>\n",
              "    <div class=\"colab-df-buttons\">\n",
              "\n",
              "  <div class=\"colab-df-container\">\n",
              "    <button class=\"colab-df-convert\" onclick=\"convertToInteractive('df-9191a293-c4b7-4458-b1b4-959f7df272da')\"\n",
              "            title=\"Convert this dataframe to an interactive table.\"\n",
              "            style=\"display:none;\">\n",
              "\n",
              "  <svg xmlns=\"http://www.w3.org/2000/svg\" height=\"24px\" viewBox=\"0 -960 960 960\">\n",
              "    <path d=\"M120-120v-720h720v720H120Zm60-500h600v-160H180v160Zm220 220h160v-160H400v160Zm0 220h160v-160H400v160ZM180-400h160v-160H180v160Zm440 0h160v-160H620v160ZM180-180h160v-160H180v160Zm440 0h160v-160H620v160Z\"/>\n",
              "  </svg>\n",
              "    </button>\n",
              "\n",
              "  <style>\n",
              "    .colab-df-container {\n",
              "      display:flex;\n",
              "      gap: 12px;\n",
              "    }\n",
              "\n",
              "    .colab-df-convert {\n",
              "      background-color: #E8F0FE;\n",
              "      border: none;\n",
              "      border-radius: 50%;\n",
              "      cursor: pointer;\n",
              "      display: none;\n",
              "      fill: #1967D2;\n",
              "      height: 32px;\n",
              "      padding: 0 0 0 0;\n",
              "      width: 32px;\n",
              "    }\n",
              "\n",
              "    .colab-df-convert:hover {\n",
              "      background-color: #E2EBFA;\n",
              "      box-shadow: 0px 1px 2px rgba(60, 64, 67, 0.3), 0px 1px 3px 1px rgba(60, 64, 67, 0.15);\n",
              "      fill: #174EA6;\n",
              "    }\n",
              "\n",
              "    .colab-df-buttons div {\n",
              "      margin-bottom: 4px;\n",
              "    }\n",
              "\n",
              "    [theme=dark] .colab-df-convert {\n",
              "      background-color: #3B4455;\n",
              "      fill: #D2E3FC;\n",
              "    }\n",
              "\n",
              "    [theme=dark] .colab-df-convert:hover {\n",
              "      background-color: #434B5C;\n",
              "      box-shadow: 0px 1px 3px 1px rgba(0, 0, 0, 0.15);\n",
              "      filter: drop-shadow(0px 1px 2px rgba(0, 0, 0, 0.3));\n",
              "      fill: #FFFFFF;\n",
              "    }\n",
              "  </style>\n",
              "\n",
              "    <script>\n",
              "      const buttonEl =\n",
              "        document.querySelector('#df-9191a293-c4b7-4458-b1b4-959f7df272da button.colab-df-convert');\n",
              "      buttonEl.style.display =\n",
              "        google.colab.kernel.accessAllowed ? 'block' : 'none';\n",
              "\n",
              "      async function convertToInteractive(key) {\n",
              "        const element = document.querySelector('#df-9191a293-c4b7-4458-b1b4-959f7df272da');\n",
              "        const dataTable =\n",
              "          await google.colab.kernel.invokeFunction('convertToInteractive',\n",
              "                                                    [key], {});\n",
              "        if (!dataTable) return;\n",
              "\n",
              "        const docLinkHtml = 'Like what you see? Visit the ' +\n",
              "          '<a target=\"_blank\" href=https://colab.research.google.com/notebooks/data_table.ipynb>data table notebook</a>'\n",
              "          + ' to learn more about interactive tables.';\n",
              "        element.innerHTML = '';\n",
              "        dataTable['output_type'] = 'display_data';\n",
              "        await google.colab.output.renderOutput(dataTable, element);\n",
              "        const docLink = document.createElement('div');\n",
              "        docLink.innerHTML = docLinkHtml;\n",
              "        element.appendChild(docLink);\n",
              "      }\n",
              "    </script>\n",
              "  </div>\n",
              "\n",
              "\n",
              "<div id=\"df-08f86e44-7c19-43ef-b611-71a53bf113f7\">\n",
              "  <button class=\"colab-df-quickchart\" onclick=\"quickchart('df-08f86e44-7c19-43ef-b611-71a53bf113f7')\"\n",
              "            title=\"Suggest charts\"\n",
              "            style=\"display:none;\">\n",
              "\n",
              "<svg xmlns=\"http://www.w3.org/2000/svg\" height=\"24px\"viewBox=\"0 0 24 24\"\n",
              "     width=\"24px\">\n",
              "    <g>\n",
              "        <path d=\"M19 3H5c-1.1 0-2 .9-2 2v14c0 1.1.9 2 2 2h14c1.1 0 2-.9 2-2V5c0-1.1-.9-2-2-2zM9 17H7v-7h2v7zm4 0h-2V7h2v10zm4 0h-2v-4h2v4z\"/>\n",
              "    </g>\n",
              "</svg>\n",
              "  </button>\n",
              "\n",
              "<style>\n",
              "  .colab-df-quickchart {\n",
              "      --bg-color: #E8F0FE;\n",
              "      --fill-color: #1967D2;\n",
              "      --hover-bg-color: #E2EBFA;\n",
              "      --hover-fill-color: #174EA6;\n",
              "      --disabled-fill-color: #AAA;\n",
              "      --disabled-bg-color: #DDD;\n",
              "  }\n",
              "\n",
              "  [theme=dark] .colab-df-quickchart {\n",
              "      --bg-color: #3B4455;\n",
              "      --fill-color: #D2E3FC;\n",
              "      --hover-bg-color: #434B5C;\n",
              "      --hover-fill-color: #FFFFFF;\n",
              "      --disabled-bg-color: #3B4455;\n",
              "      --disabled-fill-color: #666;\n",
              "  }\n",
              "\n",
              "  .colab-df-quickchart {\n",
              "    background-color: var(--bg-color);\n",
              "    border: none;\n",
              "    border-radius: 50%;\n",
              "    cursor: pointer;\n",
              "    display: none;\n",
              "    fill: var(--fill-color);\n",
              "    height: 32px;\n",
              "    padding: 0;\n",
              "    width: 32px;\n",
              "  }\n",
              "\n",
              "  .colab-df-quickchart:hover {\n",
              "    background-color: var(--hover-bg-color);\n",
              "    box-shadow: 0 1px 2px rgba(60, 64, 67, 0.3), 0 1px 3px 1px rgba(60, 64, 67, 0.15);\n",
              "    fill: var(--button-hover-fill-color);\n",
              "  }\n",
              "\n",
              "  .colab-df-quickchart-complete:disabled,\n",
              "  .colab-df-quickchart-complete:disabled:hover {\n",
              "    background-color: var(--disabled-bg-color);\n",
              "    fill: var(--disabled-fill-color);\n",
              "    box-shadow: none;\n",
              "  }\n",
              "\n",
              "  .colab-df-spinner {\n",
              "    border: 2px solid var(--fill-color);\n",
              "    border-color: transparent;\n",
              "    border-bottom-color: var(--fill-color);\n",
              "    animation:\n",
              "      spin 1s steps(1) infinite;\n",
              "  }\n",
              "\n",
              "  @keyframes spin {\n",
              "    0% {\n",
              "      border-color: transparent;\n",
              "      border-bottom-color: var(--fill-color);\n",
              "      border-left-color: var(--fill-color);\n",
              "    }\n",
              "    20% {\n",
              "      border-color: transparent;\n",
              "      border-left-color: var(--fill-color);\n",
              "      border-top-color: var(--fill-color);\n",
              "    }\n",
              "    30% {\n",
              "      border-color: transparent;\n",
              "      border-left-color: var(--fill-color);\n",
              "      border-top-color: var(--fill-color);\n",
              "      border-right-color: var(--fill-color);\n",
              "    }\n",
              "    40% {\n",
              "      border-color: transparent;\n",
              "      border-right-color: var(--fill-color);\n",
              "      border-top-color: var(--fill-color);\n",
              "    }\n",
              "    60% {\n",
              "      border-color: transparent;\n",
              "      border-right-color: var(--fill-color);\n",
              "    }\n",
              "    80% {\n",
              "      border-color: transparent;\n",
              "      border-right-color: var(--fill-color);\n",
              "      border-bottom-color: var(--fill-color);\n",
              "    }\n",
              "    90% {\n",
              "      border-color: transparent;\n",
              "      border-bottom-color: var(--fill-color);\n",
              "    }\n",
              "  }\n",
              "</style>\n",
              "\n",
              "  <script>\n",
              "    async function quickchart(key) {\n",
              "      const quickchartButtonEl =\n",
              "        document.querySelector('#' + key + ' button');\n",
              "      quickchartButtonEl.disabled = true;  // To prevent multiple clicks.\n",
              "      quickchartButtonEl.classList.add('colab-df-spinner');\n",
              "      try {\n",
              "        const charts = await google.colab.kernel.invokeFunction(\n",
              "            'suggestCharts', [key], {});\n",
              "      } catch (error) {\n",
              "        console.error('Error during call to suggestCharts:', error);\n",
              "      }\n",
              "      quickchartButtonEl.classList.remove('colab-df-spinner');\n",
              "      quickchartButtonEl.classList.add('colab-df-quickchart-complete');\n",
              "    }\n",
              "    (() => {\n",
              "      let quickchartButtonEl =\n",
              "        document.querySelector('#df-08f86e44-7c19-43ef-b611-71a53bf113f7 button');\n",
              "      quickchartButtonEl.style.display =\n",
              "        google.colab.kernel.accessAllowed ? 'block' : 'none';\n",
              "    })();\n",
              "  </script>\n",
              "</div>\n",
              "\n",
              "    </div>\n",
              "  </div>\n"
            ],
            "application/vnd.google.colaboratory.intrinsic+json": {
              "type": "dataframe",
              "variable_name": "df_data",
              "summary": "{\n  \"name\": \"df_data\",\n  \"rows\": 220,\n  \"fields\": [\n    {\n      \"column\": \"content\",\n      \"properties\": {\n        \"dtype\": \"string\",\n        \"num_unique_values\": 219,\n        \"samples\": [\n          \"Hemil Bhavsar Jr. ASP.NET Developer in True Vision Technology  Ahmedabad, Gujarat - Email me on Indeed: indeed.com/r/Hemil-Bhavsar/ce3a928d837ce9e1  To seek a job in the IT industry where I can utilize my skills and technical knowledge for the organization's and individual growth  Area of interest: \\u2022 Software Testing. \\u2022 Testing application manually. \\u2022 Great interest to learn new Technologies and Languages. \\u2022 Enterprise Application Development \\u2022 Web Application Development  WORK EXPERIENCE  Jr. ASP.NET Developer in True Vision Technology  -  September 2015 to May 2016  Software Testing Training at Unicode Technology From March 2018 to May 2018  Jr. ASP.NET Developer (Intern) in Softech Infosys  -  March 2015 to August 2015  EDUCATION  MSC  KSV University -  Gandhinagar, Gujarat  April 2015  B.C.A  Gujarat University  April 2013  SKILLS  ASP (1 year), ASP.NET (1 year), MS ASP (1 year), SOFTWARE TESTING (Less than 1 year), TESTING (Less than 1 year)  https://www.indeed.com/r/Hemil-Bhavsar/ce3a928d837ce9e1?isid=rex-download&ikw=download-top&co=IN   ADDITIONAL INFORMATION  Technical skillset: \\u2022 Manual Testing Techniques \\u2022 Web Application testing \\u2022 STLC (Software Testing Life Cycle) process \\u2022 Verification and Validation process \\u2022 Programming Language: Software Testing, ASP.Net with C#  \\u2022 Frameworks: Microsoft Visual Studio 2010, Frameworks 3.5, Frameworks (C#) 4.0, 4.5 \\u2022 Database tools: MySQL, SQL Server 2008, SQL Server 2010, MS-Access 2008 \\u2022 Report generation Tool: Crystal Report\",\n          \"Syam Devendla Bengaluru, Karnataka - Email me on Indeed: indeed.com/r/Syam-Devendla/ c9ba7bc582b14a7b  Senior software engineer with more than 9 years of experience in C, C++, Data Structures programming and BI analytics. Experience includes implementation and testing of enterprise and mobile application and middleware component software.  WORK EXPERIENCE  SMTS  Oracle India -  Bengaluru, Karnataka -  January 2014 to Present  with OBIEE team. \\u2022 Worked in Samsung R&D Operations, Bangalore since Oct- 2008 to Jan 2014, with Multimedia team.  EDUCATION  Post Graduate Diploma in Embedded Systems  CDAC -  Kochi, Kerala  2006  Bachelor of Technology in Electronics and Communications  Nagarjuna University  2005  SKILLS  .NET (Less than 1 year), ALGORITHMS (Less than 1 year), ALSA (Less than 1 year), ANDROID (Less than 1 year), APACHE HADOOP HDFS (Less than 1 year)  ADDITIONAL INFORMATION  Core Competencies  \\u2022 Extensively worked in C, C++ \\u2022 Good understanding of Data Structures and Algorithms \\u2022 Good understanding and knowledge of BI Analytics of OBIEE. \\u2022 Codes at HackerRank.com and am a 4 Star Rank coder in algorithms, coded using C++ STL \\u2022 Hands on experience of GDB Debugger for Core dump analysis and Server  https://www.indeed.com/r/Syam-Devendla/c9ba7bc582b14a7b?isid=rex-download&ikw=download-top&co=IN https://www.indeed.com/r/Syam-Devendla/c9ba7bc582b14a7b?isid=rex-download&ikw=download-top&co=IN   side debugging. \\u2022 Hands on experience of Visual Studio debugger for debugging on Windows platform. \\u2022 Working experience of Multithreaded applications for more than eight years \\u2022 Good understanding of OOPS Design principles and STL. \\u2022 Experienced in using various debuggers that include GDB debugger, Eclipse, VC++ IDE, Trace 32, WinDbg, Visual Studio. \\u2022 Good knowledge of Big data technologies(Hadoop, Yarn Architecture, map- reduce, Hive, Sqoop, Hbase, Zookeeper) \\u2022 Good experience in Hadoop development and Admin activities. \\u2022 Able to understand and review Java and Scala code \\u2022 Good Exposure to Software practices, SDLC. \\u2022 Good understanding and porting knowledge of framework components. \\u2022 Good understanding of multimedia concepts, Audio video synchronization, AudioOut, AudioIn and video zoom. \\u2022 Knowledge of WEBRTC features. \\u2022 Good knowledge of video Engine. \\u2022 Basic knowledge of MFC, socket programming. \\u2022 Good knowledge in programming and operating system concepts. \\u2022 Experience in working in a project from product development phase to commercialization phase. \\u2022 Successfully commercialized more than 25 million mobiles spanning across twenty models. \\u2022 Good global work exposure having worked in different work environments. \\u2022 Basic understanding of Linux Operating system. \\u2022 Experienced in design and implementation of Multimedia Applications for Mobile handsets. \\u2022 Good experience working on Smart Phone platforms(Framework, Middleware and Application development) having worked on various mobile platforms SHP, Samsung Bada, Linux, WindowsMobile5.0, SLP, Android and Tizen. Syam Prasad Devendla \\u2022 Good knowledge and understanding of different frameworks for multimedia. \\u2022 Good knowledge of multi-threaded programming and IPC mechanisms. \\u2022 Excellent interpersonal and communication skills and ability to work in a team. \\u2022 Skilled at learning new concepts quickly, working well under pressure, and communicating ideas clearly and effectively. \\u2022 Tools Used: Beyond Compare, Samsung memory leak tool, and Samsung code coverageTool, VS 2005 Remote Tools, KlocWork, WinShark and Ethereal. \\u2022 Experienced in working with configuration tools like VSS, Perforce, and Clear Case.  \\u2022 Operating Systems: Windows, Ubuntu Linux \\u2022 Mobile Platforms: SHP, Bada, Linux, WindowsMobile5.0, SLP and Tizen \\u2022 Technology: Multimedia, Content, Mobile Applications \\u2022 Languages: C, C++(Data Structures, Design Patterns, STL) \\u2022 Tools: Eclipse, VS2005, VS2010 KlocWork, Clear case, Perforce  Projects    \\u2022 OBIEE Environment: Oracle BI Languages: C++ \\u2022 Implementing enhancements, improving the diagnosabilty and address the customer issues by fixing the code bugs. \\u2022 Developed a security feature in downloads module to protect the system from DOS attack. \\u2022 Implemented a performance enhancer logic in Ibots to execute the agents faster. \\u2022 Responsible for fix/enhance Ibot(Delivers/Agent/Schedulers) issues in the product. \\u2022 Responsible for fixing the core dump issues reported by customers in the nqscheduler component in linux 32/64 and windows 32/64 platforms. \\u2022 Oracle-Thirdeye Environment: HDFS, Yarn, Hadoop, map-reduce, thirdeye-agent \\u2022 GUI is able to provide all information in a usable environment. \\u2022 Most of the use will be as an embeddable UI in applications like TLP, DTE, and Bug DB etc.  Syam Prasad Devendla \\u2022 Provide term, line number and time indexes for word and phrase search, ability to drill down to a given line number and data around it, and also have ability to see data around a given time.  \\u2022 Thirdeye-nodes-refresh Environment: HDFS, Yarn, Hadoop, map-reduce \\u2022 All processes for thirdeye including Hadoop components running on the same node. This overburdens the master node and leads to frequent failures due to disk space and memory issues, so worked on POC to replicate entire thirdeye setup with required configuration on new machines.  \\u2022 BI-Manifest-Comparison Tool Environment: Oracle BI Languages: Java \\u2022 Implemented tool to create an excel with manifests data across platforms and painted the mismatched versions \\u2022 WebRTC Environment: Browser Languages: C++ \\u2022 Media Recorder implementation. \\u2022 Multi Party communication development. \\u2022 Stage Fright (recorder and playback) \\u2022 Video engine \\u2022 Peer connection \\u2022 PlatformsY2012-Framework (content) Environment: Tizen Languages: C++ \\u2022 Developing Tizen framework (content) on SLP. \\u2022 File Search \\u2022 Directory Search \\u2022 Playlist and Playlist Manager \\u2022 Supporting Tizen content framework. \\u2022 PlatformsY2011 -Framework (Multimedia- player) Environment: Bada, Eclipse, SLP (Samsung Linux Platform) Languages: C++    \\u2022 Implemented player framework for Bada OS \\u2022 Audio Player and video Player modules. \\u2022 POC of AV synchronization for video zoom. \\u2022 Supporting Bada2.0 player framework and commercialization. \\u2022 Movie Studio (Video Editor) Environment: Bada, Eclipse Languages: C++ \\u2022 Developed application based on UI guidelines given, modules like preview, split and trim forms using VePlayer library. \\u2022 Implemented VPL file creation. \\u2022 Media Browser Environment: Bada, Eclipse Languages: C, C++ \\u2022 This application is developed to check the stability of Bada's player and Audio out modules. \\u2022 Audio Player and video Player modules. \\u2022 Implemented progress bar of player in both Player Form and PLS Player Form. \\u2022 Bada-NS(R&D) Environment: Linux, SLP (Samsung Linux Platform) Languages: C, C++ \\u2022 Worked on launching emulator \\u2022 knowledge of SLP Multimedia Framework \\u2022 Ported Player (Audio and Video) module \\u2022 Ported Audio Out and Audio In modules using ALSA library \\u2022 ETMs Firmware Client: Wabtec Railway Electronics, German Town  Syam Prasad Devendla Environment: Windows XP, IAR Workbench Hardware: IOC board (Provided by WRE) Languages: C \\u2022 Serial - Ethernet Bridge \\u2022 Serial communication commands handling. \\u2022 Supt Link Client: Schindler Elevator & Escalator Corporation Environment: Windows Mobile 5.0, embedded VC, Visual Studio 2005 Languages: VC++, MFC \\u2022 A Business application. It makes easy for the superintendents to check the status of the elevators and escalators which are newly installed or being maintained and rate them according to their performance and report the same to the Sap server using mobility solutions. \\u2022 FldLink Client: Schindler Elevator & Escalator Corporation Environment: Windows Mobile 5.0, embedded VC, Visual Studio 2005 Languages: VC++, MFC \\u2022 FldLink is a Mobile Application which provides the technicians with a single, comprehensive view of contact information, meeting schedules, Technical information and repairing support while working in the field.\",\n          \"Siddharth Choudhary Microsoft Office Suite - Expert  Hyderabad, Telangana - Email me on Indeed: indeed.com/r/Siddharth- Choudhary/19d56a964e37fa1a  Goal oriented finance professional with a great aptitude to learn. Dedicated to CONTACT meeting aggressive/challenging business goals. Logically strong with good knowledge in financial management, tax, audit, and computers. choudharysiddharth22@gmail.com  During my training/articleship period, I have learnt how to analyse business [\\u2026] [\\u2026] cycles/operations and conduct risk analysis and further audit procedures www.linkedin.com/in/Sid- based on the risk analysis. Choudhary  WORK EXPERIENCE  Microsoft Office Suite - Expert  Tally ERP - Intermediate SQL, Chartered -  2013 to 2017  ICAI 464/800 Accountancy  EDUCATION  Score  SKILLS  AUDITING (Less than 1 year), CFA (Less than 1 year), DERIVATIVES (Less than 1 year), FINANCIAL ANALYST (Less than 1 year), FINANCIAL STATEMENT ANALYSIS (Less than 1 year)  ADDITIONAL INFORMATION  CORE COMPETENCIES  212, Shri Gayathri Elegant, Karkhana, Sec-bad. Portfolio management strategies Auditing (Statutory) Derivatives and Swaps Financial statement analysis Consolidation Ratio/Trend Analysis  COMPUTER SKILLS 2017- Chartered Level 1 - CFA (US)  https://www.indeed.com/r/Siddharth-Choudhary/19d56a964e37fa1a?isid=rex-download&ikw=download-top&co=IN https://www.indeed.com/r/Siddharth-Choudhary/19d56a964e37fa1a?isid=rex-download&ikw=download-top&co=IN   Present Financial Analyst Cleared\"\n        ],\n        \"semantic_type\": \"\",\n        \"description\": \"\"\n      }\n    },\n    {\n      \"column\": \"annotation\",\n      \"properties\": {\n        \"dtype\": \"object\",\n        \"semantic_type\": \"\",\n        \"description\": \"\"\n      }\n    }\n  ]\n}"
            }
          },
          "metadata": {},
          "execution_count": 4
        }
      ],
      "source": [
        "df_data.head()"
      ]
    },
    {
      "cell_type": "code",
      "source": [],
      "metadata": {
        "id": "GBp4PBEf3Kqj"
      },
      "execution_count": 4,
      "outputs": []
    },
    {
      "cell_type": "code",
      "source": [],
      "metadata": {
        "id": "VwIQKJXQ3Ko7"
      },
      "execution_count": 4,
      "outputs": []
    },
    {
      "cell_type": "code",
      "execution_count": 5,
      "metadata": {
        "colab": {
          "base_uri": "https://localhost:8080/"
        },
        "id": "0NwcmrWL2Wcg",
        "outputId": "bdbc1e5e-55b9-4aed-cc5d-cee82900c992"
      },
      "outputs": [
        {
          "output_type": "execute_result",
          "data": {
            "text/plain": [
              "[{'label': ['Skills'],\n",
              "  'points': [{'start': 1295,\n",
              "    'end': 1621,\n",
              "    'text': '\\n• Programming language: C, C++, Java\\n• Oracle PeopleSoft\\n• Internet Of Things\\n• Machine Learning\\n• Database Management System\\n• Computer Networks\\n• Operating System worked on: Linux, Windows, Mac\\n\\nNon - Technical Skills\\n\\n• Honest and Hard-Working\\n• Tolerant and Flexible to Different Situations\\n• Polite and Calm\\n• Team-Player'}]},\n",
              " {'label': ['Skills'],\n",
              "  'points': [{'start': 993,\n",
              "    'end': 1153,\n",
              "    'text': 'C (Less than 1 year), Database (Less than 1 year), Database Management (Less than 1 year),\\nDatabase Management System (Less than 1 year), Java (Less than 1 year)'}]},\n",
              " {'label': ['College Name'],\n",
              "  'points': [{'start': 939, 'end': 956, 'text': 'Kendriya Vidyalaya'}]},\n",
              " {'label': ['College Name'],\n",
              "  'points': [{'start': 883, 'end': 904, 'text': 'Woodbine modern school'}]},\n",
              " {'label': ['Graduation Year'],\n",
              "  'points': [{'start': 856, 'end': 860, 'text': '2017\\n'}]},\n",
              " {'label': ['College Name'],\n",
              "  'points': [{'start': 771,\n",
              "    'end': 813,\n",
              "    'text': 'B.v.b college of engineering and technology'}]},\n",
              " {'label': ['Designation'],\n",
              "  'points': [{'start': 727,\n",
              "    'end': 769,\n",
              "    'text': 'B.E in Information science and engineering\\n'}]},\n",
              " {'label': ['Companies worked at'],\n",
              "  'points': [{'start': 407, 'end': 415, 'text': 'Accenture'}]},\n",
              " {'label': ['Designation'],\n",
              "  'points': [{'start': 372,\n",
              "    'end': 404,\n",
              "    'text': 'Application Development Associate'}]},\n",
              " {'label': ['Email Address'],\n",
              "  'points': [{'start': 95,\n",
              "    'end': 145,\n",
              "    'text': 'Indeed: indeed.com/r/Abhishek-Jha/10e7a8cb732bc43a\\n'}]},\n",
              " {'label': ['Location'],\n",
              "  'points': [{'start': 60, 'end': 68, 'text': 'Bengaluru'}]},\n",
              " {'label': ['Companies worked at'],\n",
              "  'points': [{'start': 49, 'end': 57, 'text': 'Accenture'}]},\n",
              " {'label': ['Designation'],\n",
              "  'points': [{'start': 13,\n",
              "    'end': 45,\n",
              "    'text': 'Application Development Associate'}]},\n",
              " {'label': ['Name'],\n",
              "  'points': [{'start': 0, 'end': 11, 'text': 'Abhishek Jha'}]}]"
            ]
          },
          "metadata": {},
          "execution_count": 5
        }
      ],
      "source": [
        "df_data.iloc[0]['annotation']"
      ]
    },
    {
      "cell_type": "code",
      "execution_count": 6,
      "metadata": {
        "id": "81UH1A3C2Wch"
      },
      "outputs": [],
      "source": [
        "def mergeIntervals(intervals):\n",
        "    sorted_by_lower_bound = sorted(intervals, key=lambda tup: tup[0])\n",
        "    merged = []\n",
        "\n",
        "    for higher in sorted_by_lower_bound:\n",
        "        if not merged:\n",
        "            merged.append(higher)\n",
        "        else:\n",
        "            lower = merged[-1]\n",
        "            if higher[0] <= lower[1]:\n",
        "                if lower[2] is higher[2]:\n",
        "                    upper_bound = max(lower[1], higher[1])\n",
        "                    merged[-1] = (lower[0], upper_bound, lower[2])\n",
        "                else:\n",
        "                    if lower[1] > higher[1]:\n",
        "                        merged[-1] = lower\n",
        "                    else:\n",
        "                        merged[-1] = (lower[0], higher[1], higher[2])\n",
        "            else:\n",
        "                merged.append(higher)\n",
        "    return merged"
      ]
    },
    {
      "cell_type": "code",
      "execution_count": 7,
      "metadata": {
        "id": "Xy2TdvGQ2Wch"
      },
      "outputs": [],
      "source": [
        "def get_entities(df):\n",
        "\n",
        "    entities = []\n",
        "\n",
        "    for i in range(len(df)):\n",
        "        entity = []\n",
        "\n",
        "        for annot in df['annotation'][i]:\n",
        "            try:\n",
        "                ent = annot['label'][0]\n",
        "                start = annot['points'][0]['start']\n",
        "                end = annot['points'][0]['end'] + 1\n",
        "                entity.append((start, end, ent))\n",
        "            except:\n",
        "                pass\n",
        "\n",
        "        entity = mergeIntervals(entity)\n",
        "        entities.append(entity)\n",
        "\n",
        "    return entities"
      ]
    },
    {
      "cell_type": "code",
      "execution_count": 8,
      "metadata": {
        "colab": {
          "base_uri": "https://localhost:8080/",
          "height": 293
        },
        "id": "ZrmwDkMT2Wch",
        "outputId": "9955a029-5724-4a29-e095-4b244975f819"
      },
      "outputs": [
        {
          "output_type": "execute_result",
          "data": {
            "text/plain": [
              "                                             content  \\\n",
              "0  Abhishek Jha Application Development Associate...   \n",
              "1  Afreen Jamadar Active member of IIIT Committee...   \n",
              "2  Akhil Yadav Polemaina Hyderabad, Telangana - E...   \n",
              "3  Alok Khandai Operational Analyst (SQL DBA) Eng...   \n",
              "4  Ananya Chavan lecturer - oracle tutorials  Mum...   \n",
              "\n",
              "                                          annotation  \\\n",
              "0  [{'label': ['Skills'], 'points': [{'start': 12...   \n",
              "1  [{'label': ['Email Address'], 'points': [{'sta...   \n",
              "2  [{'label': ['Skills'], 'points': [{'start': 37...   \n",
              "3  [{'label': ['Skills'], 'points': [{'start': 80...   \n",
              "4  [{'label': ['Degree'], 'points': [{'start': 20...   \n",
              "\n",
              "                                            entities  \n",
              "0  [(0, 12, Name), (13, 46, Designation), (49, 58...  \n",
              "1  [(0, 14, Name), (62, 68, Location), (104, 148,...  \n",
              "2  [(0, 21, Name), (22, 31, Location), (65, 117, ...  \n",
              "3  [(0, 12, Name), (13, 51, Designation), (54, 60...  \n",
              "4  [(0, 13, Name), (14, 22, Designation), (24, 41...  "
            ],
            "text/html": [
              "\n",
              "  <div id=\"df-558624c5-c2c2-48ac-8c62-bbf2fac0ff65\" class=\"colab-df-container\">\n",
              "    <div>\n",
              "<style scoped>\n",
              "    .dataframe tbody tr th:only-of-type {\n",
              "        vertical-align: middle;\n",
              "    }\n",
              "\n",
              "    .dataframe tbody tr th {\n",
              "        vertical-align: top;\n",
              "    }\n",
              "\n",
              "    .dataframe thead th {\n",
              "        text-align: right;\n",
              "    }\n",
              "</style>\n",
              "<table border=\"1\" class=\"dataframe\">\n",
              "  <thead>\n",
              "    <tr style=\"text-align: right;\">\n",
              "      <th></th>\n",
              "      <th>content</th>\n",
              "      <th>annotation</th>\n",
              "      <th>entities</th>\n",
              "    </tr>\n",
              "  </thead>\n",
              "  <tbody>\n",
              "    <tr>\n",
              "      <th>0</th>\n",
              "      <td>Abhishek Jha Application Development Associate...</td>\n",
              "      <td>[{'label': ['Skills'], 'points': [{'start': 12...</td>\n",
              "      <td>[(0, 12, Name), (13, 46, Designation), (49, 58...</td>\n",
              "    </tr>\n",
              "    <tr>\n",
              "      <th>1</th>\n",
              "      <td>Afreen Jamadar Active member of IIIT Committee...</td>\n",
              "      <td>[{'label': ['Email Address'], 'points': [{'sta...</td>\n",
              "      <td>[(0, 14, Name), (62, 68, Location), (104, 148,...</td>\n",
              "    </tr>\n",
              "    <tr>\n",
              "      <th>2</th>\n",
              "      <td>Akhil Yadav Polemaina Hyderabad, Telangana - E...</td>\n",
              "      <td>[{'label': ['Skills'], 'points': [{'start': 37...</td>\n",
              "      <td>[(0, 21, Name), (22, 31, Location), (65, 117, ...</td>\n",
              "    </tr>\n",
              "    <tr>\n",
              "      <th>3</th>\n",
              "      <td>Alok Khandai Operational Analyst (SQL DBA) Eng...</td>\n",
              "      <td>[{'label': ['Skills'], 'points': [{'start': 80...</td>\n",
              "      <td>[(0, 12, Name), (13, 51, Designation), (54, 60...</td>\n",
              "    </tr>\n",
              "    <tr>\n",
              "      <th>4</th>\n",
              "      <td>Ananya Chavan lecturer - oracle tutorials  Mum...</td>\n",
              "      <td>[{'label': ['Degree'], 'points': [{'start': 20...</td>\n",
              "      <td>[(0, 13, Name), (14, 22, Designation), (24, 41...</td>\n",
              "    </tr>\n",
              "  </tbody>\n",
              "</table>\n",
              "</div>\n",
              "    <div class=\"colab-df-buttons\">\n",
              "\n",
              "  <div class=\"colab-df-container\">\n",
              "    <button class=\"colab-df-convert\" onclick=\"convertToInteractive('df-558624c5-c2c2-48ac-8c62-bbf2fac0ff65')\"\n",
              "            title=\"Convert this dataframe to an interactive table.\"\n",
              "            style=\"display:none;\">\n",
              "\n",
              "  <svg xmlns=\"http://www.w3.org/2000/svg\" height=\"24px\" viewBox=\"0 -960 960 960\">\n",
              "    <path d=\"M120-120v-720h720v720H120Zm60-500h600v-160H180v160Zm220 220h160v-160H400v160Zm0 220h160v-160H400v160ZM180-400h160v-160H180v160Zm440 0h160v-160H620v160ZM180-180h160v-160H180v160Zm440 0h160v-160H620v160Z\"/>\n",
              "  </svg>\n",
              "    </button>\n",
              "\n",
              "  <style>\n",
              "    .colab-df-container {\n",
              "      display:flex;\n",
              "      gap: 12px;\n",
              "    }\n",
              "\n",
              "    .colab-df-convert {\n",
              "      background-color: #E8F0FE;\n",
              "      border: none;\n",
              "      border-radius: 50%;\n",
              "      cursor: pointer;\n",
              "      display: none;\n",
              "      fill: #1967D2;\n",
              "      height: 32px;\n",
              "      padding: 0 0 0 0;\n",
              "      width: 32px;\n",
              "    }\n",
              "\n",
              "    .colab-df-convert:hover {\n",
              "      background-color: #E2EBFA;\n",
              "      box-shadow: 0px 1px 2px rgba(60, 64, 67, 0.3), 0px 1px 3px 1px rgba(60, 64, 67, 0.15);\n",
              "      fill: #174EA6;\n",
              "    }\n",
              "\n",
              "    .colab-df-buttons div {\n",
              "      margin-bottom: 4px;\n",
              "    }\n",
              "\n",
              "    [theme=dark] .colab-df-convert {\n",
              "      background-color: #3B4455;\n",
              "      fill: #D2E3FC;\n",
              "    }\n",
              "\n",
              "    [theme=dark] .colab-df-convert:hover {\n",
              "      background-color: #434B5C;\n",
              "      box-shadow: 0px 1px 3px 1px rgba(0, 0, 0, 0.15);\n",
              "      filter: drop-shadow(0px 1px 2px rgba(0, 0, 0, 0.3));\n",
              "      fill: #FFFFFF;\n",
              "    }\n",
              "  </style>\n",
              "\n",
              "    <script>\n",
              "      const buttonEl =\n",
              "        document.querySelector('#df-558624c5-c2c2-48ac-8c62-bbf2fac0ff65 button.colab-df-convert');\n",
              "      buttonEl.style.display =\n",
              "        google.colab.kernel.accessAllowed ? 'block' : 'none';\n",
              "\n",
              "      async function convertToInteractive(key) {\n",
              "        const element = document.querySelector('#df-558624c5-c2c2-48ac-8c62-bbf2fac0ff65');\n",
              "        const dataTable =\n",
              "          await google.colab.kernel.invokeFunction('convertToInteractive',\n",
              "                                                    [key], {});\n",
              "        if (!dataTable) return;\n",
              "\n",
              "        const docLinkHtml = 'Like what you see? Visit the ' +\n",
              "          '<a target=\"_blank\" href=https://colab.research.google.com/notebooks/data_table.ipynb>data table notebook</a>'\n",
              "          + ' to learn more about interactive tables.';\n",
              "        element.innerHTML = '';\n",
              "        dataTable['output_type'] = 'display_data';\n",
              "        await google.colab.output.renderOutput(dataTable, element);\n",
              "        const docLink = document.createElement('div');\n",
              "        docLink.innerHTML = docLinkHtml;\n",
              "        element.appendChild(docLink);\n",
              "      }\n",
              "    </script>\n",
              "  </div>\n",
              "\n",
              "\n",
              "<div id=\"df-7fa27bbc-06c5-4ade-a803-4b1161529d45\">\n",
              "  <button class=\"colab-df-quickchart\" onclick=\"quickchart('df-7fa27bbc-06c5-4ade-a803-4b1161529d45')\"\n",
              "            title=\"Suggest charts\"\n",
              "            style=\"display:none;\">\n",
              "\n",
              "<svg xmlns=\"http://www.w3.org/2000/svg\" height=\"24px\"viewBox=\"0 0 24 24\"\n",
              "     width=\"24px\">\n",
              "    <g>\n",
              "        <path d=\"M19 3H5c-1.1 0-2 .9-2 2v14c0 1.1.9 2 2 2h14c1.1 0 2-.9 2-2V5c0-1.1-.9-2-2-2zM9 17H7v-7h2v7zm4 0h-2V7h2v10zm4 0h-2v-4h2v4z\"/>\n",
              "    </g>\n",
              "</svg>\n",
              "  </button>\n",
              "\n",
              "<style>\n",
              "  .colab-df-quickchart {\n",
              "      --bg-color: #E8F0FE;\n",
              "      --fill-color: #1967D2;\n",
              "      --hover-bg-color: #E2EBFA;\n",
              "      --hover-fill-color: #174EA6;\n",
              "      --disabled-fill-color: #AAA;\n",
              "      --disabled-bg-color: #DDD;\n",
              "  }\n",
              "\n",
              "  [theme=dark] .colab-df-quickchart {\n",
              "      --bg-color: #3B4455;\n",
              "      --fill-color: #D2E3FC;\n",
              "      --hover-bg-color: #434B5C;\n",
              "      --hover-fill-color: #FFFFFF;\n",
              "      --disabled-bg-color: #3B4455;\n",
              "      --disabled-fill-color: #666;\n",
              "  }\n",
              "\n",
              "  .colab-df-quickchart {\n",
              "    background-color: var(--bg-color);\n",
              "    border: none;\n",
              "    border-radius: 50%;\n",
              "    cursor: pointer;\n",
              "    display: none;\n",
              "    fill: var(--fill-color);\n",
              "    height: 32px;\n",
              "    padding: 0;\n",
              "    width: 32px;\n",
              "  }\n",
              "\n",
              "  .colab-df-quickchart:hover {\n",
              "    background-color: var(--hover-bg-color);\n",
              "    box-shadow: 0 1px 2px rgba(60, 64, 67, 0.3), 0 1px 3px 1px rgba(60, 64, 67, 0.15);\n",
              "    fill: var(--button-hover-fill-color);\n",
              "  }\n",
              "\n",
              "  .colab-df-quickchart-complete:disabled,\n",
              "  .colab-df-quickchart-complete:disabled:hover {\n",
              "    background-color: var(--disabled-bg-color);\n",
              "    fill: var(--disabled-fill-color);\n",
              "    box-shadow: none;\n",
              "  }\n",
              "\n",
              "  .colab-df-spinner {\n",
              "    border: 2px solid var(--fill-color);\n",
              "    border-color: transparent;\n",
              "    border-bottom-color: var(--fill-color);\n",
              "    animation:\n",
              "      spin 1s steps(1) infinite;\n",
              "  }\n",
              "\n",
              "  @keyframes spin {\n",
              "    0% {\n",
              "      border-color: transparent;\n",
              "      border-bottom-color: var(--fill-color);\n",
              "      border-left-color: var(--fill-color);\n",
              "    }\n",
              "    20% {\n",
              "      border-color: transparent;\n",
              "      border-left-color: var(--fill-color);\n",
              "      border-top-color: var(--fill-color);\n",
              "    }\n",
              "    30% {\n",
              "      border-color: transparent;\n",
              "      border-left-color: var(--fill-color);\n",
              "      border-top-color: var(--fill-color);\n",
              "      border-right-color: var(--fill-color);\n",
              "    }\n",
              "    40% {\n",
              "      border-color: transparent;\n",
              "      border-right-color: var(--fill-color);\n",
              "      border-top-color: var(--fill-color);\n",
              "    }\n",
              "    60% {\n",
              "      border-color: transparent;\n",
              "      border-right-color: var(--fill-color);\n",
              "    }\n",
              "    80% {\n",
              "      border-color: transparent;\n",
              "      border-right-color: var(--fill-color);\n",
              "      border-bottom-color: var(--fill-color);\n",
              "    }\n",
              "    90% {\n",
              "      border-color: transparent;\n",
              "      border-bottom-color: var(--fill-color);\n",
              "    }\n",
              "  }\n",
              "</style>\n",
              "\n",
              "  <script>\n",
              "    async function quickchart(key) {\n",
              "      const quickchartButtonEl =\n",
              "        document.querySelector('#' + key + ' button');\n",
              "      quickchartButtonEl.disabled = true;  // To prevent multiple clicks.\n",
              "      quickchartButtonEl.classList.add('colab-df-spinner');\n",
              "      try {\n",
              "        const charts = await google.colab.kernel.invokeFunction(\n",
              "            'suggestCharts', [key], {});\n",
              "      } catch (error) {\n",
              "        console.error('Error during call to suggestCharts:', error);\n",
              "      }\n",
              "      quickchartButtonEl.classList.remove('colab-df-spinner');\n",
              "      quickchartButtonEl.classList.add('colab-df-quickchart-complete');\n",
              "    }\n",
              "    (() => {\n",
              "      let quickchartButtonEl =\n",
              "        document.querySelector('#df-7fa27bbc-06c5-4ade-a803-4b1161529d45 button');\n",
              "      quickchartButtonEl.style.display =\n",
              "        google.colab.kernel.accessAllowed ? 'block' : 'none';\n",
              "    })();\n",
              "  </script>\n",
              "</div>\n",
              "\n",
              "    </div>\n",
              "  </div>\n"
            ],
            "application/vnd.google.colaboratory.intrinsic+json": {
              "type": "dataframe",
              "variable_name": "df_data",
              "summary": "{\n  \"name\": \"df_data\",\n  \"rows\": 220,\n  \"fields\": [\n    {\n      \"column\": \"content\",\n      \"properties\": {\n        \"dtype\": \"string\",\n        \"num_unique_values\": 219,\n        \"samples\": [\n          \"Hemil Bhavsar Jr. ASP.NET Developer in True Vision Technology  Ahmedabad, Gujarat - Email me on Indeed: indeed.com/r/Hemil-Bhavsar/ce3a928d837ce9e1  To seek a job in the IT industry where I can utilize my skills and technical knowledge for the organization's and individual growth  Area of interest: \\u2022 Software Testing. \\u2022 Testing application manually. \\u2022 Great interest to learn new Technologies and Languages. \\u2022 Enterprise Application Development \\u2022 Web Application Development  WORK EXPERIENCE  Jr. ASP.NET Developer in True Vision Technology  -  September 2015 to May 2016  Software Testing Training at Unicode Technology From March 2018 to May 2018  Jr. ASP.NET Developer (Intern) in Softech Infosys  -  March 2015 to August 2015  EDUCATION  MSC  KSV University -  Gandhinagar, Gujarat  April 2015  B.C.A  Gujarat University  April 2013  SKILLS  ASP (1 year), ASP.NET (1 year), MS ASP (1 year), SOFTWARE TESTING (Less than 1 year), TESTING (Less than 1 year)  https://www.indeed.com/r/Hemil-Bhavsar/ce3a928d837ce9e1?isid=rex-download&ikw=download-top&co=IN   ADDITIONAL INFORMATION  Technical skillset: \\u2022 Manual Testing Techniques \\u2022 Web Application testing \\u2022 STLC (Software Testing Life Cycle) process \\u2022 Verification and Validation process \\u2022 Programming Language: Software Testing, ASP.Net with C#  \\u2022 Frameworks: Microsoft Visual Studio 2010, Frameworks 3.5, Frameworks (C#) 4.0, 4.5 \\u2022 Database tools: MySQL, SQL Server 2008, SQL Server 2010, MS-Access 2008 \\u2022 Report generation Tool: Crystal Report\",\n          \"Syam Devendla Bengaluru, Karnataka - Email me on Indeed: indeed.com/r/Syam-Devendla/ c9ba7bc582b14a7b  Senior software engineer with more than 9 years of experience in C, C++, Data Structures programming and BI analytics. Experience includes implementation and testing of enterprise and mobile application and middleware component software.  WORK EXPERIENCE  SMTS  Oracle India -  Bengaluru, Karnataka -  January 2014 to Present  with OBIEE team. \\u2022 Worked in Samsung R&D Operations, Bangalore since Oct- 2008 to Jan 2014, with Multimedia team.  EDUCATION  Post Graduate Diploma in Embedded Systems  CDAC -  Kochi, Kerala  2006  Bachelor of Technology in Electronics and Communications  Nagarjuna University  2005  SKILLS  .NET (Less than 1 year), ALGORITHMS (Less than 1 year), ALSA (Less than 1 year), ANDROID (Less than 1 year), APACHE HADOOP HDFS (Less than 1 year)  ADDITIONAL INFORMATION  Core Competencies  \\u2022 Extensively worked in C, C++ \\u2022 Good understanding of Data Structures and Algorithms \\u2022 Good understanding and knowledge of BI Analytics of OBIEE. \\u2022 Codes at HackerRank.com and am a 4 Star Rank coder in algorithms, coded using C++ STL \\u2022 Hands on experience of GDB Debugger for Core dump analysis and Server  https://www.indeed.com/r/Syam-Devendla/c9ba7bc582b14a7b?isid=rex-download&ikw=download-top&co=IN https://www.indeed.com/r/Syam-Devendla/c9ba7bc582b14a7b?isid=rex-download&ikw=download-top&co=IN   side debugging. \\u2022 Hands on experience of Visual Studio debugger for debugging on Windows platform. \\u2022 Working experience of Multithreaded applications for more than eight years \\u2022 Good understanding of OOPS Design principles and STL. \\u2022 Experienced in using various debuggers that include GDB debugger, Eclipse, VC++ IDE, Trace 32, WinDbg, Visual Studio. \\u2022 Good knowledge of Big data technologies(Hadoop, Yarn Architecture, map- reduce, Hive, Sqoop, Hbase, Zookeeper) \\u2022 Good experience in Hadoop development and Admin activities. \\u2022 Able to understand and review Java and Scala code \\u2022 Good Exposure to Software practices, SDLC. \\u2022 Good understanding and porting knowledge of framework components. \\u2022 Good understanding of multimedia concepts, Audio video synchronization, AudioOut, AudioIn and video zoom. \\u2022 Knowledge of WEBRTC features. \\u2022 Good knowledge of video Engine. \\u2022 Basic knowledge of MFC, socket programming. \\u2022 Good knowledge in programming and operating system concepts. \\u2022 Experience in working in a project from product development phase to commercialization phase. \\u2022 Successfully commercialized more than 25 million mobiles spanning across twenty models. \\u2022 Good global work exposure having worked in different work environments. \\u2022 Basic understanding of Linux Operating system. \\u2022 Experienced in design and implementation of Multimedia Applications for Mobile handsets. \\u2022 Good experience working on Smart Phone platforms(Framework, Middleware and Application development) having worked on various mobile platforms SHP, Samsung Bada, Linux, WindowsMobile5.0, SLP, Android and Tizen. Syam Prasad Devendla \\u2022 Good knowledge and understanding of different frameworks for multimedia. \\u2022 Good knowledge of multi-threaded programming and IPC mechanisms. \\u2022 Excellent interpersonal and communication skills and ability to work in a team. \\u2022 Skilled at learning new concepts quickly, working well under pressure, and communicating ideas clearly and effectively. \\u2022 Tools Used: Beyond Compare, Samsung memory leak tool, and Samsung code coverageTool, VS 2005 Remote Tools, KlocWork, WinShark and Ethereal. \\u2022 Experienced in working with configuration tools like VSS, Perforce, and Clear Case.  \\u2022 Operating Systems: Windows, Ubuntu Linux \\u2022 Mobile Platforms: SHP, Bada, Linux, WindowsMobile5.0, SLP and Tizen \\u2022 Technology: Multimedia, Content, Mobile Applications \\u2022 Languages: C, C++(Data Structures, Design Patterns, STL) \\u2022 Tools: Eclipse, VS2005, VS2010 KlocWork, Clear case, Perforce  Projects    \\u2022 OBIEE Environment: Oracle BI Languages: C++ \\u2022 Implementing enhancements, improving the diagnosabilty and address the customer issues by fixing the code bugs. \\u2022 Developed a security feature in downloads module to protect the system from DOS attack. \\u2022 Implemented a performance enhancer logic in Ibots to execute the agents faster. \\u2022 Responsible for fix/enhance Ibot(Delivers/Agent/Schedulers) issues in the product. \\u2022 Responsible for fixing the core dump issues reported by customers in the nqscheduler component in linux 32/64 and windows 32/64 platforms. \\u2022 Oracle-Thirdeye Environment: HDFS, Yarn, Hadoop, map-reduce, thirdeye-agent \\u2022 GUI is able to provide all information in a usable environment. \\u2022 Most of the use will be as an embeddable UI in applications like TLP, DTE, and Bug DB etc.  Syam Prasad Devendla \\u2022 Provide term, line number and time indexes for word and phrase search, ability to drill down to a given line number and data around it, and also have ability to see data around a given time.  \\u2022 Thirdeye-nodes-refresh Environment: HDFS, Yarn, Hadoop, map-reduce \\u2022 All processes for thirdeye including Hadoop components running on the same node. This overburdens the master node and leads to frequent failures due to disk space and memory issues, so worked on POC to replicate entire thirdeye setup with required configuration on new machines.  \\u2022 BI-Manifest-Comparison Tool Environment: Oracle BI Languages: Java \\u2022 Implemented tool to create an excel with manifests data across platforms and painted the mismatched versions \\u2022 WebRTC Environment: Browser Languages: C++ \\u2022 Media Recorder implementation. \\u2022 Multi Party communication development. \\u2022 Stage Fright (recorder and playback) \\u2022 Video engine \\u2022 Peer connection \\u2022 PlatformsY2012-Framework (content) Environment: Tizen Languages: C++ \\u2022 Developing Tizen framework (content) on SLP. \\u2022 File Search \\u2022 Directory Search \\u2022 Playlist and Playlist Manager \\u2022 Supporting Tizen content framework. \\u2022 PlatformsY2011 -Framework (Multimedia- player) Environment: Bada, Eclipse, SLP (Samsung Linux Platform) Languages: C++    \\u2022 Implemented player framework for Bada OS \\u2022 Audio Player and video Player modules. \\u2022 POC of AV synchronization for video zoom. \\u2022 Supporting Bada2.0 player framework and commercialization. \\u2022 Movie Studio (Video Editor) Environment: Bada, Eclipse Languages: C++ \\u2022 Developed application based on UI guidelines given, modules like preview, split and trim forms using VePlayer library. \\u2022 Implemented VPL file creation. \\u2022 Media Browser Environment: Bada, Eclipse Languages: C, C++ \\u2022 This application is developed to check the stability of Bada's player and Audio out modules. \\u2022 Audio Player and video Player modules. \\u2022 Implemented progress bar of player in both Player Form and PLS Player Form. \\u2022 Bada-NS(R&D) Environment: Linux, SLP (Samsung Linux Platform) Languages: C, C++ \\u2022 Worked on launching emulator \\u2022 knowledge of SLP Multimedia Framework \\u2022 Ported Player (Audio and Video) module \\u2022 Ported Audio Out and Audio In modules using ALSA library \\u2022 ETMs Firmware Client: Wabtec Railway Electronics, German Town  Syam Prasad Devendla Environment: Windows XP, IAR Workbench Hardware: IOC board (Provided by WRE) Languages: C \\u2022 Serial - Ethernet Bridge \\u2022 Serial communication commands handling. \\u2022 Supt Link Client: Schindler Elevator & Escalator Corporation Environment: Windows Mobile 5.0, embedded VC, Visual Studio 2005 Languages: VC++, MFC \\u2022 A Business application. It makes easy for the superintendents to check the status of the elevators and escalators which are newly installed or being maintained and rate them according to their performance and report the same to the Sap server using mobility solutions. \\u2022 FldLink Client: Schindler Elevator & Escalator Corporation Environment: Windows Mobile 5.0, embedded VC, Visual Studio 2005 Languages: VC++, MFC \\u2022 FldLink is a Mobile Application which provides the technicians with a single, comprehensive view of contact information, meeting schedules, Technical information and repairing support while working in the field.\",\n          \"Siddharth Choudhary Microsoft Office Suite - Expert  Hyderabad, Telangana - Email me on Indeed: indeed.com/r/Siddharth- Choudhary/19d56a964e37fa1a  Goal oriented finance professional with a great aptitude to learn. Dedicated to CONTACT meeting aggressive/challenging business goals. Logically strong with good knowledge in financial management, tax, audit, and computers. choudharysiddharth22@gmail.com  During my training/articleship period, I have learnt how to analyse business [\\u2026] [\\u2026] cycles/operations and conduct risk analysis and further audit procedures www.linkedin.com/in/Sid- based on the risk analysis. Choudhary  WORK EXPERIENCE  Microsoft Office Suite - Expert  Tally ERP - Intermediate SQL, Chartered -  2013 to 2017  ICAI 464/800 Accountancy  EDUCATION  Score  SKILLS  AUDITING (Less than 1 year), CFA (Less than 1 year), DERIVATIVES (Less than 1 year), FINANCIAL ANALYST (Less than 1 year), FINANCIAL STATEMENT ANALYSIS (Less than 1 year)  ADDITIONAL INFORMATION  CORE COMPETENCIES  212, Shri Gayathri Elegant, Karkhana, Sec-bad. Portfolio management strategies Auditing (Statutory) Derivatives and Swaps Financial statement analysis Consolidation Ratio/Trend Analysis  COMPUTER SKILLS 2017- Chartered Level 1 - CFA (US)  https://www.indeed.com/r/Siddharth-Choudhary/19d56a964e37fa1a?isid=rex-download&ikw=download-top&co=IN https://www.indeed.com/r/Siddharth-Choudhary/19d56a964e37fa1a?isid=rex-download&ikw=download-top&co=IN   Present Financial Analyst Cleared\"\n        ],\n        \"semantic_type\": \"\",\n        \"description\": \"\"\n      }\n    },\n    {\n      \"column\": \"annotation\",\n      \"properties\": {\n        \"dtype\": \"object\",\n        \"semantic_type\": \"\",\n        \"description\": \"\"\n      }\n    },\n    {\n      \"column\": \"entities\",\n      \"properties\": {\n        \"dtype\": \"object\",\n        \"semantic_type\": \"\",\n        \"description\": \"\"\n      }\n    }\n  ]\n}"
            }
          },
          "metadata": {},
          "execution_count": 8
        }
      ],
      "source": [
        "df_data['entities'] = get_entities(df_data)\n",
        "df_data.head()"
      ]
    },
    {
      "cell_type": "code",
      "execution_count": 9,
      "metadata": {
        "id": "IWIlErA62Wch"
      },
      "outputs": [],
      "source": [
        "def convert_dataturks_to_spacy(dataturks_JSON_FilePath):\n",
        "    try:\n",
        "        training_data = []\n",
        "        lines=[]\n",
        "        with open(dataturks_JSON_FilePath, 'r') as f:\n",
        "            lines = f.readlines()\n",
        "\n",
        "        for line in lines:\n",
        "            data = json.loads(line)\n",
        "            text = data['content'].replace(\"\\n\", \" \")\n",
        "            entities = []\n",
        "            data_annotations = data['annotation']\n",
        "            if data_annotations is not None:\n",
        "                for annotation in data_annotations:\n",
        "                    #only a single point in text annotation.\n",
        "                    point = annotation['points'][0]\n",
        "                    labels = annotation['label']\n",
        "                    # handle both list of labels or a single label.\n",
        "                    if not isinstance(labels, list):\n",
        "                        labels = [labels]\n",
        "\n",
        "                    for label in labels:\n",
        "                        point_start = point['start']\n",
        "                        point_end = point['end']\n",
        "                        point_text = point['text']\n",
        "\n",
        "                        lstrip_diff = len(point_text) - len(point_text.lstrip())\n",
        "                        rstrip_diff = len(point_text) - len(point_text.rstrip())\n",
        "                        if lstrip_diff != 0:\n",
        "                            point_start = point_start + lstrip_diff\n",
        "                        if rstrip_diff != 0:\n",
        "                            point_end = point_end - rstrip_diff\n",
        "                        entities.append((point_start, point_end + 1 , label))\n",
        "            training_data.append((text, {\"entities\" : entities}))\n",
        "        return training_data\n",
        "    except Exception as e:\n",
        "        logging.exception(\"Unable to process \" + dataturks_JSON_FilePath + \"\\n\" + \"error = \" + str(e))\n",
        "        return None\n",
        "\n",
        "def trim_entity_spans(data: list) -> list:\n",
        "    \"\"\"Removes leading and trailing white spaces from entity spans.\n",
        "\n",
        "    Args:\n",
        "        data (list): The data to be cleaned in spaCy JSON format.\n",
        "\n",
        "    Returns:\n",
        "        list: The cleaned data.\n",
        "    \"\"\"\n",
        "    invalid_span_tokens = re.compile(r'\\s')\n",
        "\n",
        "    cleaned_data = []\n",
        "    for text, annotations in data:\n",
        "        entities = annotations['entities']\n",
        "        valid_entities = []\n",
        "        for start, end, label in entities:\n",
        "            valid_start = start\n",
        "            valid_end = end\n",
        "            while valid_start < len(text) and invalid_span_tokens.match(\n",
        "                    text[valid_start]):\n",
        "                valid_start += 1\n",
        "            while valid_end > 1 and invalid_span_tokens.match(\n",
        "                    text[valid_end - 1]):\n",
        "                valid_end -= 1\n",
        "            valid_entities.append([valid_start, valid_end, label])\n",
        "        cleaned_data.append([text, {'entities': valid_entities}])\n",
        "    return cleaned_data"
      ]
    },
    {
      "cell_type": "code",
      "execution_count": 10,
      "metadata": {
        "id": "KFc9X_Cc2Wch"
      },
      "outputs": [],
      "source": [
        "data = trim_entity_spans(convert_dataturks_to_spacy(\"/content/drive/MyDrive/w4a2/ner.json\"))"
      ]
    },
    {
      "source": [
        "!pip install pandas\n",
        "import pandas as pd\n",
        "from tqdm.notebook import tqdm\n",
        "\n",
        "def clean_dataset(data):\n",
        "    # Instead of appending rows iteratively, collect them in a list\n",
        "    all_rows = []\n",
        "    sum1 = 0\n",
        "    for i in tqdm(range(len(data))):\n",
        "        start = 0\n",
        "        emptyList = [\"Empty\"] * len(data[i][0].split())\n",
        "        numberOfWords = 0\n",
        "        lenOfString = len(data[i][0])\n",
        "        strData = data[i][0]\n",
        "        strDictData = data[i][1]\n",
        "        lastIndexOfSpace = strData.rfind(' ')\n",
        "        for i in range(lenOfString):\n",
        "            if (strData[i]==\" \" and strData[i+1]!=\" \"):\n",
        "                for k,v in strDictData.items():\n",
        "                    for j in range(len(v)):\n",
        "                        entList = v[len(v)-j-1]\n",
        "                        if (start>=int(entList[0]) and i<=int(entList[1])):\n",
        "                            emptyList[numberOfWords] = entList[2]\n",
        "                            break\n",
        "                        else:\n",
        "                            continue\n",
        "                start = i + 1\n",
        "                numberOfWords += 1\n",
        "            if (i == lastIndexOfSpace):\n",
        "                for j in range(len(v)):\n",
        "                        entList = v[len(v)-j-1]\n",
        "                        if (lastIndexOfSpace>=int(entList[0]) and lenOfString<=int(entList[1])):\n",
        "                            emptyList[numberOfWords] = entList[2]\n",
        "                            numberOfWords += 1\n",
        "        # Append the row to the list\n",
        "        all_rows.append([emptyList])\n",
        "        sum1 = sum1 + numberOfWords\n",
        "    # Create the DataFrame from the list of rows\n",
        "    cleanedDF = pd.DataFrame(all_rows, columns=[\"setences_cleaned\"])\n",
        "    return cleanedDF"
      ],
      "cell_type": "code",
      "metadata": {
        "colab": {
          "base_uri": "https://localhost:8080/"
        },
        "id": "-w_LFbCm4FxI",
        "outputId": "e7558013-f7d9-4a52-c93c-1fd27a1a0eec"
      },
      "execution_count": 11,
      "outputs": [
        {
          "output_type": "stream",
          "name": "stdout",
          "text": [
            "Requirement already satisfied: pandas in /usr/local/lib/python3.10/dist-packages (2.2.2)\n",
            "Requirement already satisfied: numpy>=1.22.4 in /usr/local/lib/python3.10/dist-packages (from pandas) (1.26.4)\n",
            "Requirement already satisfied: python-dateutil>=2.8.2 in /usr/local/lib/python3.10/dist-packages (from pandas) (2.8.2)\n",
            "Requirement already satisfied: pytz>=2020.1 in /usr/local/lib/python3.10/dist-packages (from pandas) (2024.2)\n",
            "Requirement already satisfied: tzdata>=2022.7 in /usr/local/lib/python3.10/dist-packages (from pandas) (2024.2)\n",
            "Requirement already satisfied: six>=1.5 in /usr/local/lib/python3.10/dist-packages (from python-dateutil>=2.8.2->pandas) (1.16.0)\n"
          ]
        }
      ]
    },
    {
      "cell_type": "code",
      "execution_count": 12,
      "metadata": {
        "colab": {
          "base_uri": "https://localhost:8080/",
          "height": 49,
          "referenced_widgets": [
            "b2c75fcc6d2948fe8723fcf9540e2334",
            "5505137b8b9145ea828af1cbfd6bbe89",
            "ab5f87909bc3489d9b17a0f437e6f48e",
            "4ecc66400ac74adcb70727fa0033bb9a",
            "e9d4b4a1455a4a51846ce4d1327d6388",
            "3632c05364984d0487b6f180e4550746",
            "ef6b8afd02f54610a316b412adb41a23",
            "a308261f0ad04d758d7f6f2f1abec32f",
            "136fac0612ae4b869a82c352804476f7",
            "efcb3c8cd4d44294ad12e2e64ae36d4e",
            "8c6375f9510b46569f15abff3d942e3f"
          ]
        },
        "id": "DdIsZXVR2Wci",
        "outputId": "ec4e1b4d-8f42-4548-82c6-f7cd20dcaa1a"
      },
      "outputs": [
        {
          "output_type": "display_data",
          "data": {
            "text/plain": [
              "  0%|          | 0/220 [00:00<?, ?it/s]"
            ],
            "application/vnd.jupyter.widget-view+json": {
              "version_major": 2,
              "version_minor": 0,
              "model_id": "b2c75fcc6d2948fe8723fcf9540e2334"
            }
          },
          "metadata": {}
        }
      ],
      "source": [
        "cleanedDF = clean_dataset(data)"
      ]
    },
    {
      "cell_type": "markdown",
      "metadata": {
        "id": "gFPePGp42Wci"
      },
      "source": [
        "Take a look at your cleaned dataset and the categories the named-entities are matched to, or 'tags'."
      ]
    },
    {
      "cell_type": "code",
      "execution_count": 13,
      "metadata": {
        "colab": {
          "base_uri": "https://localhost:8080/",
          "height": 206
        },
        "id": "EIi7x3Ug2Wci",
        "outputId": "7268e809-1480-4314-9498-c5409167203b"
      },
      "outputs": [
        {
          "output_type": "execute_result",
          "data": {
            "text/plain": [
              "                                    setences_cleaned\n",
              "0  [Name, Name, Designation, Designation, Designa...\n",
              "1  [Name, Name, Empty, Empty, Empty, Empty, Empty...\n",
              "2  [Name, Name, Name, Empty, Empty, Empty, Empty,...\n",
              "3  [Name, Name, Designation, Designation, Designa...\n",
              "4  [Name, Name, Designation, Empty, Companies wor..."
            ],
            "text/html": [
              "\n",
              "  <div id=\"df-68feddb6-e89a-4f79-b9a8-5108dbfbf7e4\" class=\"colab-df-container\">\n",
              "    <div>\n",
              "<style scoped>\n",
              "    .dataframe tbody tr th:only-of-type {\n",
              "        vertical-align: middle;\n",
              "    }\n",
              "\n",
              "    .dataframe tbody tr th {\n",
              "        vertical-align: top;\n",
              "    }\n",
              "\n",
              "    .dataframe thead th {\n",
              "        text-align: right;\n",
              "    }\n",
              "</style>\n",
              "<table border=\"1\" class=\"dataframe\">\n",
              "  <thead>\n",
              "    <tr style=\"text-align: right;\">\n",
              "      <th></th>\n",
              "      <th>setences_cleaned</th>\n",
              "    </tr>\n",
              "  </thead>\n",
              "  <tbody>\n",
              "    <tr>\n",
              "      <th>0</th>\n",
              "      <td>[Name, Name, Designation, Designation, Designa...</td>\n",
              "    </tr>\n",
              "    <tr>\n",
              "      <th>1</th>\n",
              "      <td>[Name, Name, Empty, Empty, Empty, Empty, Empty...</td>\n",
              "    </tr>\n",
              "    <tr>\n",
              "      <th>2</th>\n",
              "      <td>[Name, Name, Name, Empty, Empty, Empty, Empty,...</td>\n",
              "    </tr>\n",
              "    <tr>\n",
              "      <th>3</th>\n",
              "      <td>[Name, Name, Designation, Designation, Designa...</td>\n",
              "    </tr>\n",
              "    <tr>\n",
              "      <th>4</th>\n",
              "      <td>[Name, Name, Designation, Empty, Companies wor...</td>\n",
              "    </tr>\n",
              "  </tbody>\n",
              "</table>\n",
              "</div>\n",
              "    <div class=\"colab-df-buttons\">\n",
              "\n",
              "  <div class=\"colab-df-container\">\n",
              "    <button class=\"colab-df-convert\" onclick=\"convertToInteractive('df-68feddb6-e89a-4f79-b9a8-5108dbfbf7e4')\"\n",
              "            title=\"Convert this dataframe to an interactive table.\"\n",
              "            style=\"display:none;\">\n",
              "\n",
              "  <svg xmlns=\"http://www.w3.org/2000/svg\" height=\"24px\" viewBox=\"0 -960 960 960\">\n",
              "    <path d=\"M120-120v-720h720v720H120Zm60-500h600v-160H180v160Zm220 220h160v-160H400v160Zm0 220h160v-160H400v160ZM180-400h160v-160H180v160Zm440 0h160v-160H620v160ZM180-180h160v-160H180v160Zm440 0h160v-160H620v160Z\"/>\n",
              "  </svg>\n",
              "    </button>\n",
              "\n",
              "  <style>\n",
              "    .colab-df-container {\n",
              "      display:flex;\n",
              "      gap: 12px;\n",
              "    }\n",
              "\n",
              "    .colab-df-convert {\n",
              "      background-color: #E8F0FE;\n",
              "      border: none;\n",
              "      border-radius: 50%;\n",
              "      cursor: pointer;\n",
              "      display: none;\n",
              "      fill: #1967D2;\n",
              "      height: 32px;\n",
              "      padding: 0 0 0 0;\n",
              "      width: 32px;\n",
              "    }\n",
              "\n",
              "    .colab-df-convert:hover {\n",
              "      background-color: #E2EBFA;\n",
              "      box-shadow: 0px 1px 2px rgba(60, 64, 67, 0.3), 0px 1px 3px 1px rgba(60, 64, 67, 0.15);\n",
              "      fill: #174EA6;\n",
              "    }\n",
              "\n",
              "    .colab-df-buttons div {\n",
              "      margin-bottom: 4px;\n",
              "    }\n",
              "\n",
              "    [theme=dark] .colab-df-convert {\n",
              "      background-color: #3B4455;\n",
              "      fill: #D2E3FC;\n",
              "    }\n",
              "\n",
              "    [theme=dark] .colab-df-convert:hover {\n",
              "      background-color: #434B5C;\n",
              "      box-shadow: 0px 1px 3px 1px rgba(0, 0, 0, 0.15);\n",
              "      filter: drop-shadow(0px 1px 2px rgba(0, 0, 0, 0.3));\n",
              "      fill: #FFFFFF;\n",
              "    }\n",
              "  </style>\n",
              "\n",
              "    <script>\n",
              "      const buttonEl =\n",
              "        document.querySelector('#df-68feddb6-e89a-4f79-b9a8-5108dbfbf7e4 button.colab-df-convert');\n",
              "      buttonEl.style.display =\n",
              "        google.colab.kernel.accessAllowed ? 'block' : 'none';\n",
              "\n",
              "      async function convertToInteractive(key) {\n",
              "        const element = document.querySelector('#df-68feddb6-e89a-4f79-b9a8-5108dbfbf7e4');\n",
              "        const dataTable =\n",
              "          await google.colab.kernel.invokeFunction('convertToInteractive',\n",
              "                                                    [key], {});\n",
              "        if (!dataTable) return;\n",
              "\n",
              "        const docLinkHtml = 'Like what you see? Visit the ' +\n",
              "          '<a target=\"_blank\" href=https://colab.research.google.com/notebooks/data_table.ipynb>data table notebook</a>'\n",
              "          + ' to learn more about interactive tables.';\n",
              "        element.innerHTML = '';\n",
              "        dataTable['output_type'] = 'display_data';\n",
              "        await google.colab.output.renderOutput(dataTable, element);\n",
              "        const docLink = document.createElement('div');\n",
              "        docLink.innerHTML = docLinkHtml;\n",
              "        element.appendChild(docLink);\n",
              "      }\n",
              "    </script>\n",
              "  </div>\n",
              "\n",
              "\n",
              "<div id=\"df-9d6223f4-5d01-45be-a081-70a180f03647\">\n",
              "  <button class=\"colab-df-quickchart\" onclick=\"quickchart('df-9d6223f4-5d01-45be-a081-70a180f03647')\"\n",
              "            title=\"Suggest charts\"\n",
              "            style=\"display:none;\">\n",
              "\n",
              "<svg xmlns=\"http://www.w3.org/2000/svg\" height=\"24px\"viewBox=\"0 0 24 24\"\n",
              "     width=\"24px\">\n",
              "    <g>\n",
              "        <path d=\"M19 3H5c-1.1 0-2 .9-2 2v14c0 1.1.9 2 2 2h14c1.1 0 2-.9 2-2V5c0-1.1-.9-2-2-2zM9 17H7v-7h2v7zm4 0h-2V7h2v10zm4 0h-2v-4h2v4z\"/>\n",
              "    </g>\n",
              "</svg>\n",
              "  </button>\n",
              "\n",
              "<style>\n",
              "  .colab-df-quickchart {\n",
              "      --bg-color: #E8F0FE;\n",
              "      --fill-color: #1967D2;\n",
              "      --hover-bg-color: #E2EBFA;\n",
              "      --hover-fill-color: #174EA6;\n",
              "      --disabled-fill-color: #AAA;\n",
              "      --disabled-bg-color: #DDD;\n",
              "  }\n",
              "\n",
              "  [theme=dark] .colab-df-quickchart {\n",
              "      --bg-color: #3B4455;\n",
              "      --fill-color: #D2E3FC;\n",
              "      --hover-bg-color: #434B5C;\n",
              "      --hover-fill-color: #FFFFFF;\n",
              "      --disabled-bg-color: #3B4455;\n",
              "      --disabled-fill-color: #666;\n",
              "  }\n",
              "\n",
              "  .colab-df-quickchart {\n",
              "    background-color: var(--bg-color);\n",
              "    border: none;\n",
              "    border-radius: 50%;\n",
              "    cursor: pointer;\n",
              "    display: none;\n",
              "    fill: var(--fill-color);\n",
              "    height: 32px;\n",
              "    padding: 0;\n",
              "    width: 32px;\n",
              "  }\n",
              "\n",
              "  .colab-df-quickchart:hover {\n",
              "    background-color: var(--hover-bg-color);\n",
              "    box-shadow: 0 1px 2px rgba(60, 64, 67, 0.3), 0 1px 3px 1px rgba(60, 64, 67, 0.15);\n",
              "    fill: var(--button-hover-fill-color);\n",
              "  }\n",
              "\n",
              "  .colab-df-quickchart-complete:disabled,\n",
              "  .colab-df-quickchart-complete:disabled:hover {\n",
              "    background-color: var(--disabled-bg-color);\n",
              "    fill: var(--disabled-fill-color);\n",
              "    box-shadow: none;\n",
              "  }\n",
              "\n",
              "  .colab-df-spinner {\n",
              "    border: 2px solid var(--fill-color);\n",
              "    border-color: transparent;\n",
              "    border-bottom-color: var(--fill-color);\n",
              "    animation:\n",
              "      spin 1s steps(1) infinite;\n",
              "  }\n",
              "\n",
              "  @keyframes spin {\n",
              "    0% {\n",
              "      border-color: transparent;\n",
              "      border-bottom-color: var(--fill-color);\n",
              "      border-left-color: var(--fill-color);\n",
              "    }\n",
              "    20% {\n",
              "      border-color: transparent;\n",
              "      border-left-color: var(--fill-color);\n",
              "      border-top-color: var(--fill-color);\n",
              "    }\n",
              "    30% {\n",
              "      border-color: transparent;\n",
              "      border-left-color: var(--fill-color);\n",
              "      border-top-color: var(--fill-color);\n",
              "      border-right-color: var(--fill-color);\n",
              "    }\n",
              "    40% {\n",
              "      border-color: transparent;\n",
              "      border-right-color: var(--fill-color);\n",
              "      border-top-color: var(--fill-color);\n",
              "    }\n",
              "    60% {\n",
              "      border-color: transparent;\n",
              "      border-right-color: var(--fill-color);\n",
              "    }\n",
              "    80% {\n",
              "      border-color: transparent;\n",
              "      border-right-color: var(--fill-color);\n",
              "      border-bottom-color: var(--fill-color);\n",
              "    }\n",
              "    90% {\n",
              "      border-color: transparent;\n",
              "      border-bottom-color: var(--fill-color);\n",
              "    }\n",
              "  }\n",
              "</style>\n",
              "\n",
              "  <script>\n",
              "    async function quickchart(key) {\n",
              "      const quickchartButtonEl =\n",
              "        document.querySelector('#' + key + ' button');\n",
              "      quickchartButtonEl.disabled = true;  // To prevent multiple clicks.\n",
              "      quickchartButtonEl.classList.add('colab-df-spinner');\n",
              "      try {\n",
              "        const charts = await google.colab.kernel.invokeFunction(\n",
              "            'suggestCharts', [key], {});\n",
              "      } catch (error) {\n",
              "        console.error('Error during call to suggestCharts:', error);\n",
              "      }\n",
              "      quickchartButtonEl.classList.remove('colab-df-spinner');\n",
              "      quickchartButtonEl.classList.add('colab-df-quickchart-complete');\n",
              "    }\n",
              "    (() => {\n",
              "      let quickchartButtonEl =\n",
              "        document.querySelector('#df-9d6223f4-5d01-45be-a081-70a180f03647 button');\n",
              "      quickchartButtonEl.style.display =\n",
              "        google.colab.kernel.accessAllowed ? 'block' : 'none';\n",
              "    })();\n",
              "  </script>\n",
              "</div>\n",
              "\n",
              "    </div>\n",
              "  </div>\n"
            ],
            "application/vnd.google.colaboratory.intrinsic+json": {
              "type": "dataframe",
              "variable_name": "cleanedDF",
              "summary": "{\n  \"name\": \"cleanedDF\",\n  \"rows\": 220,\n  \"fields\": [\n    {\n      \"column\": \"setences_cleaned\",\n      \"properties\": {\n        \"dtype\": \"object\",\n        \"semantic_type\": \"\",\n        \"description\": \"\"\n      }\n    }\n  ]\n}"
            }
          },
          "metadata": {},
          "execution_count": 13
        }
      ],
      "source": [
        "cleanedDF.head()"
      ]
    },
    {
      "cell_type": "markdown",
      "metadata": {
        "id": "csyokNCS2Wci"
      },
      "source": [
        "<a name='1-2'></a>\n",
        "### 1.2 - Padding and Generating Tags\n",
        "\n",
        "Now, it is time to generate a list of unique tags you will match the named-entities to."
      ]
    },
    {
      "cell_type": "code",
      "execution_count": 14,
      "metadata": {
        "id": "MQEkIfNG2Wci"
      },
      "outputs": [],
      "source": [
        "unique_tags = set(cleanedDF['setences_cleaned'].explode().unique())#pd.unique(cleanedDF['setences_cleaned'])#set(tag for doc in cleanedDF['setences_cleaned'].values.tolist() for tag in doc)\n",
        "tag2id = {tag: id for id, tag in enumerate(unique_tags)}\n",
        "id2tag = {id: tag for tag, id in tag2id.items()}"
      ]
    },
    {
      "cell_type": "code",
      "execution_count": 15,
      "metadata": {
        "colab": {
          "base_uri": "https://localhost:8080/"
        },
        "id": "5Jg4ouXj2Wci",
        "outputId": "01ff3137-a84a-4a4d-a218-dae78210654f"
      },
      "outputs": [
        {
          "output_type": "execute_result",
          "data": {
            "text/plain": [
              "{'College Name',\n",
              " 'Companies worked at',\n",
              " 'Degree',\n",
              " 'Designation',\n",
              " 'Email Address',\n",
              " 'Empty',\n",
              " 'Graduation Year',\n",
              " 'Location',\n",
              " 'Name',\n",
              " 'Skills',\n",
              " 'UNKNOWN',\n",
              " 'Years of Experience'}"
            ]
          },
          "metadata": {},
          "execution_count": 15
        }
      ],
      "source": [
        "unique_tags"
      ]
    },
    {
      "cell_type": "markdown",
      "metadata": {
        "id": "Qs9jn-xL2Wci"
      },
      "source": [
        "Next, you will create an array of tags from your cleaned dataset. Oftentimes your input sequence will exceed the maximum length of a sequence your network can process. In this case, your sequence will be cut off, and you need to append zeroes onto the end of the shortened sequences using this [Keras padding API](https://www.tensorflow.org/api_docs/python/tf/keras/preprocessing/sequence/pad_sequences)."
      ]
    },
    {
      "cell_type": "code",
      "execution_count": 16,
      "metadata": {
        "id": "n3xfjk1h2Wci"
      },
      "outputs": [],
      "source": [
        "from tensorflow.keras.preprocessing.sequence import pad_sequences"
      ]
    },
    {
      "cell_type": "code",
      "execution_count": 17,
      "metadata": {
        "id": "61q0jdAo2Wci"
      },
      "outputs": [],
      "source": [
        "MAX_LEN = 512\n",
        "labels = cleanedDF['setences_cleaned'].values.tolist()\n",
        "\n",
        "tags = pad_sequences([[tag2id.get(l) for l in lab] for lab in labels],\n",
        "                     maxlen=MAX_LEN, value=tag2id[\"Empty\"], padding=\"post\",\n",
        "                     dtype=\"long\", truncating=\"post\")"
      ]
    },
    {
      "cell_type": "code",
      "execution_count": 18,
      "metadata": {
        "colab": {
          "base_uri": "https://localhost:8080/"
        },
        "id": "TYszROqK2Wci",
        "outputId": "ff6f324c-833f-475f-ac58-ac03624301d5"
      },
      "outputs": [
        {
          "output_type": "execute_result",
          "data": {
            "text/plain": [
              "array([[1, 1, 6, ..., 8, 8, 8],\n",
              "       [1, 1, 8, ..., 8, 8, 8],\n",
              "       [1, 1, 1, ..., 8, 4, 8],\n",
              "       ...,\n",
              "       [1, 1, 6, ..., 8, 8, 8],\n",
              "       [1, 1, 6, ..., 8, 8, 8],\n",
              "       [1, 1, 6, ..., 8, 8, 8]])"
            ]
          },
          "metadata": {},
          "execution_count": 18
        }
      ],
      "source": [
        "tags"
      ]
    },
    {
      "cell_type": "markdown",
      "metadata": {
        "id": "UDSU6h6h2Wci"
      },
      "source": [
        "<a name='1-3'></a>\n",
        "### 1.3 - Tokenize and Align Labels with 🤗 Library\n",
        "\n",
        "Before feeding the texts to a Transformer model, you will need to tokenize your input using a [🤗 Transformer tokenizer](https://huggingface.co/transformers/main_classes/tokenizer.html). It is crucial that the tokenizer you use must match the Transformer model type you are using! In this exercise, you will use the 🤗 [DistilBERT fast tokenizer](https://huggingface.co/transformers/model_doc/distilbert.html), which standardizes the length of your sequence to 512 and pads with zeros. Notice this matches the maximu length you used when creating tags."
      ]
    },
    {
      "cell_type": "code",
      "execution_count": 19,
      "metadata": {
        "id": "kjAU8Jjs2Wci"
      },
      "outputs": [],
      "source": [
        "from transformers import DistilBertTokenizerFast #, TFDistilBertModel\n",
        "tokenizer = DistilBertTokenizerFast.from_pretrained('/content/drive/MyDrive/w4a2/tokenizer/')"
      ]
    },
    {
      "cell_type": "markdown",
      "metadata": {
        "id": "-pfYgztB2Wcj"
      },
      "source": [
        "Transformer models are often trained by tokenizers that split words into subwords. For instance, the word 'Africa' might get split into multiple subtokens. This can create some misalignment between the list of tags for the dataset and the list of labels generated by the tokenizer, since the tokenizer can split one word into several, or add special tokens. Before processing, it is important that you align the lists of tags and the list of labels generated by the selected tokenizer with a `tokenize_and_align_labels()` function.\n",
        "\n",
        "<a name='ex-1'></a>\n",
        "### Exercise 1 - tokenize_and_align_labels\n",
        "\n",
        "Implement `tokenize_and_align_labels()`. The function should perform the following:\n",
        "* The tokenizer cuts sequences that exceed the maximum size allowed by your model with the parameter `truncation=True`\n",
        "* Aligns the list of tags and labels with the tokenizer `word_ids` method returns a list that maps the subtokens to the original word in the sentence and special tokens to `None`.\n",
        "* Set the labels of all the special tokens (`None`) to -100 to prevent them from affecting the loss function.\n",
        "* Label of the first subtoken of a word and set the label for the following subtokens to -100."
      ]
    },
    {
      "cell_type": "code",
      "execution_count": 20,
      "metadata": {
        "id": "E11o7Qvs2Wcj"
      },
      "outputs": [],
      "source": [
        "label_all_tokens = True\n",
        "def tokenize_and_align_labels(tokenizer, examples, tags):\n",
        "    tokenized_inputs = tokenizer(examples, truncation=True, is_split_into_words=False, padding='max_length', max_length=512)\n",
        "    labels = []\n",
        "    for i, label in enumerate(tags):\n",
        "        word_ids = tokenized_inputs.word_ids(batch_index=i)\n",
        "        previous_word_idx = None\n",
        "        label_ids = []\n",
        "        for word_idx in word_ids:\n",
        "            # Special tokens have a word id that is None. We set the label to -100 so they are automatically\n",
        "            # ignored in the loss function.\n",
        "            if word_idx is None:\n",
        "                label_ids.append(-100)\n",
        "            # We set the label for the first token of each word.\n",
        "            elif word_idx != previous_word_idx:\n",
        "                label_ids.append(label[word_idx])\n",
        "            # For the other tokens in a word, we set the label to either the current label or -100, depending on\n",
        "            # the label_all_tokens flag.\n",
        "            else:\n",
        "                label_ids.append(label[word_idx] if label_all_tokens else -100)\n",
        "            previous_word_idx = word_idx\n",
        "\n",
        "        labels.append(label_ids)\n",
        "\n",
        "    tokenized_inputs[\"labels\"] = labels\n",
        "    return tokenized_inputs"
      ]
    },
    {
      "cell_type": "markdown",
      "metadata": {
        "id": "rfSWjlxV2Wcj"
      },
      "source": [
        "Now that you have tokenized inputs, you can create train and test datasets!"
      ]
    },
    {
      "cell_type": "code",
      "execution_count": 21,
      "metadata": {
        "id": "ndan671l2Wcj"
      },
      "outputs": [],
      "source": [
        "test = tokenize_and_align_labels(tokenizer, df_data['content'].values.tolist(), tags)\n",
        "train_dataset = tf.data.Dataset.from_tensor_slices((\n",
        "    test['input_ids'],\n",
        "    test['labels']\n",
        "))"
      ]
    },
    {
      "cell_type": "code",
      "execution_count": 22,
      "metadata": {
        "colab": {
          "base_uri": "https://localhost:8080/"
        },
        "id": "Z-JSNYvt2Wcj",
        "outputId": "a8254376-2600-46a1-ee6c-fcabe80f2a29"
      },
      "outputs": [
        {
          "output_type": "execute_result",
          "data": {
            "text/plain": [
              "[-100,\n",
              " 1,\n",
              " 1,\n",
              " 1,\n",
              " 1,\n",
              " 1,\n",
              " 1,\n",
              " 6,\n",
              " 6,\n",
              " 6,\n",
              " 8,\n",
              " 8,\n",
              " 8,\n",
              " 8,\n",
              " 8,\n",
              " 8,\n",
              " 8,\n",
              " 8,\n",
              " 8,\n",
              " 8,\n",
              " 5,\n",
              " 8,\n",
              " 8,\n",
              " 8,\n",
              " 8,\n",
              " 8,\n",
              " 8,\n",
              " 8,\n",
              " 8,\n",
              " 8,\n",
              " 8,\n",
              " 8,\n",
              " 8,\n",
              " 8,\n",
              " 8,\n",
              " 8,\n",
              " 8,\n",
              " 8,\n",
              " 8,\n",
              " 8,\n",
              " 8,\n",
              " 8,\n",
              " 8,\n",
              " 8,\n",
              " 8,\n",
              " 8,\n",
              " 8,\n",
              " 8,\n",
              " 8,\n",
              " 8,\n",
              " 8,\n",
              " 8,\n",
              " 8,\n",
              " 8,\n",
              " 8,\n",
              " 8,\n",
              " 8,\n",
              " 8,\n",
              " 8,\n",
              " 8,\n",
              " 8,\n",
              " 8,\n",
              " 8,\n",
              " 8,\n",
              " 8,\n",
              " 8,\n",
              " 8,\n",
              " 8,\n",
              " 8,\n",
              " 8,\n",
              " 8,\n",
              " 6,\n",
              " 6,\n",
              " 8,\n",
              " 9,\n",
              " 8,\n",
              " 8,\n",
              " 8,\n",
              " 8,\n",
              " 8,\n",
              " 8,\n",
              " 8,\n",
              " 8,\n",
              " 8,\n",
              " 8,\n",
              " 8,\n",
              " 8,\n",
              " 8,\n",
              " 8,\n",
              " 8,\n",
              " 8,\n",
              " 8,\n",
              " 8,\n",
              " 8,\n",
              " 8,\n",
              " 8,\n",
              " 8,\n",
              " 8,\n",
              " 8,\n",
              " 8,\n",
              " 8,\n",
              " 8,\n",
              " 8,\n",
              " 8,\n",
              " 8,\n",
              " 8,\n",
              " 8,\n",
              " 8,\n",
              " 8,\n",
              " 8,\n",
              " 8,\n",
              " 8,\n",
              " 8,\n",
              " 8,\n",
              " 8,\n",
              " 8,\n",
              " 8,\n",
              " 8,\n",
              " 8,\n",
              " 8,\n",
              " 8,\n",
              " 8,\n",
              " 8,\n",
              " 8,\n",
              " 8,\n",
              " 8,\n",
              " 8,\n",
              " 6,\n",
              " 6,\n",
              " 6,\n",
              " 6,\n",
              " 6,\n",
              " 8,\n",
              " 10,\n",
              " 10,\n",
              " 10,\n",
              " 10,\n",
              " 10,\n",
              " 10,\n",
              " 10,\n",
              " 8,\n",
              " 8,\n",
              " 8,\n",
              " 8,\n",
              " 8,\n",
              " 8,\n",
              " 8,\n",
              " 8,\n",
              " 8,\n",
              " 8,\n",
              " 8,\n",
              " 10,\n",
              " 10,\n",
              " 8,\n",
              " 8,\n",
              " 8,\n",
              " 8,\n",
              " 8,\n",
              " 8,\n",
              " 8,\n",
              " 10,\n",
              " 8,\n",
              " 8,\n",
              " 8,\n",
              " 8,\n",
              " 8,\n",
              " 8,\n",
              " 8,\n",
              " 4,\n",
              " 4,\n",
              " 4,\n",
              " 4,\n",
              " 4,\n",
              " 4,\n",
              " 4,\n",
              " 4,\n",
              " 4,\n",
              " 4,\n",
              " 4,\n",
              " 4,\n",
              " 4,\n",
              " 4,\n",
              " 4,\n",
              " 4,\n",
              " 4,\n",
              " 4,\n",
              " 4,\n",
              " 4,\n",
              " 4,\n",
              " 4,\n",
              " 4,\n",
              " 4,\n",
              " 4,\n",
              " 4,\n",
              " 4,\n",
              " 4,\n",
              " 4,\n",
              " 4,\n",
              " 4,\n",
              " 8,\n",
              " 8,\n",
              " 8,\n",
              " 8,\n",
              " 8,\n",
              " 8,\n",
              " 8,\n",
              " 8,\n",
              " 4,\n",
              " 4,\n",
              " 4,\n",
              " 4,\n",
              " 4,\n",
              " 4,\n",
              " 4,\n",
              " 4,\n",
              " 4,\n",
              " 4,\n",
              " 4,\n",
              " 4,\n",
              " 4,\n",
              " 4,\n",
              " 4,\n",
              " 4,\n",
              " 4,\n",
              " 4,\n",
              " 4,\n",
              " 4,\n",
              " 4,\n",
              " 4,\n",
              " 4,\n",
              " 4,\n",
              " 4,\n",
              " 4,\n",
              " 4,\n",
              " 4,\n",
              " 4,\n",
              " 4,\n",
              " 4,\n",
              " 4,\n",
              " 4,\n",
              " 4,\n",
              " 4,\n",
              " 4,\n",
              " 4,\n",
              " 4,\n",
              " 4,\n",
              " 4,\n",
              " 4,\n",
              " 4,\n",
              " 4,\n",
              " 4,\n",
              " 4,\n",
              " 4,\n",
              " 4,\n",
              " 4,\n",
              " 4,\n",
              " 4,\n",
              " 4,\n",
              " 4,\n",
              " 8,\n",
              " 8,\n",
              " 8,\n",
              " 8,\n",
              " 8,\n",
              " 8,\n",
              " 8,\n",
              " 8,\n",
              " 8,\n",
              " 8,\n",
              " 8,\n",
              " 8,\n",
              " 8,\n",
              " 8,\n",
              " 8,\n",
              " 8,\n",
              " 8,\n",
              " 8,\n",
              " 8,\n",
              " 8,\n",
              " 8,\n",
              " 8,\n",
              " 8,\n",
              " 8,\n",
              " 8,\n",
              " 8,\n",
              " 8,\n",
              " 8,\n",
              " 8,\n",
              " 8,\n",
              " 8,\n",
              " 8,\n",
              " 8,\n",
              " 8,\n",
              " 8,\n",
              " 8,\n",
              " 8,\n",
              " 8,\n",
              " 8,\n",
              " 8,\n",
              " 8,\n",
              " 8,\n",
              " 8,\n",
              " 8,\n",
              " 8,\n",
              " 8,\n",
              " 8,\n",
              " 8,\n",
              " 8,\n",
              " 8,\n",
              " 8,\n",
              " 8,\n",
              " 8,\n",
              " 8,\n",
              " 8,\n",
              " 8,\n",
              " 8,\n",
              " 8,\n",
              " 8,\n",
              " 8,\n",
              " 8,\n",
              " 8,\n",
              " 8,\n",
              " 8,\n",
              " 8,\n",
              " 8,\n",
              " 8,\n",
              " 8,\n",
              " 8,\n",
              " 8,\n",
              " 8,\n",
              " 8,\n",
              " 8,\n",
              " 8,\n",
              " 8,\n",
              " 8,\n",
              " 8,\n",
              " 8,\n",
              " 8,\n",
              " 8,\n",
              " 8,\n",
              " 8,\n",
              " 8,\n",
              " 8,\n",
              " 8,\n",
              " 8,\n",
              " 8,\n",
              " 8,\n",
              " 8,\n",
              " 8,\n",
              " 8,\n",
              " 8,\n",
              " 8,\n",
              " 8,\n",
              " 8,\n",
              " 8,\n",
              " 8,\n",
              " 8,\n",
              " 8,\n",
              " 8,\n",
              " 8,\n",
              " 8,\n",
              " 8,\n",
              " 8,\n",
              " 8,\n",
              " 8,\n",
              " 8,\n",
              " 8,\n",
              " 8,\n",
              " -100,\n",
              " -100,\n",
              " -100,\n",
              " -100,\n",
              " -100,\n",
              " -100,\n",
              " -100,\n",
              " -100,\n",
              " -100,\n",
              " -100,\n",
              " -100,\n",
              " -100,\n",
              " -100,\n",
              " -100,\n",
              " -100,\n",
              " -100,\n",
              " -100,\n",
              " -100,\n",
              " -100,\n",
              " -100,\n",
              " -100,\n",
              " -100,\n",
              " -100,\n",
              " -100,\n",
              " -100,\n",
              " -100,\n",
              " -100,\n",
              " -100,\n",
              " -100,\n",
              " -100,\n",
              " -100,\n",
              " -100,\n",
              " -100,\n",
              " -100,\n",
              " -100,\n",
              " -100,\n",
              " -100,\n",
              " -100,\n",
              " -100,\n",
              " -100,\n",
              " -100,\n",
              " -100,\n",
              " -100,\n",
              " -100,\n",
              " -100,\n",
              " -100,\n",
              " -100,\n",
              " -100,\n",
              " -100,\n",
              " -100,\n",
              " -100,\n",
              " -100,\n",
              " -100,\n",
              " -100,\n",
              " -100,\n",
              " -100,\n",
              " -100,\n",
              " -100,\n",
              " -100,\n",
              " -100,\n",
              " -100,\n",
              " -100,\n",
              " -100,\n",
              " -100,\n",
              " -100,\n",
              " -100,\n",
              " -100,\n",
              " -100,\n",
              " -100,\n",
              " -100,\n",
              " -100,\n",
              " -100,\n",
              " -100,\n",
              " -100,\n",
              " -100,\n",
              " -100,\n",
              " -100,\n",
              " -100,\n",
              " -100,\n",
              " -100,\n",
              " -100,\n",
              " -100,\n",
              " -100,\n",
              " -100,\n",
              " -100,\n",
              " -100,\n",
              " -100,\n",
              " -100,\n",
              " -100,\n",
              " -100,\n",
              " -100,\n",
              " -100,\n",
              " -100,\n",
              " -100,\n",
              " -100,\n",
              " -100,\n",
              " -100,\n",
              " -100,\n",
              " -100,\n",
              " -100,\n",
              " -100,\n",
              " -100,\n",
              " -100,\n",
              " -100,\n",
              " -100,\n",
              " -100,\n",
              " -100,\n",
              " -100,\n",
              " -100,\n",
              " -100,\n",
              " -100,\n",
              " -100,\n",
              " -100,\n",
              " -100,\n",
              " -100,\n",
              " -100,\n",
              " -100,\n",
              " -100,\n",
              " -100,\n",
              " -100,\n",
              " -100,\n",
              " -100,\n",
              " -100,\n",
              " -100,\n",
              " -100,\n",
              " -100,\n",
              " -100,\n",
              " -100,\n",
              " -100,\n",
              " -100,\n",
              " -100,\n",
              " -100,\n",
              " -100,\n",
              " -100,\n",
              " -100,\n",
              " -100,\n",
              " -100,\n",
              " -100,\n",
              " -100,\n",
              " -100,\n",
              " -100,\n",
              " -100,\n",
              " -100,\n",
              " -100]"
            ]
          },
          "metadata": {},
          "execution_count": 22
        }
      ],
      "source": [
        "test['labels'][0]"
      ]
    },
    {
      "cell_type": "markdown",
      "metadata": {
        "id": "zgx7eGGY2Wcj"
      },
      "source": [
        "<a name='1-4'></a>\n",
        "### 1.4 - Optimization\n",
        "\n",
        "Fantastic! Now you can finally feed your data into into a pretrained 🤗 model. You will optimize a DistilBERT model, which matches the tokenizer you used to preprocess your data. Try playing around with the different hyperparamters to improve your results!"
      ]
    },
    {
      "cell_type": "code",
      "execution_count": 23,
      "metadata": {
        "colab": {
          "base_uri": "https://localhost:8080/",
          "height": 292,
          "referenced_widgets": [
            "48da0f10995f4b2dbced6a2aa6fb9111",
            "b97c6a67261a4a59851e0b779d43828a",
            "c576947b8eb5447f9f66170432ff8d3c",
            "2e1475aa1e7645488372b141579f1267",
            "16b619a0afd24c5289c1bee0849dd170",
            "226376470b6c4514ae745a865f8b3f7a",
            "fada1b463c3f496d8bd6f4a40e041ff1",
            "85eff6a40d5c4f4e935c2d772a26eca7",
            "ccc99c80bb7342e197dca070390be5fd",
            "a39839dad7ff493bb961424726479adc",
            "6bd46659b9ee411b8fe579c8fe663db7",
            "f457927702df4a5e8b0d8e907e584b28",
            "30c8a3e572194b86bb8c93874ab90027",
            "a119424c24c144348930c63c41c59894",
            "611c83234a0d429db71c04ff01215125",
            "34196f2ddf9d4fb79fdc36408c4802b6",
            "f7f66046aa36469c99fc6d987c006411",
            "9019c86ce27a495cada31832d967fd90",
            "ce08c27e09d447599fd4d1058fa1c8f1",
            "4a2c4db71cc2486f8871fbaaad94fe58",
            "9a51cf0b120445208a462befadb77bd8",
            "c02de035d2df4444b5009f03fe637b21"
          ]
        },
        "id": "-o8auFnP2Wcj",
        "outputId": "838324ef-228e-41dc-d6f4-f2a4a3bcace4"
      },
      "outputs": [
        {
          "output_type": "stream",
          "name": "stderr",
          "text": [
            "/usr/local/lib/python3.10/dist-packages/huggingface_hub/utils/_auth.py:94: UserWarning: \n",
            "The secret `HF_TOKEN` does not exist in your Colab secrets.\n",
            "To authenticate with the Hugging Face Hub, create a token in your settings tab (https://huggingface.co/settings/tokens), set it as secret in your Google Colab and restart your session.\n",
            "You will be able to reuse this secret in all of your notebooks.\n",
            "Please note that authentication is recommended but still optional to access public models or datasets.\n",
            "  warnings.warn(\n"
          ]
        },
        {
          "output_type": "display_data",
          "data": {
            "text/plain": [
              "config.json:   0%|          | 0.00/483 [00:00<?, ?B/s]"
            ],
            "application/vnd.jupyter.widget-view+json": {
              "version_major": 2,
              "version_minor": 0,
              "model_id": "48da0f10995f4b2dbced6a2aa6fb9111"
            }
          },
          "metadata": {}
        },
        {
          "output_type": "display_data",
          "data": {
            "text/plain": [
              "model.safetensors:   0%|          | 0.00/268M [00:00<?, ?B/s]"
            ],
            "application/vnd.jupyter.widget-view+json": {
              "version_major": 2,
              "version_minor": 0,
              "model_id": "f457927702df4a5e8b0d8e907e584b28"
            }
          },
          "metadata": {}
        },
        {
          "output_type": "stream",
          "name": "stderr",
          "text": [
            "Some weights of the PyTorch model were not used when initializing the TF 2.0 model TFDistilBertForTokenClassification: ['vocab_projector.bias', 'vocab_transform.bias', 'vocab_transform.weight', 'vocab_layer_norm.weight', 'vocab_layer_norm.bias']\n",
            "- This IS expected if you are initializing TFDistilBertForTokenClassification from a PyTorch model trained on another task or with another architecture (e.g. initializing a TFBertForSequenceClassification model from a BertForPreTraining model).\n",
            "- This IS NOT expected if you are initializing TFDistilBertForTokenClassification from a PyTorch model that you expect to be exactly identical (e.g. initializing a TFBertForSequenceClassification model from a BertForSequenceClassification model).\n",
            "Some weights or buffers of the TF 2.0 model TFDistilBertForTokenClassification were not initialized from the PyTorch model and are newly initialized: ['classifier.weight', 'classifier.bias']\n",
            "You should probably TRAIN this model on a down-stream task to be able to use it for predictions and inference.\n"
          ]
        }
      ],
      "source": [
        "from transformers import TFDistilBertForTokenClassification\n",
        "\n",
        "model = TFDistilBertForTokenClassification.from_pretrained('distilbert-base-uncased', num_labels=len(unique_tags))\n",
        "model.save_pretrained('/content/drive/MyDrive/w4a2/model/')"
      ]
    },
    {
      "cell_type": "code",
      "execution_count": 24,
      "metadata": {
        "colab": {
          "base_uri": "https://localhost:8080/"
        },
        "id": "oalUhGwR2Wcj",
        "outputId": "9c219082-0a54-4e4f-bc67-d7111d4578ef"
      },
      "outputs": [
        {
          "output_type": "stream",
          "name": "stdout",
          "text": [
            "Requirement already satisfied: transformers in /usr/local/lib/python3.10/dist-packages (4.46.2)\n",
            "Requirement already satisfied: tensorflow in /usr/local/lib/python3.10/dist-packages (2.17.1)\n",
            "Requirement already satisfied: filelock in /usr/local/lib/python3.10/dist-packages (from transformers) (3.16.1)\n",
            "Requirement already satisfied: huggingface-hub<1.0,>=0.23.2 in /usr/local/lib/python3.10/dist-packages (from transformers) (0.26.2)\n",
            "Requirement already satisfied: numpy>=1.17 in /usr/local/lib/python3.10/dist-packages (from transformers) (1.26.4)\n",
            "Requirement already satisfied: packaging>=20.0 in /usr/local/lib/python3.10/dist-packages (from transformers) (24.2)\n",
            "Requirement already satisfied: pyyaml>=5.1 in /usr/local/lib/python3.10/dist-packages (from transformers) (6.0.2)\n",
            "Requirement already satisfied: regex!=2019.12.17 in /usr/local/lib/python3.10/dist-packages (from transformers) (2024.9.11)\n",
            "Requirement already satisfied: requests in /usr/local/lib/python3.10/dist-packages (from transformers) (2.32.3)\n",
            "Requirement already satisfied: safetensors>=0.4.1 in /usr/local/lib/python3.10/dist-packages (from transformers) (0.4.5)\n",
            "Requirement already satisfied: tokenizers<0.21,>=0.20 in /usr/local/lib/python3.10/dist-packages (from transformers) (0.20.3)\n",
            "Requirement already satisfied: tqdm>=4.27 in /usr/local/lib/python3.10/dist-packages (from transformers) (4.66.6)\n",
            "Requirement already satisfied: absl-py>=1.0.0 in /usr/local/lib/python3.10/dist-packages (from tensorflow) (1.4.0)\n",
            "Requirement already satisfied: astunparse>=1.6.0 in /usr/local/lib/python3.10/dist-packages (from tensorflow) (1.6.3)\n",
            "Requirement already satisfied: flatbuffers>=24.3.25 in /usr/local/lib/python3.10/dist-packages (from tensorflow) (24.3.25)\n",
            "Requirement already satisfied: gast!=0.5.0,!=0.5.1,!=0.5.2,>=0.2.1 in /usr/local/lib/python3.10/dist-packages (from tensorflow) (0.6.0)\n",
            "Requirement already satisfied: google-pasta>=0.1.1 in /usr/local/lib/python3.10/dist-packages (from tensorflow) (0.2.0)\n",
            "Requirement already satisfied: h5py>=3.10.0 in /usr/local/lib/python3.10/dist-packages (from tensorflow) (3.12.1)\n",
            "Requirement already satisfied: libclang>=13.0.0 in /usr/local/lib/python3.10/dist-packages (from tensorflow) (18.1.1)\n",
            "Requirement already satisfied: ml-dtypes<0.5.0,>=0.3.1 in /usr/local/lib/python3.10/dist-packages (from tensorflow) (0.4.1)\n",
            "Requirement already satisfied: opt-einsum>=2.3.2 in /usr/local/lib/python3.10/dist-packages (from tensorflow) (3.4.0)\n",
            "Requirement already satisfied: protobuf!=4.21.0,!=4.21.1,!=4.21.2,!=4.21.3,!=4.21.4,!=4.21.5,<5.0.0dev,>=3.20.3 in /usr/local/lib/python3.10/dist-packages (from tensorflow) (4.25.5)\n",
            "Requirement already satisfied: setuptools in /usr/local/lib/python3.10/dist-packages (from tensorflow) (75.1.0)\n",
            "Requirement already satisfied: six>=1.12.0 in /usr/local/lib/python3.10/dist-packages (from tensorflow) (1.16.0)\n",
            "Requirement already satisfied: termcolor>=1.1.0 in /usr/local/lib/python3.10/dist-packages (from tensorflow) (2.5.0)\n",
            "Requirement already satisfied: typing-extensions>=3.6.6 in /usr/local/lib/python3.10/dist-packages (from tensorflow) (4.12.2)\n",
            "Requirement already satisfied: wrapt>=1.11.0 in /usr/local/lib/python3.10/dist-packages (from tensorflow) (1.16.0)\n",
            "Requirement already satisfied: grpcio<2.0,>=1.24.3 in /usr/local/lib/python3.10/dist-packages (from tensorflow) (1.67.1)\n",
            "Requirement already satisfied: tensorboard<2.18,>=2.17 in /usr/local/lib/python3.10/dist-packages (from tensorflow) (2.17.1)\n",
            "Requirement already satisfied: keras>=3.2.0 in /usr/local/lib/python3.10/dist-packages (from tensorflow) (3.5.0)\n",
            "Requirement already satisfied: tensorflow-io-gcs-filesystem>=0.23.1 in /usr/local/lib/python3.10/dist-packages (from tensorflow) (0.37.1)\n",
            "Requirement already satisfied: wheel<1.0,>=0.23.0 in /usr/local/lib/python3.10/dist-packages (from astunparse>=1.6.0->tensorflow) (0.45.0)\n",
            "Requirement already satisfied: fsspec>=2023.5.0 in /usr/local/lib/python3.10/dist-packages (from huggingface-hub<1.0,>=0.23.2->transformers) (2024.10.0)\n",
            "Requirement already satisfied: rich in /usr/local/lib/python3.10/dist-packages (from keras>=3.2.0->tensorflow) (13.9.4)\n",
            "Requirement already satisfied: namex in /usr/local/lib/python3.10/dist-packages (from keras>=3.2.0->tensorflow) (0.0.8)\n",
            "Requirement already satisfied: optree in /usr/local/lib/python3.10/dist-packages (from keras>=3.2.0->tensorflow) (0.13.1)\n",
            "Requirement already satisfied: charset-normalizer<4,>=2 in /usr/local/lib/python3.10/dist-packages (from requests->transformers) (3.4.0)\n",
            "Requirement already satisfied: idna<4,>=2.5 in /usr/local/lib/python3.10/dist-packages (from requests->transformers) (3.10)\n",
            "Requirement already satisfied: urllib3<3,>=1.21.1 in /usr/local/lib/python3.10/dist-packages (from requests->transformers) (2.2.3)\n",
            "Requirement already satisfied: certifi>=2017.4.17 in /usr/local/lib/python3.10/dist-packages (from requests->transformers) (2024.8.30)\n",
            "Requirement already satisfied: markdown>=2.6.8 in /usr/local/lib/python3.10/dist-packages (from tensorboard<2.18,>=2.17->tensorflow) (3.7)\n",
            "Requirement already satisfied: tensorboard-data-server<0.8.0,>=0.7.0 in /usr/local/lib/python3.10/dist-packages (from tensorboard<2.18,>=2.17->tensorflow) (0.7.2)\n",
            "Requirement already satisfied: werkzeug>=1.0.1 in /usr/local/lib/python3.10/dist-packages (from tensorboard<2.18,>=2.17->tensorflow) (3.1.3)\n",
            "Requirement already satisfied: MarkupSafe>=2.1.1 in /usr/local/lib/python3.10/dist-packages (from werkzeug>=1.0.1->tensorboard<2.18,>=2.17->tensorflow) (3.0.2)\n",
            "Requirement already satisfied: markdown-it-py>=2.2.0 in /usr/local/lib/python3.10/dist-packages (from rich->keras>=3.2.0->tensorflow) (3.0.0)\n",
            "Requirement already satisfied: pygments<3.0.0,>=2.13.0 in /usr/local/lib/python3.10/dist-packages (from rich->keras>=3.2.0->tensorflow) (2.18.0)\n",
            "Requirement already satisfied: mdurl~=0.1 in /usr/local/lib/python3.10/dist-packages (from markdown-it-py>=2.2.0->rich->keras>=3.2.0->tensorflow) (0.1.2)\n"
          ]
        }
      ],
      "source": [
        "!pip install transformers tensorflow\n",
        "from transformers import TFDistilBertForTokenClassification, create_optimizer\n",
        "import tensorflow as tf"
      ]
    },
    {
      "cell_type": "code",
      "execution_count": 25,
      "metadata": {
        "colab": {
          "base_uri": "https://localhost:8080/",
          "height": 669
        },
        "id": "LCAFsZaD2Wcj",
        "outputId": "37e40350-36d3-49be-c5d9-153ec8053934"
      },
      "outputs": [
        {
          "output_type": "stream",
          "name": "stdout",
          "text": [
            "Epoch 1/3\n"
          ]
        },
        {
          "output_type": "error",
          "ename": "AttributeError",
          "evalue": "in user code:\n\n    File \"/usr/local/lib/python3.10/dist-packages/tf_keras/src/engine/training.py\", line 1398, in train_function  *\n        return step_function(self, iterator)\n    File \"/usr/local/lib/python3.10/dist-packages/transformers/modeling_tf_utils.py\", line 1588, in compute_loss  *\n        return super().compute_loss(*args, **kwargs)\n    File \"/usr/local/lib/python3.10/dist-packages/tf_keras/src/engine/training.py\", line 1206, in compute_loss  **\n        return self.compiled_loss(\n    File \"/usr/local/lib/python3.10/dist-packages/tf_keras/src/engine/compile_utils.py\", line 275, in __call__\n        y_t, y_p, sw = match_dtype_and_rank(y_t, y_p, sw)\n    File \"/usr/local/lib/python3.10/dist-packages/tf_keras/src/engine/compile_utils.py\", line 854, in match_dtype_and_rank\n        if (y_t.dtype.is_floating and y_p.dtype.is_floating) or (\n\n    AttributeError: 'NoneType' object has no attribute 'dtype'\n",
          "traceback": [
            "\u001b[0;31m---------------------------------------------------------------------------\u001b[0m",
            "\u001b[0;31mAttributeError\u001b[0m                            Traceback (most recent call last)",
            "\u001b[0;32m<ipython-input-25-219413149b66>\u001b[0m in \u001b[0;36m<cell line: 12>\u001b[0;34m()\u001b[0m\n\u001b[1;32m     10\u001b[0m \u001b[0;34m\u001b[0m\u001b[0m\n\u001b[1;32m     11\u001b[0m \u001b[0;31m# Train the model\u001b[0m\u001b[0;34m\u001b[0m\u001b[0;34m\u001b[0m\u001b[0m\n\u001b[0;32m---> 12\u001b[0;31m \u001b[0mmodel\u001b[0m\u001b[0;34m.\u001b[0m\u001b[0mfit\u001b[0m\u001b[0;34m(\u001b[0m\u001b[0mtrain_dataset\u001b[0m\u001b[0;34m.\u001b[0m\u001b[0mshuffle\u001b[0m\u001b[0;34m(\u001b[0m\u001b[0;36m1000\u001b[0m\u001b[0;34m)\u001b[0m\u001b[0;34m.\u001b[0m\u001b[0mbatch\u001b[0m\u001b[0;34m(\u001b[0m\u001b[0;36m16\u001b[0m\u001b[0;34m)\u001b[0m\u001b[0;34m,\u001b[0m \u001b[0mepochs\u001b[0m\u001b[0;34m=\u001b[0m\u001b[0;36m3\u001b[0m\u001b[0;34m,\u001b[0m \u001b[0mbatch_size\u001b[0m\u001b[0;34m=\u001b[0m\u001b[0;36m16\u001b[0m\u001b[0;34m)\u001b[0m\u001b[0;34m\u001b[0m\u001b[0;34m\u001b[0m\u001b[0m\n\u001b[0m",
            "\u001b[0;32m/usr/local/lib/python3.10/dist-packages/transformers/modeling_tf_utils.py\u001b[0m in \u001b[0;36mfit\u001b[0;34m(self, *args, **kwargs)\u001b[0m\n\u001b[1;32m   1227\u001b[0m     \u001b[0;32mdef\u001b[0m \u001b[0mfit\u001b[0m\u001b[0;34m(\u001b[0m\u001b[0mself\u001b[0m\u001b[0;34m,\u001b[0m \u001b[0;34m*\u001b[0m\u001b[0margs\u001b[0m\u001b[0;34m,\u001b[0m \u001b[0;34m**\u001b[0m\u001b[0mkwargs\u001b[0m\u001b[0;34m)\u001b[0m\u001b[0;34m:\u001b[0m\u001b[0;34m\u001b[0m\u001b[0;34m\u001b[0m\u001b[0m\n\u001b[1;32m   1228\u001b[0m         \u001b[0margs\u001b[0m\u001b[0;34m,\u001b[0m \u001b[0mkwargs\u001b[0m \u001b[0;34m=\u001b[0m \u001b[0mconvert_batch_encoding\u001b[0m\u001b[0;34m(\u001b[0m\u001b[0;34m*\u001b[0m\u001b[0margs\u001b[0m\u001b[0;34m,\u001b[0m \u001b[0;34m**\u001b[0m\u001b[0mkwargs\u001b[0m\u001b[0;34m)\u001b[0m\u001b[0;34m\u001b[0m\u001b[0;34m\u001b[0m\u001b[0m\n\u001b[0;32m-> 1229\u001b[0;31m         \u001b[0;32mreturn\u001b[0m \u001b[0msuper\u001b[0m\u001b[0;34m(\u001b[0m\u001b[0;34m)\u001b[0m\u001b[0;34m.\u001b[0m\u001b[0mfit\u001b[0m\u001b[0;34m(\u001b[0m\u001b[0;34m*\u001b[0m\u001b[0margs\u001b[0m\u001b[0;34m,\u001b[0m \u001b[0;34m**\u001b[0m\u001b[0mkwargs\u001b[0m\u001b[0;34m)\u001b[0m\u001b[0;34m\u001b[0m\u001b[0;34m\u001b[0m\u001b[0m\n\u001b[0m\u001b[1;32m   1230\u001b[0m \u001b[0;34m\u001b[0m\u001b[0m\n\u001b[1;32m   1231\u001b[0m     \u001b[0;34m@\u001b[0m\u001b[0mfunctools\u001b[0m\u001b[0;34m.\u001b[0m\u001b[0mwraps\u001b[0m\u001b[0;34m(\u001b[0m\u001b[0mkeras\u001b[0m\u001b[0;34m.\u001b[0m\u001b[0mModel\u001b[0m\u001b[0;34m.\u001b[0m\u001b[0mtrain_on_batch\u001b[0m\u001b[0;34m)\u001b[0m\u001b[0;34m\u001b[0m\u001b[0;34m\u001b[0m\u001b[0m\n",
            "\u001b[0;32m/usr/local/lib/python3.10/dist-packages/tf_keras/src/utils/traceback_utils.py\u001b[0m in \u001b[0;36merror_handler\u001b[0;34m(*args, **kwargs)\u001b[0m\n\u001b[1;32m     68\u001b[0m             \u001b[0;31m# To get the full stack trace, call:\u001b[0m\u001b[0;34m\u001b[0m\u001b[0;34m\u001b[0m\u001b[0m\n\u001b[1;32m     69\u001b[0m             \u001b[0;31m# `tf.debugging.disable_traceback_filtering()`\u001b[0m\u001b[0;34m\u001b[0m\u001b[0;34m\u001b[0m\u001b[0m\n\u001b[0;32m---> 70\u001b[0;31m             \u001b[0;32mraise\u001b[0m \u001b[0me\u001b[0m\u001b[0;34m.\u001b[0m\u001b[0mwith_traceback\u001b[0m\u001b[0;34m(\u001b[0m\u001b[0mfiltered_tb\u001b[0m\u001b[0;34m)\u001b[0m \u001b[0;32mfrom\u001b[0m \u001b[0;32mNone\u001b[0m\u001b[0;34m\u001b[0m\u001b[0;34m\u001b[0m\u001b[0m\n\u001b[0m\u001b[1;32m     71\u001b[0m         \u001b[0;32mfinally\u001b[0m\u001b[0;34m:\u001b[0m\u001b[0;34m\u001b[0m\u001b[0;34m\u001b[0m\u001b[0m\n\u001b[1;32m     72\u001b[0m             \u001b[0;32mdel\u001b[0m \u001b[0mfiltered_tb\u001b[0m\u001b[0;34m\u001b[0m\u001b[0;34m\u001b[0m\u001b[0m\n",
            "\u001b[0;32m/usr/local/lib/python3.10/dist-packages/tf_keras/src/engine/training.py\u001b[0m in \u001b[0;36mtf__train_function\u001b[0;34m(iterator)\u001b[0m\n\u001b[1;32m     13\u001b[0m                 \u001b[0;32mtry\u001b[0m\u001b[0;34m:\u001b[0m\u001b[0;34m\u001b[0m\u001b[0;34m\u001b[0m\u001b[0m\n\u001b[1;32m     14\u001b[0m                     \u001b[0mdo_return\u001b[0m \u001b[0;34m=\u001b[0m \u001b[0;32mTrue\u001b[0m\u001b[0;34m\u001b[0m\u001b[0;34m\u001b[0m\u001b[0m\n\u001b[0;32m---> 15\u001b[0;31m                     \u001b[0mretval_\u001b[0m \u001b[0;34m=\u001b[0m \u001b[0mag__\u001b[0m\u001b[0;34m.\u001b[0m\u001b[0mconverted_call\u001b[0m\u001b[0;34m(\u001b[0m\u001b[0mag__\u001b[0m\u001b[0;34m.\u001b[0m\u001b[0mld\u001b[0m\u001b[0;34m(\u001b[0m\u001b[0mstep_function\u001b[0m\u001b[0;34m)\u001b[0m\u001b[0;34m,\u001b[0m \u001b[0;34m(\u001b[0m\u001b[0mag__\u001b[0m\u001b[0;34m.\u001b[0m\u001b[0mld\u001b[0m\u001b[0;34m(\u001b[0m\u001b[0mself\u001b[0m\u001b[0;34m)\u001b[0m\u001b[0;34m,\u001b[0m \u001b[0mag__\u001b[0m\u001b[0;34m.\u001b[0m\u001b[0mld\u001b[0m\u001b[0;34m(\u001b[0m\u001b[0miterator\u001b[0m\u001b[0;34m)\u001b[0m\u001b[0;34m)\u001b[0m\u001b[0;34m,\u001b[0m \u001b[0;32mNone\u001b[0m\u001b[0;34m,\u001b[0m \u001b[0mfscope\u001b[0m\u001b[0;34m)\u001b[0m\u001b[0;34m\u001b[0m\u001b[0;34m\u001b[0m\u001b[0m\n\u001b[0m\u001b[1;32m     16\u001b[0m                 \u001b[0;32mexcept\u001b[0m\u001b[0;34m:\u001b[0m\u001b[0;34m\u001b[0m\u001b[0;34m\u001b[0m\u001b[0m\n\u001b[1;32m     17\u001b[0m                     \u001b[0mdo_return\u001b[0m \u001b[0;34m=\u001b[0m \u001b[0;32mFalse\u001b[0m\u001b[0;34m\u001b[0m\u001b[0;34m\u001b[0m\u001b[0m\n",
            "\u001b[0;32m/usr/local/lib/python3.10/dist-packages/transformers/modeling_tf_utils.py\u001b[0m in \u001b[0;36mtrain_step\u001b[0;34m(self, data)\u001b[0m\n\u001b[1;32m   1704\u001b[0m \u001b[0;34m\u001b[0m\u001b[0m\n\u001b[1;32m   1705\u001b[0m             \u001b[0;32mif\u001b[0m \u001b[0mloss\u001b[0m \u001b[0;32mis\u001b[0m \u001b[0;32mNone\u001b[0m\u001b[0;34m:\u001b[0m\u001b[0;34m\u001b[0m\u001b[0;34m\u001b[0m\u001b[0m\n\u001b[0;32m-> 1706\u001b[0;31m                 \u001b[0mloss\u001b[0m \u001b[0;34m=\u001b[0m \u001b[0mself\u001b[0m\u001b[0;34m.\u001b[0m\u001b[0mcompiled_loss\u001b[0m\u001b[0;34m(\u001b[0m\u001b[0my\u001b[0m\u001b[0;34m,\u001b[0m \u001b[0my_pred\u001b[0m\u001b[0;34m,\u001b[0m \u001b[0msample_weight\u001b[0m\u001b[0;34m,\u001b[0m \u001b[0mregularization_losses\u001b[0m\u001b[0;34m=\u001b[0m\u001b[0mself\u001b[0m\u001b[0;34m.\u001b[0m\u001b[0mlosses\u001b[0m\u001b[0;34m)\u001b[0m\u001b[0;34m\u001b[0m\u001b[0;34m\u001b[0m\u001b[0m\n\u001b[0m\u001b[1;32m   1707\u001b[0m \u001b[0;34m\u001b[0m\u001b[0m\n\u001b[1;32m   1708\u001b[0m         \u001b[0;31m# Run backwards pass.\u001b[0m\u001b[0;34m\u001b[0m\u001b[0;34m\u001b[0m\u001b[0m\n",
            "\u001b[0;32m/usr/local/lib/python3.10/dist-packages/transformers/modeling_tf_utils.py\u001b[0m in \u001b[0;36mtf__compute_loss\u001b[0;34m(self, *args, **kwargs)\u001b[0m\n\u001b[1;32m     36\u001b[0m                         \u001b[0mdo_return\u001b[0m \u001b[0;34m=\u001b[0m \u001b[0;32mFalse\u001b[0m\u001b[0;34m\u001b[0m\u001b[0;34m\u001b[0m\u001b[0m\n\u001b[1;32m     37\u001b[0m                         \u001b[0;32mraise\u001b[0m\u001b[0;34m\u001b[0m\u001b[0;34m\u001b[0m\u001b[0m\n\u001b[0;32m---> 38\u001b[0;31m                 \u001b[0mag__\u001b[0m\u001b[0;34m.\u001b[0m\u001b[0mif_stmt\u001b[0m\u001b[0;34m(\u001b[0m\u001b[0mag__\u001b[0m\u001b[0;34m.\u001b[0m\u001b[0mconverted_call\u001b[0m\u001b[0;34m(\u001b[0m\u001b[0mag__\u001b[0m\u001b[0;34m.\u001b[0m\u001b[0mld\u001b[0m\u001b[0;34m(\u001b[0m\u001b[0mhasattr\u001b[0m\u001b[0;34m)\u001b[0m\u001b[0;34m,\u001b[0m \u001b[0;34m(\u001b[0m\u001b[0mag__\u001b[0m\u001b[0;34m.\u001b[0m\u001b[0mld\u001b[0m\u001b[0;34m(\u001b[0m\u001b[0mkeras\u001b[0m\u001b[0;34m)\u001b[0m\u001b[0;34m.\u001b[0m\u001b[0mModel\u001b[0m\u001b[0;34m,\u001b[0m \u001b[0;34m'compute_loss'\u001b[0m\u001b[0;34m)\u001b[0m\u001b[0;34m,\u001b[0m \u001b[0;32mNone\u001b[0m\u001b[0;34m,\u001b[0m \u001b[0mfscope\u001b[0m\u001b[0;34m)\u001b[0m\u001b[0;34m,\u001b[0m \u001b[0mif_body\u001b[0m\u001b[0;34m,\u001b[0m \u001b[0melse_body\u001b[0m\u001b[0;34m,\u001b[0m \u001b[0mget_state\u001b[0m\u001b[0;34m,\u001b[0m \u001b[0mset_state\u001b[0m\u001b[0;34m,\u001b[0m \u001b[0;34m(\u001b[0m\u001b[0;34m'do_return'\u001b[0m\u001b[0;34m,\u001b[0m \u001b[0;34m'retval_'\u001b[0m\u001b[0;34m)\u001b[0m\u001b[0;34m,\u001b[0m \u001b[0;36m2\u001b[0m\u001b[0;34m)\u001b[0m\u001b[0;34m\u001b[0m\u001b[0;34m\u001b[0m\u001b[0m\n\u001b[0m\u001b[1;32m     39\u001b[0m                 \u001b[0;32mreturn\u001b[0m \u001b[0mfscope\u001b[0m\u001b[0;34m.\u001b[0m\u001b[0mret\u001b[0m\u001b[0;34m(\u001b[0m\u001b[0mretval_\u001b[0m\u001b[0;34m,\u001b[0m \u001b[0mdo_return\u001b[0m\u001b[0;34m)\u001b[0m\u001b[0;34m\u001b[0m\u001b[0;34m\u001b[0m\u001b[0m\n\u001b[1;32m     40\u001b[0m         \u001b[0;32mreturn\u001b[0m \u001b[0mtf__compute_loss\u001b[0m\u001b[0;34m\u001b[0m\u001b[0;34m\u001b[0m\u001b[0m\n",
            "\u001b[0;32m/usr/local/lib/python3.10/dist-packages/transformers/modeling_tf_utils.py\u001b[0m in \u001b[0;36mif_body\u001b[0;34m()\u001b[0m\n\u001b[1;32m     22\u001b[0m                     \u001b[0;32mtry\u001b[0m\u001b[0;34m:\u001b[0m\u001b[0;34m\u001b[0m\u001b[0;34m\u001b[0m\u001b[0m\n\u001b[1;32m     23\u001b[0m                         \u001b[0mdo_return\u001b[0m \u001b[0;34m=\u001b[0m \u001b[0;32mTrue\u001b[0m\u001b[0;34m\u001b[0m\u001b[0;34m\u001b[0m\u001b[0m\n\u001b[0;32m---> 24\u001b[0;31m                         \u001b[0mretval_\u001b[0m \u001b[0;34m=\u001b[0m \u001b[0mag__\u001b[0m\u001b[0;34m.\u001b[0m\u001b[0mconverted_call\u001b[0m\u001b[0;34m(\u001b[0m\u001b[0mag__\u001b[0m\u001b[0;34m.\u001b[0m\u001b[0mconverted_call\u001b[0m\u001b[0;34m(\u001b[0m\u001b[0mag__\u001b[0m\u001b[0;34m.\u001b[0m\u001b[0mld\u001b[0m\u001b[0;34m(\u001b[0m\u001b[0msuper\u001b[0m\u001b[0;34m)\u001b[0m\u001b[0;34m,\u001b[0m \u001b[0;34m(\u001b[0m\u001b[0;34m)\u001b[0m\u001b[0;34m,\u001b[0m \u001b[0;32mNone\u001b[0m\u001b[0;34m,\u001b[0m \u001b[0mfscope\u001b[0m\u001b[0;34m)\u001b[0m\u001b[0;34m.\u001b[0m\u001b[0mcompute_loss\u001b[0m\u001b[0;34m,\u001b[0m \u001b[0mtuple\u001b[0m\u001b[0;34m(\u001b[0m\u001b[0mag__\u001b[0m\u001b[0;34m.\u001b[0m\u001b[0mld\u001b[0m\u001b[0;34m(\u001b[0m\u001b[0margs\u001b[0m\u001b[0;34m)\u001b[0m\u001b[0;34m)\u001b[0m\u001b[0;34m,\u001b[0m \u001b[0mdict\u001b[0m\u001b[0;34m(\u001b[0m\u001b[0;34m**\u001b[0m\u001b[0mag__\u001b[0m\u001b[0;34m.\u001b[0m\u001b[0mld\u001b[0m\u001b[0;34m(\u001b[0m\u001b[0mkwargs\u001b[0m\u001b[0;34m)\u001b[0m\u001b[0;34m)\u001b[0m\u001b[0;34m,\u001b[0m \u001b[0mfscope\u001b[0m\u001b[0;34m)\u001b[0m\u001b[0;34m\u001b[0m\u001b[0;34m\u001b[0m\u001b[0m\n\u001b[0m\u001b[1;32m     25\u001b[0m                     \u001b[0;32mexcept\u001b[0m\u001b[0;34m:\u001b[0m\u001b[0;34m\u001b[0m\u001b[0;34m\u001b[0m\u001b[0m\n\u001b[1;32m     26\u001b[0m                         \u001b[0mdo_return\u001b[0m \u001b[0;34m=\u001b[0m \u001b[0;32mFalse\u001b[0m\u001b[0;34m\u001b[0m\u001b[0;34m\u001b[0m\u001b[0m\n",
            "\u001b[0;31mAttributeError\u001b[0m: in user code:\n\n    File \"/usr/local/lib/python3.10/dist-packages/tf_keras/src/engine/training.py\", line 1398, in train_function  *\n        return step_function(self, iterator)\n    File \"/usr/local/lib/python3.10/dist-packages/transformers/modeling_tf_utils.py\", line 1588, in compute_loss  *\n        return super().compute_loss(*args, **kwargs)\n    File \"/usr/local/lib/python3.10/dist-packages/tf_keras/src/engine/training.py\", line 1206, in compute_loss  **\n        return self.compiled_loss(\n    File \"/usr/local/lib/python3.10/dist-packages/tf_keras/src/engine/compile_utils.py\", line 275, in __call__\n        y_t, y_p, sw = match_dtype_and_rank(y_t, y_p, sw)\n    File \"/usr/local/lib/python3.10/dist-packages/tf_keras/src/engine/compile_utils.py\", line 854, in match_dtype_and_rank\n        if (y_t.dtype.is_floating and y_p.dtype.is_floating) or (\n\n    AttributeError: 'NoneType' object has no attribute 'dtype'\n"
          ]
        }
      ],
      "source": [
        "num_train_steps = len(train_dataset) * 3  # Assuming 3 epochs\n",
        "optimizer, lr_schedule = create_optimizer(\n",
        "    init_lr=1e-5,\n",
        "    num_warmup_steps=0,\n",
        "    num_train_steps=num_train_steps\n",
        ")\n",
        "\n",
        "# Compile the model\n",
        "model.compile(optimizer=optimizer, loss=model.compute_loss, metrics=['accuracy'])\n",
        "\n",
        "# Train the model\n",
        "model.fit(train_dataset.shuffle(1000).batch(16), epochs=3, batch_size=16)"
      ]
    },
    {
      "cell_type": "markdown",
      "source": [
        "wandb"
      ],
      "metadata": {
        "id": "pXEbjdMk9Hz0"
      }
    },
    {
      "cell_type": "code",
      "source": [
        "pip install wandb"
      ],
      "metadata": {
        "id": "LNXVcshi9M58",
        "colab": {
          "base_uri": "https://localhost:8080/"
        },
        "outputId": "a57fde32-c784-4b73-8a2f-d564928417e8"
      },
      "execution_count": 26,
      "outputs": [
        {
          "output_type": "stream",
          "name": "stdout",
          "text": [
            "Requirement already satisfied: wandb in /usr/local/lib/python3.10/dist-packages (0.18.6)\n",
            "Requirement already satisfied: click!=8.0.0,>=7.1 in /usr/local/lib/python3.10/dist-packages (from wandb) (8.1.7)\n",
            "Requirement already satisfied: docker-pycreds>=0.4.0 in /usr/local/lib/python3.10/dist-packages (from wandb) (0.4.0)\n",
            "Requirement already satisfied: gitpython!=3.1.29,>=1.0.0 in /usr/local/lib/python3.10/dist-packages (from wandb) (3.1.43)\n",
            "Requirement already satisfied: platformdirs in /usr/local/lib/python3.10/dist-packages (from wandb) (4.3.6)\n",
            "Requirement already satisfied: protobuf!=4.21.0,!=5.28.0,<6,>=3.19.0 in /usr/local/lib/python3.10/dist-packages (from wandb) (4.25.5)\n",
            "Requirement already satisfied: psutil>=5.0.0 in /usr/local/lib/python3.10/dist-packages (from wandb) (5.9.5)\n",
            "Requirement already satisfied: pyyaml in /usr/local/lib/python3.10/dist-packages (from wandb) (6.0.2)\n",
            "Requirement already satisfied: requests<3,>=2.0.0 in /usr/local/lib/python3.10/dist-packages (from wandb) (2.32.3)\n",
            "Requirement already satisfied: sentry-sdk>=2.0.0 in /usr/local/lib/python3.10/dist-packages (from wandb) (2.18.0)\n",
            "Requirement already satisfied: setproctitle in /usr/local/lib/python3.10/dist-packages (from wandb) (1.3.3)\n",
            "Requirement already satisfied: setuptools in /usr/local/lib/python3.10/dist-packages (from wandb) (75.1.0)\n",
            "Requirement already satisfied: typing-extensions<5,>=4.4 in /usr/local/lib/python3.10/dist-packages (from wandb) (4.12.2)\n",
            "Requirement already satisfied: six>=1.4.0 in /usr/local/lib/python3.10/dist-packages (from docker-pycreds>=0.4.0->wandb) (1.16.0)\n",
            "Requirement already satisfied: gitdb<5,>=4.0.1 in /usr/local/lib/python3.10/dist-packages (from gitpython!=3.1.29,>=1.0.0->wandb) (4.0.11)\n",
            "Requirement already satisfied: charset-normalizer<4,>=2 in /usr/local/lib/python3.10/dist-packages (from requests<3,>=2.0.0->wandb) (3.4.0)\n",
            "Requirement already satisfied: idna<4,>=2.5 in /usr/local/lib/python3.10/dist-packages (from requests<3,>=2.0.0->wandb) (3.10)\n",
            "Requirement already satisfied: urllib3<3,>=1.21.1 in /usr/local/lib/python3.10/dist-packages (from requests<3,>=2.0.0->wandb) (2.2.3)\n",
            "Requirement already satisfied: certifi>=2017.4.17 in /usr/local/lib/python3.10/dist-packages (from requests<3,>=2.0.0->wandb) (2024.8.30)\n",
            "Requirement already satisfied: smmap<6,>=3.0.1 in /usr/local/lib/python3.10/dist-packages (from gitdb<5,>=4.0.1->gitpython!=3.1.29,>=1.0.0->wandb) (5.0.1)\n"
          ]
        }
      ]
    },
    {
      "cell_type": "code",
      "source": [
        "import wandb\n",
        "wandb.init(project='tf-distl-bert-token-cls', name='neural-net')"
      ],
      "metadata": {
        "id": "lmR1axjv9WSH",
        "colab": {
          "base_uri": "https://localhost:8080/",
          "height": 249
        },
        "outputId": "c2a787a8-4537-4610-f194-7dbae7459a2e"
      },
      "execution_count": 27,
      "outputs": [
        {
          "output_type": "stream",
          "name": "stderr",
          "text": [
            "\u001b[34m\u001b[1mwandb\u001b[0m: Using wandb-core as the SDK backend.  Please refer to https://wandb.me/wandb-core for more information.\n"
          ]
        },
        {
          "output_type": "display_data",
          "data": {
            "text/plain": [
              "<IPython.core.display.Javascript object>"
            ],
            "application/javascript": [
              "\n",
              "        window._wandbApiKey = new Promise((resolve, reject) => {\n",
              "            function loadScript(url) {\n",
              "            return new Promise(function(resolve, reject) {\n",
              "                let newScript = document.createElement(\"script\");\n",
              "                newScript.onerror = reject;\n",
              "                newScript.onload = resolve;\n",
              "                document.body.appendChild(newScript);\n",
              "                newScript.src = url;\n",
              "            });\n",
              "            }\n",
              "            loadScript(\"https://cdn.jsdelivr.net/npm/postmate/build/postmate.min.js\").then(() => {\n",
              "            const iframe = document.createElement('iframe')\n",
              "            iframe.style.cssText = \"width:0;height:0;border:none\"\n",
              "            document.body.appendChild(iframe)\n",
              "            const handshake = new Postmate({\n",
              "                container: iframe,\n",
              "                url: 'https://wandb.ai/authorize'\n",
              "            });\n",
              "            const timeout = setTimeout(() => reject(\"Couldn't auto authenticate\"), 5000)\n",
              "            handshake.then(function(child) {\n",
              "                child.on('authorize', data => {\n",
              "                    clearTimeout(timeout)\n",
              "                    resolve(data)\n",
              "                });\n",
              "            });\n",
              "            })\n",
              "        });\n",
              "    "
            ]
          },
          "metadata": {}
        },
        {
          "output_type": "stream",
          "name": "stderr",
          "text": [
            "\u001b[34m\u001b[1mwandb\u001b[0m: Logging into wandb.ai. (Learn how to deploy a W&B server locally: https://wandb.me/wandb-server)\n",
            "\u001b[34m\u001b[1mwandb\u001b[0m: You can find your API key in your browser here: https://wandb.ai/authorize\n",
            "wandb: Paste an API key from your profile and hit enter, or press ctrl+c to quit:"
          ]
        },
        {
          "name": "stdout",
          "output_type": "stream",
          "text": [
            " ··········\n"
          ]
        },
        {
          "output_type": "stream",
          "name": "stderr",
          "text": [
            "\u001b[34m\u001b[1mwandb\u001b[0m: Appending key for api.wandb.ai to your netrc file: /root/.netrc\n"
          ]
        },
        {
          "output_type": "display_data",
          "data": {
            "text/plain": [
              "<IPython.core.display.HTML object>"
            ],
            "text/html": [
              "Tracking run with wandb version 0.18.6"
            ]
          },
          "metadata": {}
        },
        {
          "output_type": "display_data",
          "data": {
            "text/plain": [
              "<IPython.core.display.HTML object>"
            ],
            "text/html": [
              "Run data is saved locally in <code>/content/wandb/run-20241116_055847-d30cj2wr</code>"
            ]
          },
          "metadata": {}
        },
        {
          "output_type": "display_data",
          "data": {
            "text/plain": [
              "<IPython.core.display.HTML object>"
            ],
            "text/html": [
              "Syncing run <strong><a href='https://wandb.ai/nlp-vn/tf-distl-bert-token-cls/runs/d30cj2wr' target=\"_blank\">neural-net</a></strong> to <a href='https://wandb.ai/nlp-vn/tf-distl-bert-token-cls' target=\"_blank\">Weights & Biases</a> (<a href='https://wandb.me/developer-guide' target=\"_blank\">docs</a>)<br/>"
            ]
          },
          "metadata": {}
        },
        {
          "output_type": "display_data",
          "data": {
            "text/plain": [
              "<IPython.core.display.HTML object>"
            ],
            "text/html": [
              " View project at <a href='https://wandb.ai/nlp-vn/tf-distl-bert-token-cls' target=\"_blank\">https://wandb.ai/nlp-vn/tf-distl-bert-token-cls</a>"
            ]
          },
          "metadata": {}
        },
        {
          "output_type": "display_data",
          "data": {
            "text/plain": [
              "<IPython.core.display.HTML object>"
            ],
            "text/html": [
              " View run at <a href='https://wandb.ai/nlp-vn/tf-distl-bert-token-cls/runs/d30cj2wr' target=\"_blank\">https://wandb.ai/nlp-vn/tf-distl-bert-token-cls/runs/d30cj2wr</a>"
            ]
          },
          "metadata": {}
        },
        {
          "output_type": "execute_result",
          "data": {
            "text/html": [
              "<button onClick=\"this.nextSibling.style.display='block';this.style.display='none';\">Display W&B run</button><iframe src='https://wandb.ai/nlp-vn/tf-distl-bert-token-cls/runs/d30cj2wr?jupyter=true' style='border:none;width:100%;height:420px;display:none;'></iframe>"
            ],
            "text/plain": [
              "<wandb.sdk.wandb_run.Run at 0x7c8d2036b910>"
            ]
          },
          "metadata": {},
          "execution_count": 27
        }
      ]
    },
    {
      "cell_type": "code",
      "source": [
        "!pip install --upgrade wandb"
      ],
      "metadata": {
        "id": "dT4K0rTC97vA"
      },
      "execution_count": null,
      "outputs": []
    },
    {
      "cell_type": "code",
      "source": [
        "%env WANDB_LOG_MODEL=true"
      ],
      "metadata": {
        "id": "93ykZ7d19HRs",
        "colab": {
          "base_uri": "https://localhost:8080/"
        },
        "outputId": "39848849-9912-482b-cd9e-3b41ec66e4c4"
      },
      "execution_count": 36,
      "outputs": [
        {
          "output_type": "stream",
          "name": "stdout",
          "text": [
            "env: WANDB_LOG_MODEL=true\n"
          ]
        }
      ]
    },
    {
      "source": [
        "from transformers import TFDistilBertForTokenClassification\n",
        "from tensorflow.keras.losses import SparseCategoricalCrossentropy\n",
        "\n",
        "# Initialize W&B\n",
        "wandb.init(project=\"dist-tf-bert-token-cls\", entity=\"tuanngoc\")\n",
        "\n",
        "# Set up WandbCallback with custom options\n",
        "wandb_callback = wandb.keras.WandbCallback(\n",
        "    monitor=\"val_accuracy\",  # track validation accuracy\n",
        "    log_weights=True,        # log model weights\n",
        "    log_gradients=True,      # log gradients\n",
        "    save_model=True,         # save the model with the best val_accuracy\n",
        "    log_batch_frequency=10,  # log every 10 batches\n",
        "    validation_data=test,  # validation data to visualize\n",
        "    training_data=train_dataset.shuffle(1000).batch(16).take(1) # Take a small sample for efficiency\n",
        ")\n",
        "\n",
        "\n",
        "num_train_steps = len(train_dataset) * 3  # Assuming 3 epochs\n",
        "optimizer, lr_schedule = create_optimizer(\n",
        "    init_lr=1e-5,\n",
        "    num_warmup_steps=0,\n",
        "    num_train_steps=num_train_steps\n",
        ")\n",
        "\n",
        "# Define the number of labels\n",
        "num_labels = len(unique_tags)  # Replace unique_tags with your list of tags\n",
        "\n",
        "# Load the model with the specified number of labels\n",
        "model = TFDistilBertForTokenClassification.from_pretrained(\"distilbert-base-uncased\", num_labels=num_labels)\n",
        "\n",
        "# Compile the model\n",
        "model.compile(\n",
        "    optimizer=optimizer,\n",
        "    loss=SparseCategoricalCrossentropy(from_logits=True),\n",
        "    metrics=['accuracy']\n",
        ")\n",
        "\n",
        "# Train the model\n",
        "model.fit(train_dataset.shuffle(1000).batch(16), epochs=3, batch_size=16, callbacks=[wandb.keras.WandbCallback()])\n"
      ],
      "cell_type": "code",
      "metadata": {
        "id": "FoQXCvLq685u",
        "colab": {
          "base_uri": "https://localhost:8080/",
          "height": 632
        },
        "outputId": "68897481-7d95-481b-fd86-6d6da000511b"
      },
      "execution_count": 45,
      "outputs": [
        {
          "output_type": "display_data",
          "data": {
            "text/plain": [
              "<IPython.core.display.HTML object>"
            ],
            "text/html": [
              "Changes to your `wandb` environment variables will be ignored because your `wandb` session has already started. For more information on how to modify your settings with `wandb.init()` arguments, please refer to <a href='https://wandb.me/wandb-init' target=\"_blank\">the W&B docs</a>."
            ]
          },
          "metadata": {}
        },
        {
          "output_type": "display_data",
          "data": {
            "text/plain": [
              "<IPython.core.display.HTML object>"
            ],
            "text/html": [
              "Finishing last run (ID:d30cj2wr) before initializing another..."
            ]
          },
          "metadata": {}
        },
        {
          "output_type": "display_data",
          "data": {
            "text/plain": [
              "<IPython.core.display.HTML object>"
            ],
            "text/html": [
              "\n",
              "    <style>\n",
              "        .wandb-row {\n",
              "            display: flex;\n",
              "            flex-direction: row;\n",
              "            flex-wrap: wrap;\n",
              "            justify-content: flex-start;\n",
              "            width: 100%;\n",
              "        }\n",
              "        .wandb-col {\n",
              "            display: flex;\n",
              "            flex-direction: column;\n",
              "            flex-basis: 100%;\n",
              "            flex: 1;\n",
              "            padding: 10px;\n",
              "        }\n",
              "    </style>\n",
              "<div class=\"wandb-row\"><div class=\"wandb-col\"><h3>Run history:</h3><br/><table class=\"wandb\"><tr><td>accuracy</td><td>█▁▁</td></tr><tr><td>epoch</td><td>▁▅█</td></tr></table><br/></div><div class=\"wandb-col\"><h3>Run summary:</h3><br/><table class=\"wandb\"><tr><td>accuracy</td><td>0.00531</td></tr><tr><td>epoch</td><td>2</td></tr><tr><td>loss</td><td>nan</td></tr></table><br/></div></div>"
            ]
          },
          "metadata": {}
        },
        {
          "output_type": "display_data",
          "data": {
            "text/plain": [
              "<IPython.core.display.HTML object>"
            ],
            "text/html": [
              " View run <strong style=\"color:#cdcd00\">neural-net</strong> at: <a href='https://wandb.ai/nlp-vn/tf-distl-bert-token-cls/runs/d30cj2wr' target=\"_blank\">https://wandb.ai/nlp-vn/tf-distl-bert-token-cls/runs/d30cj2wr</a><br/> View project at: <a href='https://wandb.ai/nlp-vn/tf-distl-bert-token-cls' target=\"_blank\">https://wandb.ai/nlp-vn/tf-distl-bert-token-cls</a><br/>Synced 5 W&B file(s), 0 media file(s), 0 artifact file(s) and 1 other file(s)"
            ]
          },
          "metadata": {}
        },
        {
          "output_type": "display_data",
          "data": {
            "text/plain": [
              "<IPython.core.display.HTML object>"
            ],
            "text/html": [
              "Find logs at: <code>./wandb/run-20241116_055847-d30cj2wr/logs</code>"
            ]
          },
          "metadata": {}
        },
        {
          "output_type": "display_data",
          "data": {
            "text/plain": [
              "<IPython.core.display.HTML object>"
            ],
            "text/html": [
              "Successfully finished last run (ID:d30cj2wr). Initializing new run:<br/>"
            ]
          },
          "metadata": {}
        },
        {
          "output_type": "display_data",
          "data": {
            "text/plain": [
              "<IPython.core.display.HTML object>"
            ],
            "text/html": [
              "Tracking run with wandb version 0.18.6"
            ]
          },
          "metadata": {}
        },
        {
          "output_type": "display_data",
          "data": {
            "text/plain": [
              "<IPython.core.display.HTML object>"
            ],
            "text/html": [
              "Run data is saved locally in <code>/content/wandb/run-20241116_065538-wt9oungz</code>"
            ]
          },
          "metadata": {}
        },
        {
          "output_type": "display_data",
          "data": {
            "text/plain": [
              "<IPython.core.display.HTML object>"
            ],
            "text/html": [
              "Syncing run <strong><a href='https://wandb.ai/tuanngoc/dist-tf-bert-token-cls/runs/wt9oungz' target=\"_blank\">quiet-plant-1</a></strong> to <a href='https://wandb.ai/tuanngoc/dist-tf-bert-token-cls' target=\"_blank\">Weights & Biases</a> (<a href='https://wandb.me/developer-guide' target=\"_blank\">docs</a>)<br/>"
            ]
          },
          "metadata": {}
        },
        {
          "output_type": "display_data",
          "data": {
            "text/plain": [
              "<IPython.core.display.HTML object>"
            ],
            "text/html": [
              " View project at <a href='https://wandb.ai/tuanngoc/dist-tf-bert-token-cls' target=\"_blank\">https://wandb.ai/tuanngoc/dist-tf-bert-token-cls</a>"
            ]
          },
          "metadata": {}
        },
        {
          "output_type": "display_data",
          "data": {
            "text/plain": [
              "<IPython.core.display.HTML object>"
            ],
            "text/html": [
              " View run at <a href='https://wandb.ai/tuanngoc/dist-tf-bert-token-cls/runs/wt9oungz' target=\"_blank\">https://wandb.ai/tuanngoc/dist-tf-bert-token-cls/runs/wt9oungz</a>"
            ]
          },
          "metadata": {}
        },
        {
          "output_type": "stream",
          "name": "stderr",
          "text": [
            "Some weights of the PyTorch model were not used when initializing the TF 2.0 model TFDistilBertForTokenClassification: ['vocab_projector.bias', 'vocab_transform.bias', 'vocab_transform.weight', 'vocab_layer_norm.weight', 'vocab_layer_norm.bias']\n",
            "- This IS expected if you are initializing TFDistilBertForTokenClassification from a PyTorch model trained on another task or with another architecture (e.g. initializing a TFBertForSequenceClassification model from a BertForPreTraining model).\n",
            "- This IS NOT expected if you are initializing TFDistilBertForTokenClassification from a PyTorch model that you expect to be exactly identical (e.g. initializing a TFBertForSequenceClassification model from a BertForSequenceClassification model).\n",
            "Some weights or buffers of the TF 2.0 model TFDistilBertForTokenClassification were not initialized from the PyTorch model and are newly initialized: ['classifier.weight', 'classifier.bias']\n",
            "You should probably TRAIN this model on a down-stream task to be able to use it for predictions and inference.\n"
          ]
        },
        {
          "output_type": "stream",
          "name": "stdout",
          "text": [
            "Epoch 1/3\n",
            "14/14 [==============================] - 31s 799ms/step - loss: nan - accuracy: 0.0070\n",
            "Epoch 2/3\n",
            "14/14 [==============================] - 11s 796ms/step - loss: nan - accuracy: 0.0053\n",
            "Epoch 3/3\n",
            "14/14 [==============================] - 11s 781ms/step - loss: nan - accuracy: 0.0053\n"
          ]
        },
        {
          "output_type": "execute_result",
          "data": {
            "text/plain": [
              "<tf_keras.src.callbacks.History at 0x7c8ab8c2cf40>"
            ]
          },
          "metadata": {},
          "execution_count": 45
        }
      ]
    },
    {
      "cell_type": "code",
      "source": [
        "import os\n",
        "import tensorflow as tf\n",
        "\n",
        "# Define the custom callback for saving models and logging\n",
        "class CustomCheckpointCallback(tf.keras.callbacks.Callback):\n",
        "    def on_epoch_end(self, epoch, logs=None):\n",
        "        # Log epoch completion and any other metrics\n",
        "        print(f\"Epoch {epoch+1} finished with logs: {logs}\")\n",
        "\n",
        "        # Define directory and filename format for saving the model\n",
        "        save_dir = \"/content/drive/MyDrive/w4a2/model\"\n",
        "        os.makedirs(save_dir, exist_ok=True)\n",
        "\n",
        "        # Use validation accuracy if available, otherwise fallback to training accuracy\n",
        "        val_acc = logs.get(\"val_accuracy\")\n",
        "        train_acc = logs.get(\"accuracy\")\n",
        "        if val_acc:\n",
        "            model_name = f\"model_val_acc_{val_acc:.4f}\"\n",
        "        else:\n",
        "            model_name = f\"model_train_acc_{train_acc:.4f}\"\n",
        "\n",
        "        # Save the model in SavedModel format\n",
        "        model_path = os.path.join(save_dir, model_name)\n",
        "        self.model.save(model_path, save_format=\"tf\")\n",
        "        print(f\"Model saved to {model_path}\")\n",
        "\n",
        "    # Adding the following hook implementations\n",
        "    def _implements_train_batch_hooks(self):\n",
        "        return False\n",
        "\n",
        "    def _implements_test_batch_hooks(self):\n",
        "        return False\n",
        "\n",
        "    def _implements_predict_batch_hooks(self):\n",
        "        return False\n",
        "\n",
        "# Use the custom callback in model.fit\n",
        "model.fit(\n",
        "    train_dataset.shuffle(1000).batch(16),\n",
        "    epochs=10,\n",
        "    callbacks=[CustomCheckpointCallback()]\n",
        ")\n"
      ],
      "metadata": {
        "id": "aC2JQKA5Env5"
      },
      "execution_count": null,
      "outputs": []
    },
    {
      "cell_type": "code",
      "source": [
        "import os\n",
        "import tensorflow as tf\n",
        "from transformers import DistilBertTokenizer\n",
        "\n",
        "# Define the custom callback for saving models and logging\n",
        "class CustomCheckpointCallback(tf.keras.callbacks.Callback):\n",
        "    def on_epoch_end(self, epoch, logs=None):\n",
        "        # Log epoch completion and any other metrics\n",
        "        print(f\"Epoch {epoch+1} finished with logs: {logs}\")\n",
        "\n",
        "        # Define directory and filename format for saving the model\n",
        "        save_dir = \"/content/drive/MyDrive/w4a2/model\"\n",
        "        os.makedirs(save_dir, exist_ok=True)\n",
        "\n",
        "        # Use validation accuracy if available, otherwise fallback to training accuracy\n",
        "        val_acc = logs.get(\"val_accuracy\")\n",
        "        train_acc = logs.get(\"accuracy\")\n",
        "        if val_acc:\n",
        "            model_name = f\"model_val_acc_{val_acc:.4f}\"\n",
        "        else:\n",
        "            model_name = f\"model_train_acc_{train_acc:.4f}\"\n",
        "\n",
        "        # Save the model in SavedModel format\n",
        "        model_path = os.path.join(save_dir, model_name)\n",
        "        self.model.save(model_path, save_format=\"tf\")\n",
        "        print(f\"Model saved to {model_path}\")\n",
        "\n",
        "    # Adding the following hook implementations\n",
        "    def _implements_train_batch_hooks(self):\n",
        "        return False\n",
        "\n",
        "    def _implements_test_batch_hooks(self):\n",
        "        return False\n",
        "\n",
        "    def _implements_predict_batch_hooks(self):\n",
        "        return False\n",
        "\n",
        "# Initialize the tokenizer (assuming a DistilBERT model)\n",
        "tokenizer = DistilBertTokenizer.from_pretrained(\"distilbert-base-uncased\")\n",
        "\n",
        "# Prepare a sample input using the tokenizer\n",
        "sample_text = \"This is a sample input to initialize the model.\"\n",
        "sample_input = tokenizer(sample_text, return_tensors=\"tf\")\n",
        "\n",
        "# Run a forward pass to initialize the model layers\n",
        "model(sample_input)\n",
        "\n",
        "# Train the model with the custom callback\n",
        "model.fit(\n",
        "    train_dataset.shuffle(1000).batch(16),\n",
        "    epochs=10,\n",
        "    callbacks=[CustomCheckpointCallback()]\n",
        ")"
      ],
      "metadata": {
        "id": "nC2ll4raGSE1"
      },
      "execution_count": null,
      "outputs": []
    },
    {
      "cell_type": "markdown",
      "source": [
        "store weight after each epoch"
      ],
      "metadata": {
        "id": "wabcObSOLXhS"
      }
    },
    {
      "source": [
        "import os\n",
        "import tensorflow as tf\n",
        "from transformers import DistilBertTokenizer\n",
        "from datetime import datetime\n",
        "\n",
        "# Define the custom callback for saving models and logging\n",
        "class CustomCheckpointCallback(tf.keras.callbacks.Callback):\n",
        "    def on_epoch_end(self, epoch, logs=None):\n",
        "        # Log epoch completion and any other metrics\n",
        "        print(f\"Epoch {epoch+1} finished with logs: {logs}\")\n",
        "\n",
        "        # Define directory and filename format for saving the model\n",
        "        save_dir = \"/content/drive/MyDrive/w4a2/model\"\n",
        "        os.makedirs(save_dir, exist_ok=True)\n",
        "\n",
        "        # Use validation accuracy if available, otherwise fallback to training accuracy\n",
        "        val_acc = logs.get(\"val_accuracy\")\n",
        "        train_acc = logs.get(\"accuracy\")\n",
        "\n",
        "        # Generate a unique model name using accuracy, epoch, and timestamp\n",
        "        timestamp = datetime.now().strftime(\"%Y%m%d-%H%M%S\")  # Format timestamp for uniqueness\n",
        "        if val_acc:\n",
        "            model_name = f\"model_epoch_{epoch+1}_val_acc_{val_acc:.4f}_{timestamp}\"\n",
        "        else:\n",
        "            model_name = f\"model_epoch_{epoch+1}_train_acc_{train_acc:.4f}_{timestamp}\"\n",
        "\n",
        "        # Save the model in SavedModel format with the unique name\n",
        "        model_path = os.path.join(save_dir, model_name)\n",
        "        self.model.save(model_path, save_format=\"tf\")\n",
        "        print(f\"Model saved to {model_path}\")\n",
        "\n",
        "    # Adding the following hook implementations\n",
        "    def _implements_train_batch_hooks(self):\n",
        "        return False\n",
        "\n",
        "    def _implements_test_batch_hooks(self):\n",
        "        return False\n",
        "\n",
        "    def _implements_predict_batch_hooks(self):\n",
        "        return False\n",
        "\n",
        "# Initialize the tokenizer (assuming a DistilBERT model)\n",
        "tokenizer = DistilBertTokenizer.from_pretrained(\"distilbert-base-uncased\")\n",
        "\n",
        "# Prepare a sample input using the tokenizer\n",
        "sample_text = \"This is a sample input to initialize the model.\"\n",
        "sample_input = tokenizer(sample_text, return_tensors=\"tf\")\n",
        "\n",
        "# Run a forward pass to initialize the model layers\n",
        "model(sample_input)\n",
        "\n",
        "# Train the model with the custom callback\n",
        "model.fit(\n",
        "    train_dataset.shuffle(1000).batch(16),\n",
        "    epochs=10,\n",
        "    callbacks=[CustomCheckpointCallback()]\n",
        ")\n"
      ],
      "cell_type": "code",
      "metadata": {
        "id": "f0_JHnnH7dzy"
      },
      "execution_count": null,
      "outputs": []
    },
    {
      "cell_type": "markdown",
      "source": [
        "store best weight"
      ],
      "metadata": {
        "id": "TCHo12mLLcy4"
      }
    },
    {
      "cell_type": "code",
      "source": [
        "import os\n",
        "import tensorflow as tf\n",
        "from transformers import DistilBertTokenizer\n",
        "\n",
        "# Define the custom callback for saving only the best model at the end of training\n",
        "class CustomCheckpointCallback(tf.keras.callbacks.Callback):\n",
        "    def __init__(self, save_dir):\n",
        "        super().__init__()\n",
        "        self.best_val_acc = -1  # Track the best validation accuracy\n",
        "        self.best_weights = None  # Store the best model weights\n",
        "        self.save_dir = save_dir\n",
        "        os.makedirs(self.save_dir, exist_ok=True)\n",
        "\n",
        "    def on_epoch_end(self, epoch, logs=None):\n",
        "        # Get the current validation accuracy\n",
        "        val_acc = logs.get(\"val_accuracy\")\n",
        "\n",
        "        # Update the best weights if current validation accuracy is the best so far\n",
        "        if val_acc and val_acc > self.best_val_acc:\n",
        "            self.best_val_acc = val_acc\n",
        "            self.best_weights = self.model.get_weights()  # Save the best weights in memory\n",
        "            print(f\"Best validation accuracy improved to {val_acc:.4f} at epoch {epoch+1}\")\n",
        "\n",
        "    def on_train_end(self, logs=None):\n",
        "        # Save the best model weights to disk at the end of training\n",
        "        if self.best_weights:\n",
        "            self.model.set_weights(self.best_weights)  # Set model to best weights\n",
        "            model_name = f\"best_model_val_acc_{self.best_val_acc:.4f}.tf\"\n",
        "            model_path = os.path.join(self.save_dir, model_name)\n",
        "            self.model.save(model_path, save_format=\"tf\")\n",
        "            print(f\"Best model saved to {model_path} with val_acc: {self.best_val_acc:.4f}\")\n",
        "\n",
        "    # Add the following hook implementations to avoid AttributeError\n",
        "    def _implements_train_batch_hooks(self):\n",
        "        return False\n",
        "\n",
        "    def _implements_test_batch_hooks(self):\n",
        "        return False\n",
        "\n",
        "    def _implements_predict_batch_hooks(self):\n",
        "        return False\n",
        "\n",
        "# Initialize the tokenizer (assuming a DistilBERT model)\n",
        "tokenizer = DistilBertTokenizer.from_pretrained(\"distilbert-base-uncased\")\n",
        "\n",
        "# Prepare a sample input using the tokenizer\n",
        "sample_text = \"This is a sample input to initialize the model.\"\n",
        "sample_input = tokenizer(sample_text, return_tensors=\"tf\")\n",
        "\n",
        "# Run a forward pass to initialize the model layers\n",
        "model(sample_input)\n",
        "\n",
        "# Directory where the best model will be saved\n",
        "save_dir = \"/content/drive/MyDrive/w4a2/model\"\n",
        "\n",
        "# Train the model with the custom callback to save only the best model at the end of training\n",
        "model.fit(\n",
        "    train_dataset.shuffle(1000).batch(16),\n",
        "    epochs=10,\n",
        "    callbacks=[CustomCheckpointCallback(save_dir)]\n",
        ")\n"
      ],
      "metadata": {
        "id": "Zu09W03VLWt3"
      },
      "execution_count": null,
      "outputs": []
    },
    {
      "cell_type": "markdown",
      "source": [
        "check"
      ],
      "metadata": {
        "id": "7YNoH2FFsYWL"
      }
    },
    {
      "cell_type": "code",
      "source": [
        "!ls /content/drive/MyDrive/w4a2/model"
      ],
      "metadata": {
        "id": "I0UHSlr9sZcx"
      },
      "execution_count": null,
      "outputs": []
    },
    {
      "cell_type": "markdown",
      "source": [
        "log file and path of recent best weight storing"
      ],
      "metadata": {
        "id": "VKmXSpyEOd7P"
      }
    },
    {
      "cell_type": "code",
      "source": [
        "from transformers import TFDistilBertForTokenClassification, DistilBertTokenizer\n",
        "import tensorflow as tf\n",
        "import os\n",
        "\n",
        "# Load the model\n",
        "model = TFDistilBertForTokenClassification.from_pretrained('/content/drive/MyDrive/w4a2/model/')\n",
        "\n",
        "# Define the custom callback for saving only the best model at the end of training\n",
        "class CustomCheckpointCallback(tf.keras.callbacks.Callback):\n",
        "    def __init__(self, save_dir):\n",
        "        super().__init__()\n",
        "        self.best_val_acc = -1  # Track the best validation accuracy\n",
        "        self.best_weights = None  # Store the best model weights\n",
        "        self.save_dir = save_dir\n",
        "        os.makedirs(self.save_dir, exist_ok=True)\n",
        "\n",
        "    def on_epoch_end(self, epoch, logs=None):\n",
        "        # Get the current validation accuracy\n",
        "        val_acc = logs.get(\"val_accuracy\")\n",
        "\n",
        "        # Update the best weights if current validation accuracy is the best so far\n",
        "        if val_acc and val_acc > self.best_val_acc:\n",
        "            self.best_val_acc = val_acc\n",
        "            self.best_weights = self.model.get_weights()  # Save the best weights in memory\n",
        "            print(f\"Best validation accuracy improved to {val_acc:.4f} at epoch {epoch+1}\")\n",
        "\n",
        "    def on_train_end(self, logs=None):\n",
        "        # Save the best model weights to disk at the end of training\n",
        "        if self.best_weights:\n",
        "            self.model.set_weights(self.best_weights)  # Set model to best weights\n",
        "            model_name = f\"best_model_val_acc_{self.best_val_acc:.4f}.tf\"\n",
        "            model_path = os.path.join(self.save_dir, model_name)\n",
        "            self.model.save(model_path, save_format=\"tf\")\n",
        "\n",
        "            # Log the file name and path of the recent file storing the best model\n",
        "            print(f\"Best model saved to {model_path} with val_acc: {self.best_val_acc:.4f}\")\n",
        "            print(f\"File name: {model_name}\")\n",
        "            print(f\"File path: {model_path}\")\n",
        "\n",
        "    # Add the following hook implementations to avoid AttributeError\n",
        "    def _implements_train_batch_hooks(self):\n",
        "        return False\n",
        "\n",
        "    def _implements_test_batch_hooks(self):\n",
        "        return False\n",
        "\n",
        "    def _implements_predict_batch_hooks(self):\n",
        "        return False\n",
        "\n",
        "# Initialize the tokenizer (assuming a DistilBERT model)\n",
        "tokenizer = DistilBertTokenizer.from_pretrained(\"distilbert-base-uncased\")\n",
        "\n",
        "# Prepare a sample input using the tokenizer\n",
        "sample_text = \"This is a sample input to initialize the model.\"\n",
        "sample_input = tokenizer(sample_text, return_tensors=\"tf\")\n",
        "\n",
        "# Run a forward pass to initialize the model layers\n",
        "model(sample_input)\n",
        "\n",
        "# Directory where the best model will be saved\n",
        "save_dir = \"/content/drive/MyDrive/w4a2/model\"\n",
        "\n",
        "# Train the model with the custom callback to save only the best model at the end of training\n",
        "model.fit(\n",
        "    train_dataset.shuffle(1000).batch(16),\n",
        "    epochs=10,\n",
        "    callbacks=[CustomCheckpointCallback(save_dir)]\n",
        ")\n"
      ],
      "metadata": {
        "id": "2DWdR0ZlOiMF"
      },
      "execution_count": null,
      "outputs": []
    },
    {
      "cell_type": "markdown",
      "source": [
        "remove"
      ],
      "metadata": {
        "id": "49t2H_NBpqrC"
      }
    },
    {
      "cell_type": "code",
      "source": [
        "!ls /content/drive/MyDrive/w4a2/model"
      ],
      "metadata": {
        "id": "IiGy1Q-upqAt"
      },
      "execution_count": null,
      "outputs": []
    },
    {
      "cell_type": "code",
      "source": [
        "!rm -r /content/drive/MyDrive/w4a2/model/model_*"
      ],
      "metadata": {
        "id": "hytoEzQeqVd8"
      },
      "execution_count": null,
      "outputs": []
    },
    {
      "cell_type": "code",
      "execution_count": null,
      "metadata": {
        "id": "qN4gp5Nn2Wcj"
      },
      "outputs": [],
      "source": [
        "optimizer = tf.keras.optimizers.Adam(learning_rate=1e-5)\n",
        "model.compile(optimizer=optimizer, loss=model.compute_loss, metrics=['accuracy']) # can also use any keras loss fn\n",
        "model.fit(train_dataset.shuffle(1000).batch(16),\n",
        "          epochs=3,\n",
        "          batch_size=16)"
      ]
    },
    {
      "cell_type": "markdown",
      "metadata": {
        "id": "LE94XU352Wcj"
      },
      "source": [
        "### Congratulations!\n",
        "\n",
        "#### Here's what you should remember\n",
        "\n",
        "- Named-entity recognition (NER) detects and classifies named-entities, and can help process resumes, customer reviews, browsing histories, etc.\n",
        "- You must preprocess text data with the corresponding tokenizer to the pretrained model before feeding your input into your Transformer model"
      ]
    },
    {
      "cell_type": "code",
      "execution_count": null,
      "metadata": {
        "id": "UPKSiVrC2Wck"
      },
      "outputs": [],
      "source": []
    }
  ],
  "metadata": {
    "kernelspec": {
      "display_name": "Python 3",
      "name": "python3"
    },
    "language_info": {
      "codemirror_mode": {
        "name": "ipython",
        "version": 3
      },
      "file_extension": ".py",
      "mimetype": "text/x-python",
      "name": "python",
      "nbconvert_exporter": "python",
      "pygments_lexer": "ipython3",
      "version": "3.8.5"
    },
    "varInspector": {
      "cols": {
        "lenName": 16,
        "lenType": 16,
        "lenVar": 40
      },
      "kernels_config": {
        "python": {
          "delete_cmd_postfix": "",
          "delete_cmd_prefix": "del ",
          "library": "var_list.py",
          "varRefreshCmd": "print(var_dic_list())"
        },
        "r": {
          "delete_cmd_postfix": ") ",
          "delete_cmd_prefix": "rm(",
          "library": "var_list.r",
          "varRefreshCmd": "cat(var_dic_list()) "
        }
      },
      "types_to_exclude": [
        "module",
        "function",
        "builtin_function_or_method",
        "instance",
        "_Feature"
      ],
      "window_display": false
    },
    "colab": {
      "provenance": [],
      "gpuType": "T4"
    },
    "accelerator": "GPU",
    "widgets": {
      "application/vnd.jupyter.widget-state+json": {
        "b2c75fcc6d2948fe8723fcf9540e2334": {
          "model_module": "@jupyter-widgets/controls",
          "model_name": "HBoxModel",
          "model_module_version": "1.5.0",
          "state": {
            "_dom_classes": [],
            "_model_module": "@jupyter-widgets/controls",
            "_model_module_version": "1.5.0",
            "_model_name": "HBoxModel",
            "_view_count": null,
            "_view_module": "@jupyter-widgets/controls",
            "_view_module_version": "1.5.0",
            "_view_name": "HBoxView",
            "box_style": "",
            "children": [
              "IPY_MODEL_5505137b8b9145ea828af1cbfd6bbe89",
              "IPY_MODEL_ab5f87909bc3489d9b17a0f437e6f48e",
              "IPY_MODEL_4ecc66400ac74adcb70727fa0033bb9a"
            ],
            "layout": "IPY_MODEL_e9d4b4a1455a4a51846ce4d1327d6388"
          }
        },
        "5505137b8b9145ea828af1cbfd6bbe89": {
          "model_module": "@jupyter-widgets/controls",
          "model_name": "HTMLModel",
          "model_module_version": "1.5.0",
          "state": {
            "_dom_classes": [],
            "_model_module": "@jupyter-widgets/controls",
            "_model_module_version": "1.5.0",
            "_model_name": "HTMLModel",
            "_view_count": null,
            "_view_module": "@jupyter-widgets/controls",
            "_view_module_version": "1.5.0",
            "_view_name": "HTMLView",
            "description": "",
            "description_tooltip": null,
            "layout": "IPY_MODEL_3632c05364984d0487b6f180e4550746",
            "placeholder": "​",
            "style": "IPY_MODEL_ef6b8afd02f54610a316b412adb41a23",
            "value": "100%"
          }
        },
        "ab5f87909bc3489d9b17a0f437e6f48e": {
          "model_module": "@jupyter-widgets/controls",
          "model_name": "FloatProgressModel",
          "model_module_version": "1.5.0",
          "state": {
            "_dom_classes": [],
            "_model_module": "@jupyter-widgets/controls",
            "_model_module_version": "1.5.0",
            "_model_name": "FloatProgressModel",
            "_view_count": null,
            "_view_module": "@jupyter-widgets/controls",
            "_view_module_version": "1.5.0",
            "_view_name": "ProgressView",
            "bar_style": "success",
            "description": "",
            "description_tooltip": null,
            "layout": "IPY_MODEL_a308261f0ad04d758d7f6f2f1abec32f",
            "max": 220,
            "min": 0,
            "orientation": "horizontal",
            "style": "IPY_MODEL_136fac0612ae4b869a82c352804476f7",
            "value": 220
          }
        },
        "4ecc66400ac74adcb70727fa0033bb9a": {
          "model_module": "@jupyter-widgets/controls",
          "model_name": "HTMLModel",
          "model_module_version": "1.5.0",
          "state": {
            "_dom_classes": [],
            "_model_module": "@jupyter-widgets/controls",
            "_model_module_version": "1.5.0",
            "_model_name": "HTMLModel",
            "_view_count": null,
            "_view_module": "@jupyter-widgets/controls",
            "_view_module_version": "1.5.0",
            "_view_name": "HTMLView",
            "description": "",
            "description_tooltip": null,
            "layout": "IPY_MODEL_efcb3c8cd4d44294ad12e2e64ae36d4e",
            "placeholder": "​",
            "style": "IPY_MODEL_8c6375f9510b46569f15abff3d942e3f",
            "value": " 220/220 [00:01&lt;00:00, 192.01it/s]"
          }
        },
        "e9d4b4a1455a4a51846ce4d1327d6388": {
          "model_module": "@jupyter-widgets/base",
          "model_name": "LayoutModel",
          "model_module_version": "1.2.0",
          "state": {
            "_model_module": "@jupyter-widgets/base",
            "_model_module_version": "1.2.0",
            "_model_name": "LayoutModel",
            "_view_count": null,
            "_view_module": "@jupyter-widgets/base",
            "_view_module_version": "1.2.0",
            "_view_name": "LayoutView",
            "align_content": null,
            "align_items": null,
            "align_self": null,
            "border": null,
            "bottom": null,
            "display": null,
            "flex": null,
            "flex_flow": null,
            "grid_area": null,
            "grid_auto_columns": null,
            "grid_auto_flow": null,
            "grid_auto_rows": null,
            "grid_column": null,
            "grid_gap": null,
            "grid_row": null,
            "grid_template_areas": null,
            "grid_template_columns": null,
            "grid_template_rows": null,
            "height": null,
            "justify_content": null,
            "justify_items": null,
            "left": null,
            "margin": null,
            "max_height": null,
            "max_width": null,
            "min_height": null,
            "min_width": null,
            "object_fit": null,
            "object_position": null,
            "order": null,
            "overflow": null,
            "overflow_x": null,
            "overflow_y": null,
            "padding": null,
            "right": null,
            "top": null,
            "visibility": null,
            "width": null
          }
        },
        "3632c05364984d0487b6f180e4550746": {
          "model_module": "@jupyter-widgets/base",
          "model_name": "LayoutModel",
          "model_module_version": "1.2.0",
          "state": {
            "_model_module": "@jupyter-widgets/base",
            "_model_module_version": "1.2.0",
            "_model_name": "LayoutModel",
            "_view_count": null,
            "_view_module": "@jupyter-widgets/base",
            "_view_module_version": "1.2.0",
            "_view_name": "LayoutView",
            "align_content": null,
            "align_items": null,
            "align_self": null,
            "border": null,
            "bottom": null,
            "display": null,
            "flex": null,
            "flex_flow": null,
            "grid_area": null,
            "grid_auto_columns": null,
            "grid_auto_flow": null,
            "grid_auto_rows": null,
            "grid_column": null,
            "grid_gap": null,
            "grid_row": null,
            "grid_template_areas": null,
            "grid_template_columns": null,
            "grid_template_rows": null,
            "height": null,
            "justify_content": null,
            "justify_items": null,
            "left": null,
            "margin": null,
            "max_height": null,
            "max_width": null,
            "min_height": null,
            "min_width": null,
            "object_fit": null,
            "object_position": null,
            "order": null,
            "overflow": null,
            "overflow_x": null,
            "overflow_y": null,
            "padding": null,
            "right": null,
            "top": null,
            "visibility": null,
            "width": null
          }
        },
        "ef6b8afd02f54610a316b412adb41a23": {
          "model_module": "@jupyter-widgets/controls",
          "model_name": "DescriptionStyleModel",
          "model_module_version": "1.5.0",
          "state": {
            "_model_module": "@jupyter-widgets/controls",
            "_model_module_version": "1.5.0",
            "_model_name": "DescriptionStyleModel",
            "_view_count": null,
            "_view_module": "@jupyter-widgets/base",
            "_view_module_version": "1.2.0",
            "_view_name": "StyleView",
            "description_width": ""
          }
        },
        "a308261f0ad04d758d7f6f2f1abec32f": {
          "model_module": "@jupyter-widgets/base",
          "model_name": "LayoutModel",
          "model_module_version": "1.2.0",
          "state": {
            "_model_module": "@jupyter-widgets/base",
            "_model_module_version": "1.2.0",
            "_model_name": "LayoutModel",
            "_view_count": null,
            "_view_module": "@jupyter-widgets/base",
            "_view_module_version": "1.2.0",
            "_view_name": "LayoutView",
            "align_content": null,
            "align_items": null,
            "align_self": null,
            "border": null,
            "bottom": null,
            "display": null,
            "flex": null,
            "flex_flow": null,
            "grid_area": null,
            "grid_auto_columns": null,
            "grid_auto_flow": null,
            "grid_auto_rows": null,
            "grid_column": null,
            "grid_gap": null,
            "grid_row": null,
            "grid_template_areas": null,
            "grid_template_columns": null,
            "grid_template_rows": null,
            "height": null,
            "justify_content": null,
            "justify_items": null,
            "left": null,
            "margin": null,
            "max_height": null,
            "max_width": null,
            "min_height": null,
            "min_width": null,
            "object_fit": null,
            "object_position": null,
            "order": null,
            "overflow": null,
            "overflow_x": null,
            "overflow_y": null,
            "padding": null,
            "right": null,
            "top": null,
            "visibility": null,
            "width": null
          }
        },
        "136fac0612ae4b869a82c352804476f7": {
          "model_module": "@jupyter-widgets/controls",
          "model_name": "ProgressStyleModel",
          "model_module_version": "1.5.0",
          "state": {
            "_model_module": "@jupyter-widgets/controls",
            "_model_module_version": "1.5.0",
            "_model_name": "ProgressStyleModel",
            "_view_count": null,
            "_view_module": "@jupyter-widgets/base",
            "_view_module_version": "1.2.0",
            "_view_name": "StyleView",
            "bar_color": null,
            "description_width": ""
          }
        },
        "efcb3c8cd4d44294ad12e2e64ae36d4e": {
          "model_module": "@jupyter-widgets/base",
          "model_name": "LayoutModel",
          "model_module_version": "1.2.0",
          "state": {
            "_model_module": "@jupyter-widgets/base",
            "_model_module_version": "1.2.0",
            "_model_name": "LayoutModel",
            "_view_count": null,
            "_view_module": "@jupyter-widgets/base",
            "_view_module_version": "1.2.0",
            "_view_name": "LayoutView",
            "align_content": null,
            "align_items": null,
            "align_self": null,
            "border": null,
            "bottom": null,
            "display": null,
            "flex": null,
            "flex_flow": null,
            "grid_area": null,
            "grid_auto_columns": null,
            "grid_auto_flow": null,
            "grid_auto_rows": null,
            "grid_column": null,
            "grid_gap": null,
            "grid_row": null,
            "grid_template_areas": null,
            "grid_template_columns": null,
            "grid_template_rows": null,
            "height": null,
            "justify_content": null,
            "justify_items": null,
            "left": null,
            "margin": null,
            "max_height": null,
            "max_width": null,
            "min_height": null,
            "min_width": null,
            "object_fit": null,
            "object_position": null,
            "order": null,
            "overflow": null,
            "overflow_x": null,
            "overflow_y": null,
            "padding": null,
            "right": null,
            "top": null,
            "visibility": null,
            "width": null
          }
        },
        "8c6375f9510b46569f15abff3d942e3f": {
          "model_module": "@jupyter-widgets/controls",
          "model_name": "DescriptionStyleModel",
          "model_module_version": "1.5.0",
          "state": {
            "_model_module": "@jupyter-widgets/controls",
            "_model_module_version": "1.5.0",
            "_model_name": "DescriptionStyleModel",
            "_view_count": null,
            "_view_module": "@jupyter-widgets/base",
            "_view_module_version": "1.2.0",
            "_view_name": "StyleView",
            "description_width": ""
          }
        },
        "48da0f10995f4b2dbced6a2aa6fb9111": {
          "model_module": "@jupyter-widgets/controls",
          "model_name": "HBoxModel",
          "model_module_version": "1.5.0",
          "state": {
            "_dom_classes": [],
            "_model_module": "@jupyter-widgets/controls",
            "_model_module_version": "1.5.0",
            "_model_name": "HBoxModel",
            "_view_count": null,
            "_view_module": "@jupyter-widgets/controls",
            "_view_module_version": "1.5.0",
            "_view_name": "HBoxView",
            "box_style": "",
            "children": [
              "IPY_MODEL_b97c6a67261a4a59851e0b779d43828a",
              "IPY_MODEL_c576947b8eb5447f9f66170432ff8d3c",
              "IPY_MODEL_2e1475aa1e7645488372b141579f1267"
            ],
            "layout": "IPY_MODEL_16b619a0afd24c5289c1bee0849dd170"
          }
        },
        "b97c6a67261a4a59851e0b779d43828a": {
          "model_module": "@jupyter-widgets/controls",
          "model_name": "HTMLModel",
          "model_module_version": "1.5.0",
          "state": {
            "_dom_classes": [],
            "_model_module": "@jupyter-widgets/controls",
            "_model_module_version": "1.5.0",
            "_model_name": "HTMLModel",
            "_view_count": null,
            "_view_module": "@jupyter-widgets/controls",
            "_view_module_version": "1.5.0",
            "_view_name": "HTMLView",
            "description": "",
            "description_tooltip": null,
            "layout": "IPY_MODEL_226376470b6c4514ae745a865f8b3f7a",
            "placeholder": "​",
            "style": "IPY_MODEL_fada1b463c3f496d8bd6f4a40e041ff1",
            "value": "config.json: 100%"
          }
        },
        "c576947b8eb5447f9f66170432ff8d3c": {
          "model_module": "@jupyter-widgets/controls",
          "model_name": "FloatProgressModel",
          "model_module_version": "1.5.0",
          "state": {
            "_dom_classes": [],
            "_model_module": "@jupyter-widgets/controls",
            "_model_module_version": "1.5.0",
            "_model_name": "FloatProgressModel",
            "_view_count": null,
            "_view_module": "@jupyter-widgets/controls",
            "_view_module_version": "1.5.0",
            "_view_name": "ProgressView",
            "bar_style": "success",
            "description": "",
            "description_tooltip": null,
            "layout": "IPY_MODEL_85eff6a40d5c4f4e935c2d772a26eca7",
            "max": 483,
            "min": 0,
            "orientation": "horizontal",
            "style": "IPY_MODEL_ccc99c80bb7342e197dca070390be5fd",
            "value": 483
          }
        },
        "2e1475aa1e7645488372b141579f1267": {
          "model_module": "@jupyter-widgets/controls",
          "model_name": "HTMLModel",
          "model_module_version": "1.5.0",
          "state": {
            "_dom_classes": [],
            "_model_module": "@jupyter-widgets/controls",
            "_model_module_version": "1.5.0",
            "_model_name": "HTMLModel",
            "_view_count": null,
            "_view_module": "@jupyter-widgets/controls",
            "_view_module_version": "1.5.0",
            "_view_name": "HTMLView",
            "description": "",
            "description_tooltip": null,
            "layout": "IPY_MODEL_a39839dad7ff493bb961424726479adc",
            "placeholder": "​",
            "style": "IPY_MODEL_6bd46659b9ee411b8fe579c8fe663db7",
            "value": " 483/483 [00:00&lt;00:00, 7.21kB/s]"
          }
        },
        "16b619a0afd24c5289c1bee0849dd170": {
          "model_module": "@jupyter-widgets/base",
          "model_name": "LayoutModel",
          "model_module_version": "1.2.0",
          "state": {
            "_model_module": "@jupyter-widgets/base",
            "_model_module_version": "1.2.0",
            "_model_name": "LayoutModel",
            "_view_count": null,
            "_view_module": "@jupyter-widgets/base",
            "_view_module_version": "1.2.0",
            "_view_name": "LayoutView",
            "align_content": null,
            "align_items": null,
            "align_self": null,
            "border": null,
            "bottom": null,
            "display": null,
            "flex": null,
            "flex_flow": null,
            "grid_area": null,
            "grid_auto_columns": null,
            "grid_auto_flow": null,
            "grid_auto_rows": null,
            "grid_column": null,
            "grid_gap": null,
            "grid_row": null,
            "grid_template_areas": null,
            "grid_template_columns": null,
            "grid_template_rows": null,
            "height": null,
            "justify_content": null,
            "justify_items": null,
            "left": null,
            "margin": null,
            "max_height": null,
            "max_width": null,
            "min_height": null,
            "min_width": null,
            "object_fit": null,
            "object_position": null,
            "order": null,
            "overflow": null,
            "overflow_x": null,
            "overflow_y": null,
            "padding": null,
            "right": null,
            "top": null,
            "visibility": null,
            "width": null
          }
        },
        "226376470b6c4514ae745a865f8b3f7a": {
          "model_module": "@jupyter-widgets/base",
          "model_name": "LayoutModel",
          "model_module_version": "1.2.0",
          "state": {
            "_model_module": "@jupyter-widgets/base",
            "_model_module_version": "1.2.0",
            "_model_name": "LayoutModel",
            "_view_count": null,
            "_view_module": "@jupyter-widgets/base",
            "_view_module_version": "1.2.0",
            "_view_name": "LayoutView",
            "align_content": null,
            "align_items": null,
            "align_self": null,
            "border": null,
            "bottom": null,
            "display": null,
            "flex": null,
            "flex_flow": null,
            "grid_area": null,
            "grid_auto_columns": null,
            "grid_auto_flow": null,
            "grid_auto_rows": null,
            "grid_column": null,
            "grid_gap": null,
            "grid_row": null,
            "grid_template_areas": null,
            "grid_template_columns": null,
            "grid_template_rows": null,
            "height": null,
            "justify_content": null,
            "justify_items": null,
            "left": null,
            "margin": null,
            "max_height": null,
            "max_width": null,
            "min_height": null,
            "min_width": null,
            "object_fit": null,
            "object_position": null,
            "order": null,
            "overflow": null,
            "overflow_x": null,
            "overflow_y": null,
            "padding": null,
            "right": null,
            "top": null,
            "visibility": null,
            "width": null
          }
        },
        "fada1b463c3f496d8bd6f4a40e041ff1": {
          "model_module": "@jupyter-widgets/controls",
          "model_name": "DescriptionStyleModel",
          "model_module_version": "1.5.0",
          "state": {
            "_model_module": "@jupyter-widgets/controls",
            "_model_module_version": "1.5.0",
            "_model_name": "DescriptionStyleModel",
            "_view_count": null,
            "_view_module": "@jupyter-widgets/base",
            "_view_module_version": "1.2.0",
            "_view_name": "StyleView",
            "description_width": ""
          }
        },
        "85eff6a40d5c4f4e935c2d772a26eca7": {
          "model_module": "@jupyter-widgets/base",
          "model_name": "LayoutModel",
          "model_module_version": "1.2.0",
          "state": {
            "_model_module": "@jupyter-widgets/base",
            "_model_module_version": "1.2.0",
            "_model_name": "LayoutModel",
            "_view_count": null,
            "_view_module": "@jupyter-widgets/base",
            "_view_module_version": "1.2.0",
            "_view_name": "LayoutView",
            "align_content": null,
            "align_items": null,
            "align_self": null,
            "border": null,
            "bottom": null,
            "display": null,
            "flex": null,
            "flex_flow": null,
            "grid_area": null,
            "grid_auto_columns": null,
            "grid_auto_flow": null,
            "grid_auto_rows": null,
            "grid_column": null,
            "grid_gap": null,
            "grid_row": null,
            "grid_template_areas": null,
            "grid_template_columns": null,
            "grid_template_rows": null,
            "height": null,
            "justify_content": null,
            "justify_items": null,
            "left": null,
            "margin": null,
            "max_height": null,
            "max_width": null,
            "min_height": null,
            "min_width": null,
            "object_fit": null,
            "object_position": null,
            "order": null,
            "overflow": null,
            "overflow_x": null,
            "overflow_y": null,
            "padding": null,
            "right": null,
            "top": null,
            "visibility": null,
            "width": null
          }
        },
        "ccc99c80bb7342e197dca070390be5fd": {
          "model_module": "@jupyter-widgets/controls",
          "model_name": "ProgressStyleModel",
          "model_module_version": "1.5.0",
          "state": {
            "_model_module": "@jupyter-widgets/controls",
            "_model_module_version": "1.5.0",
            "_model_name": "ProgressStyleModel",
            "_view_count": null,
            "_view_module": "@jupyter-widgets/base",
            "_view_module_version": "1.2.0",
            "_view_name": "StyleView",
            "bar_color": null,
            "description_width": ""
          }
        },
        "a39839dad7ff493bb961424726479adc": {
          "model_module": "@jupyter-widgets/base",
          "model_name": "LayoutModel",
          "model_module_version": "1.2.0",
          "state": {
            "_model_module": "@jupyter-widgets/base",
            "_model_module_version": "1.2.0",
            "_model_name": "LayoutModel",
            "_view_count": null,
            "_view_module": "@jupyter-widgets/base",
            "_view_module_version": "1.2.0",
            "_view_name": "LayoutView",
            "align_content": null,
            "align_items": null,
            "align_self": null,
            "border": null,
            "bottom": null,
            "display": null,
            "flex": null,
            "flex_flow": null,
            "grid_area": null,
            "grid_auto_columns": null,
            "grid_auto_flow": null,
            "grid_auto_rows": null,
            "grid_column": null,
            "grid_gap": null,
            "grid_row": null,
            "grid_template_areas": null,
            "grid_template_columns": null,
            "grid_template_rows": null,
            "height": null,
            "justify_content": null,
            "justify_items": null,
            "left": null,
            "margin": null,
            "max_height": null,
            "max_width": null,
            "min_height": null,
            "min_width": null,
            "object_fit": null,
            "object_position": null,
            "order": null,
            "overflow": null,
            "overflow_x": null,
            "overflow_y": null,
            "padding": null,
            "right": null,
            "top": null,
            "visibility": null,
            "width": null
          }
        },
        "6bd46659b9ee411b8fe579c8fe663db7": {
          "model_module": "@jupyter-widgets/controls",
          "model_name": "DescriptionStyleModel",
          "model_module_version": "1.5.0",
          "state": {
            "_model_module": "@jupyter-widgets/controls",
            "_model_module_version": "1.5.0",
            "_model_name": "DescriptionStyleModel",
            "_view_count": null,
            "_view_module": "@jupyter-widgets/base",
            "_view_module_version": "1.2.0",
            "_view_name": "StyleView",
            "description_width": ""
          }
        },
        "f457927702df4a5e8b0d8e907e584b28": {
          "model_module": "@jupyter-widgets/controls",
          "model_name": "HBoxModel",
          "model_module_version": "1.5.0",
          "state": {
            "_dom_classes": [],
            "_model_module": "@jupyter-widgets/controls",
            "_model_module_version": "1.5.0",
            "_model_name": "HBoxModel",
            "_view_count": null,
            "_view_module": "@jupyter-widgets/controls",
            "_view_module_version": "1.5.0",
            "_view_name": "HBoxView",
            "box_style": "",
            "children": [
              "IPY_MODEL_30c8a3e572194b86bb8c93874ab90027",
              "IPY_MODEL_a119424c24c144348930c63c41c59894",
              "IPY_MODEL_611c83234a0d429db71c04ff01215125"
            ],
            "layout": "IPY_MODEL_34196f2ddf9d4fb79fdc36408c4802b6"
          }
        },
        "30c8a3e572194b86bb8c93874ab90027": {
          "model_module": "@jupyter-widgets/controls",
          "model_name": "HTMLModel",
          "model_module_version": "1.5.0",
          "state": {
            "_dom_classes": [],
            "_model_module": "@jupyter-widgets/controls",
            "_model_module_version": "1.5.0",
            "_model_name": "HTMLModel",
            "_view_count": null,
            "_view_module": "@jupyter-widgets/controls",
            "_view_module_version": "1.5.0",
            "_view_name": "HTMLView",
            "description": "",
            "description_tooltip": null,
            "layout": "IPY_MODEL_f7f66046aa36469c99fc6d987c006411",
            "placeholder": "​",
            "style": "IPY_MODEL_9019c86ce27a495cada31832d967fd90",
            "value": "model.safetensors: 100%"
          }
        },
        "a119424c24c144348930c63c41c59894": {
          "model_module": "@jupyter-widgets/controls",
          "model_name": "FloatProgressModel",
          "model_module_version": "1.5.0",
          "state": {
            "_dom_classes": [],
            "_model_module": "@jupyter-widgets/controls",
            "_model_module_version": "1.5.0",
            "_model_name": "FloatProgressModel",
            "_view_count": null,
            "_view_module": "@jupyter-widgets/controls",
            "_view_module_version": "1.5.0",
            "_view_name": "ProgressView",
            "bar_style": "success",
            "description": "",
            "description_tooltip": null,
            "layout": "IPY_MODEL_ce08c27e09d447599fd4d1058fa1c8f1",
            "max": 267954768,
            "min": 0,
            "orientation": "horizontal",
            "style": "IPY_MODEL_4a2c4db71cc2486f8871fbaaad94fe58",
            "value": 267954768
          }
        },
        "611c83234a0d429db71c04ff01215125": {
          "model_module": "@jupyter-widgets/controls",
          "model_name": "HTMLModel",
          "model_module_version": "1.5.0",
          "state": {
            "_dom_classes": [],
            "_model_module": "@jupyter-widgets/controls",
            "_model_module_version": "1.5.0",
            "_model_name": "HTMLModel",
            "_view_count": null,
            "_view_module": "@jupyter-widgets/controls",
            "_view_module_version": "1.5.0",
            "_view_name": "HTMLView",
            "description": "",
            "description_tooltip": null,
            "layout": "IPY_MODEL_9a51cf0b120445208a462befadb77bd8",
            "placeholder": "​",
            "style": "IPY_MODEL_c02de035d2df4444b5009f03fe637b21",
            "value": " 268M/268M [00:02&lt;00:00, 173MB/s]"
          }
        },
        "34196f2ddf9d4fb79fdc36408c4802b6": {
          "model_module": "@jupyter-widgets/base",
          "model_name": "LayoutModel",
          "model_module_version": "1.2.0",
          "state": {
            "_model_module": "@jupyter-widgets/base",
            "_model_module_version": "1.2.0",
            "_model_name": "LayoutModel",
            "_view_count": null,
            "_view_module": "@jupyter-widgets/base",
            "_view_module_version": "1.2.0",
            "_view_name": "LayoutView",
            "align_content": null,
            "align_items": null,
            "align_self": null,
            "border": null,
            "bottom": null,
            "display": null,
            "flex": null,
            "flex_flow": null,
            "grid_area": null,
            "grid_auto_columns": null,
            "grid_auto_flow": null,
            "grid_auto_rows": null,
            "grid_column": null,
            "grid_gap": null,
            "grid_row": null,
            "grid_template_areas": null,
            "grid_template_columns": null,
            "grid_template_rows": null,
            "height": null,
            "justify_content": null,
            "justify_items": null,
            "left": null,
            "margin": null,
            "max_height": null,
            "max_width": null,
            "min_height": null,
            "min_width": null,
            "object_fit": null,
            "object_position": null,
            "order": null,
            "overflow": null,
            "overflow_x": null,
            "overflow_y": null,
            "padding": null,
            "right": null,
            "top": null,
            "visibility": null,
            "width": null
          }
        },
        "f7f66046aa36469c99fc6d987c006411": {
          "model_module": "@jupyter-widgets/base",
          "model_name": "LayoutModel",
          "model_module_version": "1.2.0",
          "state": {
            "_model_module": "@jupyter-widgets/base",
            "_model_module_version": "1.2.0",
            "_model_name": "LayoutModel",
            "_view_count": null,
            "_view_module": "@jupyter-widgets/base",
            "_view_module_version": "1.2.0",
            "_view_name": "LayoutView",
            "align_content": null,
            "align_items": null,
            "align_self": null,
            "border": null,
            "bottom": null,
            "display": null,
            "flex": null,
            "flex_flow": null,
            "grid_area": null,
            "grid_auto_columns": null,
            "grid_auto_flow": null,
            "grid_auto_rows": null,
            "grid_column": null,
            "grid_gap": null,
            "grid_row": null,
            "grid_template_areas": null,
            "grid_template_columns": null,
            "grid_template_rows": null,
            "height": null,
            "justify_content": null,
            "justify_items": null,
            "left": null,
            "margin": null,
            "max_height": null,
            "max_width": null,
            "min_height": null,
            "min_width": null,
            "object_fit": null,
            "object_position": null,
            "order": null,
            "overflow": null,
            "overflow_x": null,
            "overflow_y": null,
            "padding": null,
            "right": null,
            "top": null,
            "visibility": null,
            "width": null
          }
        },
        "9019c86ce27a495cada31832d967fd90": {
          "model_module": "@jupyter-widgets/controls",
          "model_name": "DescriptionStyleModel",
          "model_module_version": "1.5.0",
          "state": {
            "_model_module": "@jupyter-widgets/controls",
            "_model_module_version": "1.5.0",
            "_model_name": "DescriptionStyleModel",
            "_view_count": null,
            "_view_module": "@jupyter-widgets/base",
            "_view_module_version": "1.2.0",
            "_view_name": "StyleView",
            "description_width": ""
          }
        },
        "ce08c27e09d447599fd4d1058fa1c8f1": {
          "model_module": "@jupyter-widgets/base",
          "model_name": "LayoutModel",
          "model_module_version": "1.2.0",
          "state": {
            "_model_module": "@jupyter-widgets/base",
            "_model_module_version": "1.2.0",
            "_model_name": "LayoutModel",
            "_view_count": null,
            "_view_module": "@jupyter-widgets/base",
            "_view_module_version": "1.2.0",
            "_view_name": "LayoutView",
            "align_content": null,
            "align_items": null,
            "align_self": null,
            "border": null,
            "bottom": null,
            "display": null,
            "flex": null,
            "flex_flow": null,
            "grid_area": null,
            "grid_auto_columns": null,
            "grid_auto_flow": null,
            "grid_auto_rows": null,
            "grid_column": null,
            "grid_gap": null,
            "grid_row": null,
            "grid_template_areas": null,
            "grid_template_columns": null,
            "grid_template_rows": null,
            "height": null,
            "justify_content": null,
            "justify_items": null,
            "left": null,
            "margin": null,
            "max_height": null,
            "max_width": null,
            "min_height": null,
            "min_width": null,
            "object_fit": null,
            "object_position": null,
            "order": null,
            "overflow": null,
            "overflow_x": null,
            "overflow_y": null,
            "padding": null,
            "right": null,
            "top": null,
            "visibility": null,
            "width": null
          }
        },
        "4a2c4db71cc2486f8871fbaaad94fe58": {
          "model_module": "@jupyter-widgets/controls",
          "model_name": "ProgressStyleModel",
          "model_module_version": "1.5.0",
          "state": {
            "_model_module": "@jupyter-widgets/controls",
            "_model_module_version": "1.5.0",
            "_model_name": "ProgressStyleModel",
            "_view_count": null,
            "_view_module": "@jupyter-widgets/base",
            "_view_module_version": "1.2.0",
            "_view_name": "StyleView",
            "bar_color": null,
            "description_width": ""
          }
        },
        "9a51cf0b120445208a462befadb77bd8": {
          "model_module": "@jupyter-widgets/base",
          "model_name": "LayoutModel",
          "model_module_version": "1.2.0",
          "state": {
            "_model_module": "@jupyter-widgets/base",
            "_model_module_version": "1.2.0",
            "_model_name": "LayoutModel",
            "_view_count": null,
            "_view_module": "@jupyter-widgets/base",
            "_view_module_version": "1.2.0",
            "_view_name": "LayoutView",
            "align_content": null,
            "align_items": null,
            "align_self": null,
            "border": null,
            "bottom": null,
            "display": null,
            "flex": null,
            "flex_flow": null,
            "grid_area": null,
            "grid_auto_columns": null,
            "grid_auto_flow": null,
            "grid_auto_rows": null,
            "grid_column": null,
            "grid_gap": null,
            "grid_row": null,
            "grid_template_areas": null,
            "grid_template_columns": null,
            "grid_template_rows": null,
            "height": null,
            "justify_content": null,
            "justify_items": null,
            "left": null,
            "margin": null,
            "max_height": null,
            "max_width": null,
            "min_height": null,
            "min_width": null,
            "object_fit": null,
            "object_position": null,
            "order": null,
            "overflow": null,
            "overflow_x": null,
            "overflow_y": null,
            "padding": null,
            "right": null,
            "top": null,
            "visibility": null,
            "width": null
          }
        },
        "c02de035d2df4444b5009f03fe637b21": {
          "model_module": "@jupyter-widgets/controls",
          "model_name": "DescriptionStyleModel",
          "model_module_version": "1.5.0",
          "state": {
            "_model_module": "@jupyter-widgets/controls",
            "_model_module_version": "1.5.0",
            "_model_name": "DescriptionStyleModel",
            "_view_count": null,
            "_view_module": "@jupyter-widgets/base",
            "_view_module_version": "1.2.0",
            "_view_name": "StyleView",
            "description_width": ""
          }
        }
      }
    }
  },
  "nbformat": 4,
  "nbformat_minor": 0
}