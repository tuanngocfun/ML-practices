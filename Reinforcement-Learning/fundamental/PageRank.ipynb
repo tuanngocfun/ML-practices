{
 "cells": [
  {
   "cell_type": "markdown",
   "metadata": {
    "collapsed": true
   },
   "source": [
    "# PageRank\n",
    "In this notebook, you'll build on your knowledge of eigenvectors and eigenvalues by exploring the PageRank algorithm.\n",
    "The notebook is in two parts, the first is a worksheet to get you up to speed with how the algorithm works - here we will look at a micro-internet with fewer than 10 websites and see what it does and what can go wrong.\n",
    "The second is an assessment which will test your application of eigentheory to this problem by writing code and calculating the page rank of a large network representing a sub-section of the internet."
   ]
  },
  {
   "cell_type": "markdown",
   "metadata": {},
   "source": [
    "## Part 1 - Worksheet\n",
    "### Introduction\n",
    "\n",
    "PageRank (developed by Larry Page and Sergey Brin) revolutionized web search by generating a\n",
    "ranked list of web pages based on the underlying connectivity of the web. The PageRank algorithm is\n",
    "based on an ideal random web surfer who, when reaching a page, goes to the next page by clicking on a\n",
    "link. The surfer has equal probability of clicking any link on the page and, when reaching a page with no\n",
    "links, has equal probability of moving to any other page by typing in its URL. In addition, the surfer may\n",
    "occasionally choose to type in a random URL instead of following the links on a page. The PageRank is\n",
    "the ranked order of the pages from the most to the least probable page the surfer will be viewing.\n"
   ]
  },
  {
   "cell_type": "code",
   "execution_count": 1,
   "metadata": {},
   "outputs": [
    {
     "name": "stdout",
     "output_type": "stream",
     "text": [
      "Populating the interactive namespace from numpy and matplotlib\n"
     ]
    }
   ],
   "source": [
    "# Before we begin, let's load the libraries.\n",
    "%pylab notebook\n",
    "import numpy as np\n",
    "import numpy.linalg as la\n",
    "from readonly.PageRankFunctions import *\n",
    "np.set_printoptions(suppress=True)"
   ]
  },
  {
   "cell_type": "markdown",
   "metadata": {},
   "source": [
    "### PageRank as a linear algebra problem\n",
    "Let's imagine a micro-internet, with just 6 websites (**A**vocado, **B**ullseye, **C**atBabel, **D**romeda, **e**Tings, and **F**aceSpace).\n",
    "Each website links to some of the others, and this forms a network as shown,\n",
    "\n",
    "![A Micro-Internet](readonly/internet.png \"A Micro-Internet\")\n",
    "\n",
    "The design principle of PageRank is that important websites will be linked to by important websites.\n",
    "This somewhat recursive principle will form the basis of our thinking.\n",
    "\n",
    "Imagine we have 100 *Procrastinating Pat*s on our micro-internet, each viewing a single website at a time.\n",
    "Each minute the Pats follow a link on their website to another site on the micro-internet.\n",
    "After a while, the websites that are most linked to will have more Pats visiting them, and in the long run, each minute for every Pat that leaves a website, another will enter keeping the total numbers of Pats on each website constant.\n",
    "The PageRank is simply the ranking of websites by how many Pats they have on them at the end of this process.\n",
    "\n",
    "We represent the number of Pats on each website with the vector,\n",
    "$$\\mathbf{r} = \\begin{bmatrix} r_A \\\\ r_B \\\\ r_C \\\\ r_D \\\\ r_E \\\\ r_F \\end{bmatrix}$$\n",
    "And say that the number of Pats on each website in minute $i+1$ is related to those at minute $i$ by the matrix transformation\n",
    "\n",
    "$$ \\mathbf{r}^{(i+1)} = L \\,\\mathbf{r}^{(i)}$$\n",
    "with the matrix $L$ taking the form,\n",
    "$$ L = \\begin{bmatrix}\n",
    "L_{A→A} & L_{B→A} & L_{C→A} & L_{D→A} & L_{E→A} & L_{F→A} \\\\\n",
    "L_{A→B} & L_{B→B} & L_{C→B} & L_{D→B} & L_{E→B} & L_{F→B} \\\\\n",
    "L_{A→C} & L_{B→C} & L_{C→C} & L_{D→C} & L_{E→C} & L_{F→C} \\\\\n",
    "L_{A→D} & L_{B→D} & L_{C→D} & L_{D→D} & L_{E→D} & L_{F→D} \\\\\n",
    "L_{A→E} & L_{B→E} & L_{C→E} & L_{D→E} & L_{E→E} & L_{F→E} \\\\\n",
    "L_{A→F} & L_{B→F} & L_{C→F} & L_{D→F} & L_{E→F} & L_{F→F} \\\\\n",
    "\\end{bmatrix}\n",
    "$$\n",
    "where the columns represent the probability of leaving a website for any other website, and sum to one.\n",
    "The rows determine how likely you are to enter a website from any other, though these need not add to one.\n",
    "The long time behaviour of this system is when $ \\mathbf{r}^{(i+1)} = \\mathbf{r}^{(i)}$, so we'll drop the superscripts here, and that allows us to write,\n",
    "$$ L \\,\\mathbf{r} = \\mathbf{r}$$\n",
    "\n",
    "which is an eigenvalue equation for the matrix $L$, with eigenvalue 1 (this is guaranteed by the probabalistic structure of the matrix $L$).\n",
    "\n",
    "Complete the matrix $L$ below, we've left out the column for which websites the *FaceSpace* website (F) links to.\n",
    "Remember, this is the probability to click on another website from this one, so each column should add to one (by scaling by the number of links)."
   ]
  },
  {
   "cell_type": "code",
   "execution_count": 3,
   "metadata": {},
   "outputs": [],
   "source": [
    "# Complete link matrix L with FaceSpace (F) linking to CatBabel (C) and Dromeda (D) equally\n",
    "L = np.array([\n",
    "    [0,    1/2,  1/3, 0,    0,    0   ],  # Avocado receives from B, C\n",
    "    [1/3,  0,    0,   0,    1/2,  0   ],  # Bullseye receives from A, E\n",
    "    [1/3,  1/2,  0,   1,    0,    1/2 ],  # CatBabel receives from A, B, D, F\n",
    "    [1/3,  0,    1/3, 0,    1/2,  1/2 ],  # Dromeda receives from A, C, E, F\n",
    "    [0,    0,    0,   0,    0,    0   ],  # eTings receives no incoming\n",
    "    [0,    0,    1/3, 0,    0,    0   ],  # FaceSpace receives from C\n",
    "])"
   ]
  },
  {
   "cell_type": "markdown",
   "metadata": {},
   "source": [
    "In principle, we could use a linear algebra library, as below, to calculate the eigenvalues and vectors.\n",
    "And this would work for a small system. But this gets unmanagable for large systems.\n",
    "And since we only care about the principal eigenvector (the one with the largest eigenvalue, which will be 1 in this case), we can use the *power iteration method* which will scale better, and is faster for large systems.\n",
    "\n",
    "Use the code below to peek at the PageRank for this micro-internet."
   ]
  },
  {
   "cell_type": "code",
   "execution_count": 4,
   "metadata": {},
   "outputs": [
    {
     "data": {
      "text/plain": [
       "array([ 16.        ,   5.33333333,  40.        ,  25.33333333,\n",
       "         0.        ,  13.33333333])"
      ]
     },
     "execution_count": 4,
     "metadata": {},
     "output_type": "execute_result"
    }
   ],
   "source": [
    "eVals, eVecs = la.eig(L) # Gets the eigenvalues and vectors\n",
    "order = np.absolute(eVals).argsort()[::-1] # Orders them by their eigenvalues\n",
    "eVals = eVals[order]\n",
    "eVecs = eVecs[:,order]\n",
    "\n",
    "r = eVecs[:, 0] # Sets r to be the principal eigenvector\n",
    "100 * np.real(r / np.sum(r)) # Make this eigenvector sum to one, then multiply by 100 Procrastinating Pats"
   ]
  },
  {
   "cell_type": "markdown",
   "metadata": {},
   "source": [
    "We can see from this list, the number of Procrastinating Pats that we expect to find on each website after long times.\n",
    "Putting them in order of *popularity* (based on this metric), the PageRank of this micro-internet is:\n",
    "\n",
    "**C**atBabel, **D**romeda, **A**vocado, **F**aceSpace, **B**ullseye, **e**Tings\n",
    "\n",
    "Referring back to the micro-internet diagram, is this what you would have expected?\n",
    "Convince yourself that based on which pages seem important given which others link to them, that this is a sensible ranking.\n",
    "\n",
    "Let's now try to get the same result using the Power-Iteration method that was covered in the video.\n",
    "This method will be much better at dealing with large systems.\n",
    "\n",
    "First let's set up our initial vector, $\\mathbf{r}^{(0)}$, so that we have our 100 Procrastinating Pats equally distributed on each of our 6 websites."
   ]
  },
  {
   "cell_type": "code",
   "execution_count": 5,
   "metadata": {},
   "outputs": [
    {
     "data": {
      "text/plain": [
       "array([ 16.66666667,  16.66666667,  16.66666667,  16.66666667,\n",
       "        16.66666667,  16.66666667])"
      ]
     },
     "execution_count": 5,
     "metadata": {},
     "output_type": "execute_result"
    }
   ],
   "source": [
    "r = 100 * np.ones(6) / 6 # Sets up this vector (6 entries of 1/6 × 100 each)\n",
    "r # Shows it's value"
   ]
  },
  {
   "cell_type": "markdown",
   "metadata": {},
   "source": [
    "Next, let's update the vector to the next minute, with the matrix $L$.\n",
    "Run the following cell multiple times, until the answer stabilises."
   ]
  },
  {
   "cell_type": "code",
   "execution_count": 6,
   "metadata": {},
   "outputs": [
    {
     "data": {
      "text/plain": [
       "array([ 13.88888889,  13.88888889,  38.88888889,  27.77777778,\n",
       "         0.        ,   5.55555556])"
      ]
     },
     "execution_count": 6,
     "metadata": {},
     "output_type": "execute_result"
    }
   ],
   "source": [
    "r = L @ r # Apply matrix L to r\n",
    "r # Show it's value\n",
    "# Re-run this cell multiple times to converge to the correct answer."
   ]
  },
  {
   "cell_type": "markdown",
   "metadata": {},
   "source": [
    "We can automate applying this matrix multiple times as follows,"
   ]
  },
  {
   "cell_type": "code",
   "execution_count": 7,
   "metadata": {},
   "outputs": [
    {
     "data": {
      "text/plain": [
       "array([ 16.        ,   5.33333333,  40.        ,  25.33333333,\n",
       "         0.        ,  13.33333333])"
      ]
     },
     "execution_count": 7,
     "metadata": {},
     "output_type": "execute_result"
    }
   ],
   "source": [
    "r = 100 * np.ones(6) / 6 # Sets up this vector (6 entries of 1/6 × 100 each)\n",
    "for i in np.arange(100) : # Repeat 100 times\n",
    "    r = L @ r\n",
    "r"
   ]
  },
  {
   "cell_type": "markdown",
   "metadata": {},
   "source": [
    "Or even better, we can keep running until we get to the required tolerance."
   ]
  },
  {
   "cell_type": "code",
   "execution_count": 8,
   "metadata": {},
   "outputs": [
    {
     "name": "stdout",
     "output_type": "stream",
     "text": [
      "18 iterations to convergence.\n"
     ]
    },
    {
     "data": {
      "text/plain": [
       "array([ 16.00149917,   5.33252025,  39.99916911,  25.3324738 ,\n",
       "         0.        ,  13.33433767])"
      ]
     },
     "execution_count": 8,
     "metadata": {},
     "output_type": "execute_result"
    }
   ],
   "source": [
    "r = 100 * np.ones(6) / 6 # Sets up this vector (6 entries of 1/6 × 100 each)\n",
    "lastR = r\n",
    "r = L @ r\n",
    "i = 0\n",
    "while la.norm(lastR - r) > 0.01 :\n",
    "    lastR = r\n",
    "    r = L @ r\n",
    "    i += 1\n",
    "print(str(i) + \" iterations to convergence.\")\n",
    "r"
   ]
  },
  {
   "cell_type": "markdown",
   "metadata": {},
   "source": [
    "See how the PageRank order is established fairly quickly, and the vector converges on the value we calculated earlier after a few tens of repeats.\n",
    "\n",
    "Congratulations! You've just calculated your first PageRank!"
   ]
  },
  {
   "cell_type": "markdown",
   "metadata": {},
   "source": [
    "### Damping Parameter\n",
    "The system we just studied converged fairly quickly to the correct answer.\n",
    "Let's consider an extension to our micro-internet where things start to go wrong.\n",
    "\n",
    "Say a new website is added to the micro-internet: *Geoff's* Website.\n",
    "This website is linked to by *FaceSpace* and only links to itself.\n",
    "![An Expanded Micro-Internet](readonly/internet2.png \"An Expanded Micro-Internet\")\n",
    "\n",
    "Intuitively, only *FaceSpace*, which is in the bottom half of the page rank, links to this website amongst the two others it links to,\n",
    "so we might expect *Geoff's* site to have a correspondingly low PageRank score.\n",
    "\n",
    "Build the new $L$ matrix for the expanded micro-internet, and use Power-Iteration on the Procrastinating Pat vector.\n",
    "See what happens…"
   ]
  },
  {
   "cell_type": "code",
   "execution_count": 10,
   "metadata": {},
   "outputs": [],
   "source": [
    " # We'll call this one L2, to distinguish it from the previous L.\n",
    "L2 = np.array([\n",
    "    [0,    1/2,  1/3,  0,    0,    0,   0  ],  # A\n",
    "    [1/3,  0,    0,    0,    1/2,  0,   0  ],  # B\n",
    "    [1/3,  1/2,  0,    1,    0,    0,   0  ],  # C\n",
    "    [1/3,  0,    1/3,  0,    1/2,  0,   0  ],  # D\n",
    "    [0,    0,    0,    0,    0,    0,   0  ],  # E\n",
    "    [0,    0,    1/3,  0,    0,    0,   0  ],  # F\n",
    "    [0,    0,    0,    0,    0,    1,   1  ]   # G (FaceSpace links to G; G links to itself)\n",
    "])"
   ]
  },
  {
   "cell_type": "code",
   "execution_count": 11,
   "metadata": {},
   "outputs": [
    {
     "name": "stdout",
     "output_type": "stream",
     "text": [
      "47 iterations to convergence.\n"
     ]
    },
    {
     "data": {
      "text/plain": [
       "array([  0.00920602,   0.00359143,   0.01821094,   0.01069583,\n",
       "         0.        ,   0.0071044 ,  99.95119137])"
      ]
     },
     "execution_count": 11,
     "metadata": {},
     "output_type": "execute_result"
    }
   ],
   "source": [
    "r = 100 * np.ones(7) / 7 # Sets up this vector (6 entries of 1/6 × 100 each)\n",
    "lastR = r\n",
    "r = L2 @ r\n",
    "i = 0\n",
    "while la.norm(lastR - r) > 0.01 :\n",
    "    lastR = r\n",
    "    r = L2 @ r\n",
    "    i += 1\n",
    "print(str(i) + \" iterations to convergence.\")\n",
    "r"
   ]
  },
  {
   "cell_type": "markdown",
   "metadata": {},
   "source": [
    "That's no good! *Geoff* seems to be taking all the traffic on the micro-internet, and somehow coming at the top of the PageRank.\n",
    "This behaviour can be understood, because once a Pat get's to *Geoff's* Website, they can't leave, as all links head back to Geoff.\n",
    "\n",
    "To combat this, we can add a small probability that the Procrastinating Pats don't follow any link on a webpage, but instead visit a website on the micro-internet at random.\n",
    "We'll say the probability of them following a link is $d$ and the probability of choosing a random website is therefore $1-d$.\n",
    "We can use a new matrix to work out where the Pat's visit each minute.\n",
    "$$ M = d \\, L + \\frac{1-d}{n} \\, J $$\n",
    "where $J$ is an $n\\times n$ matrix where every element is one.\n",
    "\n",
    "If $d$ is one, we have the case we had previously, whereas if $d$ is zero, we will always visit a random webpage and therefore all webpages will be equally likely and equally ranked.\n",
    "For this extension to work best, $1-d$ should be somewhat small - though we won't go into a discussion about exactly how small.\n",
    "\n",
    "Let's retry this PageRank with this extension."
   ]
  },
  {
   "cell_type": "code",
   "execution_count": 12,
   "metadata": {
    "collapsed": true
   },
   "outputs": [],
   "source": [
    "d = 0.5 # Feel free to play with this parameter after running the code once.\n",
    "M = d * L2 + (1-d)/7 * np.ones([7, 7]) # np.ones() is the J matrix, with ones for each entry."
   ]
  },
  {
   "cell_type": "code",
   "execution_count": 13,
   "metadata": {},
   "outputs": [
    {
     "name": "stdout",
     "output_type": "stream",
     "text": [
      "8 iterations to convergence.\n"
     ]
    },
    {
     "data": {
      "text/plain": [
       "array([ 13.13619674,  11.11812027,  19.27885503,  14.33173875,\n",
       "         7.14285714,  10.35647562,  24.63575646])"
      ]
     },
     "execution_count": 13,
     "metadata": {},
     "output_type": "execute_result"
    }
   ],
   "source": [
    "r = 100 * np.ones(7) / 7 # Sets up this vector (6 entries of 1/6 × 100 each)\n",
    "lastR = r\n",
    "r = M @ r\n",
    "i = 0\n",
    "while la.norm(lastR - r) > 0.01 :\n",
    "    lastR = r\n",
    "    r = M @ r\n",
    "    i += 1\n",
    "print(str(i) + \" iterations to convergence.\")\n",
    "r"
   ]
  },
  {
   "cell_type": "markdown",
   "metadata": {},
   "source": [
    "This is certainly better, the PageRank gives sensible numbers for the Procrastinating Pats that end up on each webpage.\n",
    "This method still predicts Geoff has a high ranking webpage however.\n",
    "This could be seen as a consequence of using a small network. We could also get around the problem by not counting self-links when producing the L matrix (an if a website has no outgoing links, make it link to all websites equally).\n",
    "We won't look further down this route, as this is in the realm of improvements to PageRank, rather than eigenproblems.\n",
    "\n",
    "You are now in a good position, having gained an understanding of PageRank, to produce your own code to calculate the PageRank of a website with thousands of entries.\n",
    "\n",
    "Good Luck!"
   ]
  },
  {
   "cell_type": "markdown",
   "metadata": {},
   "source": [
    "## Part 2 - Assessment\n",
    "In this assessment, you will be asked to produce a function that can calculate the PageRank for an arbitrarily large probability matrix.\n",
    "This, the final assignment of the course, will give less guidance than previous assessments.\n",
    "You will be expected to utilise code from earlier in the worksheet and re-purpose it to your needs.\n",
    "\n",
    "### How to submit\n",
    "Edit the code in the cell below to complete the assignment.\n",
    "Once you are finished and happy with it, press the *Submit Assignment* button at the top of this notebook.\n",
    "\n",
    "Please don't change any of the function names, as these will be checked by the grading script.\n",
    "\n",
    "If you have further questions about submissions or programming assignments, here is a [list](https://www.coursera.org/learn/linear-algebra-machine-learning/discussions/weeks/1/threads/jB4klkn5EeibtBIQyzFmQg) of Q&A. You can also raise an issue on the discussion forum. Good luck!"
   ]
  },
  {
   "cell_type": "code",
   "execution_count": 14,
   "metadata": {
    "collapsed": true
   },
   "outputs": [],
   "source": [
    "# PACKAGE\n",
    "# Here are the imports again, just in case you need them.\n",
    "# There is no need to edit or submit this cell.\n",
    "import numpy as np\n",
    "import numpy.linalg as la\n",
    "from readonly.PageRankFunctions import *\n",
    "np.set_printoptions(suppress=True)"
   ]
  },
  {
   "cell_type": "code",
   "execution_count": 15,
   "metadata": {
    "collapsed": true
   },
   "outputs": [],
   "source": [
    "# GRADED FUNCTION\n",
    "# Complete this function to provide the PageRank for an arbitrarily sized internet.\n",
    "# I.e. the principal eigenvector of the damped system, using the power iteration method.\n",
    "# (Normalisation doesn't matter here)\n",
    "# The functions inputs are the linkMatrix, and d the damping parameter - as defined in this worksheet.\n",
    "# (The damping parameter, d, will be set by the function - no need to set this yourself.)\n",
    "def pageRank(linkMatrix, d) :\n",
    "    n = linkMatrix.shape[0]\n",
    "    # J là ma trận toàn 1\n",
    "    J = np.ones((n, n))\n",
    "    # Ma trận chuyển tiếp được damping\n",
    "    M = d * linkMatrix + (1 - d) / n * J\n",
    "\n",
    "    # Khởi tạo r với 100 Pats chia đều\n",
    "    r = 100 * np.ones(n) / n\n",
    "    tol = 1e-6\n",
    "    diff = tol + 1\n",
    "\n",
    "    # Lặp đến khi hội tụ\n",
    "    while diff > tol:\n",
    "        lastR = r.copy()\n",
    "        r = M @ r\n",
    "        diff = la.norm(r - lastR)\n",
    "    return r\n"
   ]
  },
  {
   "cell_type": "markdown",
   "metadata": {},
   "source": [
    "## Test your code before submission\n",
    "To test the code you've written above, run the cell (select the cell above, then press the play button [ ▶| ] or press shift-enter).\n",
    "You can then use the code below to test out your function.\n",
    "You don't need to submit this cell; you can edit and run it as much as you like."
   ]
  },
  {
   "cell_type": "code",
   "execution_count": 16,
   "metadata": {},
   "outputs": [
    {
     "data": {
      "text/plain": [
       "array([[ 0.2,  0. ,  0.2,  0.2,  0.2],\n",
       "       [ 0.2,  1. ,  0.2,  0.2,  0.2],\n",
       "       [ 0.2,  0. ,  0.2,  0.2,  0.2],\n",
       "       [ 0.2,  0. ,  0.2,  0.2,  0.2],\n",
       "       [ 0.2,  0. ,  0.2,  0.2,  0.2]])"
      ]
     },
     "execution_count": 16,
     "metadata": {},
     "output_type": "execute_result"
    }
   ],
   "source": [
    "# Use the following function to generate internets of different sizes.\n",
    "generate_internet(5)"
   ]
  },
  {
   "cell_type": "code",
   "execution_count": 17,
   "metadata": {
    "collapsed": true
   },
   "outputs": [],
   "source": [
    "# Test your PageRank method against the built in \"eig\" method.\n",
    "# You should see yours is a lot faster for large internets\n",
    "L = generate_internet(10)"
   ]
  },
  {
   "cell_type": "code",
   "execution_count": 18,
   "metadata": {},
   "outputs": [
    {
     "data": {
      "text/plain": [
       "array([ 12.9032265 ,  14.51612899,   1.61290322,   4.83870973,\n",
       "        25.80645093,  22.58064508,   4.83870973,   3.22580637,\n",
       "         6.45161308,   3.22580637])"
      ]
     },
     "execution_count": 18,
     "metadata": {},
     "output_type": "execute_result"
    }
   ],
   "source": [
    "pageRank(L, 1)"
   ]
  },
  {
   "cell_type": "code",
   "execution_count": 19,
   "metadata": {},
   "outputs": [
    {
     "data": {
      "text/plain": [
       "array([ 12.90322582,  14.51612903,   1.61290323,   4.83870969,\n",
       "        25.80645158,  22.58064515,   4.83870969,   3.22580646,\n",
       "         6.45161291,   3.22580646])"
      ]
     },
     "execution_count": 19,
     "metadata": {},
     "output_type": "execute_result"
    }
   ],
   "source": [
    "# Do note, this is calculating the eigenvalues of the link matrix, L,\n",
    "# without any damping. It may give different results that your pageRank function.\n",
    "# If you wish, you could modify this cell to include damping.\n",
    "# (There is no credit for this though)\n",
    "eVals, eVecs = la.eig(L) # Gets the eigenvalues and vectors\n",
    "order = np.absolute(eVals).argsort()[::-1] # Orders them by their eigenvalues\n",
    "eVals = eVals[order]\n",
    "eVecs = eVecs[:,order]\n",
    "\n",
    "r = eVecs[:, 0]\n",
    "100 * np.real(r / np.sum(r))"
   ]
  },
  {
   "cell_type": "code",
   "execution_count": 20,
   "metadata": {},
   "outputs": [
    {
     "name": "stdout",
     "output_type": "stream",
     "text": [
      "Populating the interactive namespace from numpy and matplotlib\n"
     ]
    },
    {
     "data": {
      "application/javascript": "/* Put everything inside the global mpl namespace */\nwindow.mpl = {};\n\n\nmpl.get_websocket_type = function() {\n    if (typeof(WebSocket) !== 'undefined') {\n        return WebSocket;\n    } else if (typeof(MozWebSocket) !== 'undefined') {\n        return MozWebSocket;\n    } else {\n        alert('Your browser does not have WebSocket support.' +\n              'Please try Chrome, Safari or Firefox ≥ 6. ' +\n              'Firefox 4 and 5 are also supported but you ' +\n              'have to enable WebSockets in about:config.');\n    };\n}\n\nmpl.figure = function(figure_id, websocket, ondownload, parent_element) {\n    this.id = figure_id;\n\n    this.ws = websocket;\n\n    this.supports_binary = (this.ws.binaryType != undefined);\n\n    if (!this.supports_binary) {\n        var warnings = document.getElementById(\"mpl-warnings\");\n        if (warnings) {\n            warnings.style.display = 'block';\n            warnings.textContent = (\n                \"This browser does not support binary websocket messages. \" +\n                    \"Performance may be slow.\");\n        }\n    }\n\n    this.imageObj = new Image();\n\n    this.context = undefined;\n    this.message = undefined;\n    this.canvas = undefined;\n    this.rubberband_canvas = undefined;\n    this.rubberband_context = undefined;\n    this.format_dropdown = undefined;\n\n    this.image_mode = 'full';\n\n    this.root = $('<div/>');\n    this._root_extra_style(this.root)\n    this.root.attr('style', 'display: inline-block');\n\n    $(parent_element).append(this.root);\n\n    this._init_header(this);\n    this._init_canvas(this);\n    this._init_toolbar(this);\n\n    var fig = this;\n\n    this.waiting = false;\n\n    this.ws.onopen =  function () {\n            fig.send_message(\"supports_binary\", {value: fig.supports_binary});\n            fig.send_message(\"send_image_mode\", {});\n            if (mpl.ratio != 1) {\n                fig.send_message(\"set_dpi_ratio\", {'dpi_ratio': mpl.ratio});\n            }\n            fig.send_message(\"refresh\", {});\n        }\n\n    this.imageObj.onload = function() {\n            if (fig.image_mode == 'full') {\n                // Full images could contain transparency (where diff images\n                // almost always do), so we need to clear the canvas so that\n                // there is no ghosting.\n                fig.context.clearRect(0, 0, fig.canvas.width, fig.canvas.height);\n            }\n            fig.context.drawImage(fig.imageObj, 0, 0);\n        };\n\n    this.imageObj.onunload = function() {\n        this.ws.close();\n    }\n\n    this.ws.onmessage = this._make_on_message_function(this);\n\n    this.ondownload = ondownload;\n}\n\nmpl.figure.prototype._init_header = function() {\n    var titlebar = $(\n        '<div class=\"ui-dialog-titlebar ui-widget-header ui-corner-all ' +\n        'ui-helper-clearfix\"/>');\n    var titletext = $(\n        '<div class=\"ui-dialog-title\" style=\"width: 100%; ' +\n        'text-align: center; padding: 3px;\"/>');\n    titlebar.append(titletext)\n    this.root.append(titlebar);\n    this.header = titletext[0];\n}\n\n\n\nmpl.figure.prototype._canvas_extra_style = function(canvas_div) {\n\n}\n\n\nmpl.figure.prototype._root_extra_style = function(canvas_div) {\n\n}\n\nmpl.figure.prototype._init_canvas = function() {\n    var fig = this;\n\n    var canvas_div = $('<div/>');\n\n    canvas_div.attr('style', 'position: relative; clear: both; outline: 0');\n\n    function canvas_keyboard_event(event) {\n        return fig.key_event(event, event['data']);\n    }\n\n    canvas_div.keydown('key_press', canvas_keyboard_event);\n    canvas_div.keyup('key_release', canvas_keyboard_event);\n    this.canvas_div = canvas_div\n    this._canvas_extra_style(canvas_div)\n    this.root.append(canvas_div);\n\n    var canvas = $('<canvas/>');\n    canvas.addClass('mpl-canvas');\n    canvas.attr('style', \"left: 0; top: 0; z-index: 0; outline: 0\")\n\n    this.canvas = canvas[0];\n    this.context = canvas[0].getContext(\"2d\");\n\n    var backingStore = this.context.backingStorePixelRatio ||\n\tthis.context.webkitBackingStorePixelRatio ||\n\tthis.context.mozBackingStorePixelRatio ||\n\tthis.context.msBackingStorePixelRatio ||\n\tthis.context.oBackingStorePixelRatio ||\n\tthis.context.backingStorePixelRatio || 1;\n\n    mpl.ratio = (window.devicePixelRatio || 1) / backingStore;\n\n    var rubberband = $('<canvas/>');\n    rubberband.attr('style', \"position: absolute; left: 0; top: 0; z-index: 1;\")\n\n    var pass_mouse_events = true;\n\n    canvas_div.resizable({\n        start: function(event, ui) {\n            pass_mouse_events = false;\n        },\n        resize: function(event, ui) {\n            fig.request_resize(ui.size.width, ui.size.height);\n        },\n        stop: function(event, ui) {\n            pass_mouse_events = true;\n            fig.request_resize(ui.size.width, ui.size.height);\n        },\n    });\n\n    function mouse_event_fn(event) {\n        if (pass_mouse_events)\n            return fig.mouse_event(event, event['data']);\n    }\n\n    rubberband.mousedown('button_press', mouse_event_fn);\n    rubberband.mouseup('button_release', mouse_event_fn);\n    // Throttle sequential mouse events to 1 every 20ms.\n    rubberband.mousemove('motion_notify', mouse_event_fn);\n\n    rubberband.mouseenter('figure_enter', mouse_event_fn);\n    rubberband.mouseleave('figure_leave', mouse_event_fn);\n\n    canvas_div.on(\"wheel\", function (event) {\n        event = event.originalEvent;\n        event['data'] = 'scroll'\n        if (event.deltaY < 0) {\n            event.step = 1;\n        } else {\n            event.step = -1;\n        }\n        mouse_event_fn(event);\n    });\n\n    canvas_div.append(canvas);\n    canvas_div.append(rubberband);\n\n    this.rubberband = rubberband;\n    this.rubberband_canvas = rubberband[0];\n    this.rubberband_context = rubberband[0].getContext(\"2d\");\n    this.rubberband_context.strokeStyle = \"#000000\";\n\n    this._resize_canvas = function(width, height) {\n        // Keep the size of the canvas, canvas container, and rubber band\n        // canvas in synch.\n        canvas_div.css('width', width)\n        canvas_div.css('height', height)\n\n        canvas.attr('width', width * mpl.ratio);\n        canvas.attr('height', height * mpl.ratio);\n        canvas.attr('style', 'width: ' + width + 'px; height: ' + height + 'px;');\n\n        rubberband.attr('width', width);\n        rubberband.attr('height', height);\n    }\n\n    // Set the figure to an initial 600x600px, this will subsequently be updated\n    // upon first draw.\n    this._resize_canvas(600, 600);\n\n    // Disable right mouse context menu.\n    $(this.rubberband_canvas).bind(\"contextmenu\",function(e){\n        return false;\n    });\n\n    function set_focus () {\n        canvas.focus();\n        canvas_div.focus();\n    }\n\n    window.setTimeout(set_focus, 100);\n}\n\nmpl.figure.prototype._init_toolbar = function() {\n    var fig = this;\n\n    var nav_element = $('<div/>')\n    nav_element.attr('style', 'width: 100%');\n    this.root.append(nav_element);\n\n    // Define a callback function for later on.\n    function toolbar_event(event) {\n        return fig.toolbar_button_onclick(event['data']);\n    }\n    function toolbar_mouse_event(event) {\n        return fig.toolbar_button_onmouseover(event['data']);\n    }\n\n    for(var toolbar_ind in mpl.toolbar_items) {\n        var name = mpl.toolbar_items[toolbar_ind][0];\n        var tooltip = mpl.toolbar_items[toolbar_ind][1];\n        var image = mpl.toolbar_items[toolbar_ind][2];\n        var method_name = mpl.toolbar_items[toolbar_ind][3];\n\n        if (!name) {\n            // put a spacer in here.\n            continue;\n        }\n        var button = $('<button/>');\n        button.addClass('ui-button ui-widget ui-state-default ui-corner-all ' +\n                        'ui-button-icon-only');\n        button.attr('role', 'button');\n        button.attr('aria-disabled', 'false');\n        button.click(method_name, toolbar_event);\n        button.mouseover(tooltip, toolbar_mouse_event);\n\n        var icon_img = $('<span/>');\n        icon_img.addClass('ui-button-icon-primary ui-icon');\n        icon_img.addClass(image);\n        icon_img.addClass('ui-corner-all');\n\n        var tooltip_span = $('<span/>');\n        tooltip_span.addClass('ui-button-text');\n        tooltip_span.html(tooltip);\n\n        button.append(icon_img);\n        button.append(tooltip_span);\n\n        nav_element.append(button);\n    }\n\n    var fmt_picker_span = $('<span/>');\n\n    var fmt_picker = $('<select/>');\n    fmt_picker.addClass('mpl-toolbar-option ui-widget ui-widget-content');\n    fmt_picker_span.append(fmt_picker);\n    nav_element.append(fmt_picker_span);\n    this.format_dropdown = fmt_picker[0];\n\n    for (var ind in mpl.extensions) {\n        var fmt = mpl.extensions[ind];\n        var option = $(\n            '<option/>', {selected: fmt === mpl.default_extension}).html(fmt);\n        fmt_picker.append(option)\n    }\n\n    // Add hover states to the ui-buttons\n    $( \".ui-button\" ).hover(\n        function() { $(this).addClass(\"ui-state-hover\");},\n        function() { $(this).removeClass(\"ui-state-hover\");}\n    );\n\n    var status_bar = $('<span class=\"mpl-message\"/>');\n    nav_element.append(status_bar);\n    this.message = status_bar[0];\n}\n\nmpl.figure.prototype.request_resize = function(x_pixels, y_pixels) {\n    // Request matplotlib to resize the figure. Matplotlib will then trigger a resize in the client,\n    // which will in turn request a refresh of the image.\n    this.send_message('resize', {'width': x_pixels, 'height': y_pixels});\n}\n\nmpl.figure.prototype.send_message = function(type, properties) {\n    properties['type'] = type;\n    properties['figure_id'] = this.id;\n    this.ws.send(JSON.stringify(properties));\n}\n\nmpl.figure.prototype.send_draw_message = function() {\n    if (!this.waiting) {\n        this.waiting = true;\n        this.ws.send(JSON.stringify({type: \"draw\", figure_id: this.id}));\n    }\n}\n\n\nmpl.figure.prototype.handle_save = function(fig, msg) {\n    var format_dropdown = fig.format_dropdown;\n    var format = format_dropdown.options[format_dropdown.selectedIndex].value;\n    fig.ondownload(fig, format);\n}\n\n\nmpl.figure.prototype.handle_resize = function(fig, msg) {\n    var size = msg['size'];\n    if (size[0] != fig.canvas.width || size[1] != fig.canvas.height) {\n        fig._resize_canvas(size[0], size[1]);\n        fig.send_message(\"refresh\", {});\n    };\n}\n\nmpl.figure.prototype.handle_rubberband = function(fig, msg) {\n    var x0 = msg['x0'] / mpl.ratio;\n    var y0 = (fig.canvas.height - msg['y0']) / mpl.ratio;\n    var x1 = msg['x1'] / mpl.ratio;\n    var y1 = (fig.canvas.height - msg['y1']) / mpl.ratio;\n    x0 = Math.floor(x0) + 0.5;\n    y0 = Math.floor(y0) + 0.5;\n    x1 = Math.floor(x1) + 0.5;\n    y1 = Math.floor(y1) + 0.5;\n    var min_x = Math.min(x0, x1);\n    var min_y = Math.min(y0, y1);\n    var width = Math.abs(x1 - x0);\n    var height = Math.abs(y1 - y0);\n\n    fig.rubberband_context.clearRect(\n        0, 0, fig.canvas.width, fig.canvas.height);\n\n    fig.rubberband_context.strokeRect(min_x, min_y, width, height);\n}\n\nmpl.figure.prototype.handle_figure_label = function(fig, msg) {\n    // Updates the figure title.\n    fig.header.textContent = msg['label'];\n}\n\nmpl.figure.prototype.handle_cursor = function(fig, msg) {\n    var cursor = msg['cursor'];\n    switch(cursor)\n    {\n    case 0:\n        cursor = 'pointer';\n        break;\n    case 1:\n        cursor = 'default';\n        break;\n    case 2:\n        cursor = 'crosshair';\n        break;\n    case 3:\n        cursor = 'move';\n        break;\n    }\n    fig.rubberband_canvas.style.cursor = cursor;\n}\n\nmpl.figure.prototype.handle_message = function(fig, msg) {\n    fig.message.textContent = msg['message'];\n}\n\nmpl.figure.prototype.handle_draw = function(fig, msg) {\n    // Request the server to send over a new figure.\n    fig.send_draw_message();\n}\n\nmpl.figure.prototype.handle_image_mode = function(fig, msg) {\n    fig.image_mode = msg['mode'];\n}\n\nmpl.figure.prototype.updated_canvas_event = function() {\n    // Called whenever the canvas gets updated.\n    this.send_message(\"ack\", {});\n}\n\n// A function to construct a web socket function for onmessage handling.\n// Called in the figure constructor.\nmpl.figure.prototype._make_on_message_function = function(fig) {\n    return function socket_on_message(evt) {\n        if (evt.data instanceof Blob) {\n            /* FIXME: We get \"Resource interpreted as Image but\n             * transferred with MIME type text/plain:\" errors on\n             * Chrome.  But how to set the MIME type?  It doesn't seem\n             * to be part of the websocket stream */\n            evt.data.type = \"image/png\";\n\n            /* Free the memory for the previous frames */\n            if (fig.imageObj.src) {\n                (window.URL || window.webkitURL).revokeObjectURL(\n                    fig.imageObj.src);\n            }\n\n            fig.imageObj.src = (window.URL || window.webkitURL).createObjectURL(\n                evt.data);\n            fig.updated_canvas_event();\n            fig.waiting = false;\n            return;\n        }\n        else if (typeof evt.data === 'string' && evt.data.slice(0, 21) == \"data:image/png;base64\") {\n            fig.imageObj.src = evt.data;\n            fig.updated_canvas_event();\n            fig.waiting = false;\n            return;\n        }\n\n        var msg = JSON.parse(evt.data);\n        var msg_type = msg['type'];\n\n        // Call the  \"handle_{type}\" callback, which takes\n        // the figure and JSON message as its only arguments.\n        try {\n            var callback = fig[\"handle_\" + msg_type];\n        } catch (e) {\n            console.log(\"No handler for the '\" + msg_type + \"' message type: \", msg);\n            return;\n        }\n\n        if (callback) {\n            try {\n                // console.log(\"Handling '\" + msg_type + \"' message: \", msg);\n                callback(fig, msg);\n            } catch (e) {\n                console.log(\"Exception inside the 'handler_\" + msg_type + \"' callback:\", e, e.stack, msg);\n            }\n        }\n    };\n}\n\n// from http://stackoverflow.com/questions/1114465/getting-mouse-location-in-canvas\nmpl.findpos = function(e) {\n    //this section is from http://www.quirksmode.org/js/events_properties.html\n    var targ;\n    if (!e)\n        e = window.event;\n    if (e.target)\n        targ = e.target;\n    else if (e.srcElement)\n        targ = e.srcElement;\n    if (targ.nodeType == 3) // defeat Safari bug\n        targ = targ.parentNode;\n\n    // jQuery normalizes the pageX and pageY\n    // pageX,Y are the mouse positions relative to the document\n    // offset() returns the position of the element relative to the document\n    var x = e.pageX - $(targ).offset().left;\n    var y = e.pageY - $(targ).offset().top;\n\n    return {\"x\": x, \"y\": y};\n};\n\n/*\n * return a copy of an object with only non-object keys\n * we need this to avoid circular references\n * http://stackoverflow.com/a/24161582/3208463\n */\nfunction simpleKeys (original) {\n  return Object.keys(original).reduce(function (obj, key) {\n    if (typeof original[key] !== 'object')\n        obj[key] = original[key]\n    return obj;\n  }, {});\n}\n\nmpl.figure.prototype.mouse_event = function(event, name) {\n    var canvas_pos = mpl.findpos(event)\n\n    if (name === 'button_press')\n    {\n        this.canvas.focus();\n        this.canvas_div.focus();\n    }\n\n    var x = canvas_pos.x * mpl.ratio;\n    var y = canvas_pos.y * mpl.ratio;\n\n    this.send_message(name, {x: x, y: y, button: event.button,\n                             step: event.step,\n                             guiEvent: simpleKeys(event)});\n\n    /* This prevents the web browser from automatically changing to\n     * the text insertion cursor when the button is pressed.  We want\n     * to control all of the cursor setting manually through the\n     * 'cursor' event from matplotlib */\n    event.preventDefault();\n    return false;\n}\n\nmpl.figure.prototype._key_event_extra = function(event, name) {\n    // Handle any extra behaviour associated with a key event\n}\n\nmpl.figure.prototype.key_event = function(event, name) {\n\n    // Prevent repeat events\n    if (name == 'key_press')\n    {\n        if (event.which === this._key)\n            return;\n        else\n            this._key = event.which;\n    }\n    if (name == 'key_release')\n        this._key = null;\n\n    var value = '';\n    if (event.ctrlKey && event.which != 17)\n        value += \"ctrl+\";\n    if (event.altKey && event.which != 18)\n        value += \"alt+\";\n    if (event.shiftKey && event.which != 16)\n        value += \"shift+\";\n\n    value += 'k';\n    value += event.which.toString();\n\n    this._key_event_extra(event, name);\n\n    this.send_message(name, {key: value,\n                             guiEvent: simpleKeys(event)});\n    return false;\n}\n\nmpl.figure.prototype.toolbar_button_onclick = function(name) {\n    if (name == 'download') {\n        this.handle_save(this, null);\n    } else {\n        this.send_message(\"toolbar_button\", {name: name});\n    }\n};\n\nmpl.figure.prototype.toolbar_button_onmouseover = function(tooltip) {\n    this.message.textContent = tooltip;\n};\nmpl.toolbar_items = [[\"Home\", \"Reset original view\", \"fa fa-home icon-home\", \"home\"], [\"Back\", \"Back to  previous view\", \"fa fa-arrow-left icon-arrow-left\", \"back\"], [\"Forward\", \"Forward to next view\", \"fa fa-arrow-right icon-arrow-right\", \"forward\"], [\"\", \"\", \"\", \"\"], [\"Pan\", \"Pan axes with left mouse, zoom with right\", \"fa fa-arrows icon-move\", \"pan\"], [\"Zoom\", \"Zoom to rectangle\", \"fa fa-square-o icon-check-empty\", \"zoom\"], [\"\", \"\", \"\", \"\"], [\"Download\", \"Download plot\", \"fa fa-floppy-o icon-save\", \"download\"]];\n\nmpl.extensions = [\"eps\", \"jpeg\", \"pdf\", \"png\", \"ps\", \"raw\", \"svg\", \"tif\"];\n\nmpl.default_extension = \"png\";var comm_websocket_adapter = function(comm) {\n    // Create a \"websocket\"-like object which calls the given IPython comm\n    // object with the appropriate methods. Currently this is a non binary\n    // socket, so there is still some room for performance tuning.\n    var ws = {};\n\n    ws.close = function() {\n        comm.close()\n    };\n    ws.send = function(m) {\n        //console.log('sending', m);\n        comm.send(m);\n    };\n    // Register the callback with on_msg.\n    comm.on_msg(function(msg) {\n        //console.log('receiving', msg['content']['data'], msg);\n        // Pass the mpl event to the overriden (by mpl) onmessage function.\n        ws.onmessage(msg['content']['data'])\n    });\n    return ws;\n}\n\nmpl.mpl_figure_comm = function(comm, msg) {\n    // This is the function which gets called when the mpl process\n    // starts-up an IPython Comm through the \"matplotlib\" channel.\n\n    var id = msg.content.data.id;\n    // Get hold of the div created by the display call when the Comm\n    // socket was opened in Python.\n    var element = $(\"#\" + id);\n    var ws_proxy = comm_websocket_adapter(comm)\n\n    function ondownload(figure, format) {\n        window.open(figure.imageObj.src);\n    }\n\n    var fig = new mpl.figure(id, ws_proxy,\n                           ondownload,\n                           element.get(0));\n\n    // Call onopen now - mpl needs it, as it is assuming we've passed it a real\n    // web socket which is closed, not our websocket->open comm proxy.\n    ws_proxy.onopen();\n\n    fig.parent_element = element.get(0);\n    fig.cell_info = mpl.find_output_cell(\"<div id='\" + id + \"'></div>\");\n    if (!fig.cell_info) {\n        console.error(\"Failed to find cell for figure\", id, fig);\n        return;\n    }\n\n    var output_index = fig.cell_info[2]\n    var cell = fig.cell_info[0];\n\n};\n\nmpl.figure.prototype.handle_close = function(fig, msg) {\n    var width = fig.canvas.width/mpl.ratio\n    fig.root.unbind('remove')\n\n    // Update the output cell to use the data from the current canvas.\n    fig.push_to_output();\n    var dataURL = fig.canvas.toDataURL();\n    // Re-enable the keyboard manager in IPython - without this line, in FF,\n    // the notebook keyboard shortcuts fail.\n    IPython.keyboard_manager.enable()\n    $(fig.parent_element).html('<img src=\"' + dataURL + '\" width=\"' + width + '\">');\n    fig.close_ws(fig, msg);\n}\n\nmpl.figure.prototype.close_ws = function(fig, msg){\n    fig.send_message('closing', msg);\n    // fig.ws.close()\n}\n\nmpl.figure.prototype.push_to_output = function(remove_interactive) {\n    // Turn the data on the canvas into data in the output cell.\n    var width = this.canvas.width/mpl.ratio\n    var dataURL = this.canvas.toDataURL();\n    this.cell_info[1]['text/html'] = '<img src=\"' + dataURL + '\" width=\"' + width + '\">';\n}\n\nmpl.figure.prototype.updated_canvas_event = function() {\n    // Tell IPython that the notebook contents must change.\n    IPython.notebook.set_dirty(true);\n    this.send_message(\"ack\", {});\n    var fig = this;\n    // Wait a second, then push the new image to the DOM so\n    // that it is saved nicely (might be nice to debounce this).\n    setTimeout(function () { fig.push_to_output() }, 1000);\n}\n\nmpl.figure.prototype._init_toolbar = function() {\n    var fig = this;\n\n    var nav_element = $('<div/>')\n    nav_element.attr('style', 'width: 100%');\n    this.root.append(nav_element);\n\n    // Define a callback function for later on.\n    function toolbar_event(event) {\n        return fig.toolbar_button_onclick(event['data']);\n    }\n    function toolbar_mouse_event(event) {\n        return fig.toolbar_button_onmouseover(event['data']);\n    }\n\n    for(var toolbar_ind in mpl.toolbar_items){\n        var name = mpl.toolbar_items[toolbar_ind][0];\n        var tooltip = mpl.toolbar_items[toolbar_ind][1];\n        var image = mpl.toolbar_items[toolbar_ind][2];\n        var method_name = mpl.toolbar_items[toolbar_ind][3];\n\n        if (!name) { continue; };\n\n        var button = $('<button class=\"btn btn-default\" href=\"#\" title=\"' + name + '\"><i class=\"fa ' + image + ' fa-lg\"></i></button>');\n        button.click(method_name, toolbar_event);\n        button.mouseover(tooltip, toolbar_mouse_event);\n        nav_element.append(button);\n    }\n\n    // Add the status bar.\n    var status_bar = $('<span class=\"mpl-message\" style=\"text-align:right; float: right;\"/>');\n    nav_element.append(status_bar);\n    this.message = status_bar[0];\n\n    // Add the close button to the window.\n    var buttongrp = $('<div class=\"btn-group inline pull-right\"></div>');\n    var button = $('<button class=\"btn btn-mini btn-primary\" href=\"#\" title=\"Stop Interaction\"><i class=\"fa fa-power-off icon-remove icon-large\"></i></button>');\n    button.click(function (evt) { fig.handle_close(fig, {}); } );\n    button.mouseover('Stop Interaction', toolbar_mouse_event);\n    buttongrp.append(button);\n    var titlebar = this.root.find($('.ui-dialog-titlebar'));\n    titlebar.prepend(buttongrp);\n}\n\nmpl.figure.prototype._root_extra_style = function(el){\n    var fig = this\n    el.on(\"remove\", function(){\n\tfig.close_ws(fig, {});\n    });\n}\n\nmpl.figure.prototype._canvas_extra_style = function(el){\n    // this is important to make the div 'focusable\n    el.attr('tabindex', 0)\n    // reach out to IPython and tell the keyboard manager to turn it's self\n    // off when our div gets focus\n\n    // location in version 3\n    if (IPython.notebook.keyboard_manager) {\n        IPython.notebook.keyboard_manager.register_events(el);\n    }\n    else {\n        // location in version 2\n        IPython.keyboard_manager.register_events(el);\n    }\n\n}\n\nmpl.figure.prototype._key_event_extra = function(event, name) {\n    var manager = IPython.notebook.keyboard_manager;\n    if (!manager)\n        manager = IPython.keyboard_manager;\n\n    // Check for shift+enter\n    if (event.shiftKey && event.which == 13) {\n        this.canvas_div.blur();\n        // select the cell after this one\n        var index = IPython.notebook.find_cell_index(this.cell_info[0]);\n        IPython.notebook.select(index + 1);\n    }\n}\n\nmpl.figure.prototype.handle_save = function(fig, msg) {\n    fig.ondownload(fig, null);\n}\n\n\nmpl.find_output_cell = function(html_output) {\n    // Return the cell and output element which can be found *uniquely* in the notebook.\n    // Note - this is a bit hacky, but it is done because the \"notebook_saving.Notebook\"\n    // IPython event is triggered only after the cells have been serialised, which for\n    // our purposes (turning an active figure into a static one), is too late.\n    var cells = IPython.notebook.get_cells();\n    var ncells = cells.length;\n    for (var i=0; i<ncells; i++) {\n        var cell = cells[i];\n        if (cell.cell_type === 'code'){\n            for (var j=0; j<cell.output_area.outputs.length; j++) {\n                var data = cell.output_area.outputs[j];\n                if (data.data) {\n                    // IPython >= 3 moved mimebundle to data attribute of output\n                    data = data.data;\n                }\n                if (data['text/html'] == html_output) {\n                    return [cell, data, j];\n                }\n            }\n        }\n    }\n}\n\n// Register the function which deals with the matplotlib target/channel.\n// The kernel may be null if the page has been refreshed.\nif (IPython.notebook.kernel != null) {\n    IPython.notebook.kernel.comm_manager.register_target('matplotlib', mpl.mpl_figure_comm);\n}\n",
      "text/plain": [
       "<IPython.core.display.Javascript object>"
      ]
     },
     "metadata": {},
     "output_type": "display_data"
    },
    {
     "data": {
      "text/html": [
       "<img src=\"data:image/png;base64,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\" width=\"640\">"
      ],
      "text/plain": [
       "<IPython.core.display.HTML object>"
      ]
     },
     "metadata": {},
     "output_type": "display_data"
    }
   ],
   "source": [
    "# You may wish to view the PageRank graphically.\n",
    "# This code will draw a bar chart, for each (numbered) website on the generated internet,\n",
    "# The height of each bar will be the score in the PageRank.\n",
    "# Run this code to see the PageRank for each internet you generate.\n",
    "# Hopefully you should see what you might expect\n",
    "# - there are a few clusters of important websites, but most on the internet are rubbish!\n",
    "%pylab notebook\n",
    "r = pageRank(generate_internet(100), 0.9)\n",
    "plt.bar(arange(r.shape[0]), r);"
   ]
  },
  {
   "cell_type": "code",
   "execution_count": null,
   "metadata": {
    "collapsed": true
   },
   "outputs": [],
   "source": []
  }
 ],
 "metadata": {
  "coursera": {
   "course_slug": "linear-algebra-machine-learning",
   "graded_item_id": "Sfbnp",
   "launcher_item_id": "aPxf3"
  },
  "kernelspec": {
   "display_name": "Python 3",
   "language": "python",
   "name": "python3"
  },
  "language_info": {
   "codemirror_mode": {
    "name": "ipython",
    "version": 3
   },
   "file_extension": ".py",
   "mimetype": "text/x-python",
   "name": "python",
   "nbconvert_exporter": "python",
   "pygments_lexer": "ipython3",
   "version": "3.6.2"
  }
 },
 "nbformat": 4,
 "nbformat_minor": 1
}
