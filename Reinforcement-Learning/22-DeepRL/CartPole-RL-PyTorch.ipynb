{
 "cells": [
  {
   "cell_type": "markdown",
   "metadata": {},
   "source": [
    "# Training RL to do Cartpole Balancing\n",
    "\n",
    "This notebooks is part of [AI for Beginners Curriculum](http://aka.ms/ai-beginners). It has been inspired by [official PyTorch tutorial](https://pytorch.org/tutorials/intermediate/reinforcement_q_learning.html) and [this Cartpole PyTorch implementation](https://github.com/yc930401/Actor-Critic-pytorch).\n",
    "\n",
    "In this example, we will use RL to train a model to balance a pole on a cart that can move left and right on horizontal scale. We will use [OpenAI Gym](https://www.gymlibrary.ml/) environment to simulate the pole.\n",
    "\n",
    "> **Note**: You can run this lesson's code locally (eg. from Visual Studio Code), in which case the simulation will open in a new window. When running the code online, you may need to make some tweaks to the code, as described [here](https://towardsdatascience.com/rendering-openai-gym-envs-on-binder-and-google-colab-536f99391cc7).\n",
    "\n",
    "We will start by making sure Gym is installed:"
   ]
  },
  {
   "cell_type": "code",
   "execution_count": null,
   "metadata": {},
   "outputs": [],
   "source": [
    "import sys\n",
    "!{sys.executable} -m pip install gym"
   ]
  },
  {
   "cell_type": "markdown",
   "metadata": {},
   "source": []
  },
  {
   "cell_type": "code",
   "execution_count": 1,
   "metadata": {},
   "outputs": [
    {
     "name": "stdout",
     "output_type": "stream",
     "text": [
      "Collecting gym\n",
      "  Downloading gym-0.26.2.tar.gz (721 kB)\n",
      "\u001b[2K     \u001b[90m━━━━━━━━━━━━━━━━━━━━━━━━━━━━━━━━━━━━━━\u001b[0m \u001b[32m721.7/721.7 kB\u001b[0m \u001b[31m43.8 MB/s\u001b[0m eta \u001b[36m0:00:00\u001b[0m\n",
      "\u001b[?25h  Installing build dependencies ... \u001b[?25ldone\n",
      "\u001b[?25h  Getting requirements to build wheel ... \u001b[?25ldone\n",
      "\u001b[?25h  Preparing metadata (pyproject.toml) ... \u001b[?25ldone\n",
      "\u001b[?25hRequirement already satisfied: numpy>=1.18.0 in /system/conda/miniconda3/envs/cloudspace/lib/python3.10/site-packages (from gym) (1.26.4)\n",
      "Collecting cloudpickle>=1.2.0 (from gym)\n",
      "  Downloading cloudpickle-3.1.0-py3-none-any.whl.metadata (7.0 kB)\n",
      "Collecting gym_notices>=0.0.4 (from gym)\n",
      "  Downloading gym_notices-0.0.8-py3-none-any.whl.metadata (1.0 kB)\n",
      "Downloading cloudpickle-3.1.0-py3-none-any.whl (22 kB)\n",
      "Downloading gym_notices-0.0.8-py3-none-any.whl (3.0 kB)\n",
      "Building wheels for collected packages: gym\n",
      "  Building wheel for gym (pyproject.toml) ... \u001b[?25ldone\n",
      "\u001b[?25h  Created wheel for gym: filename=gym-0.26.2-py3-none-any.whl size=827626 sha256=88aa01e664877fa7728174b59d663594d057a4bb6ca29c1e0a3b08b006cb16af\n",
      "  Stored in directory: /home/zeus/.cache/pip/wheels/b9/22/6d/3e7b32d98451b4cd9d12417052affbeeeea012955d437da1da\n",
      "Successfully built gym\n",
      "Installing collected packages: gym_notices, cloudpickle, gym\n",
      "Successfully installed cloudpickle-3.1.0 gym-0.26.2 gym_notices-0.0.8\n"
     ]
    }
   ],
   "source": [
    "!pip install gym"
   ]
  },
  {
   "cell_type": "markdown",
   "metadata": {},
   "source": [
    "Now let's create the CartPole environment and see how to operate on it. An environment has the following properties:\n",
    "\n",
    "* **Action space** is the set of possible actions that we can perform at each step of the simulation\n",
    "* **Observation space** is the space of observations that we can make"
   ]
  },
  {
   "cell_type": "code",
   "execution_count": 13,
   "metadata": {},
   "outputs": [
    {
     "name": "stdout",
     "output_type": "stream",
     "text": [
      "Action space: Discrete(2)\n",
      "Observation space: Box([-4.8000002e+00 -3.4028235e+38 -4.1887903e-01 -3.4028235e+38], [4.8000002e+00 3.4028235e+38 4.1887903e-01 3.4028235e+38], (4,), float32)\n"
     ]
    }
   ],
   "source": [
    "import gym\n",
    "\n",
    "env = gym.make(\"CartPole-v1\")\n",
    "env.reset()\n",
    "print(f\"Action space: {env.action_space}\")\n",
    "print(f\"Observation space: {env.observation_space}\")"
   ]
  },
  {
   "cell_type": "markdown",
   "metadata": {},
   "source": [
    "Let's see how the simulation works. The following loop runs the simulation, until `env.step` does not return the termination flag `done`. We will randomly chose actions using `env.action_space.sample()`, which means the experiment will probably fail very fast (CartPole environment terminates when the speed of CartPole, its position or angle are outside certain limits).\n",
    "\n",
    "> Simulation will open in the new window. You can run the code several times and see how it behaves."
   ]
  },
  {
   "cell_type": "code",
   "execution_count": 11,
   "metadata": {},
   "outputs": [
    {
     "data": {
      "text/plain": [
       "1"
      ]
     },
     "execution_count": 11,
     "metadata": {},
     "output_type": "execute_result"
    }
   ],
   "source": [
    "env.action_space.sample()"
   ]
  },
  {
   "cell_type": "code",
   "execution_count": 14,
   "metadata": {},
   "outputs": [
    {
     "name": "stderr",
     "output_type": "stream",
     "text": [
      "/home/zeus/miniconda3/envs/cloudspace/lib/python3.10/site-packages/gym/utils/passive_env_checker.py:233: DeprecationWarning: `np.bool8` is a deprecated alias for `np.bool_`.  (Deprecated NumPy 1.24)\n",
      "  if not isinstance(terminated, (bool, np.bool8)):\n"
     ]
    },
    {
     "data": {
      "text/plain": [
       "(array([-0.03762161, -0.23324509,  0.02214256,  0.29058412], dtype=float32),\n",
       " 1.0,\n",
       " False,\n",
       " False,\n",
       " {})"
      ]
     },
     "execution_count": 14,
     "metadata": {},
     "output_type": "execute_result"
    }
   ],
   "source": [
    "env.step(env.action_space.sample())"
   ]
  },
  {
   "cell_type": "code",
   "execution_count": 30,
   "metadata": {},
   "outputs": [
    {
     "data": {
      "text/plain": [
       "<TimeLimit<OrderEnforcing<PassiveEnvChecker<CartPoleEnv<CartPole-v1>>>>>"
      ]
     },
     "execution_count": 30,
     "metadata": {},
     "output_type": "execute_result"
    }
   ],
   "source": [
    "env"
   ]
  },
  {
   "cell_type": "code",
   "execution_count": 16,
   "metadata": {},
   "outputs": [
    {
     "name": "stdout",
     "output_type": "stream",
     "text": [
      "[ 0.00902561 -0.17410493 -0.0357087   0.31493163] -> 1.0\n",
      "[ 0.00554351  0.021507   -0.02941006  0.01120466] -> 1.0\n",
      "[ 0.00597365 -0.17318109 -0.02918597  0.2944652 ] -> 1.0\n",
      "[ 0.00251003 -0.36787504 -0.02329667  0.5778023 ] -> 1.0\n",
      "[-0.00484747 -0.56266284 -0.01174062  0.8630561 ] -> 1.0\n",
      "[-0.01610073 -0.36738306  0.0055205   0.566705  ] -> 1.0\n",
      "[-0.02344839 -0.17233898  0.0168546   0.2757663 ] -> 1.0\n",
      "[-0.02689517 -0.3676973   0.02236993  0.5737172 ] -> 1.0\n",
      "[-0.03424912 -0.5631256   0.03384427  0.87336254] -> 1.0\n",
      "[-0.04551163 -0.3684798   0.05131152  0.59150934] -> 1.0\n",
      "[-0.05288122 -0.17411235  0.06314171  0.31542084] -> 1.0\n",
      "[-0.05636347 -0.3700742   0.06945013  0.62732923] -> 1.0\n",
      "[-0.06376495 -0.56609327  0.08199671  0.94105095] -> 1.0\n",
      "[-0.07508682 -0.37216642  0.10081773  0.67521805] -> 1.0\n",
      "[-0.08253015 -0.1785793   0.11432209  0.41590208] -> 1.0\n",
      "[-0.08610173  0.01475252  0.12264013  0.16133487] -> 1.0\n",
      "[-0.08580668 -0.18189225  0.12586683  0.49005243] -> 1.0\n",
      "[-0.08944453 -0.37854415  0.13566788  0.819604  ] -> 1.0\n",
      "[-0.09701541 -0.18551381  0.15205996  0.5724832 ] -> 1.0\n",
      "[-0.10072569  0.00718575  0.16350962  0.33130267] -> 1.0\n",
      "[-0.10058197 -0.18984015  0.17013568  0.6707576 ] -> 1.0\n",
      "[-0.10437877  0.00255935  0.18355082  0.4361041 ] -> 1.0\n",
      "[-0.10432759 -0.19462174  0.1922729   0.7805687 ] -> 1.0\n",
      "[-0.10822003 -0.0025893   0.20788428  0.55400866] -> 1.0\n",
      "[-0.10827181  0.18910077  0.21896446  0.333343  ] -> 1.0\n",
      "Total reward: 25.0\n"
     ]
    },
    {
     "name": "stderr",
     "output_type": "stream",
     "text": [
      "/home/zeus/miniconda3/envs/cloudspace/lib/python3.10/site-packages/gym/envs/classic_control/cartpole.py:211: UserWarning: \u001b[33mWARN: You are calling render method without specifying any render mode. You can specify the render_mode at initialization, e.g. gym(\"CartPole-v1\", render_mode=\"rgb_array\")\u001b[0m\n",
      "  gym.logger.warn(\n"
     ]
    }
   ],
   "source": [
    "env.reset()\n",
    "\n",
    "done = False\n",
    "total_reward = 0\n",
    "while not done:\n",
    "   env.render()\n",
    "   obs, rew, done, trunc, info = env.step(env.action_space.sample())\n",
    "   total_reward += rew\n",
    "   print(f\"{obs} -> {rew}\")\n",
    "print(f\"Total reward: {total_reward}\")"
   ]
  },
  {
   "cell_type": "markdown",
   "metadata": {},
   "source": [
    "Youn can notice that observations contain 4 numbers. They are:\n",
    "- Position of cart\n",
    "- Velocity of cart\n",
    "- Angle of pole\n",
    "- Rotation rate of pole\n",
    "\n",
    "`rew` is the reward we receive at each step. You can see that in CartPole environment you are rewarded 1 point for each simulation step, and the goal is to maximize total reward, i.e. the time CartPole is able to balance without falling.\n",
    "\n",
    "During reinforcement learning, our goal is to train a **policy** $\\pi$, that for each state $s$ will tell us which action $a$ to take, so essentially $a = \\pi(s)$.\n",
    "\n",
    "If you want probabilistic solution, you can think of policy as returning a set of probabilities for each action, i.e. $\\pi(a|s)$ would mean a probability that we should take action $a$ at state $s$.\n",
    "\n",
    "## Policy Gradient Method\n",
    "\n",
    "In simplest RL algorithm, called **Policy Gradient**, we will train a neural network to predict the next action."
   ]
  },
  {
   "cell_type": "code",
   "execution_count": 19,
   "metadata": {},
   "outputs": [],
   "source": [
    "import numpy as np\n",
    "import matplotlib.pyplot as plt\n",
    "import torch\n",
    "\n",
    "num_inputs = 4\n",
    "num_actions = 2\n",
    "\n",
    "model = torch.nn.Sequential(\n",
    "    torch.nn.Linear(num_inputs, 128, bias=False, dtype=torch.float32),\n",
    "    torch.nn.ReLU(),\n",
    "    torch.nn.Linear(128, num_actions, bias = False, dtype=torch.float32),\n",
    "    torch.nn.Softmax(dim=1)\n",
    ")"
   ]
  },
  {
   "cell_type": "code",
   "execution_count": 30,
   "metadata": {},
   "outputs": [
    {
     "data": {
      "text/plain": [
       "Sequential(\n",
       "  (0): Linear(in_features=4, out_features=128, bias=False)\n",
       "  (1): ReLU()\n",
       "  (2): Linear(in_features=128, out_features=2, bias=False)\n",
       "  (3): Softmax(dim=1)\n",
       ")"
      ]
     },
     "execution_count": 30,
     "metadata": {},
     "output_type": "execute_result"
    }
   ],
   "source": [
    "model"
   ]
  },
  {
   "cell_type": "markdown",
   "metadata": {},
   "source": [
    "We will train the network by running many experiments, and updating our network after each run. Let's define a function that will run the experiment and return the results (so-called **trace**) - all states, actions (and their recommended probabilities), and rewards:"
   ]
  },
  {
   "cell_type": "code",
   "execution_count": 17,
   "metadata": {},
   "outputs": [],
   "source": [
    "def run_episode(env, max_steps_per_episode = 10000,render=False):\n",
    "    if render:\n",
    "        env = gym.wrappers.RecordVideo(env, 'video', \n",
    "        # episode_trigger=lambda x: x == 2\n",
    "        )\n",
    "        env.start_video_recorder()\n",
    "    states, actions, probs, rewards = [],[],[],[]\n",
    "    state, _ = env.reset()\n",
    "    # state -> observation\n",
    "    for _ in range(max_steps_per_episode):\n",
    "        if render:\n",
    "            env.render()\n",
    "        action_probs = model(torch.from_numpy(np.expand_dims(state,0)))[0]\n",
    "        action = np.random.choice(num_actions, p=np.squeeze(action_probs.detach().numpy()))\n",
    "        nstate, reward, done, _, info = env.step(action)\n",
    "        if done:\n",
    "            break\n",
    "        # records states, actions, rewards --> update the policy networks\n",
    "        states.append(state)\n",
    "        actions.append(action)\n",
    "        probs.append(action_probs.detach().numpy())\n",
    "        rewards.append(reward)\n",
    "        state = nstate\n",
    "    \n",
    "    if render:\n",
    "        env.close_video_recorder()\n",
    "\n",
    "    return np.vstack(states), np.vstack(actions), np.vstack(probs), np.vstack(rewards)"
   ]
  },
  {
   "cell_type": "markdown",
   "metadata": {},
   "source": [
    "You can run one episode with untrained network and observe that total reward (AKA length of episode) is very low:"
   ]
  },
  {
   "cell_type": "code",
   "execution_count": 36,
   "metadata": {},
   "outputs": [
    {
     "name": "stderr",
     "output_type": "stream",
     "text": [
      "/home/zeus/miniconda3/envs/cloudspace/lib/python3.10/site-packages/gym/wrappers/record_video.py:75: UserWarning: \u001b[33mWARN: Overwriting existing videos at /teamspace/studios/this_studio/AI-For-Beginners/lessons/6-Other/22-DeepRL/video folder (try specifying a different `video_folder` for the `RecordVideo` wrapper if this is not desired)\u001b[0m\n",
      "  logger.warn(\n"
     ]
    },
    {
     "data": {
      "text/plain": [
       "<RecordVideo<TimeLimit<OrderEnforcing<PassiveEnvChecker<CartPoleEnv<CartPole-v1>>>>>>"
      ]
     },
     "execution_count": 36,
     "metadata": {},
     "output_type": "execute_result"
    }
   ],
   "source": [
    "gym.wrappers.RecordVideo(env, 'video', \n",
    "        # episode_trigger=lambda x: x == 2\n",
    "        )"
   ]
  },
  {
   "cell_type": "code",
   "execution_count": 34,
   "metadata": {},
   "outputs": [
    {
     "name": "stdout",
     "output_type": "stream",
     "text": [
      "Collecting moviepy\n",
      "  Downloading moviepy-2.1.1-py3-none-any.whl.metadata (6.9 kB)\n",
      "Requirement already satisfied: decorator<6.0,>=4.0.2 in /system/conda/miniconda3/envs/cloudspace/lib/python3.10/site-packages (from moviepy) (5.1.1)\n",
      "Collecting imageio<3.0,>=2.5 (from moviepy)\n",
      "  Downloading imageio-2.36.1-py3-none-any.whl.metadata (5.2 kB)\n",
      "Collecting imageio_ffmpeg>=0.2.0 (from moviepy)\n",
      "  Downloading imageio_ffmpeg-0.5.1-py3-none-manylinux2010_x86_64.whl.metadata (1.6 kB)\n",
      "Requirement already satisfied: numpy>=1.25.0 in /system/conda/miniconda3/envs/cloudspace/lib/python3.10/site-packages (from moviepy) (1.26.4)\n",
      "Collecting proglog<=1.0.0 (from moviepy)\n",
      "  Downloading proglog-0.1.10-py3-none-any.whl.metadata (639 bytes)\n",
      "Requirement already satisfied: python-dotenv>=0.10 in /system/conda/miniconda3/envs/cloudspace/lib/python3.10/site-packages (from moviepy) (1.0.1)\n",
      "Collecting pillow<11.0,>=9.2.0 (from moviepy)\n",
      "  Downloading pillow-10.4.0-cp310-cp310-manylinux_2_28_x86_64.whl.metadata (9.2 kB)\n",
      "Requirement already satisfied: setuptools in /system/conda/miniconda3/envs/cloudspace/lib/python3.10/site-packages (from imageio_ffmpeg>=0.2.0->moviepy) (75.1.0)\n",
      "Requirement already satisfied: tqdm in /system/conda/miniconda3/envs/cloudspace/lib/python3.10/site-packages (from proglog<=1.0.0->moviepy) (4.66.6)\n",
      "Downloading moviepy-2.1.1-py3-none-any.whl (123 kB)\n",
      "Downloading imageio-2.36.1-py3-none-any.whl (315 kB)\n",
      "Downloading imageio_ffmpeg-0.5.1-py3-none-manylinux2010_x86_64.whl (26.9 MB)\n",
      "\u001b[2K   \u001b[90m━━━━━━━━━━━━━━━━━━━━━━━━━━━━━━━━━━━━━━━━\u001b[0m \u001b[32m26.9/26.9 MB\u001b[0m \u001b[31m293.2 MB/s\u001b[0m eta \u001b[36m0:00:00\u001b[0m\n",
      "\u001b[?25hDownloading pillow-10.4.0-cp310-cp310-manylinux_2_28_x86_64.whl (4.5 MB)\n",
      "\u001b[2K   \u001b[90m━━━━━━━━━━━━━━━━━━━━━━━━━━━━━━━━━━━━━━━━\u001b[0m \u001b[32m4.5/4.5 MB\u001b[0m \u001b[31m192.9 MB/s\u001b[0m eta \u001b[36m0:00:00\u001b[0m\n",
      "\u001b[?25hDownloading proglog-0.1.10-py3-none-any.whl (6.1 kB)\n",
      "Installing collected packages: proglog, pillow, imageio_ffmpeg, imageio, moviepy\n",
      "  Attempting uninstall: pillow\n",
      "    Found existing installation: pillow 11.0.0\n",
      "    Uninstalling pillow-11.0.0:\n",
      "      Successfully uninstalled pillow-11.0.0\n",
      "\u001b[31mERROR: pip's dependency resolver does not currently take into account all the packages that are installed. This behaviour is the source of the following dependency conflicts.\n",
      "torchvision 0.17.1+cu121 requires torch==2.2.1, but you have torch 1.13.1 which is incompatible.\u001b[0m\u001b[31m\n",
      "\u001b[0mSuccessfully installed imageio-2.36.1 imageio_ffmpeg-0.5.1 moviepy-2.1.1 pillow-10.4.0 proglog-0.1.10\n"
     ]
    }
   ],
   "source": [
    "!pip install moviepy"
   ]
  },
  {
   "cell_type": "code",
   "execution_count": 27,
   "metadata": {},
   "outputs": [
    {
     "data": {
      "text/plain": [
       "(array([[-4.8146378e-03, -7.6815011e-03, -4.1892648e-02,  2.6587080e-02],\n",
       "        [-4.9682679e-03,  1.8801540e-01, -4.1360907e-02, -2.7901357e-01],\n",
       "        [-1.2079600e-03, -6.4928532e-03, -4.6941180e-02,  3.4265337e-04],\n",
       "        [-1.3378171e-03,  1.8926978e-01, -4.6934325e-02, -3.0677348e-01],\n",
       "        [ 2.4475786e-03,  3.8502800e-01, -5.3069796e-02, -6.1388111e-01],\n",
       "        [ 1.0148139e-02,  5.8084983e-01, -6.5347418e-02, -9.2279547e-01],\n",
       "        [ 2.1765135e-02,  7.7679086e-01, -8.3803326e-02, -1.2352782e+00],\n",
       "        [ 3.7300952e-02,  5.8284003e-01, -1.0850889e-01, -9.6998221e-01],\n",
       "        [ 4.8957754e-02,  7.7923799e-01, -1.2790853e-01, -1.2946856e+00],\n",
       "        [ 6.4542510e-02,  5.8595204e-01, -1.5380225e-01, -1.0446278e+00],\n",
       "        [ 7.6261550e-02,  7.8274405e-01, -1.7469481e-01, -1.3813711e+00]],\n",
       "       dtype=float32),\n",
       " array([[1],\n",
       "        [0],\n",
       "        [1],\n",
       "        [1],\n",
       "        [1],\n",
       "        [1],\n",
       "        [0],\n",
       "        [1],\n",
       "        [0],\n",
       "        [1],\n",
       "        [1]]),\n",
       " array([[0.49736503, 0.502635  ],\n",
       "        [0.47240523, 0.52759475],\n",
       "        [0.49698004, 0.5030199 ],\n",
       "        [0.4705986 , 0.52940136],\n",
       "        [0.440547  , 0.559453  ],\n",
       "        [0.41088757, 0.5891124 ],\n",
       "        [0.3817052 , 0.6182948 ],\n",
       "        [0.4083789 , 0.5916211 ],\n",
       "        [0.37856928, 0.6214307 ],\n",
       "        [0.404007  , 0.59599304],\n",
       "        [0.3737198 , 0.6262802 ]], dtype=float32),\n",
       " array([[1.],\n",
       "        [1.],\n",
       "        [1.],\n",
       "        [1.],\n",
       "        [1.],\n",
       "        [1.],\n",
       "        [1.],\n",
       "        [1.],\n",
       "        [1.],\n",
       "        [1.],\n",
       "        [1.]]),\n",
       " 11)"
      ]
     },
     "execution_count": 27,
     "metadata": {},
     "output_type": "execute_result"
    }
   ],
   "source": [
    "# env = gym.make(\"CartPole-v1\", render_mode=\"rgb_array\")\n",
    "env.reset()\n",
    "\n",
    "s, a, p, r = run_episode(env, render=False)\n",
    "# print(f\"Total reward: {np.sum(r)}\")\n",
    "s, a, p, r, len(s)"
   ]
  },
  {
   "cell_type": "markdown",
   "metadata": {},
   "source": [
    "One of the tricky aspects of policy gradient algorithm is to use **discounted rewards**. The idea is that we compute the vector of total rewards at each step of the game, and during this process we discount the early rewards using some coefficient $gamma$. We also normalize the resulting vector, because we will use it as weight to affect our training: "
   ]
  },
  {
   "cell_type": "code",
   "execution_count": 31,
   "metadata": {},
   "outputs": [
    {
     "data": {
      "text/plain": [
       "(11, 1)"
      ]
     },
     "execution_count": 31,
     "metadata": {},
     "output_type": "execute_result"
    }
   ],
   "source": [
    "r.shape"
   ]
  },
  {
   "cell_type": "code",
   "execution_count": 25,
   "metadata": {},
   "outputs": [
    {
     "data": {
      "text/plain": [
       "[array([22.99568542]),\n",
       " array([22.21786406]),\n",
       " array([21.43218592]),\n",
       " array([20.63857164]),\n",
       " array([19.83694105]),\n",
       " array([19.02721318]),\n",
       " array([18.20930624]),\n",
       " array([17.38313762]),\n",
       " array([16.54862385]),\n",
       " array([15.70568066]),\n",
       " array([14.85422289]),\n",
       " array([13.99416454]),\n",
       " array([13.12541872]),\n",
       " array([12.2478977]),\n",
       " array([11.36151283]),\n",
       " array([10.46617457]),\n",
       " array([9.5617925]),\n",
       " array([8.64827525]),\n",
       " array([7.72553056]),\n",
       " array([6.79346521]),\n",
       " array([5.85198506]),\n",
       " array([4.90099501]),\n",
       " array([3.940399]),\n",
       " array([2.9701]),\n",
       " array([1.99]),\n",
       " array([1.])]"
      ]
     },
     "execution_count": 25,
     "metadata": {},
     "output_type": "execute_result"
    }
   ],
   "source": [
    "discounted_rewards(r, normalize=False)"
   ]
  },
  {
   "cell_type": "code",
   "execution_count": 23,
   "metadata": {},
   "outputs": [],
   "source": [
    "eps = 0.0001\n",
    "\n",
    "def discounted_rewards(rewards,gamma=0.99,normalize=True):\n",
    "    ret = []\n",
    "    s = 0\n",
    "    for r in rewards[::-1]:\n",
    "        s = r + gamma * s\n",
    "        ret.insert(0, s)\n",
    "    if normalize:\n",
    "        ret = (ret-np.mean(ret))/(np.std(ret)+eps)\n",
    "    return ret"
   ]
  },
  {
   "cell_type": "markdown",
   "metadata": {},
   "source": [
    "Now let's do the actual training! We will run 300 episodes, and at each episode we will do the following:\n",
    "\n",
    "1. Run the experiment and collect the trace\n",
    "1. Calculate the difference (`gradients`) between the actions taken, and by predicted probabilities. The less the difference is, the more we are sure that we have taken the right action.\n",
    "1. Calculate discounted rewards and multiply gradients by discounted rewards - that will make sure that steps with higher rewards will make more effect on the final result than lower-rewarded ones\n",
    "1. Expected target actions for our neural network would be partly taken from the predicted probabilities during the run, and partly from calculated gradients. We will use `alpha` parameter to determine to which extent gradients and rewards are taken into account - this is called *learning rate* of reinforcement algorithm.\n",
    "1. Finally, we train our network on states and expected actions, and repeat the process "
   ]
  },
  {
   "cell_type": "code",
   "execution_count": 28,
   "metadata": {},
   "outputs": [],
   "source": [
    "optimizer = torch.optim.Adam(model.parameters(), lr=0.01)\n",
    "\n",
    "def train_on_batch(x, y):\n",
    "    x = torch.from_numpy(x)\n",
    "    y = torch.from_numpy(y)\n",
    "    optimizer.zero_grad()\n",
    "    predictions = model(x)\n",
    "    loss = -torch.mean(torch.log(predictions) * y)\n",
    "    loss.backward()\n",
    "    optimizer.step()\n",
    "    return loss"
   ]
  },
  {
   "cell_type": "code",
   "execution_count": 29,
   "metadata": {},
   "outputs": [
    {
     "name": "stdout",
     "output_type": "stream",
     "text": [
      "0 -> 42.0\n",
      "100 -> 189.0\n"
     ]
    },
    {
     "name": "stdout",
     "output_type": "stream",
     "text": [
      "200 -> 1000.0\n"
     ]
    },
    {
     "data": {
      "text/plain": [
       "[<matplotlib.lines.Line2D at 0x7fd92c219510>]"
      ]
     },
     "execution_count": 29,
     "metadata": {},
     "output_type": "execute_result"
    },
    {
     "data": {
      "image/png": "[encoded data removed]",
      "text/plain": [
       "<Figure size 640x480 with 1 Axes>"
      ]
     },
     "metadata": {},
     "output_type": "display_data"
    }
   ],
   "source": [
    "alpha = 1e-4\n",
    "\n",
    "history = []\n",
    "for epoch in range(300):\n",
    "    states, actions, probs, rewards = run_episode(env, 1000)\n",
    "\n",
    "    # actions -> labels \n",
    "    one_hot_actions = np.eye(2)[actions.T][0]\n",
    "\n",
    "    # gradients -> labels (actions) - probs (outputs)\n",
    "    gradients = one_hot_actions-probs\n",
    "    dr = discounted_rewards(rewards)\n",
    "    gradients *= dr\n",
    "    # gradients = gradients * discounted_rewards\n",
    "    target = alpha*np.vstack([gradients])+probs\n",
    "    train_on_batch(states,target)\n",
    "    history.append(np.sum(rewards))\n",
    "    if epoch%100==0:\n",
    "        print(f\"{epoch} -> {np.sum(rewards)}\")\n",
    "\n",
    "plt.plot(history)"
   ]
  },
  {
   "cell_type": "markdown",
   "metadata": {},
   "source": [
    "Now let's run the episode with rendering to see the result:"
   ]
  },
  {
   "cell_type": "code",
   "execution_count": null,
   "metadata": {},
   "outputs": [],
   "source": [
    "_ = run_episode(render=True)"
   ]
  },
  {
   "cell_type": "markdown",
   "metadata": {},
   "source": [
    "Hopefully, you can see that pole can now balance pretty well!\n",
    "\n",
    "## Actor-Critic Model\n",
    "\n",
    "Actor-Critic model is the further development of policy gradients, in which we build a neural network to learn both the policy and estimated rewards. The network will have two outputs (or you can view it as two separate networks):\n",
    "* **Actor** will recommend the action to take by giving us the state probability distribution, as in policy gradient model\n",
    "* **Critic** would estimate what the reward would be from those actions. It returns total estimated rewards in the future at the given state.\n",
    "\n",
    "Let's define such a model: "
   ]
  },
  {
   "cell_type": "code",
   "execution_count": 40,
   "metadata": {},
   "outputs": [],
   "source": [
    "from itertools import count\n",
    "import torch.nn.functional as F"
   ]
  },
  {
   "cell_type": "code",
   "execution_count": 41,
   "metadata": {},
   "outputs": [],
   "source": [
    "device = torch.device(\"cuda\" if torch.cuda.is_available() else \"cpu\")\n",
    "env = gym.make(\"CartPole-v1\")\n",
    "\n",
    "state_size = env.observation_space.shape[0]\n",
    "action_size = env.action_space.n\n",
    "lr = 0.0001\n",
    "\n",
    "# policy network model: model (4 inputs, 2 outputs)\n",
    "class Actor(torch.nn.Module):\n",
    "    def __init__(self, state_size, action_size):\n",
    "        super(Actor, self).__init__()\n",
    "        self.state_size = state_size\n",
    "        self.action_size = action_size\n",
    "        self.linear1 = torch.nn.Linear(self.state_size, 128)\n",
    "        self.linear2 = torch.nn.Linear(128, 256)\n",
    "        self.linear3 = torch.nn.Linear(256, self.action_size)\n",
    "\n",
    "    def forward(self, state):\n",
    "        output = F.relu(self.linear1(state))\n",
    "        output = F.relu(self.linear2(output))\n",
    "        output = self.linear3(output)\n",
    "        distribution = torch.distributions.Categorical(F.softmax(output, dim=-1))\n",
    "        return distribution\n",
    "\n",
    "# estimate value function: estimate total reward at each observation: model (4 inputs, 1 output)\n",
    "class Critic(torch.nn.Module):\n",
    "    def __init__(self, state_size, action_size):\n",
    "        super(Critic, self).__init__()\n",
    "        self.state_size = state_size\n",
    "        self.action_size = action_size\n",
    "        self.linear1 = torch.nn.Linear(self.state_size, 128)\n",
    "        self.linear2 = torch.nn.Linear(128, 256)\n",
    "        self.linear3 = torch.nn.Linear(256, 1)\n",
    "\n",
    "    def forward(self, state):\n",
    "        output = F.relu(self.linear1(state))\n",
    "        output = F.relu(self.linear2(output))\n",
    "        value = self.linear3(output)\n",
    "        return value"
   ]
  },
  {
   "cell_type": "markdown",
   "metadata": {},
   "source": [
    "We would need to slightly modify our `discounted_rewards` and `run_episode` functions:"
   ]
  },
  {
   "cell_type": "code",
   "execution_count": 46,
   "metadata": {},
   "outputs": [],
   "source": [
    "def discounted_rewards(next_value, rewards, masks, gamma=0.99):\n",
    "    R = next_value\n",
    "    returns = []\n",
    "    for step in reversed(range(len(rewards))):\n",
    "        R = rewards[step] + gamma * R * masks[step]\n",
    "        returns.insert(0, R)\n",
    "    return returns\n",
    "\n",
    "def run_episode(actor, critic, n_iters):\n",
    "    # env.start_video_recorder()\n",
    "    optimizerA = torch.optim.Adam(actor.parameters())\n",
    "    optimizerC = torch.optim.Adam(critic.parameters())\n",
    "    scores = []\n",
    "    for iter in range(n_iters):\n",
    "        state, _ = env.reset()\n",
    "        log_probs = []\n",
    "        values = []\n",
    "        rewards = []\n",
    "        masks = []\n",
    "        entropy = 0\n",
    "        env.reset()\n",
    "\n",
    "        i = 0\n",
    "        while True:\n",
    "            env.render()\n",
    "            state = torch.FloatTensor(state).to(device)\n",
    "            dist, value = actor(state), critic(state)\n",
    "\n",
    "            action = dist.sample()\n",
    "            next_state, reward, done, _, _ = env.step(action.cpu().numpy())\n",
    "\n",
    "            log_prob = dist.log_prob(action).unsqueeze(0)\n",
    "            entropy += dist.entropy().mean()\n",
    "\n",
    "            log_probs.append(log_prob)\n",
    "            values.append(value)\n",
    "            rewards.append(torch.tensor([reward], dtype=torch.float, device=device))\n",
    "            masks.append(torch.tensor([1-done], dtype=torch.float, device=device))\n",
    "\n",
    "            state = next_state\n",
    "\n",
    "            if done:\n",
    "                print('Iteration: {}, Score: {}'.format(iter, i))\n",
    "                break\n",
    "            i+=1\n",
    "        scores.append(i)\n",
    "\n",
    "        next_state = torch.FloatTensor(next_state).to(device)\n",
    "        next_value = critic(next_state)\n",
    "        returns = discounted_rewards(next_value, rewards, masks)\n",
    "\n",
    "        log_probs = torch.cat(log_probs)\n",
    "        returns = torch.cat(returns).detach()\n",
    "        values = torch.cat(values)\n",
    "\n",
    "        advantage = returns - values\n",
    "\n",
    "        actor_loss = -(log_probs * advantage.detach()).mean() # cross entropy error (log_probs (target)) : positive or negative\n",
    "        critic_loss = advantage.pow(2).mean() # mean squared error (discounted_rewards (target), values (output_estimation))\n",
    "\n",
    "        optimizerA.zero_grad()\n",
    "        optimizerC.zero_grad()\n",
    "        actor_loss.backward()\n",
    "        critic_loss.backward()\n",
    "        optimizerA.step()\n",
    "        optimizerC.step()\n",
    "    return scores\n"
   ]
  },
  {
   "cell_type": "markdown",
   "metadata": {},
   "source": [
    "Now we will run the main training loop. We will use manual network training process by computing proper loss functions and updating network parameters:"
   ]
  },
  {
   "cell_type": "code",
   "execution_count": 48,
   "metadata": {},
   "outputs": [
    {
     "data": {
      "text/plain": [
       "[<matplotlib.lines.Line2D at 0x7fd927faa230>]"
      ]
     },
     "execution_count": 48,
     "metadata": {},
     "output_type": "execute_result"
    },
    {
     "data": {
      "image/png": "[encoded data removed]",
      "text/plain": [
       "<Figure size 640x480 with 1 Axes>"
      ]
     },
     "metadata": {},
     "output_type": "display_data"
    }
   ],
   "source": [
    "plt.plot(scores)"
   ]
  },
  {
   "cell_type": "code",
   "execution_count": 49,
   "metadata": {},
   "outputs": [
    {
     "name": "stderr",
     "output_type": "stream",
     "text": [
      "/home/zeus/miniconda3/envs/cloudspace/lib/python3.10/site-packages/gym/envs/classic_control/cartpole.py:211: UserWarning: \u001b[33mWARN: You are calling render method without specifying any render mode. You can specify the render_mode at initialization, e.g. gym(\"CartPole-v1\", render_mode=\"rgb_array\")\u001b[0m\n",
      "  gym.logger.warn(\n"
     ]
    },
    {
     "name": "stdout",
     "output_type": "stream",
     "text": [
      "Iteration: 0, Score: 14\n",
      "Iteration: 1, Score: 42\n",
      "Iteration: 2, Score: 24\n",
      "Iteration: 3, Score: 27\n",
      "Iteration: 4, Score: 18\n",
      "Iteration: 5, Score: 8\n",
      "Iteration: 6, Score: 18\n",
      "Iteration: 7, Score: 18\n",
      "Iteration: 8, Score: 11\n",
      "Iteration: 9, Score: 19\n",
      "Iteration: 10, Score: 34\n",
      "Iteration: 11, Score: 61\n",
      "Iteration: 12, Score: 15\n",
      "Iteration: 13, Score: 86\n",
      "Iteration: 14, Score: 24\n",
      "Iteration: 15, Score: 20\n",
      "Iteration: 16, Score: 9\n",
      "Iteration: 17, Score: 16\n",
      "Iteration: 18, Score: 14\n",
      "Iteration: 19, Score: 13\n",
      "Iteration: 20, Score: 14\n",
      "Iteration: 21, Score: 11\n",
      "Iteration: 22, Score: 11\n",
      "Iteration: 23, Score: 17\n",
      "Iteration: 24, Score: 9\n",
      "Iteration: 25, Score: 16\n",
      "Iteration: 26, Score: 24\n",
      "Iteration: 27, Score: 38\n",
      "Iteration: 28, Score: 15\n",
      "Iteration: 29, Score: 28\n",
      "Iteration: 30, Score: 9\n",
      "Iteration: 31, Score: 15\n",
      "Iteration: 32, Score: 23\n",
      "Iteration: 33, Score: 49\n",
      "Iteration: 34, Score: 15\n",
      "Iteration: 35, Score: 18\n",
      "Iteration: 36, Score: 12\n",
      "Iteration: 37, Score: 24\n",
      "Iteration: 38, Score: 37\n",
      "Iteration: 39, Score: 11\n",
      "Iteration: 40, Score: 32\n",
      "Iteration: 41, Score: 12\n",
      "Iteration: 42, Score: 16\n",
      "Iteration: 43, Score: 12\n",
      "Iteration: 44, Score: 17\n",
      "Iteration: 45, Score: 10\n",
      "Iteration: 46, Score: 13\n",
      "Iteration: 47, Score: 17\n",
      "Iteration: 48, Score: 36\n",
      "Iteration: 49, Score: 14\n",
      "Iteration: 50, Score: 14\n",
      "Iteration: 51, Score: 25\n",
      "Iteration: 52, Score: 33\n",
      "Iteration: 53, Score: 34\n",
      "Iteration: 54, Score: 12\n",
      "Iteration: 55, Score: 61\n",
      "Iteration: 56, Score: 18\n",
      "Iteration: 57, Score: 20\n",
      "Iteration: 58, Score: 47\n",
      "Iteration: 59, Score: 22\n",
      "Iteration: 60, Score: 18\n",
      "Iteration: 61, Score: 19\n",
      "Iteration: 62, Score: 46\n",
      "Iteration: 63, Score: 21\n",
      "Iteration: 64, Score: 51\n",
      "Iteration: 65, Score: 18\n",
      "Iteration: 66, Score: 34\n",
      "Iteration: 67, Score: 32\n",
      "Iteration: 68, Score: 14\n",
      "Iteration: 69, Score: 19\n",
      "Iteration: 70, Score: 32\n",
      "Iteration: 71, Score: 26\n",
      "Iteration: 72, Score: 39\n",
      "Iteration: 73, Score: 31\n",
      "Iteration: 74, Score: 23\n",
      "Iteration: 75, Score: 60\n",
      "Iteration: 76, Score: 23\n",
      "Iteration: 77, Score: 31\n",
      "Iteration: 78, Score: 59\n",
      "Iteration: 79, Score: 46\n",
      "Iteration: 80, Score: 13\n",
      "Iteration: 81, Score: 138\n",
      "Iteration: 82, Score: 127\n",
      "Iteration: 83, Score: 19\n",
      "Iteration: 84, Score: 30\n",
      "Iteration: 85, Score: 167\n",
      "Iteration: 86, Score: 128\n",
      "Iteration: 87, Score: 50\n",
      "Iteration: 88, Score: 76\n",
      "Iteration: 89, Score: 80\n",
      "Iteration: 90, Score: 40\n",
      "Iteration: 91, Score: 45\n",
      "Iteration: 92, Score: 32\n",
      "Iteration: 93, Score: 84\n",
      "Iteration: 94, Score: 86\n",
      "Iteration: 95, Score: 266\n",
      "Iteration: 96, Score: 74\n",
      "Iteration: 97, Score: 91\n",
      "Iteration: 98, Score: 37\n",
      "Iteration: 99, Score: 110\n",
      "Iteration: 100, Score: 172\n",
      "Iteration: 101, Score: 53\n",
      "Iteration: 102, Score: 126\n"
     ]
    },
    {
     "name": "stdout",
     "output_type": "stream",
     "text": [
      "Iteration: 103, Score: 105\n",
      "Iteration: 104, Score: 71\n",
      "Iteration: 105, Score: 111\n",
      "Iteration: 106, Score: 200\n",
      "Iteration: 107, Score: 91\n",
      "Iteration: 108, Score: 160\n",
      "Iteration: 109, Score: 110\n",
      "Iteration: 110, Score: 111\n",
      "Iteration: 111, Score: 165\n",
      "Iteration: 112, Score: 79\n",
      "Iteration: 113, Score: 115\n",
      "Iteration: 114, Score: 167\n",
      "Iteration: 115, Score: 72\n",
      "Iteration: 116, Score: 118\n",
      "Iteration: 117, Score: 101\n",
      "Iteration: 118, Score: 185\n",
      "Iteration: 119, Score: 172\n",
      "Iteration: 120, Score: 263\n",
      "Iteration: 121, Score: 137\n",
      "Iteration: 122, Score: 184\n",
      "Iteration: 123, Score: 136\n",
      "Iteration: 124, Score: 252\n",
      "Iteration: 125, Score: 219\n",
      "Iteration: 126, Score: 176\n",
      "Iteration: 127, Score: 201\n",
      "Iteration: 128, Score: 335\n",
      "Iteration: 129, Score: 225\n",
      "Iteration: 130, Score: 289\n",
      "Iteration: 131, Score: 332\n",
      "Iteration: 132, Score: 425\n",
      "Iteration: 133, Score: 505\n",
      "Iteration: 134, Score: 522\n",
      "Iteration: 135, Score: 374\n",
      "Iteration: 136, Score: 185\n",
      "Iteration: 137, Score: 227\n",
      "Iteration: 138, Score: 361\n",
      "Iteration: 139, Score: 241\n",
      "Iteration: 140, Score: 340\n",
      "Iteration: 141, Score: 579\n",
      "Iteration: 142, Score: 206\n",
      "Iteration: 143, Score: 195\n",
      "Iteration: 144, Score: 237\n",
      "Iteration: 145, Score: 819\n",
      "Iteration: 146, Score: 513\n",
      "Iteration: 147, Score: 169\n",
      "Iteration: 148, Score: 256\n",
      "Iteration: 149, Score: 187\n",
      "Iteration: 150, Score: 147\n",
      "Iteration: 151, Score: 131\n",
      "Iteration: 152, Score: 193\n",
      "Iteration: 153, Score: 253\n",
      "Iteration: 154, Score: 199\n",
      "Iteration: 155, Score: 138\n",
      "Iteration: 156, Score: 300\n",
      "Iteration: 157, Score: 467\n",
      "Iteration: 158, Score: 441\n",
      "Iteration: 159, Score: 138\n",
      "Iteration: 160, Score: 119\n",
      "Iteration: 161, Score: 689\n",
      "Iteration: 162, Score: 335\n",
      "Iteration: 163, Score: 456\n",
      "Iteration: 164, Score: 509\n",
      "Iteration: 165, Score: 75\n",
      "Iteration: 166, Score: 175\n",
      "Iteration: 167, Score: 347\n",
      "Iteration: 168, Score: 224\n",
      "Iteration: 169, Score: 267\n",
      "Iteration: 170, Score: 189\n",
      "Iteration: 171, Score: 112\n",
      "Iteration: 172, Score: 249\n",
      "Iteration: 173, Score: 154\n",
      "Iteration: 174, Score: 167\n",
      "Iteration: 175, Score: 211\n",
      "Iteration: 176, Score: 277\n",
      "Iteration: 177, Score: 216\n",
      "Iteration: 178, Score: 182\n",
      "Iteration: 179, Score: 188\n",
      "Iteration: 180, Score: 178\n",
      "Iteration: 181, Score: 248\n",
      "Iteration: 182, Score: 165\n",
      "Iteration: 183, Score: 255\n",
      "Iteration: 184, Score: 496\n",
      "Iteration: 185, Score: 383\n",
      "Iteration: 186, Score: 234\n",
      "Iteration: 187, Score: 1285\n",
      "Iteration: 188, Score: 322\n",
      "Iteration: 189, Score: 340\n",
      "Iteration: 190, Score: 326\n",
      "Iteration: 191, Score: 389\n",
      "Iteration: 192, Score: 407\n",
      "Iteration: 193, Score: 601\n",
      "Iteration: 194, Score: 270\n",
      "Iteration: 195, Score: 282\n",
      "Iteration: 196, Score: 232\n",
      "Iteration: 197, Score: 217\n",
      "Iteration: 198, Score: 209\n",
      "Iteration: 199, Score: 230\n",
      "Iteration: 200, Score: 223\n",
      "Iteration: 201, Score: 272\n",
      "Iteration: 202, Score: 1292\n",
      "Iteration: 203, Score: 728\n",
      "Iteration: 204, Score: 697\n",
      "Iteration: 205, Score: 1013\n",
      "Iteration: 206, Score: 1425\n",
      "Iteration: 207, Score: 2292\n",
      "Iteration: 208, Score: 2299\n",
      "Iteration: 209, Score: 4152\n",
      "Iteration: 210, Score: 1294\n",
      "Iteration: 211, Score: 1371\n",
      "Iteration: 212, Score: 567\n",
      "Iteration: 213, Score: 374\n",
      "Iteration: 214, Score: 707\n",
      "Iteration: 215, Score: 205\n",
      "Iteration: 216, Score: 235\n",
      "Iteration: 217, Score: 567\n",
      "Iteration: 218, Score: 2473\n",
      "Iteration: 219, Score: 20913\n",
      "Iteration: 220, Score: 3269\n",
      "Iteration: 221, Score: 1232\n",
      "Iteration: 222, Score: 1183\n",
      "Iteration: 223, Score: 1084\n",
      "Iteration: 224, Score: 467\n",
      "Iteration: 225, Score: 687\n",
      "Iteration: 226, Score: 516\n",
      "Iteration: 227, Score: 527\n",
      "Iteration: 228, Score: 1429\n",
      "Iteration: 229, Score: 986\n",
      "Iteration: 230, Score: 546\n",
      "Iteration: 231, Score: 2214\n",
      "Iteration: 232, Score: 3408\n",
      "Iteration: 233, Score: 903\n",
      "Iteration: 234, Score: 4138\n",
      "Iteration: 235, Score: 176\n",
      "Iteration: 236, Score: 3733\n",
      "Iteration: 237, Score: 5934\n",
      "Iteration: 238, Score: 9104\n",
      "Iteration: 239, Score: 1876\n",
      "Iteration: 240, Score: 1706\n",
      "Iteration: 241, Score: 7744\n",
      "Iteration: 242, Score: 4671\n",
      "Iteration: 243, Score: 2806\n",
      "Iteration: 244, Score: 2935\n",
      "Iteration: 245, Score: 541\n",
      "Iteration: 246, Score: 1206\n",
      "Iteration: 247, Score: 1551\n",
      "Iteration: 248, Score: 1084\n",
      "Iteration: 249, Score: 1333\n",
      "Iteration: 250, Score: 1498\n",
      "Iteration: 251, Score: 1126\n",
      "Iteration: 252, Score: 469\n",
      "Iteration: 253, Score: 2017\n",
      "Iteration: 254, Score: 2282\n",
      "Iteration: 255, Score: 8987\n",
      "Iteration: 256, Score: 2706\n",
      "Iteration: 257, Score: 3730\n",
      "Iteration: 258, Score: 1487\n",
      "Iteration: 259, Score: 2311\n",
      "Iteration: 260, Score: 3773\n",
      "Iteration: 261, Score: 2035\n",
      "Iteration: 262, Score: 1266\n"
     ]
    },
    {
     "ename": "KeyboardInterrupt",
     "evalue": "",
     "output_type": "error",
     "traceback": [
      "\u001b[0;31m---------------------------------------------------------------------------\u001b[0m",
      "\u001b[0;31mKeyboardInterrupt\u001b[0m                         Traceback (most recent call last)",
      "Cell \u001b[0;32mIn[49], line 8\u001b[0m\n\u001b[1;32m      6\u001b[0m max_score_eps \u001b[38;5;241m=\u001b[39m []\n\u001b[1;32m      7\u001b[0m \u001b[38;5;28;01mfor\u001b[39;00m epoch \u001b[38;5;129;01min\u001b[39;00m \u001b[38;5;28mrange\u001b[39m(\u001b[38;5;241m20\u001b[39m):\n\u001b[0;32m----> 8\u001b[0m     scores \u001b[38;5;241m=\u001b[39m \u001b[43mrun_episode\u001b[49m\u001b[43m(\u001b[49m\u001b[43mactor\u001b[49m\u001b[43m,\u001b[49m\u001b[43m \u001b[49m\u001b[43mcritic\u001b[49m\u001b[43m,\u001b[49m\u001b[43m \u001b[49m\u001b[43mn_iters\u001b[49m\u001b[38;5;241;43m=\u001b[39;49m\u001b[38;5;241;43m1000\u001b[39;49m\u001b[43m)\u001b[49m\n\u001b[1;32m      9\u001b[0m     max_score_eps\u001b[38;5;241m.\u001b[39mappend(\u001b[38;5;28mmax\u001b[39m(scores))\n",
      "Cell \u001b[0;32mIn[46], line 32\u001b[0m, in \u001b[0;36mrun_episode\u001b[0;34m(actor, critic, n_iters)\u001b[0m\n\u001b[1;32m     29\u001b[0m action \u001b[38;5;241m=\u001b[39m dist\u001b[38;5;241m.\u001b[39msample()\n\u001b[1;32m     30\u001b[0m next_state, reward, done, _, _ \u001b[38;5;241m=\u001b[39m env\u001b[38;5;241m.\u001b[39mstep(action\u001b[38;5;241m.\u001b[39mcpu()\u001b[38;5;241m.\u001b[39mnumpy())\n\u001b[0;32m---> 32\u001b[0m log_prob \u001b[38;5;241m=\u001b[39m \u001b[43mdist\u001b[49m\u001b[38;5;241;43m.\u001b[39;49m\u001b[43mlog_prob\u001b[49m\u001b[43m(\u001b[49m\u001b[43maction\u001b[49m\u001b[43m)\u001b[49m\u001b[38;5;241m.\u001b[39munsqueeze(\u001b[38;5;241m0\u001b[39m)\n\u001b[1;32m     33\u001b[0m entropy \u001b[38;5;241m+\u001b[39m\u001b[38;5;241m=\u001b[39m dist\u001b[38;5;241m.\u001b[39mentropy()\u001b[38;5;241m.\u001b[39mmean()\n\u001b[1;32m     35\u001b[0m log_probs\u001b[38;5;241m.\u001b[39mappend(log_prob)\n",
      "File \u001b[0;32m/home/zeus/miniconda3/envs/cloudspace/lib/python3.10/site-packages/torch/distributions/categorical.py:123\u001b[0m, in \u001b[0;36mCategorical.log_prob\u001b[0;34m(self, value)\u001b[0m\n\u001b[1;32m    121\u001b[0m \u001b[38;5;28;01mdef\u001b[39;00m \u001b[38;5;21mlog_prob\u001b[39m(\u001b[38;5;28mself\u001b[39m, value):\n\u001b[1;32m    122\u001b[0m     \u001b[38;5;28;01mif\u001b[39;00m \u001b[38;5;28mself\u001b[39m\u001b[38;5;241m.\u001b[39m_validate_args:\n\u001b[0;32m--> 123\u001b[0m         \u001b[38;5;28;43mself\u001b[39;49m\u001b[38;5;241;43m.\u001b[39;49m\u001b[43m_validate_sample\u001b[49m\u001b[43m(\u001b[49m\u001b[43mvalue\u001b[49m\u001b[43m)\u001b[49m\n\u001b[1;32m    124\u001b[0m     value \u001b[38;5;241m=\u001b[39m value\u001b[38;5;241m.\u001b[39mlong()\u001b[38;5;241m.\u001b[39munsqueeze(\u001b[38;5;241m-\u001b[39m\u001b[38;5;241m1\u001b[39m)\n\u001b[1;32m    125\u001b[0m     value, log_pmf \u001b[38;5;241m=\u001b[39m torch\u001b[38;5;241m.\u001b[39mbroadcast_tensors(value, \u001b[38;5;28mself\u001b[39m\u001b[38;5;241m.\u001b[39mlogits)\n",
      "File \u001b[0;32m/home/zeus/miniconda3/envs/cloudspace/lib/python3.10/site-packages/torch/distributions/distribution.py:293\u001b[0m, in \u001b[0;36mDistribution._validate_sample\u001b[0;34m(self, value)\u001b[0m\n\u001b[1;32m    291\u001b[0m \u001b[38;5;28;01massert\u001b[39;00m support \u001b[38;5;129;01mis\u001b[39;00m \u001b[38;5;129;01mnot\u001b[39;00m \u001b[38;5;28;01mNone\u001b[39;00m\n\u001b[1;32m    292\u001b[0m valid \u001b[38;5;241m=\u001b[39m support\u001b[38;5;241m.\u001b[39mcheck(value)\n\u001b[0;32m--> 293\u001b[0m \u001b[38;5;28;01mif\u001b[39;00m \u001b[38;5;129;01mnot\u001b[39;00m \u001b[43mvalid\u001b[49m\u001b[38;5;241;43m.\u001b[39;49m\u001b[43mall\u001b[49m\u001b[43m(\u001b[49m\u001b[43m)\u001b[49m:\n\u001b[1;32m    294\u001b[0m     \u001b[38;5;28;01mraise\u001b[39;00m \u001b[38;5;167;01mValueError\u001b[39;00m(\n\u001b[1;32m    295\u001b[0m         \u001b[38;5;124m\"\u001b[39m\u001b[38;5;124mExpected value argument \u001b[39m\u001b[38;5;124m\"\u001b[39m\n\u001b[1;32m    296\u001b[0m         \u001b[38;5;124mf\u001b[39m\u001b[38;5;124m\"\u001b[39m\u001b[38;5;124m(\u001b[39m\u001b[38;5;132;01m{\u001b[39;00m\u001b[38;5;28mtype\u001b[39m(value)\u001b[38;5;241m.\u001b[39m\u001b[38;5;18m__name__\u001b[39m\u001b[38;5;132;01m}\u001b[39;00m\u001b[38;5;124m of shape \u001b[39m\u001b[38;5;132;01m{\u001b[39;00m\u001b[38;5;28mtuple\u001b[39m(value\u001b[38;5;241m.\u001b[39mshape)\u001b[38;5;132;01m}\u001b[39;00m\u001b[38;5;124m) \u001b[39m\u001b[38;5;124m\"\u001b[39m\n\u001b[0;32m   (...)\u001b[0m\n\u001b[1;32m    299\u001b[0m         \u001b[38;5;124mf\u001b[39m\u001b[38;5;124m\"\u001b[39m\u001b[38;5;124mbut found invalid values:\u001b[39m\u001b[38;5;130;01m\\n\u001b[39;00m\u001b[38;5;132;01m{\u001b[39;00mvalue\u001b[38;5;132;01m}\u001b[39;00m\u001b[38;5;124m\"\u001b[39m\n\u001b[1;32m    300\u001b[0m     )\n",
      "\u001b[0;31mKeyboardInterrupt\u001b[0m: "
     ]
    }
   ],
   "source": [
    "\n",
    "device = 'cpu'\n",
    "actor = Actor(state_size, action_size).to(device)\n",
    "critic = Critic(state_size, action_size).to(device)\n",
    "# scores = run_episode(actor, critic, n_iters=100)\n",
    "\n",
    "max_score_eps = []\n",
    "for epoch in range(20):\n",
    "    scores = run_episode(actor, critic, n_iters=1000)\n",
    "    max_score_eps.append(max(scores))"
   ]
  },
  {
   "cell_type": "markdown",
   "metadata": {},
   "source": [
    "Finally, let's close the environment."
   ]
  },
  {
   "cell_type": "code",
   "execution_count": null,
   "metadata": {},
   "outputs": [],
   "source": [
    "env.close()"
   ]
  },
  {
   "cell_type": "markdown",
   "metadata": {},
   "source": [
    "## Takeaway\n",
    "\n",
    "We have seen two RL algorithms in this demo: simple policy gradient, and more sophisticated actor-critic. You can see that those algorithms operate with abstract notions of state, action and reward - thus they can be applied to very different environments.\n",
    "\n",
    "Reinforcement learning allows us to learn the best strategy to solve the problem just by looking at the final reward. The fact that we do not need labelled datasets allows us to repeat simulations many times to optimize our models. However, there are still many challenges in RL, which you may learn if you decide to focus more on this interesting area of AI.   "
   ]
  }
 ],
 "metadata": {
  "kernelspec": {
   "display_name": "Python 3.10.4 64-bit",
   "language": "python",
   "name": "python3"
  },
  "language_info": {
   "codemirror_mode": {
    "name": "ipython",
    "version": 3
   },
   "file_extension": ".py",
   "mimetype": "text/x-python",
   "name": "python",
   "nbconvert_exporter": "python",
   "pygments_lexer": "ipython3",
   "version": "3.10.4"
  },
  "orig_nbformat": 4,
  "vscode": {
   "interpreter": {
    "hash": "916dbcbb3f70747c44a77c7bcd40155683ae19c65e1c03b4aa3499c5328201f1"
   }
  }
 },
 "nbformat": 4,
 "nbformat_minor": 2
}
