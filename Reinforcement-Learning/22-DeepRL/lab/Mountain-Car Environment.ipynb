{
 "cells": [
  {
   "cell_type": "code",
   "execution_count": 1,
   "id": "e661e2d7-dcf4-4d67-b1dc-c656f4a75bd7",
   "metadata": {
    "tags": []
   },
   "outputs": [
    {
     "name": "stdout",
     "output_type": "stream",
     "text": [
      "Requirement already satisfied: gym in /system/conda/miniconda3/envs/cloudspace/lib/python3.10/site-packages (0.26.2)\n",
      "Requirement already satisfied: matplotlib in /system/conda/miniconda3/envs/cloudspace/lib/python3.10/site-packages (3.8.2)\n",
      "Requirement already satisfied: numpy in /system/conda/miniconda3/envs/cloudspace/lib/python3.10/site-packages (1.26.4)\n",
      "Collecting tensorflow\n",
      "  Downloading tensorflow-2.18.0-cp310-cp310-manylinux_2_17_x86_64.manylinux2014_x86_64.whl.metadata (4.1 kB)\n",
      "Requirement already satisfied: cloudpickle>=1.2.0 in /system/conda/miniconda3/envs/cloudspace/lib/python3.10/site-packages (from gym) (3.1.0)\n",
      "Requirement already satisfied: gym_notices>=0.0.4 in /system/conda/miniconda3/envs/cloudspace/lib/python3.10/site-packages (from gym) (0.0.8)\n",
      "Requirement already satisfied: contourpy>=1.0.1 in /system/conda/miniconda3/envs/cloudspace/lib/python3.10/site-packages (from matplotlib) (1.3.0)\n",
      "Requirement already satisfied: cycler>=0.10 in /system/conda/miniconda3/envs/cloudspace/lib/python3.10/site-packages (from matplotlib) (0.12.1)\n",
      "Requirement already satisfied: fonttools>=4.22.0 in /system/conda/miniconda3/envs/cloudspace/lib/python3.10/site-packages (from matplotlib) (4.54.1)\n",
      "Requirement already satisfied: kiwisolver>=1.3.1 in /system/conda/miniconda3/envs/cloudspace/lib/python3.10/site-packages (from matplotlib) (1.4.7)\n",
      "Requirement already satisfied: packaging>=20.0 in /system/conda/miniconda3/envs/cloudspace/lib/python3.10/site-packages (from matplotlib) (24.1)\n",
      "Requirement already satisfied: pillow>=8 in /system/conda/miniconda3/envs/cloudspace/lib/python3.10/site-packages (from matplotlib) (10.4.0)\n",
      "Requirement already satisfied: pyparsing>=2.3.1 in /system/conda/miniconda3/envs/cloudspace/lib/python3.10/site-packages (from matplotlib) (3.2.0)\n",
      "Requirement already satisfied: python-dateutil>=2.7 in /system/conda/miniconda3/envs/cloudspace/lib/python3.10/site-packages (from matplotlib) (2.9.0.post0)\n",
      "Requirement already satisfied: absl-py>=1.0.0 in /system/conda/miniconda3/envs/cloudspace/lib/python3.10/site-packages (from tensorflow) (2.1.0)\n",
      "Collecting astunparse>=1.6.0 (from tensorflow)\n",
      "  Downloading astunparse-1.6.3-py2.py3-none-any.whl.metadata (4.4 kB)\n",
      "Collecting flatbuffers>=24.3.25 (from tensorflow)\n",
      "  Downloading flatbuffers-24.3.25-py2.py3-none-any.whl.metadata (850 bytes)\n",
      "Collecting gast!=0.5.0,!=0.5.1,!=0.5.2,>=0.2.1 (from tensorflow)\n",
      "  Downloading gast-0.6.0-py3-none-any.whl.metadata (1.3 kB)\n",
      "Collecting google-pasta>=0.1.1 (from tensorflow)\n",
      "  Downloading google_pasta-0.2.0-py3-none-any.whl.metadata (814 bytes)\n",
      "Collecting libclang>=13.0.0 (from tensorflow)\n",
      "  Downloading libclang-18.1.1-py2.py3-none-manylinux2010_x86_64.whl.metadata (5.2 kB)\n",
      "Collecting opt-einsum>=2.3.2 (from tensorflow)\n",
      "  Downloading opt_einsum-3.4.0-py3-none-any.whl.metadata (6.3 kB)\n",
      "Requirement already satisfied: protobuf!=4.21.0,!=4.21.1,!=4.21.2,!=4.21.3,!=4.21.4,!=4.21.5,<6.0.0dev,>=3.20.3 in /system/conda/miniconda3/envs/cloudspace/lib/python3.10/site-packages (from tensorflow) (4.23.4)\n",
      "Requirement already satisfied: requests<3,>=2.21.0 in /system/conda/miniconda3/envs/cloudspace/lib/python3.10/site-packages (from tensorflow) (2.32.3)\n",
      "Requirement already satisfied: setuptools in /system/conda/miniconda3/envs/cloudspace/lib/python3.10/site-packages (from tensorflow) (75.1.0)\n",
      "Requirement already satisfied: six>=1.12.0 in /system/conda/miniconda3/envs/cloudspace/lib/python3.10/site-packages (from tensorflow) (1.16.0)\n",
      "Requirement already satisfied: termcolor>=1.1.0 in /system/conda/miniconda3/envs/cloudspace/lib/python3.10/site-packages (from tensorflow) (2.5.0)\n",
      "Requirement already satisfied: typing-extensions>=3.6.6 in /system/conda/miniconda3/envs/cloudspace/lib/python3.10/site-packages (from tensorflow) (4.12.2)\n",
      "Collecting wrapt>=1.11.0 (from tensorflow)\n",
      "  Downloading wrapt-1.17.0-cp310-cp310-manylinux_2_5_x86_64.manylinux1_x86_64.manylinux_2_17_x86_64.manylinux2014_x86_64.whl.metadata (6.4 kB)\n",
      "Requirement already satisfied: grpcio<2.0,>=1.24.3 in /system/conda/miniconda3/envs/cloudspace/lib/python3.10/site-packages (from tensorflow) (1.67.1)\n",
      "Collecting tensorboard<2.19,>=2.18 (from tensorflow)\n",
      "  Downloading tensorboard-2.18.0-py3-none-any.whl.metadata (1.6 kB)\n",
      "Collecting keras>=3.5.0 (from tensorflow)\n",
      "  Downloading keras-3.7.0-py3-none-any.whl.metadata (5.8 kB)\n",
      "Collecting h5py>=3.11.0 (from tensorflow)\n",
      "  Downloading h5py-3.12.1-cp310-cp310-manylinux_2_17_x86_64.manylinux2014_x86_64.whl.metadata (2.5 kB)\n",
      "Collecting ml-dtypes<0.5.0,>=0.4.0 (from tensorflow)\n",
      "  Downloading ml_dtypes-0.4.1-cp310-cp310-manylinux_2_17_x86_64.manylinux2014_x86_64.whl.metadata (20 kB)\n",
      "Collecting tensorflow-io-gcs-filesystem>=0.23.1 (from tensorflow)\n",
      "  Downloading tensorflow_io_gcs_filesystem-0.37.1-cp310-cp310-manylinux_2_17_x86_64.manylinux2014_x86_64.whl.metadata (14 kB)\n",
      "Requirement already satisfied: wheel<1.0,>=0.23.0 in /system/conda/miniconda3/envs/cloudspace/lib/python3.10/site-packages (from astunparse>=1.6.0->tensorflow) (0.44.0)\n",
      "Requirement already satisfied: rich in /system/conda/miniconda3/envs/cloudspace/lib/python3.10/site-packages (from keras>=3.5.0->tensorflow) (13.9.4)\n",
      "Collecting namex (from keras>=3.5.0->tensorflow)\n",
      "  Downloading namex-0.0.8-py3-none-any.whl.metadata (246 bytes)\n",
      "Collecting optree (from keras>=3.5.0->tensorflow)\n",
      "  Downloading optree-0.13.1-cp310-cp310-manylinux_2_17_x86_64.manylinux2014_x86_64.whl.metadata (47 kB)\n",
      "Requirement already satisfied: charset-normalizer<4,>=2 in /system/conda/miniconda3/envs/cloudspace/lib/python3.10/site-packages (from requests<3,>=2.21.0->tensorflow) (3.4.0)\n",
      "Requirement already satisfied: idna<4,>=2.5 in /system/conda/miniconda3/envs/cloudspace/lib/python3.10/site-packages (from requests<3,>=2.21.0->tensorflow) (3.10)\n",
      "Requirement already satisfied: urllib3<3,>=1.21.1 in /system/conda/miniconda3/envs/cloudspace/lib/python3.10/site-packages (from requests<3,>=2.21.0->tensorflow) (2.2.3)\n",
      "Requirement already satisfied: certifi>=2017.4.17 in /system/conda/miniconda3/envs/cloudspace/lib/python3.10/site-packages (from requests<3,>=2.21.0->tensorflow) (2024.8.30)\n",
      "Requirement already satisfied: markdown>=2.6.8 in /system/conda/miniconda3/envs/cloudspace/lib/python3.10/site-packages (from tensorboard<2.19,>=2.18->tensorflow) (3.7)\n",
      "Requirement already satisfied: tensorboard-data-server<0.8.0,>=0.7.0 in /system/conda/miniconda3/envs/cloudspace/lib/python3.10/site-packages (from tensorboard<2.19,>=2.18->tensorflow) (0.7.2)\n",
      "Requirement already satisfied: werkzeug>=1.0.1 in /system/conda/miniconda3/envs/cloudspace/lib/python3.10/site-packages (from tensorboard<2.19,>=2.18->tensorflow) (3.1.2)\n",
      "Requirement already satisfied: MarkupSafe>=2.1.1 in /system/conda/miniconda3/envs/cloudspace/lib/python3.10/site-packages (from werkzeug>=1.0.1->tensorboard<2.19,>=2.18->tensorflow) (3.0.2)\n",
      "Requirement already satisfied: markdown-it-py>=2.2.0 in /system/conda/miniconda3/envs/cloudspace/lib/python3.10/site-packages (from rich->keras>=3.5.0->tensorflow) (3.0.0)\n",
      "Requirement already satisfied: pygments<3.0.0,>=2.13.0 in /system/conda/miniconda3/envs/cloudspace/lib/python3.10/site-packages (from rich->keras>=3.5.0->tensorflow) (2.18.0)\n",
      "Requirement already satisfied: mdurl~=0.1 in /system/conda/miniconda3/envs/cloudspace/lib/python3.10/site-packages (from markdown-it-py>=2.2.0->rich->keras>=3.5.0->tensorflow) (0.1.2)\n",
      "Downloading tensorflow-2.18.0-cp310-cp310-manylinux_2_17_x86_64.manylinux2014_x86_64.whl (615.3 MB)\n",
      "\u001b[2K   \u001b[90m━━━━━━━━━━━━━━━━━━━━━━━━━━━━━━━━━━━━━━━\u001b[0m \u001b[32m615.3/615.3 MB\u001b[0m \u001b[31m111.2 MB/s\u001b[0m eta \u001b[36m0:00:00\u001b[0m00:01\u001b[0m00:01\u001b[0m\n",
      "\u001b[?25hDownloading astunparse-1.6.3-py2.py3-none-any.whl (12 kB)\n",
      "Downloading flatbuffers-24.3.25-py2.py3-none-any.whl (26 kB)\n",
      "Downloading gast-0.6.0-py3-none-any.whl (21 kB)\n",
      "Downloading google_pasta-0.2.0-py3-none-any.whl (57 kB)\n",
      "Downloading h5py-3.12.1-cp310-cp310-manylinux_2_17_x86_64.manylinux2014_x86_64.whl (5.3 MB)\n",
      "\u001b[2K   \u001b[90m━━━━━━━━━━━━━━━━━━━━━━━━━━━━━━━━━━━━━━━━\u001b[0m \u001b[32m5.3/5.3 MB\u001b[0m \u001b[31m193.3 MB/s\u001b[0m eta \u001b[36m0:00:00\u001b[0m\n",
      "\u001b[?25hDownloading keras-3.7.0-py3-none-any.whl (1.2 MB)\n",
      "\u001b[2K   \u001b[90m━━━━━━━━━━━━━━━━━━━━━━━━━━━━━━━━━━━━━━━━\u001b[0m \u001b[32m1.2/1.2 MB\u001b[0m \u001b[31m75.7 MB/s\u001b[0m eta \u001b[36m0:00:00\u001b[0m\n",
      "\u001b[?25hDownloading libclang-18.1.1-py2.py3-none-manylinux2010_x86_64.whl (24.5 MB)\n",
      "\u001b[2K   \u001b[90m━━━━━━━━━━━━━━━━━━━━━━━━━━━━━━━━━━━━━━━━\u001b[0m \u001b[32m24.5/24.5 MB\u001b[0m \u001b[31m240.4 MB/s\u001b[0m eta \u001b[36m0:00:00\u001b[0m\n",
      "\u001b[?25hDownloading ml_dtypes-0.4.1-cp310-cp310-manylinux_2_17_x86_64.manylinux2014_x86_64.whl (2.2 MB)\n",
      "\u001b[2K   \u001b[90m━━━━━━━━━━━━━━━━━━━━━━━━━━━━━━━━━━━━━━━━\u001b[0m \u001b[32m2.2/2.2 MB\u001b[0m \u001b[31m60.4 MB/s\u001b[0m eta \u001b[36m0:00:00\u001b[0m\n",
      "\u001b[?25hDownloading opt_einsum-3.4.0-py3-none-any.whl (71 kB)\n",
      "Downloading tensorboard-2.18.0-py3-none-any.whl (5.5 MB)\n",
      "\u001b[2K   \u001b[90m━━━━━━━━━━━━━━━━━━━━━━━━━━━━━━━━━━━━━━━━\u001b[0m \u001b[32m5.5/5.5 MB\u001b[0m \u001b[31m191.2 MB/s\u001b[0m eta \u001b[36m0:00:00\u001b[0m\n",
      "\u001b[?25hDownloading tensorflow_io_gcs_filesystem-0.37.1-cp310-cp310-manylinux_2_17_x86_64.manylinux2014_x86_64.whl (5.1 MB)\n",
      "\u001b[2K   \u001b[90m━━━━━━━━━━━━━━━━━━━━━━━━━━━━━━━━━━━━━━━━\u001b[0m \u001b[32m5.1/5.1 MB\u001b[0m \u001b[31m223.5 MB/s\u001b[0m eta \u001b[36m0:00:00\u001b[0m\n",
      "\u001b[?25hDownloading wrapt-1.17.0-cp310-cp310-manylinux_2_5_x86_64.manylinux1_x86_64.manylinux_2_17_x86_64.manylinux2014_x86_64.whl (82 kB)\n",
      "Downloading namex-0.0.8-py3-none-any.whl (5.8 kB)\n",
      "Downloading optree-0.13.1-cp310-cp310-manylinux_2_17_x86_64.manylinux2014_x86_64.whl (381 kB)\n",
      "Installing collected packages: namex, libclang, flatbuffers, wrapt, tensorflow-io-gcs-filesystem, optree, opt-einsum, ml-dtypes, h5py, google-pasta, gast, astunparse, tensorboard, keras, tensorflow\n",
      "  Attempting uninstall: tensorboard\n",
      "    Found existing installation: tensorboard 2.15.1\n",
      "    Uninstalling tensorboard-2.15.1:\n",
      "      Successfully uninstalled tensorboard-2.15.1\n",
      "Successfully installed astunparse-1.6.3 flatbuffers-24.3.25 gast-0.6.0 google-pasta-0.2.0 h5py-3.12.1 keras-3.7.0 libclang-18.1.1 ml-dtypes-0.4.1 namex-0.0.8 opt-einsum-3.4.0 optree-0.13.1 tensorboard-2.18.0 tensorflow-2.18.0 tensorflow-io-gcs-filesystem-0.37.1 wrapt-1.17.0\n"
     ]
    }
   ],
   "source": [
    "!pip install gym matplotlib numpy tensorflow"
   ]
  },
  {
   "cell_type": "code",
   "execution_count": 2,
   "id": "928c855b-00ba-4d62-a29e-10b50dd1b665",
   "metadata": {
    "tags": []
   },
   "outputs": [
    {
     "name": "stdout",
     "output_type": "stream",
     "text": [
      "zsh:1: no matches found: gym[classic_control]\n"
     ]
    },
    {
     "name": "stdout",
     "output_type": "stream",
     "text": [
      "Collecting pygame\n",
      "  Downloading pygame-2.6.1-cp310-cp310-manylinux_2_17_x86_64.manylinux2014_x86_64.whl.metadata (12 kB)\n",
      "Downloading pygame-2.6.1-cp310-cp310-manylinux_2_17_x86_64.manylinux2014_x86_64.whl (14.0 MB)\n",
      "\u001b[2K   \u001b[90m━━━━━━━━━━━━━━━━━━━━━━━━━━━━━━━━━━━━━━━━\u001b[0m \u001b[32m14.0/14.0 MB\u001b[0m \u001b[31m77.3 MB/s\u001b[0m eta \u001b[36m0:00:00\u001b[0m\n",
      "\u001b[?25hInstalling collected packages: pygame\n",
      "Successfully installed pygame-2.6.1\n"
     ]
    }
   ],
   "source": [
    "!pip install gym[classic_control]\n",
    "!pip install pygame"
   ]
  },
  {
   "cell_type": "code",
   "execution_count": 3,
   "id": "fe3c1e1f-b629-454e-866f-64762adbe779",
   "metadata": {
    "tags": []
   },
   "outputs": [
    {
     "name": "stdout",
     "output_type": "stream",
     "text": [
      "pygame 2.6.1 (SDL 2.28.4, Python 3.10.10)\n",
      "Hello from the pygame community. https://www.pygame.org/contribute.html\n",
      "2.6.1\n"
     ]
    }
   ],
   "source": [
    "import pygame\n",
    "print(pygame.ver)\n"
   ]
  },
  {
   "cell_type": "code",
   "execution_count": 5,
   "id": "e59857da-ccf1-4a31-bfbf-6d1ce58571c3",
   "metadata": {
    "tags": []
   },
   "outputs": [
    {
     "name": "stdout",
     "output_type": "stream",
     "text": [
      "First clear on episode 93\n",
      "Episode 100 Average Reward: -122.92092266108793\n",
      "Episode 200 Average Reward: -121.48361943259353\n",
      "Episode 300 Average Reward: -118.69483595890614\n",
      "Episode 400 Average Reward: -118.53942718773516\n",
      "Episode 500 Average Reward: -105.3932478907689\n",
      "Episode 600 Average Reward: -99.53228060040908\n",
      "Episode 700 Average Reward: -103.05428561815498\n",
      "Episode 800 Average Reward: -112.8265809303757\n",
      "Episode 900 Average Reward: -106.03503520799481\n",
      "Episode 1000 Average Reward: -108.31864521279691\n"
     ]
    },
    {
     "data": {
      "image/png": "[encoded data removed]",
      "text/plain": [
       "<Figure size 640x480 with 1 Axes>"
      ]
     },
     "metadata": {},
     "output_type": "display_data"
    }
   ],
   "source": [
    "import numpy as np\n",
    "import matplotlib.pyplot as plt\n",
    "import gym\n",
    "# Initialize the environment\n",
    "env = gym.make('MountainCar-v0', render_mode=\"rgb_array\")\n",
    "env.reset()\n",
    "\n",
    "# Override boolean check\n",
    "gym.utils.passive_env_checker.np = np\n",
    "gym.utils.passive_env_checker.np.bool8 = bool\n",
    "# Take random actions in the environment and render\n",
    "\n",
    "frames = []\n",
    "for _ in range(1000):\n",
    "    frame = env.render()  # Render as an RGB array\n",
    "    frames.append(frame)\n",
    "    obs, reward, terminated, truncated, info = env.step(env.action_space.sample())  # Take a random action\n",
    "    if terminated or truncated:\n",
    "        break\n",
    "env.close()\n",
    "\n",
    "# Define a helper function to get the height of the car\n",
    "def getheight(x_position):\n",
    "    return np.sin(3 * x_position) * 0.45 + 0.55\n",
    "\n",
    "# Define a custom reward function\n",
    "def newreward(pos):\n",
    "    if pos >= 0.5:\n",
    "        return 2\n",
    "    else:\n",
    "        return (pos + 1.2) / 1.8 - 1\n",
    "\n",
    "# Define the Q-learning function\n",
    "def QLearning(env, learning, epsilon, min_eps, episodes):\n",
    "    # Determine size of discretized state space\n",
    "    num_states = (env.observation_space.high - env.observation_space.low) * np.array([10, 50])\n",
    "    num_states = np.round(num_states, 0).astype(int) + 1\n",
    "\n",
    "    # Initialize Q-table\n",
    "    Q = np.random.uniform(low=-1, high=0, size=(num_states[0], num_states[1], env.action_space.n))\n",
    "    Qinit = np.copy(Q)\n",
    "\n",
    "    # Initialize variables to track rewards\n",
    "    reward_list = []\n",
    "    ave_reward_list = []\n",
    "\n",
    "    # Make a copy of epsilon\n",
    "    eps1 = epsilon\n",
    "\n",
    "    # Keep track of first success\n",
    "    first = episodes + 1\n",
    "\n",
    "    # Run Q-learning algorithm\n",
    "    for i in range(episodes):\n",
    "        # Initialize parameters\n",
    "        done = False\n",
    "        tot_reward, reward = 0, 0\n",
    "        state, _ = env.reset()  # Unpack state and ignore additional metadata\n",
    "\n",
    "        # Discretize state\n",
    "        state_adj = (state - env.observation_space.low) * np.array([10, 50])\n",
    "        state_adj = np.round(state_adj, 0).astype(int)\n",
    "\n",
    "        while not done:\n",
    "            # Render environment for last few episodes\n",
    "            if i >= (episodes - 5) or i < 5:\n",
    "                env.render()\n",
    "\n",
    "            # Determine next action using epsilon-greedy strategy\n",
    "            if np.random.random() < 1 - epsilon:\n",
    "                action = np.argmax(Q[state_adj[0], state_adj[1]])\n",
    "            else:\n",
    "                action = np.random.randint(0, env.action_space.n)\n",
    "\n",
    "            # Get next state and reward\n",
    "            state2, reward, terminated, truncated, info = env.step(action)\n",
    "            done = terminated or truncated\n",
    "\n",
    "            # Discretize state2\n",
    "            state2_adj = (state2 - env.observation_space.low) * np.array([10, 50])\n",
    "            state2_adj = np.round(state2_adj, 0).astype(int)\n",
    "\n",
    "            # Save to Q-table\n",
    "            if done and state2[0] >= 0.5:\n",
    "                Q[state_adj[0], state_adj[1], action] = reward\n",
    "            else:\n",
    "                delta = learning * (newreward(state2[0]) + np.max(Q[state2_adj[0], state2_adj[1]]) - Q[state_adj[0], state_adj[1], action])\n",
    "                Q[state_adj[0], state_adj[1], action] += delta\n",
    "\n",
    "            # Notify of clears\n",
    "            if state2[0] >= 0.5 and i < first:\n",
    "                first = i\n",
    "                print(f'First clear on episode {i + 1}')\n",
    "\n",
    "            # Update variables\n",
    "            tot_reward += newreward(state2[0])\n",
    "            state_adj = state2_adj\n",
    "\n",
    "        # Decay epsilon\n",
    "        if epsilon > min_eps:\n",
    "            epsilon *= eps1\n",
    "\n",
    "        # Track rewards\n",
    "        reward_list.append(tot_reward)\n",
    "\n",
    "        if (i + 1) % 100 == 0:\n",
    "            ave_reward = np.mean(reward_list)\n",
    "            ave_reward_list.append(ave_reward)\n",
    "            reward_list = []\n",
    "            print(f'Episode {i + 1} Average Reward: {ave_reward}')\n",
    "\n",
    "    env.close()\n",
    "    return ave_reward_list, Q, Qinit\n",
    "\n",
    "# Run Q-learning algorithm\n",
    "env.reset()\n",
    "rewards, Qopts, Qinit = QLearning(env, 0.2, 0.9, 0, 1000)\n",
    "\n",
    "# Plot average rewards\n",
    "plt.plot(100 * (np.arange(len(rewards)) + 1), rewards)\n",
    "plt.xlabel('Episodes')\n",
    "plt.ylabel('Average Reward')\n",
    "plt.title('Average Reward vs Episodes')\n",
    "plt.show()\n"
   ]
  },
  {
   "cell_type": "code",
   "execution_count": 6,
   "id": "3a97bf70-2024-4842-8ae2-0e576aa8afdd",
   "metadata": {
    "tags": []
   },
   "outputs": [
    {
     "name": "stdout",
     "output_type": "stream",
     "text": [
      "Episode 100 Average Reward: -122.9479954608451\n",
      "First clear on episode 185\n",
      "Episode 200 Average Reward: -119.35765090863367\n",
      "Episode 300 Average Reward: -116.88684458848611\n",
      "Episode 400 Average Reward: -118.24201625461272\n",
      "Episode 500 Average Reward: -110.70986822514496\n",
      "Episode 600 Average Reward: -111.34296215291297\n",
      "Episode 700 Average Reward: -111.4044468139291\n",
      "Episode 800 Average Reward: -116.11138605328499\n",
      "Episode 900 Average Reward: -112.32001343382582\n",
      "Episode 1000 Average Reward: -119.47008711596035\n"
     ]
    },
    {
     "data": {
      "image/png": "[encoded data removed]",
      "text/plain": [
       "<Figure size 640x480 with 1 Axes>"
      ]
     },
     "metadata": {},
     "output_type": "display_data"
    }
   ],
   "source": [
    "import numpy as np\n",
    "import matplotlib.pyplot as plt\n",
    "import gym\n",
    "# Override boolean check\n",
    "gym.utils.passive_env_checker.np = np\n",
    "gym.utils.passive_env_checker.np.bool8 = bool\n",
    "# Define a helper function to get the height of the car\n",
    "def getheight(x_position):\n",
    "    return np.sin(3 * x_position) * 0.45 + 0.55\n",
    "\n",
    "# Define a custom reward function\n",
    "def newreward(pos):\n",
    "    if pos >= 0.5:  # If the car reaches the flag\n",
    "        return 2\n",
    "    else:  # Otherwise, provide a scaled reward\n",
    "        return (pos + 1.2) / 1.8 - 1\n",
    "\n",
    "# Define the Q-learning function\n",
    "def QLearning(env, learning, epsilon, min_eps, episodes):\n",
    "    # Determine size of discretized state space\n",
    "    num_states = (env.observation_space.high - env.observation_space.low) * np.array([10, 50])\n",
    "    num_states = np.round(num_states, 0).astype(int) + 1\n",
    "\n",
    "    # Initialize Q-table\n",
    "    Q = np.random.uniform(low=-1, high=0, size=(num_states[0], num_states[1], env.action_space.n))\n",
    "    Qinit = np.copy(Q)\n",
    "\n",
    "    # Initialize variables to track rewards\n",
    "    reward_list = []\n",
    "    ave_reward_list = []\n",
    "\n",
    "    # Make a copy of epsilon\n",
    "    eps1 = epsilon\n",
    "\n",
    "    # Keep track of first success\n",
    "    first = episodes + 1\n",
    "\n",
    "    # Run Q-learning algorithm\n",
    "    for i in range(episodes):\n",
    "        # Initialize parameters\n",
    "        done = False\n",
    "        tot_reward, reward = 0, 0\n",
    "        state, _ = env.reset()  # Unpack state and ignore additional metadata\n",
    "\n",
    "        # Discretize state\n",
    "        state_adj = (state - env.observation_space.low) * np.array([10, 50])\n",
    "        state_adj = np.round(state_adj, 0).astype(int)\n",
    "\n",
    "        while not done:\n",
    "            # Render environment for last few episodes\n",
    "            if i >= (episodes - 5) or i < 5:\n",
    "                env.render()\n",
    "\n",
    "            # Determine next action using epsilon-greedy strategy\n",
    "            if np.random.random() < 1 - epsilon:\n",
    "                action = np.argmax(Q[state_adj[0], state_adj[1]])\n",
    "            else:\n",
    "                action = np.random.randint(0, env.action_space.n)\n",
    "\n",
    "            # Get next state and reward\n",
    "            state2, reward, terminated, truncated, _ = env.step(action)\n",
    "            done = terminated or truncated\n",
    "\n",
    "            # Discretize state2\n",
    "            state2_adj = (state2 - env.observation_space.low) * np.array([10, 50])\n",
    "            state2_adj = np.round(state2_adj, 0).astype(int)\n",
    "\n",
    "            # Update Q-table\n",
    "            if done and state2[0] >= 0.5:\n",
    "                Q[state_adj[0], state_adj[1], action] = reward\n",
    "            else:\n",
    "                delta = learning * (newreward(state2[0]) + np.max(Q[state2_adj[0], state2_adj[1]]) - Q[state_adj[0], state_adj[1], action])\n",
    "                Q[state_adj[0], state_adj[1], action] += delta\n",
    "\n",
    "            # Notify of clears\n",
    "            if state2[0] >= 0.5 and i < first:\n",
    "                first = i\n",
    "                print(f'First clear on episode {i + 1}')\n",
    "\n",
    "            # Update variables\n",
    "            tot_reward += newreward(state2[0])\n",
    "            state_adj = state2_adj\n",
    "\n",
    "        # Decay epsilon\n",
    "        if epsilon > min_eps:\n",
    "            epsilon *= eps1\n",
    "\n",
    "        # Track rewards\n",
    "        reward_list.append(tot_reward)\n",
    "\n",
    "        if (i + 1) % 100 == 0:\n",
    "            ave_reward = np.mean(reward_list)\n",
    "            ave_reward_list.append(ave_reward)\n",
    "            reward_list = []\n",
    "            print(f'Episode {i + 1} Average Reward: {ave_reward}')\n",
    "\n",
    "    env.close()\n",
    "    return ave_reward_list, Q, Qinit\n",
    "\n",
    "# Initialize the environment\n",
    "env = gym.make('MountainCar-v0', render_mode=\"rgb_array\")\n",
    "\n",
    "# Run Q-learning algorithm\n",
    "rewards, Qopts, Qinit = QLearning(env, learning=0.2, epsilon=0.9, min_eps=0.01, episodes=1000)\n",
    "\n",
    "# Plot average rewards\n",
    "plt.plot(100 * (np.arange(len(rewards)) + 1), rewards)\n",
    "plt.xlabel('Episodes')\n",
    "plt.ylabel('Average Reward')\n",
    "plt.title('Average Reward vs Episodes')\n",
    "plt.show()\n",
    "\n",
    "# Visualize the learned policy\n",
    "state, _ = env.reset()\n",
    "state_adj = (state - env.observation_space.low) * np.array([10, 50])\n",
    "state_adj = np.round(state_adj, 0).astype(int)\n",
    "\n",
    "done = False\n",
    "while not done:\n",
    "    env.render()\n",
    "    action = np.argmax(Qopts[state_adj[0], state_adj[1]])\n",
    "    state, reward, terminated, truncated, _ = env.step(action)\n",
    "    done = terminated or truncated\n",
    "    state_adj = (state - env.observation_space.low) * np.array([10, 50])\n",
    "    state_adj = np.round(state_adj, 0).astype(int)\n",
    "\n",
    "env.close()"
   ]
  },
  {
   "cell_type": "code",
   "execution_count": null,
   "id": "ea074105-77ad-47b7-912b-82d81fe28ce3",
   "metadata": {
    "tags": []
   },
   "outputs": [
    {
     "name": "stdout",
     "output_type": "stream",
     "text": [
      "hello\n"
     ]
    }
   ],
   "source": [
    "print(\"hello\")"
   ]
  },
  {
   "cell_type": "code",
   "execution_count": 7,
   "id": "2a2b270f-b6d9-4601-ae49-1fc86ff38e95",
   "metadata": {
    "tags": []
   },
   "outputs": [
    {
     "name": "stdout",
     "output_type": "stream",
     "text": [
      "episode  100 score  -42052.0 epsilon 0.991\n",
      "episode  200 score  -11708.0 epsilon 0.987\n",
      "episode  300 score  -73035.0 epsilon 0.983\n",
      "episode  400 score  -40723.0 epsilon 0.979\n",
      "episode  500 score  -37160.0 epsilon 0.975\n",
      "episode  600 score  -9295.0 epsilon 0.971\n",
      "episode  700 score  -76326.0 epsilon 0.967\n",
      "episode  800 score  -60377.0 epsilon 0.963\n",
      "episode  900 score  -51576.0 epsilon 0.959\n"
     ]
    }
   ],
   "source": [
    "import numpy as np\n",
    "import matplotlib.pyplot as plt\n",
    "import gym\n",
    "# Override boolean check\n",
    "gym.utils.passive_env_checker.np = np\n",
    "gym.utils.passive_env_checker.np.bool8 = bool\n",
    "pos_space = np.linspace(-1.2, 0.6, 12)\n",
    "vel_space = np.linspace(-0.07, 0.07, 20)\n",
    "\n",
    "def get_state(observation):\n",
    "    pos, vel = observation\n",
    "    pos_bin = int(np.digitize(pos, pos_space))\n",
    "    vel_bin = int(np.digitize(vel, vel_space))\n",
    "\n",
    "    return (pos_bin, vel_bin)\n",
    "\n",
    "def max_action(Q, state, actions=[0, 1, 2]):\n",
    "    values = np.array([Q[state, a] for a in actions])\n",
    "    action = np.argmax(values)\n",
    "\n",
    "    return action\n",
    "\n",
    "if __name__ == '__main__':\n",
    "    env = gym.make('MountainCar-v0')\n",
    "    env._max_episode_steps = 1000\n",
    "    n_games = 50000\n",
    "    alpha = 0.5\n",
    "    gamma = 0.99\n",
    "    eps = 1.0\n",
    "    eps_decay = 0.995  # Decay epsilon by multiplying each episode\n",
    "    eps_min = 0.01  # Minimum epsilon value\n",
    "    eps = max(eps * eps_decay, eps_min)\n",
    "\n",
    "    action_space = [0, 1, 2]\n",
    "\n",
    "    states = []\n",
    "    for pos in range(21):\n",
    "        for vel in range(21):\n",
    "            states.append((pos, vel))\n",
    "\n",
    "    Q = {}\n",
    "    for state in states:\n",
    "        for action in action_space:\n",
    "            Q[state, action] = 0\n",
    "\n",
    "    score = 0\n",
    "    total_rewards = np.zeros(n_games)\n",
    "    for i in range(n_games):\n",
    "        done = False\n",
    "        obs_reset = env.reset()\n",
    "\n",
    "        # Extract the observation from the reset output\n",
    "        if isinstance(obs_reset, tuple):\n",
    "            obs = obs_reset[0]  # Take the first element (observation array)\n",
    "        else:\n",
    "            obs = obs_reset['observation']  # Newer gym version\n",
    "\n",
    "        #print(\"Observation after reset:\", obs)  # Debug print\n",
    "\n",
    "        state = get_state(obs)  # Use only the extracted observation\n",
    "        if i % 100 == 0 and i > 0:\n",
    "            print('episode ', i, 'score ', score, 'epsilon %.3f' % eps)\n",
    "        score = 0\n",
    "        while not done:\n",
    "            action = np.random.choice([0, 1, 2]) if np.random.random() < eps \\\n",
    "                else max_action(Q, state)\n",
    "            obs_step = env.step(action)\n",
    "\n",
    "            # Debugging step to inspect `obs_step`\n",
    "            #print(\"Step output:\", obs_step)\n",
    "\n",
    "            # Extract observation from step output\n",
    "            if isinstance(obs_step, tuple):\n",
    "                # Handle simplified output (older gym or variants)\n",
    "                obs_ = obs_step[0]\n",
    "                reward = obs_step[1]\n",
    "                done = obs_step[2] if len(obs_step) > 2 else False\n",
    "            else:\n",
    "                # Newer gym versions (dictionary output)\n",
    "                obs_ = obs_step['observation']\n",
    "                reward = obs_step['reward']\n",
    "                done = obs_step.get('terminated', obs_step.get('done', False))\n",
    "                info = obs_step.get('info', {})  # Optional info\n",
    "\n",
    "            #print(\"Observation after step:\", obs_)  # Debug print\n",
    "\n",
    "            state_ = get_state(obs_)  # Use only the extracted observation\n",
    "            score += reward\n",
    "            action_ = max_action(Q, state_)\n",
    "            Q[state, action] = Q[state, action] + \\\n",
    "                alpha * (reward + gamma * Q[state_, action_] - Q[state, action])\n",
    "            state = state_\n",
    "        total_rewards[i] = score\n",
    "        eps = eps - 2 / n_games if eps > 0.01 else 0.01\n",
    "\n",
    "\n",
    "mean_rewards = np.zeros(n_games)\n",
    "for t in range(n_games):\n",
    "    mean_rewards[t] = np.mean(total_rewards[max(0, t-50):(t+1)])\n",
    "plt.plot(mean_rewards)\n",
    "plt.savefig('mountaincar.png')\n",
    "\n",
    "    # Save the Q-table\n",
    "    # with open(\"mountaincar.pkl\", \"wb\") as f:\n",
    "    #     pickle.dump(Q, f)\n"
   ]
  },
  {
   "cell_type": "code",
   "execution_count": null,
   "id": "6684b456-5e38-4522-9f3f-ed10f67e4648",
   "metadata": {
    "tags": []
   },
   "outputs": [],
   "source": [
    "print(\"hello\")"
   ]
  },
  {
   "cell_type": "code",
   "execution_count": null,
   "id": "4f161969-33e7-412d-aeee-af80d31e89fe",
   "metadata": {
    "tags": []
   },
   "outputs": [
    {
     "name": "stderr",
     "output_type": "stream",
     "text": [
      "2024-11-29 10:23:51.908556: E external/local_xla/xla/stream_executor/cuda/cuda_fft.cc:477] Unable to register cuFFT factory: Attempting to register factory for plugin cuFFT when one has already been registered\n",
      "WARNING: All log messages before absl::InitializeLog() is called are written to STDERR\n",
      "E0000 00:00:1732875831.932098    1010 cuda_dnn.cc:8310] Unable to register cuDNN factory: Attempting to register factory for plugin cuDNN when one has already been registered\n",
      "E0000 00:00:1732875831.938779    1010 cuda_blas.cc:1418] Unable to register cuBLAS factory: Attempting to register factory for plugin cuBLAS when one has already been registered\n",
      "2024-11-29 10:23:51.961702: I tensorflow/core/platform/cpu_feature_guard.cc:210] This TensorFlow binary is optimized to use available CPU instructions in performance-critical operations.\n",
      "To enable the following instructions: AVX2 AVX512F FMA, in other operations, rebuild TensorFlow with the appropriate compiler flags.\n"
     ]
    },
    {
     "name": "stdout",
     "output_type": "stream",
     "text": [
      "Num GPUs Available:  0\n"
     ]
    },
    {
     "name": "stderr",
     "output_type": "stream",
     "text": [
      "2024-11-29 10:23:53.915614: E external/local_xla/xla/stream_executor/cuda/cuda_driver.cc:152] failed call to cuInit: INTERNAL: CUDA error: Failed call to cuInit: UNKNOWN ERROR (303)\n"
     ]
    }
   ],
   "source": [
    "import tensorflow as tf\n",
    "print(\"Num GPUs Available: \", len(tf.config.experimental.list_physical_devices('GPU')))"
   ]
  },
  {
   "cell_type": "code",
   "execution_count": null,
   "id": "66e52dae-a0a7-4654-aede-2f4bd2fa264c",
   "metadata": {
    "tags": []
   },
   "outputs": [
    {
     "name": "stdout",
     "output_type": "stream",
     "text": [
      "[name: \"/device:CPU:0\"\n",
      "device_type: \"CPU\"\n",
      "memory_limit: 268435456\n",
      "locality {\n",
      "}\n",
      "incarnation: 10377481658036219369\n",
      "xla_global_id: -1\n",
      "]\n"
     ]
    }
   ],
   "source": [
    "from tensorflow.python.client import device_lib\n",
    "print(device_lib.list_local_devices())"
   ]
  },
  {
   "cell_type": "code",
   "execution_count": null,
   "id": "a1f846a7-03c9-4ba4-b22f-6c619fefdc53",
   "metadata": {
    "tags": []
   },
   "outputs": [
    {
     "name": "stdout",
     "output_type": "stream",
     "text": [
      "/usr/bin/sh: 1: lspci: not found\n",
      "/usr/bin/sh: 1: nvidia-smi: not found\n"
     ]
    }
   ],
   "source": [
    "!lspci | grep -i nvidia\n",
    "!nvidia-smi\n"
   ]
  },
  {
   "cell_type": "code",
   "execution_count": null,
   "id": "c538e116-15ea-4615-8713-e4b3ff4118f1",
   "metadata": {},
   "outputs": [],
   "source": []
  }
 ],
 "metadata": {
  "kernelspec": {
   "display_name": ".conda-default:Python",
   "language": "python",
   "name": "conda-env-.conda-default-py"
  },
  "language_info": {
   "codemirror_mode": {
    "name": "ipython",
    "version": 3
   },
   "file_extension": ".py",
   "mimetype": "text/x-python",
   "name": "python",
   "nbconvert_exporter": "python",
   "pygments_lexer": "ipython3",
   "version": "3.9.19"
  },
  "toc-autonumbering": false,
  "toc-showcode": true,
  "toc-showmarkdowntxt": false
 },
 "nbformat": 4,
 "nbformat_minor": 5
}
