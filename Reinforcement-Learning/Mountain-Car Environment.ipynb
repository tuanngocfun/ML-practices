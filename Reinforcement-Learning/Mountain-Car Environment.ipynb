{
 "cells": [
  {
   "cell_type": "code",
   "execution_count": 10,
   "id": "e661e2d7-dcf4-4d67-b1dc-c656f4a75bd7",
   "metadata": {
    "tags": []
   },
   "outputs": [
    {
     "name": "stdout",
     "output_type": "stream",
     "text": [
      "Requirement already satisfied: gym in /home/studio-lab-user/.conda/envs/default/lib/python3.9/site-packages (0.26.2)\n",
      "Requirement already satisfied: matplotlib in /home/studio-lab-user/.conda/envs/default/lib/python3.9/site-packages (3.9.2)\n",
      "Requirement already satisfied: numpy in /home/studio-lab-user/.conda/envs/default/lib/python3.9/site-packages (2.0.2)\n",
      "Collecting tensorflow\n",
      "  Downloading tensorflow-2.18.0-cp39-cp39-manylinux_2_17_x86_64.manylinux2014_x86_64.whl (615.3 MB)\n",
      "\u001b[K     |████████████████                | 307.6 MB 138.4 MB/s eta 0:00:03██▎                  | 254.4 MB 138.4 MB/s eta 0:00:03"
     ]
    },
    {
     "name": "stderr",
     "output_type": "stream",
     "text": [
      "IOPub data rate exceeded.\n",
      "The Jupyter server will temporarily stop sending output\n",
      "to the client in order to avoid crashing it.\n",
      "To change this limit, set the config variable\n",
      "`--ServerApp.iopub_data_rate_limit`.\n",
      "\n",
      "Current values:\n",
      "ServerApp.iopub_data_rate_limit=1000000.0 (bytes/sec)\n",
      "ServerApp.rate_limit_window=3.0 (secs)\n",
      "\n"
     ]
    },
    {
     "name": "stdout",
     "output_type": "stream",
     "text": [
      "\u001b[K     |████████████████████████████████| 615.3 MB 4.2 kB/s  eta 0:00:0116 MB 43.4 MB/s eta 0:00:04MB/s eta 0:00:03��██████████████████▎    | 525.1 MB 104.5 MB/s eta 0:00:01    |████████████████████████████▍   | 546.7 MB 104.5 MB/s eta 0:00:01��███████████▉| 611.2 MB 86.4 MB/s eta 0:00:01\n",
      "\u001b[?25hRequirement already satisfied: gym_notices>=0.0.4 in /home/studio-lab-user/.conda/envs/default/lib/python3.9/site-packages (from gym) (0.0.8)\n",
      "Requirement already satisfied: cloudpickle>=1.2.0 in /home/studio-lab-user/.conda/envs/default/lib/python3.9/site-packages (from gym) (3.1.0)\n",
      "Requirement already satisfied: importlib_metadata>=4.8.0 in /home/studio-lab-user/.conda/envs/default/lib/python3.9/site-packages (from gym) (7.1.0)\n",
      "Requirement already satisfied: python-dateutil>=2.7 in /home/studio-lab-user/.conda/envs/default/lib/python3.9/site-packages (from matplotlib) (2.9.0)\n",
      "Requirement already satisfied: cycler>=0.10 in /home/studio-lab-user/.conda/envs/default/lib/python3.9/site-packages (from matplotlib) (0.12.1)\n",
      "Requirement already satisfied: contourpy>=1.0.1 in /home/studio-lab-user/.conda/envs/default/lib/python3.9/site-packages (from matplotlib) (1.3.0)\n",
      "Requirement already satisfied: pillow>=8 in /home/studio-lab-user/.conda/envs/default/lib/python3.9/site-packages (from matplotlib) (11.0.0)\n",
      "Requirement already satisfied: kiwisolver>=1.3.1 in /home/studio-lab-user/.conda/envs/default/lib/python3.9/site-packages (from matplotlib) (1.4.7)\n",
      "Requirement already satisfied: packaging>=20.0 in /home/studio-lab-user/.conda/envs/default/lib/python3.9/site-packages (from matplotlib) (24.0)\n",
      "Requirement already satisfied: importlib-resources>=3.2.0 in /home/studio-lab-user/.conda/envs/default/lib/python3.9/site-packages (from matplotlib) (6.4.0)\n",
      "Requirement already satisfied: fonttools>=4.22.0 in /home/studio-lab-user/.conda/envs/default/lib/python3.9/site-packages (from matplotlib) (4.55.0)\n",
      "Requirement already satisfied: pyparsing>=2.3.1 in /home/studio-lab-user/.conda/envs/default/lib/python3.9/site-packages (from matplotlib) (3.2.0)\n",
      "Collecting termcolor>=1.1.0\n",
      "  Using cached termcolor-2.5.0-py3-none-any.whl (7.8 kB)\n",
      "Requirement already satisfied: setuptools in /home/studio-lab-user/.conda/envs/default/lib/python3.9/site-packages (from tensorflow) (70.0.0)\n",
      "Collecting grpcio<2.0,>=1.24.3\n",
      "  Downloading grpcio-1.68.0-cp39-cp39-manylinux_2_17_x86_64.manylinux2014_x86_64.whl (5.9 MB)\n",
      "\u001b[K     |████████████████████████████████| 5.9 MB 86.2 MB/s eta 0:00:01\n",
      "\u001b[?25hRequirement already satisfied: six>=1.12.0 in /home/studio-lab-user/.conda/envs/default/lib/python3.9/site-packages (from tensorflow) (1.16.0)\n",
      "Requirement already satisfied: requests<3,>=2.21.0 in /home/studio-lab-user/.conda/envs/default/lib/python3.9/site-packages (from tensorflow) (2.32.3)\n",
      "Collecting h5py>=3.11.0\n",
      "  Downloading h5py-3.12.1-cp39-cp39-manylinux_2_17_x86_64.manylinux2014_x86_64.whl (5.4 MB)\n",
      "\u001b[K     |████████████████████████████████| 5.4 MB 74.7 MB/s eta 0:00:01\n",
      "\u001b[?25hCollecting google-pasta>=0.1.1\n",
      "  Downloading google_pasta-0.2.0-py3-none-any.whl (57 kB)\n",
      "\u001b[K     |████████████████████████████████| 57 kB 7.7 MB/s  eta 0:00:01\n",
      "\u001b[?25hCollecting astunparse>=1.6.0\n",
      "  Downloading astunparse-1.6.3-py2.py3-none-any.whl (12 kB)\n",
      "Collecting tensorflow-io-gcs-filesystem>=0.23.1\n",
      "  Downloading tensorflow_io_gcs_filesystem-0.37.1-cp39-cp39-manylinux_2_17_x86_64.manylinux2014_x86_64.whl (5.1 MB)\n",
      "\u001b[K     |████████████████████████████████| 5.1 MB 25.7 MB/s eta 0:00:01\n",
      "\u001b[?25hCollecting tensorboard<2.19,>=2.18\n",
      "  Downloading tensorboard-2.18.0-py3-none-any.whl (5.5 MB)\n",
      "\u001b[K     |████████████████████████████████| 5.5 MB 50.2 MB/s eta 0:00:01\n",
      "\u001b[?25hCollecting gast!=0.5.0,!=0.5.1,!=0.5.2,>=0.2.1\n",
      "  Downloading gast-0.6.0-py3-none-any.whl (21 kB)\n",
      "Requirement already satisfied: protobuf!=4.21.0,!=4.21.1,!=4.21.2,!=4.21.3,!=4.21.4,!=4.21.5,<6.0.0dev,>=3.20.3 in /home/studio-lab-user/.conda/envs/default/lib/python3.9/site-packages (from tensorflow) (5.29.0)\n",
      "Collecting keras>=3.5.0\n",
      "  Downloading keras-3.7.0-py3-none-any.whl (1.2 MB)\n",
      "\u001b[K     |████████████████████████████████| 1.2 MB 69.7 MB/s eta 0:00:01\n",
      "\u001b[?25hCollecting wrapt>=1.11.0\n",
      "  Downloading wrapt-1.17.0-cp39-cp39-manylinux_2_5_x86_64.manylinux1_x86_64.manylinux_2_17_x86_64.manylinux2014_x86_64.whl (82 kB)\n",
      "\u001b[K     |████████████████████████████████| 82 kB 2.0 MB/s  eta 0:00:01\n",
      "\u001b[?25hCollecting flatbuffers>=24.3.25\n",
      "  Downloading flatbuffers-24.3.25-py2.py3-none-any.whl (26 kB)\n",
      "Collecting libclang>=13.0.0\n",
      "  Downloading libclang-18.1.1-py2.py3-none-manylinux2010_x86_64.whl (24.5 MB)\n",
      "\u001b[K     |████████████████████████████████| 24.5 MB 68.3 MB/s eta 0:00:01\n",
      "\u001b[?25hCollecting ml-dtypes<0.5.0,>=0.4.0\n",
      "  Downloading ml_dtypes-0.4.1-cp39-cp39-manylinux_2_17_x86_64.manylinux2014_x86_64.whl (2.2 MB)\n",
      "\u001b[K     |████████████████████████████████| 2.2 MB 79.5 MB/s eta 0:00:01\n",
      "\u001b[?25hCollecting absl-py>=1.0.0\n",
      "  Downloading absl_py-2.1.0-py3-none-any.whl (133 kB)\n",
      "\u001b[K     |████████████████████████████████| 133 kB 86.0 MB/s eta 0:00:01\n",
      "\u001b[?25hRequirement already satisfied: typing-extensions>=3.6.6 in /home/studio-lab-user/.conda/envs/default/lib/python3.9/site-packages (from tensorflow) (4.11.0)\n",
      "Collecting opt-einsum>=2.3.2\n",
      "  Downloading opt_einsum-3.4.0-py3-none-any.whl (71 kB)\n",
      "\u001b[K     |████████████████████████████████| 71 kB 722 kB/s  eta 0:00:01\n",
      "\u001b[?25hRequirement already satisfied: wheel<1.0,>=0.23.0 in /home/studio-lab-user/.conda/envs/default/lib/python3.9/site-packages (from astunparse>=1.6.0->tensorflow) (0.43.0)\n",
      "Requirement already satisfied: zipp>=0.5 in /home/studio-lab-user/.conda/envs/default/lib/python3.9/site-packages (from importlib_metadata>=4.8.0->gym) (3.17.0)\n",
      "Collecting namex\n",
      "  Downloading namex-0.0.8-py3-none-any.whl (5.8 kB)\n",
      "Collecting rich\n",
      "  Downloading rich-13.9.4-py3-none-any.whl (242 kB)\n",
      "\u001b[K     |████████████████████████████████| 242 kB 100.0 MB/s eta 0:00:01\n",
      "\u001b[?25hCollecting optree\n",
      "  Downloading optree-0.13.1-cp39-cp39-manylinux_2_17_x86_64.manylinux2014_x86_64.whl (381 kB)\n",
      "\u001b[K     |████████████████████████████████| 381 kB 55.7 MB/s eta 0:00:01\n",
      "\u001b[?25hRequirement already satisfied: idna<4,>=2.5 in /home/studio-lab-user/.conda/envs/default/lib/python3.9/site-packages (from requests<3,>=2.21.0->tensorflow) (3.7)\n",
      "Requirement already satisfied: certifi>=2017.4.17 in /home/studio-lab-user/.conda/envs/default/lib/python3.9/site-packages (from requests<3,>=2.21.0->tensorflow) (2024.2.2)\n",
      "Requirement already satisfied: charset-normalizer<4,>=2 in /home/studio-lab-user/.conda/envs/default/lib/python3.9/site-packages (from requests<3,>=2.21.0->tensorflow) (3.3.2)\n",
      "Requirement already satisfied: urllib3<3,>=1.21.1 in /home/studio-lab-user/.conda/envs/default/lib/python3.9/site-packages (from requests<3,>=2.21.0->tensorflow) (2.2.1)\n",
      "Collecting werkzeug>=1.0.1\n",
      "  Downloading werkzeug-3.1.3-py3-none-any.whl (224 kB)\n",
      "\u001b[K     |████████████████████████████████| 224 kB 39.8 MB/s eta 0:00:01\n",
      "\u001b[?25hCollecting tensorboard-data-server<0.8.0,>=0.7.0\n",
      "  Downloading tensorboard_data_server-0.7.2-py3-none-manylinux_2_31_x86_64.whl (6.6 MB)\n",
      "\u001b[K     |████████████████████████████████| 6.6 MB 61.5 MB/s eta 0:00:01\n",
      "\u001b[?25hCollecting markdown>=2.6.8\n",
      "  Downloading Markdown-3.7-py3-none-any.whl (106 kB)\n",
      "\u001b[K     |████████████████████████████████| 106 kB 72.0 MB/s eta 0:00:01\n",
      "\u001b[?25hRequirement already satisfied: MarkupSafe>=2.1.1 in /home/studio-lab-user/.conda/envs/default/lib/python3.9/site-packages (from werkzeug>=1.0.1->tensorboard<2.19,>=2.18->tensorflow) (2.1.5)\n",
      "Collecting markdown-it-py>=2.2.0\n",
      "  Downloading markdown_it_py-3.0.0-py3-none-any.whl (87 kB)\n",
      "\u001b[K     |████████████████████████████████| 87 kB 14.2 MB/s eta 0:00:01\n",
      "\u001b[?25hRequirement already satisfied: pygments<3.0.0,>=2.13.0 in /home/studio-lab-user/.conda/envs/default/lib/python3.9/site-packages (from rich->keras>=3.5.0->tensorflow) (2.18.0)\n",
      "Collecting mdurl~=0.1\n",
      "  Downloading mdurl-0.1.2-py3-none-any.whl (10.0 kB)\n",
      "Installing collected packages: mdurl, markdown-it-py, werkzeug, tensorboard-data-server, rich, optree, namex, ml-dtypes, markdown, h5py, grpcio, absl-py, wrapt, termcolor, tensorflow-io-gcs-filesystem, tensorboard, opt-einsum, libclang, keras, google-pasta, gast, flatbuffers, astunparse, tensorflow\n",
      "Successfully installed absl-py-2.1.0 astunparse-1.6.3 flatbuffers-24.3.25 gast-0.6.0 google-pasta-0.2.0 grpcio-1.68.0 h5py-3.12.1 keras-3.7.0 libclang-18.1.1 markdown-3.7 markdown-it-py-3.0.0 mdurl-0.1.2 ml-dtypes-0.4.1 namex-0.0.8 opt-einsum-3.4.0 optree-0.13.1 rich-13.9.4 tensorboard-2.18.0 tensorboard-data-server-0.7.2 tensorflow-2.18.0 tensorflow-io-gcs-filesystem-0.37.1 termcolor-2.5.0 werkzeug-3.1.3 wrapt-1.17.0\n"
     ]
    }
   ],
   "source": [
    "!pip install gym matplotlib numpy tensorflow"
   ]
  },
  {
   "cell_type": "code",
   "execution_count": 3,
   "id": "928c855b-00ba-4d62-a29e-10b50dd1b665",
   "metadata": {
    "tags": []
   },
   "outputs": [
    {
     "name": "stdout",
     "output_type": "stream",
     "text": [
      "Requirement already satisfied: gym[classic_control] in /home/studio-lab-user/.conda/envs/default/lib/python3.9/site-packages (0.26.2)\n",
      "\u001b[33mWARNING: gym 0.26.2 does not provide the extra 'classic_control'\u001b[0m\n",
      "Requirement already satisfied: importlib_metadata>=4.8.0 in /home/studio-lab-user/.conda/envs/default/lib/python3.9/site-packages (from gym[classic_control]) (7.1.0)\n",
      "Requirement already satisfied: numpy>=1.18.0 in /home/studio-lab-user/.conda/envs/default/lib/python3.9/site-packages (from gym[classic_control]) (2.0.2)\n",
      "Requirement already satisfied: gym_notices>=0.0.4 in /home/studio-lab-user/.conda/envs/default/lib/python3.9/site-packages (from gym[classic_control]) (0.0.8)\n",
      "Requirement already satisfied: cloudpickle>=1.2.0 in /home/studio-lab-user/.conda/envs/default/lib/python3.9/site-packages (from gym[classic_control]) (3.1.0)\n",
      "Requirement already satisfied: zipp>=0.5 in /home/studio-lab-user/.conda/envs/default/lib/python3.9/site-packages (from importlib_metadata>=4.8.0->gym[classic_control]) (3.17.0)\n",
      "Requirement already satisfied: pygame in /home/studio-lab-user/.conda/envs/default/lib/python3.9/site-packages (2.6.1)\n"
     ]
    }
   ],
   "source": [
    "!pip install gym[classic_control]\n",
    "!pip install pygame"
   ]
  },
  {
   "cell_type": "code",
   "execution_count": 4,
   "id": "fe3c1e1f-b629-454e-866f-64762adbe779",
   "metadata": {
    "tags": []
   },
   "outputs": [
    {
     "name": "stdout",
     "output_type": "stream",
     "text": [
      "pygame 2.6.1 (SDL 2.28.4, Python 3.9.19)\n",
      "Hello from the pygame community. https://www.pygame.org/contribute.html\n",
      "2.6.1\n"
     ]
    }
   ],
   "source": [
    "import pygame\n",
    "print(pygame.ver)\n"
   ]
  },
  {
   "cell_type": "code",
   "execution_count": 23,
   "id": "e59857da-ccf1-4a31-bfbf-6d1ce58571c3",
   "metadata": {
    "tags": []
   },
   "outputs": [
    {
     "name": "stdout",
     "output_type": "stream",
     "text": [
      "First clear on episode 74\n",
      "Episode 100 Average Reward: -123.55823516845703\n",
      "Episode 200 Average Reward: -119.97447204589844\n",
      "Episode 300 Average Reward: -112.79660034179688\n",
      "Episode 400 Average Reward: -119.5894546508789\n",
      "Episode 500 Average Reward: -109.9740219116211\n",
      "Episode 600 Average Reward: -104.32281494140625\n",
      "Episode 700 Average Reward: -110.97732543945312\n",
      "Episode 800 Average Reward: -110.10675048828125\n",
      "Episode 900 Average Reward: -108.73643493652344\n",
      "Episode 1000 Average Reward: -111.0556640625\n"
     ]
    },
    {
     "data": {
      "image/png": "[encoded data removed]",
      "text/plain": [
       "<Figure size 640x480 with 1 Axes>"
      ]
     },
     "metadata": {},
     "output_type": "display_data"
    }
   ],
   "source": [
    "# Initialize the environment\n",
    "env = gym.make('MountainCar-v0', render_mode=\"rgb_array\")\n",
    "env.reset()\n",
    "\n",
    "# Override boolean check\n",
    "gym.utils.passive_env_checker.np = np\n",
    "gym.utils.passive_env_checker.np.bool8 = bool\n",
    "# Take random actions in the environment and render\n",
    "\n",
    "frames = []\n",
    "for _ in range(1000):\n",
    "    frame = env.render()  # Render as an RGB array\n",
    "    frames.append(frame)\n",
    "    obs, reward, terminated, truncated, info = env.step(env.action_space.sample())  # Take a random action\n",
    "    if terminated or truncated:\n",
    "        break\n",
    "env.close()\n",
    "\n",
    "# Define a helper function to get the height of the car\n",
    "def getheight(x_position):\n",
    "    return np.sin(3 * x_position) * 0.45 + 0.55\n",
    "\n",
    "# Define a custom reward function\n",
    "def newreward(pos):\n",
    "    if pos >= 0.5:\n",
    "        return 2\n",
    "    else:\n",
    "        return (pos + 1.2) / 1.8 - 1\n",
    "\n",
    "# Define the Q-learning function\n",
    "def QLearning(env, learning, epsilon, min_eps, episodes):\n",
    "    # Determine size of discretized state space\n",
    "    num_states = (env.observation_space.high - env.observation_space.low) * np.array([10, 50])\n",
    "    num_states = np.round(num_states, 0).astype(int) + 1\n",
    "\n",
    "    # Initialize Q-table\n",
    "    Q = np.random.uniform(low=-1, high=0, size=(num_states[0], num_states[1], env.action_space.n))\n",
    "    Qinit = np.copy(Q)\n",
    "\n",
    "    # Initialize variables to track rewards\n",
    "    reward_list = []\n",
    "    ave_reward_list = []\n",
    "\n",
    "    # Make a copy of epsilon\n",
    "    eps1 = epsilon\n",
    "\n",
    "    # Keep track of first success\n",
    "    first = episodes + 1\n",
    "\n",
    "    # Run Q-learning algorithm\n",
    "    for i in range(episodes):\n",
    "        # Initialize parameters\n",
    "        done = False\n",
    "        tot_reward, reward = 0, 0\n",
    "        state, _ = env.reset()  # Unpack state and ignore additional metadata\n",
    "\n",
    "        # Discretize state\n",
    "        state_adj = (state - env.observation_space.low) * np.array([10, 50])\n",
    "        state_adj = np.round(state_adj, 0).astype(int)\n",
    "\n",
    "        while not done:\n",
    "            # Render environment for last few episodes\n",
    "            if i >= (episodes - 5) or i < 5:\n",
    "                env.render()\n",
    "\n",
    "            # Determine next action using epsilon-greedy strategy\n",
    "            if np.random.random() < 1 - epsilon:\n",
    "                action = np.argmax(Q[state_adj[0], state_adj[1]])\n",
    "            else:\n",
    "                action = np.random.randint(0, env.action_space.n)\n",
    "\n",
    "            # Get next state and reward\n",
    "            state2, reward, terminated, truncated, info = env.step(action)\n",
    "            done = terminated or truncated\n",
    "\n",
    "            # Discretize state2\n",
    "            state2_adj = (state2 - env.observation_space.low) * np.array([10, 50])\n",
    "            state2_adj = np.round(state2_adj, 0).astype(int)\n",
    "\n",
    "            # Save to Q-table\n",
    "            if done and state2[0] >= 0.5:\n",
    "                Q[state_adj[0], state_adj[1], action] = reward\n",
    "            else:\n",
    "                delta = learning * (newreward(state2[0]) + np.max(Q[state2_adj[0], state2_adj[1]]) - Q[state_adj[0], state_adj[1], action])\n",
    "                Q[state_adj[0], state_adj[1], action] += delta\n",
    "\n",
    "            # Notify of clears\n",
    "            if state2[0] >= 0.5 and i < first:\n",
    "                first = i\n",
    "                print(f'First clear on episode {i + 1}')\n",
    "\n",
    "            # Update variables\n",
    "            tot_reward += newreward(state2[0])\n",
    "            state_adj = state2_adj\n",
    "\n",
    "        # Decay epsilon\n",
    "        if epsilon > min_eps:\n",
    "            epsilon *= eps1\n",
    "\n",
    "        # Track rewards\n",
    "        reward_list.append(tot_reward)\n",
    "\n",
    "        if (i + 1) % 100 == 0:\n",
    "            ave_reward = np.mean(reward_list)\n",
    "            ave_reward_list.append(ave_reward)\n",
    "            reward_list = []\n",
    "            print(f'Episode {i + 1} Average Reward: {ave_reward}')\n",
    "\n",
    "    env.close()\n",
    "    return ave_reward_list, Q, Qinit\n",
    "\n",
    "# Run Q-learning algorithm\n",
    "env.reset()\n",
    "rewards, Qopts, Qinit = QLearning(env, 0.2, 0.9, 0, 1000)\n",
    "\n",
    "# Plot average rewards\n",
    "plt.plot(100 * (np.arange(len(rewards)) + 1), rewards)\n",
    "plt.xlabel('Episodes')\n",
    "plt.ylabel('Average Reward')\n",
    "plt.title('Average Reward vs Episodes')\n",
    "plt.show()\n"
   ]
  },
  {
   "cell_type": "code",
   "execution_count": 7,
   "id": "3a97bf70-2024-4842-8ae2-0e576aa8afdd",
   "metadata": {
    "tags": []
   },
   "outputs": [
    {
     "name": "stdout",
     "output_type": "stream",
     "text": [
      "Episode 100 Average Reward: -122.6220474243164\n",
      "First clear on episode 156\n",
      "Episode 200 Average Reward: -121.01390838623047\n",
      "Episode 300 Average Reward: -113.3429946899414\n",
      "Episode 400 Average Reward: -116.13880920410156\n",
      "Episode 500 Average Reward: -113.53612518310547\n",
      "Episode 600 Average Reward: -104.90364074707031\n",
      "Episode 700 Average Reward: -113.22177124023438\n",
      "Episode 800 Average Reward: -116.31934356689453\n",
      "Episode 900 Average Reward: -113.65760803222656\n",
      "Episode 1000 Average Reward: -111.73588562011719\n"
     ]
    },
    {
     "data": {
      "image/png": "[encoded data removed]",
      "text/plain": [
       "<Figure size 640x480 with 1 Axes>"
      ]
     },
     "metadata": {},
     "output_type": "display_data"
    }
   ],
   "source": [
    "import numpy as np\n",
    "import matplotlib.pyplot as plt\n",
    "import gym\n",
    "# Override boolean check\n",
    "gym.utils.passive_env_checker.np = np\n",
    "gym.utils.passive_env_checker.np.bool8 = bool\n",
    "# Define a helper function to get the height of the car\n",
    "def getheight(x_position):\n",
    "    return np.sin(3 * x_position) * 0.45 + 0.55\n",
    "\n",
    "# Define a custom reward function\n",
    "def newreward(pos):\n",
    "    if pos >= 0.5:  # If the car reaches the flag\n",
    "        return 2\n",
    "    else:  # Otherwise, provide a scaled reward\n",
    "        return (pos + 1.2) / 1.8 - 1\n",
    "\n",
    "# Define the Q-learning function\n",
    "def QLearning(env, learning, epsilon, min_eps, episodes):\n",
    "    # Determine size of discretized state space\n",
    "    num_states = (env.observation_space.high - env.observation_space.low) * np.array([10, 50])\n",
    "    num_states = np.round(num_states, 0).astype(int) + 1\n",
    "\n",
    "    # Initialize Q-table\n",
    "    Q = np.random.uniform(low=-1, high=0, size=(num_states[0], num_states[1], env.action_space.n))\n",
    "    Qinit = np.copy(Q)\n",
    "\n",
    "    # Initialize variables to track rewards\n",
    "    reward_list = []\n",
    "    ave_reward_list = []\n",
    "\n",
    "    # Make a copy of epsilon\n",
    "    eps1 = epsilon\n",
    "\n",
    "    # Keep track of first success\n",
    "    first = episodes + 1\n",
    "\n",
    "    # Run Q-learning algorithm\n",
    "    for i in range(episodes):\n",
    "        # Initialize parameters\n",
    "        done = False\n",
    "        tot_reward, reward = 0, 0\n",
    "        state, _ = env.reset()  # Unpack state and ignore additional metadata\n",
    "\n",
    "        # Discretize state\n",
    "        state_adj = (state - env.observation_space.low) * np.array([10, 50])\n",
    "        state_adj = np.round(state_adj, 0).astype(int)\n",
    "\n",
    "        while not done:\n",
    "            # Render environment for last few episodes\n",
    "            if i >= (episodes - 5) or i < 5:\n",
    "                env.render()\n",
    "\n",
    "            # Determine next action using epsilon-greedy strategy\n",
    "            if np.random.random() < 1 - epsilon:\n",
    "                action = np.argmax(Q[state_adj[0], state_adj[1]])\n",
    "            else:\n",
    "                action = np.random.randint(0, env.action_space.n)\n",
    "\n",
    "            # Get next state and reward\n",
    "            state2, reward, terminated, truncated, _ = env.step(action)\n",
    "            done = terminated or truncated\n",
    "\n",
    "            # Discretize state2\n",
    "            state2_adj = (state2 - env.observation_space.low) * np.array([10, 50])\n",
    "            state2_adj = np.round(state2_adj, 0).astype(int)\n",
    "\n",
    "            # Update Q-table\n",
    "            if done and state2[0] >= 0.5:\n",
    "                Q[state_adj[0], state_adj[1], action] = reward\n",
    "            else:\n",
    "                delta = learning * (newreward(state2[0]) + np.max(Q[state2_adj[0], state2_adj[1]]) - Q[state_adj[0], state_adj[1], action])\n",
    "                Q[state_adj[0], state_adj[1], action] += delta\n",
    "\n",
    "            # Notify of clears\n",
    "            if state2[0] >= 0.5 and i < first:\n",
    "                first = i\n",
    "                print(f'First clear on episode {i + 1}')\n",
    "\n",
    "            # Update variables\n",
    "            tot_reward += newreward(state2[0])\n",
    "            state_adj = state2_adj\n",
    "\n",
    "        # Decay epsilon\n",
    "        if epsilon > min_eps:\n",
    "            epsilon *= eps1\n",
    "\n",
    "        # Track rewards\n",
    "        reward_list.append(tot_reward)\n",
    "\n",
    "        if (i + 1) % 100 == 0:\n",
    "            ave_reward = np.mean(reward_list)\n",
    "            ave_reward_list.append(ave_reward)\n",
    "            reward_list = []\n",
    "            print(f'Episode {i + 1} Average Reward: {ave_reward}')\n",
    "\n",
    "    env.close()\n",
    "    return ave_reward_list, Q, Qinit\n",
    "\n",
    "# Initialize the environment\n",
    "env = gym.make('MountainCar-v0', render_mode=\"rgb_array\")\n",
    "\n",
    "# Run Q-learning algorithm\n",
    "rewards, Qopts, Qinit = QLearning(env, learning=0.2, epsilon=0.9, min_eps=0.01, episodes=1000)\n",
    "\n",
    "# Plot average rewards\n",
    "plt.plot(100 * (np.arange(len(rewards)) + 1), rewards)\n",
    "plt.xlabel('Episodes')\n",
    "plt.ylabel('Average Reward')\n",
    "plt.title('Average Reward vs Episodes')\n",
    "plt.show()\n",
    "\n",
    "# Visualize the learned policy\n",
    "state, _ = env.reset()\n",
    "state_adj = (state - env.observation_space.low) * np.array([10, 50])\n",
    "state_adj = np.round(state_adj, 0).astype(int)\n",
    "\n",
    "done = False\n",
    "while not done:\n",
    "    env.render()\n",
    "    action = np.argmax(Qopts[state_adj[0], state_adj[1]])\n",
    "    state, reward, terminated, truncated, _ = env.step(action)\n",
    "    done = terminated or truncated\n",
    "    state_adj = (state - env.observation_space.low) * np.array([10, 50])\n",
    "    state_adj = np.round(state_adj, 0).astype(int)\n",
    "\n",
    "env.close()"
   ]
  },
  {
   "cell_type": "code",
   "execution_count": 24,
   "id": "ea074105-77ad-47b7-912b-82d81fe28ce3",
   "metadata": {
    "tags": []
   },
   "outputs": [
    {
     "name": "stdout",
     "output_type": "stream",
     "text": [
      "hello\n"
     ]
    }
   ],
   "source": [
    "print(\"hello\")"
   ]
  },
  {
   "cell_type": "code",
   "execution_count": 15,
   "id": "2a2b270f-b6d9-4601-ae49-1fc86ff38e95",
   "metadata": {
    "tags": []
   },
   "outputs": [
    {
     "name": "stdout",
     "output_type": "stream",
     "text": [
      "episode  100 score  -7728.0 epsilon 0.991\n"
     ]
    },
    {
     "ename": "KeyboardInterrupt",
     "evalue": "",
     "output_type": "error",
     "traceback": [
      "\u001b[0;31m---------------------------------------------------------------------------\u001b[0m",
      "\u001b[0;31mKeyboardInterrupt\u001b[0m                         Traceback (most recent call last)",
      "\u001b[0;32m/tmp/ipykernel_1010/4167848332.py\u001b[0m in \u001b[0;36m<cell line: 23>\u001b[0;34m()\u001b[0m\n\u001b[1;32m     75\u001b[0m                 \u001b[0mobs_\u001b[0m \u001b[0;34m=\u001b[0m \u001b[0mobs_step\u001b[0m\u001b[0;34m[\u001b[0m\u001b[0;36m0\u001b[0m\u001b[0;34m]\u001b[0m\u001b[0;34m\u001b[0m\u001b[0;34m\u001b[0m\u001b[0m\n\u001b[1;32m     76\u001b[0m                 \u001b[0mreward\u001b[0m \u001b[0;34m=\u001b[0m \u001b[0mobs_step\u001b[0m\u001b[0;34m[\u001b[0m\u001b[0;36m1\u001b[0m\u001b[0;34m]\u001b[0m\u001b[0;34m\u001b[0m\u001b[0;34m\u001b[0m\u001b[0m\n\u001b[0;32m---> 77\u001b[0;31m                 \u001b[0mdone\u001b[0m \u001b[0;34m=\u001b[0m \u001b[0mobs_step\u001b[0m\u001b[0;34m[\u001b[0m\u001b[0;36m2\u001b[0m\u001b[0;34m]\u001b[0m \u001b[0;32mif\u001b[0m \u001b[0mlen\u001b[0m\u001b[0;34m(\u001b[0m\u001b[0mobs_step\u001b[0m\u001b[0;34m)\u001b[0m \u001b[0;34m>\u001b[0m \u001b[0;36m2\u001b[0m \u001b[0;32melse\u001b[0m \u001b[0;32mFalse\u001b[0m\u001b[0;34m\u001b[0m\u001b[0;34m\u001b[0m\u001b[0m\n\u001b[0m\u001b[1;32m     78\u001b[0m             \u001b[0;32melse\u001b[0m\u001b[0;34m:\u001b[0m\u001b[0;34m\u001b[0m\u001b[0;34m\u001b[0m\u001b[0m\n\u001b[1;32m     79\u001b[0m                 \u001b[0;31m# Newer gym versions (dictionary output)\u001b[0m\u001b[0;34m\u001b[0m\u001b[0;34m\u001b[0m\u001b[0m\n",
      "\u001b[0;31mKeyboardInterrupt\u001b[0m: "
     ]
    }
   ],
   "source": [
    "import numpy as np\n",
    "import matplotlib.pyplot as plt\n",
    "import gym\n",
    "# Override boolean check\n",
    "gym.utils.passive_env_checker.np = np\n",
    "gym.utils.passive_env_checker.np.bool8 = bool\n",
    "pos_space = np.linspace(-1.2, 0.6, 12)\n",
    "vel_space = np.linspace(-0.07, 0.07, 20)\n",
    "\n",
    "def get_state(observation):\n",
    "    pos, vel = observation\n",
    "    pos_bin = int(np.digitize(pos, pos_space))\n",
    "    vel_bin = int(np.digitize(vel, vel_space))\n",
    "\n",
    "    return (pos_bin, vel_bin)\n",
    "\n",
    "def max_action(Q, state, actions=[0, 1, 2]):\n",
    "    values = np.array([Q[state, a] for a in actions])\n",
    "    action = np.argmax(values)\n",
    "\n",
    "    return action\n",
    "\n",
    "if __name__ == '__main__':\n",
    "    env = gym.make('MountainCar-v0')\n",
    "    env._max_episode_steps = 1000\n",
    "    n_games = 50000\n",
    "    alpha = 0.5\n",
    "    gamma = 0.99\n",
    "    eps = 1.0\n",
    "    eps_decay = 0.995  # Decay epsilon by multiplying each episode\n",
    "    eps_min = 0.01  # Minimum epsilon value\n",
    "    eps = max(eps * eps_decay, eps_min)\n",
    "\n",
    "    action_space = [0, 1, 2]\n",
    "\n",
    "    states = []\n",
    "    for pos in range(21):\n",
    "        for vel in range(21):\n",
    "            states.append((pos, vel))\n",
    "\n",
    "    Q = {}\n",
    "    for state in states:\n",
    "        for action in action_space:\n",
    "            Q[state, action] = 0\n",
    "\n",
    "    score = 0\n",
    "    total_rewards = np.zeros(n_games)\n",
    "    for i in range(n_games):\n",
    "        done = False\n",
    "        obs_reset = env.reset()\n",
    "\n",
    "        # Extract the observation from the reset output\n",
    "        if isinstance(obs_reset, tuple):\n",
    "            obs = obs_reset[0]  # Take the first element (observation array)\n",
    "        else:\n",
    "            obs = obs_reset['observation']  # Newer gym version\n",
    "\n",
    "        #print(\"Observation after reset:\", obs)  # Debug print\n",
    "\n",
    "        state = get_state(obs)  # Use only the extracted observation\n",
    "        if i % 100 == 0 and i > 0:\n",
    "            print('episode ', i, 'score ', score, 'epsilon %.3f' % eps)\n",
    "        score = 0\n",
    "        while not done:\n",
    "            action = np.random.choice([0, 1, 2]) if np.random.random() < eps \\\n",
    "                else max_action(Q, state)\n",
    "            obs_step = env.step(action)\n",
    "\n",
    "            # Debugging step to inspect `obs_step`\n",
    "            #print(\"Step output:\", obs_step)\n",
    "\n",
    "            # Extract observation from step output\n",
    "            if isinstance(obs_step, tuple):\n",
    "                # Handle simplified output (older gym or variants)\n",
    "                obs_ = obs_step[0]\n",
    "                reward = obs_step[1]\n",
    "                done = obs_step[2] if len(obs_step) > 2 else False\n",
    "            else:\n",
    "                # Newer gym versions (dictionary output)\n",
    "                obs_ = obs_step['observation']\n",
    "                reward = obs_step['reward']\n",
    "                done = obs_step.get('terminated', obs_step.get('done', False))\n",
    "                info = obs_step.get('info', {})  # Optional info\n",
    "\n",
    "            #print(\"Observation after step:\", obs_)  # Debug print\n",
    "\n",
    "            state_ = get_state(obs_)  # Use only the extracted observation\n",
    "            score += reward\n",
    "            action_ = max_action(Q, state_)\n",
    "            Q[state, action] = Q[state, action] + \\\n",
    "                alpha * (reward + gamma * Q[state_, action_] - Q[state, action])\n",
    "            state = state_\n",
    "        total_rewards[i] = score\n",
    "        eps = eps - 2 / n_games if eps > 0.01 else 0.01\n",
    "\n",
    "\n",
    "mean_rewards = np.zeros(n_games)\n",
    "for t in range(n_games):\n",
    "    mean_rewards[t] = np.mean(total_rewards[max(0, t-50):(t+1)])\n",
    "plt.plot(mean_rewards)\n",
    "plt.savefig('mountaincar.png')\n",
    "\n",
    "    # Save the Q-table\n",
    "    # with open(\"mountaincar.pkl\", \"wb\") as f:\n",
    "    #     pickle.dump(Q, f)\n"
   ]
  },
  {
   "cell_type": "code",
   "execution_count": null,
   "id": "6684b456-5e38-4522-9f3f-ed10f67e4648",
   "metadata": {
    "tags": []
   },
   "outputs": [],
   "source": [
    "print(\"hello\")"
   ]
  },
  {
   "cell_type": "code",
   "execution_count": 11,
   "id": "4f161969-33e7-412d-aeee-af80d31e89fe",
   "metadata": {
    "tags": []
   },
   "outputs": [
    {
     "name": "stderr",
     "output_type": "stream",
     "text": [
      "2024-11-29 10:23:51.908556: E external/local_xla/xla/stream_executor/cuda/cuda_fft.cc:477] Unable to register cuFFT factory: Attempting to register factory for plugin cuFFT when one has already been registered\n",
      "WARNING: All log messages before absl::InitializeLog() is called are written to STDERR\n",
      "E0000 00:00:1732875831.932098    1010 cuda_dnn.cc:8310] Unable to register cuDNN factory: Attempting to register factory for plugin cuDNN when one has already been registered\n",
      "E0000 00:00:1732875831.938779    1010 cuda_blas.cc:1418] Unable to register cuBLAS factory: Attempting to register factory for plugin cuBLAS when one has already been registered\n",
      "2024-11-29 10:23:51.961702: I tensorflow/core/platform/cpu_feature_guard.cc:210] This TensorFlow binary is optimized to use available CPU instructions in performance-critical operations.\n",
      "To enable the following instructions: AVX2 AVX512F FMA, in other operations, rebuild TensorFlow with the appropriate compiler flags.\n"
     ]
    },
    {
     "name": "stdout",
     "output_type": "stream",
     "text": [
      "Num GPUs Available:  0\n"
     ]
    },
    {
     "name": "stderr",
     "output_type": "stream",
     "text": [
      "2024-11-29 10:23:53.915614: E external/local_xla/xla/stream_executor/cuda/cuda_driver.cc:152] failed call to cuInit: INTERNAL: CUDA error: Failed call to cuInit: UNKNOWN ERROR (303)\n"
     ]
    }
   ],
   "source": [
    "import tensorflow as tf\n",
    "print(\"Num GPUs Available: \", len(tf.config.experimental.list_physical_devices('GPU')))"
   ]
  },
  {
   "cell_type": "code",
   "execution_count": 12,
   "id": "66e52dae-a0a7-4654-aede-2f4bd2fa264c",
   "metadata": {
    "tags": []
   },
   "outputs": [
    {
     "name": "stdout",
     "output_type": "stream",
     "text": [
      "[name: \"/device:CPU:0\"\n",
      "device_type: \"CPU\"\n",
      "memory_limit: 268435456\n",
      "locality {\n",
      "}\n",
      "incarnation: 10377481658036219369\n",
      "xla_global_id: -1\n",
      "]\n"
     ]
    }
   ],
   "source": [
    "from tensorflow.python.client import device_lib\n",
    "print(device_lib.list_local_devices())"
   ]
  },
  {
   "cell_type": "code",
   "execution_count": 14,
   "id": "a1f846a7-03c9-4ba4-b22f-6c619fefdc53",
   "metadata": {
    "tags": []
   },
   "outputs": [
    {
     "name": "stdout",
     "output_type": "stream",
     "text": [
      "/usr/bin/sh: 1: lspci: not found\n",
      "/usr/bin/sh: 1: nvidia-smi: not found\n"
     ]
    }
   ],
   "source": [
    "!lspci | grep -i nvidia\n",
    "!nvidia-smi\n"
   ]
  },
  {
   "cell_type": "code",
   "execution_count": null,
   "id": "c538e116-15ea-4615-8713-e4b3ff4118f1",
   "metadata": {},
   "outputs": [],
   "source": []
  }
 ],
 "metadata": {
  "kernelspec": {
   "display_name": ".conda-default:Python",
   "language": "python",
   "name": "conda-env-.conda-default-py"
  },
  "language_info": {
   "codemirror_mode": {
    "name": "ipython",
    "version": 3
   },
   "file_extension": ".py",
   "mimetype": "text/x-python",
   "name": "python",
   "nbconvert_exporter": "python",
   "pygments_lexer": "ipython3",
   "version": "3.9.19"
  },
  "toc-autonumbering": false,
  "toc-showcode": true,
  "toc-showmarkdowntxt": false
 },
 "nbformat": 4,
 "nbformat_minor": 5
}
